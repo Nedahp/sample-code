{
 "cells": [
  {
   "cell_type": "code",
   "execution_count": 63,
   "metadata": {
    "collapsed": true
   },
   "outputs": [],
   "source": [
    "# Purpose of the code:\n",
    "    # Try to group/cluster the patients\n",
    "        # Model: K-means clustering\n",
    "    # Try different classification models other than Random Forest\n",
    "        # Models: SVM, KNN\n",
    "        # Validation: 10-fold cross validation"
   ]
  },
  {
   "cell_type": "code",
   "execution_count": 64,
   "metadata": {
    "collapsed": true
   },
   "outputs": [],
   "source": [
    "# necessary imports\n",
    "import pandas as pd\n",
    "import numpy as np\n",
    "import seaborn as sns\n",
    "import matplotlib.pyplot as plt\n",
    "%matplotlib inline\n",
    "from IPython.core.interactiveshell import InteractiveShell\n",
    "InteractiveShell.ast_node_interactivity = \"all\""
   ]
  },
  {
   "cell_type": "code",
   "execution_count": 65,
   "metadata": {
    "collapsed": false
   },
   "outputs": [
    {
     "name": "stdout",
     "output_type": "stream",
     "text": [
      "/camdatalake/bronze/verily_ms/device\n"
     ]
    }
   ],
   "source": [
    "# switch to a proper directory to access the data\n",
    "cd /camdatalake/bronze/verily_ms/device/"
   ]
  },
  {
   "cell_type": "code",
   "execution_count": 66,
   "metadata": {
    "collapsed": true
   },
   "outputs": [],
   "source": [
    "# download and read the data\n",
    "\n",
    "# FeatureDay: Average value of the features for each day of study. Days are listed as \n",
    "# DayOfStudy\n",
    "\n",
    "# FeatureStudy: Features for the entire study period.For the at home features, \n",
    "# the reported value is the median of the observed day level values.\n",
    "\n",
    "import gzip, csv\n",
    "with gzip.open(\"FeaturesDay.csv.gz\", \"rt\", newline=\"\") as file:\n",
    "    FeatureDay = pd.read_csv(file, header = 0)\n",
    "\n",
    "with gzip.open(\"FeaturesStudy.csv.gz\", \"rt\", newline=\"\") as file:\n",
    "    FeatureStudy = pd.read_csv(file, header = 0)"
   ]
  },
  {
   "cell_type": "code",
   "execution_count": 67,
   "metadata": {
    "collapsed": false
   },
   "outputs": [
    {
     "data": {
      "text/plain": [
       "(1532, 217)"
      ]
     },
     "execution_count": 67,
     "metadata": {},
     "output_type": "execute_result"
    },
    {
     "data": {
      "text/plain": [
       "(25, 216)"
      ]
     },
     "execution_count": 67,
     "metadata": {},
     "output_type": "execute_result"
    }
   ],
   "source": [
    "# explore the datasets\n",
    "FeatureDay.shape\n",
    "FeatureStudy.shape"
   ]
  },
  {
   "cell_type": "code",
   "execution_count": 68,
   "metadata": {
    "collapsed": true
   },
   "outputs": [],
   "source": [
    "def filter_dataFrame(df):\n",
    "    # a function to extract the sensor related measurements from the original dataset (df)\n",
    "    Selected_features = []\n",
    "    df_columns_names = list(df.columns)\n",
    "    # patient ID(1 column)\n",
    "    Selected_features.append('gls_subject_code')\n",
    "    # related to msfc_composite(3 columns)\n",
    "    df_columns_MSFC_col_names = []\n",
    "    for name in df_columns_names:\n",
    "        name_lowercase = name.lower()\n",
    "        if 'msfc_composite' in name_lowercase:\n",
    "            df_columns_MSFC_col_names.append(name)\n",
    "    # structred activities at home(40 columns)\n",
    "    df_at_home_col_names = []\n",
    "    for name in df_columns_names:\n",
    "        name_lower = name.lower()\n",
    "        if 'home' in name_lower:\n",
    "            df_at_home_col_names.append(name)\n",
    "    # free living features(20 columns)\n",
    "    # extracted before in Data_Visualization_Part_1_FeatureStudy_Correlation_of_Sensor_Features_to_MSFC.py, and saved\n",
    "    df_free_living_related = pd.read_csv('FeatureStudy_free_living_related')\n",
    "    df_free_living_col_names = list(df_free_living_related.columns)\n",
    "    # add everything to Selected_features list\n",
    "    Selected_features += list(df_free_living_related.columns)\n",
    "    Selected_features += df_at_home_col_names\n",
    "    Selected_features += df_columns_MSFC_col_names\n",
    "    # return filtered dataframe with selected features\n",
    "    return df[Selected_features]"
   ]
  },
  {
   "cell_type": "code",
   "execution_count": 69,
   "metadata": {
    "collapsed": true
   },
   "outputs": [],
   "source": [
    "def filter_dataFrame_fillna(df):\n",
    "    # a function to fill null values in the input dataframe (df)\n",
    "    df_columns_names = list(df.columns)\n",
    "    # patient ID(1 column)\n",
    "    df_columns_patientID_col_names =['gls_subject_code']\n",
    "    df_patientID= df[df_columns_patientID_col_names]\n",
    "    # related to msfc_composite(3 columns)\n",
    "    df_columns_MSFC_col_names = []\n",
    "    for name in df_columns_names:\n",
    "        name_lowercase = name.lower()\n",
    "        if 'msfc_composite' in name_lowercase:\n",
    "            df_columns_MSFC_col_names.append(name)\n",
    "    df_msfcComposite = df[df_columns_MSFC_col_names]\n",
    "    # structred activities at home(40 columns)\n",
    "    df_at_home_col_names = []\n",
    "    for name in df_columns_names:\n",
    "        name_lower = name.lower()\n",
    "        if 'home' in name_lower:\n",
    "            df_at_home_col_names.append(name)\n",
    "    df_structuredActivity_atHome = df[df_at_home_col_names]\n",
    "    # free living features(20 columns)\n",
    "    df_all_except_freeLiving_col_names = df_columns_patientID_col_names + df_columns_MSFC_col_names + df_at_home_col_names\n",
    "    df_free_living_col_names = list(set(df_columns_names) - set(df_all_except_freeLiving_col_names))\n",
    "    df_freeLiving = df[df_free_living_col_names]\n",
    "    \n",
    "    # fill null values by row for df_msfcComposite\n",
    "    for idx in range(len(df_msfcComposite.index)):\n",
    "        df_msfcComposite.iloc[idx].fillna(df_msfcComposite.iloc[idx].mean(), inplace = True)\n",
    "    # fill null values by column for df_structuredActivity_atHome\n",
    "    for col_name in list(df_structuredActivity_atHome.columns):\n",
    "        df_structuredActivity_atHome[col_name].fillna(df_structuredActivity_atHome[col_name].mean(),inplace= True)\n",
    "    # fill null values by column for df_freeLiving\n",
    "    for col_name in list(df_freeLiving.columns):\n",
    "        df_freeLiving[col_name].fillna(df_freeLiving[col_name].mean(),inplace= True)\n",
    "    \n",
    "    # return the updated dataframe with filled null values\n",
    "    return pd.concat([df_patientID,df_freeLiving,df_structuredActivity_atHome,df_msfcComposite],axis=1)"
   ]
  },
  {
   "cell_type": "code",
   "execution_count": 70,
   "metadata": {
    "collapsed": true
   },
   "outputs": [],
   "source": [
    "def remove_rows_with_null(df,TH):\n",
    "    # a function to remove rows with more than TH% of value points missing\n",
    "    indexes = []\n",
    "    count_null = df.isnull().sum(axis=1)\n",
    "    for idx in range(len(count_null)):\n",
    "        if count_null[idx] > TH:\n",
    "            indexes.append(idx)\n",
    "    df_filtered = df.drop(indexes)\n",
    "    return df_filtered.reset_index(drop=True)"
   ]
  },
  {
   "cell_type": "code",
   "execution_count": 71,
   "metadata": {
    "collapsed": true
   },
   "outputs": [],
   "source": [
    "def remove_columns_with_null(df,TH):\n",
    "    # a function to remove columns with more than TH% of value points missing\n",
    "    indexes = []\n",
    "    count_null = df.isnull().sum()\n",
    "    col_labels = list(count_null.index)\n",
    "    for idx in range(len(count_null)):\n",
    "        if count_null[idx] > TH:\n",
    "            indexes.append(col_labels[idx])\n",
    "    df_filtered = df.drop(indexes, axis=1)\n",
    "    return df_filtered.reset_index(drop=True)"
   ]
  },
  {
   "cell_type": "code",
   "execution_count": 72,
   "metadata": {
    "collapsed": true
   },
   "outputs": [],
   "source": [
    "def bin_scores(val,num_of_bins, minimum, maximum):\n",
    "    # a function to bin the scores\n",
    "    # input: \n",
    "        # val: input value to bin\n",
    "        # num_of_bins: desired number of bins\n",
    "        # minimum & maximum: specify the range of values\n",
    "    # output:\n",
    "        # binned value\n",
    "    step = (maximum - minimum)/num_of_bins\n",
    "    curr_val = minimum\n",
    "    level = 1\n",
    "    while(curr_val < maximum):\n",
    "        curr_val += step\n",
    "        if val <= curr_val:\n",
    "            return level\n",
    "        else:\n",
    "            level += 1"
   ]
  },
  {
   "cell_type": "code",
   "execution_count": 73,
   "metadata": {
    "collapsed": true
   },
   "outputs": [],
   "source": [
    "# extract part of the original dataset which is related to sensor measurements\n",
    "FeatureStudy_filtered = filter_dataFrame(FeatureStudy)\n",
    "FeatureDay_filtered = filter_dataFrame(FeatureDay)"
   ]
  },
  {
   "cell_type": "code",
   "execution_count": 74,
   "metadata": {
    "collapsed": true
   },
   "outputs": [],
   "source": [
    "#######################################################RESHAPE FEATURESDAY#########################################"
   ]
  },
  {
   "cell_type": "code",
   "execution_count": null,
   "metadata": {
    "collapsed": true
   },
   "outputs": [],
   "source": [
    "# to consider the time component, we take pair of (feature_value, day_of_study) as a new feature"
   ]
  },
  {
   "cell_type": "code",
   "execution_count": 75,
   "metadata": {
    "collapsed": false
   },
   "outputs": [
    {
     "data": {
      "text/html": [
       "<div>\n",
       "<table border=\"1\" class=\"dataframe\">\n",
       "  <thead>\n",
       "    <tr style=\"text-align: right;\">\n",
       "      <th></th>\n",
       "      <th>gls_subject_code</th>\n",
       "      <th>turn_vel_std</th>\n",
       "      <th>turn_vel_mean_ankle</th>\n",
       "      <th>movement_rate</th>\n",
       "      <th>turn_vel_mean</th>\n",
       "      <th>turn_vel_std_ankle</th>\n",
       "      <th>turn_duration</th>\n",
       "      <th>turn_angle</th>\n",
       "      <th>walk_minutes</th>\n",
       "      <th>swing</th>\n",
       "      <th>...</th>\n",
       "      <th>hrv_sdnn_at_home</th>\n",
       "      <th>hourly_temp_median_at_home</th>\n",
       "      <th>hourly_temp_std_at_home</th>\n",
       "      <th>hourly_temp_range_at_home</th>\n",
       "      <th>hourly_amb_temp_median_at_home</th>\n",
       "      <th>hourly_amb_temp_std_at_home</th>\n",
       "      <th>hourly_amb_temp_range_at_home</th>\n",
       "      <th>msfc_composite_1</th>\n",
       "      <th>msfc_composite_2</th>\n",
       "      <th>msfc_composite_3</th>\n",
       "    </tr>\n",
       "  </thead>\n",
       "  <tbody>\n",
       "    <tr>\n",
       "      <th>0</th>\n",
       "      <td>H800001</td>\n",
       "      <td>22.174349</td>\n",
       "      <td>48.212574</td>\n",
       "      <td>6.701800</td>\n",
       "      <td>57.883232</td>\n",
       "      <td>60.263901</td>\n",
       "      <td>0.42</td>\n",
       "      <td>23.911008</td>\n",
       "      <td>149.375000</td>\n",
       "      <td>0.427722</td>\n",
       "      <td>...</td>\n",
       "      <td>NaN</td>\n",
       "      <td>32.70</td>\n",
       "      <td>0.760989</td>\n",
       "      <td>1.905</td>\n",
       "      <td>30.7575</td>\n",
       "      <td>4.330252</td>\n",
       "      <td>11.7550</td>\n",
       "      <td>-1.211435</td>\n",
       "      <td>-1.385647</td>\n",
       "      <td>-1.40763</td>\n",
       "    </tr>\n",
       "    <tr>\n",
       "      <th>1</th>\n",
       "      <td>H800001</td>\n",
       "      <td>19.335984</td>\n",
       "      <td>40.692564</td>\n",
       "      <td>5.241188</td>\n",
       "      <td>56.845986</td>\n",
       "      <td>62.676670</td>\n",
       "      <td>0.38</td>\n",
       "      <td>21.143974</td>\n",
       "      <td>245.125000</td>\n",
       "      <td>0.392413</td>\n",
       "      <td>...</td>\n",
       "      <td>14.108786</td>\n",
       "      <td>32.85</td>\n",
       "      <td>0.532629</td>\n",
       "      <td>1.350</td>\n",
       "      <td>29.5875</td>\n",
       "      <td>6.815948</td>\n",
       "      <td>15.8120</td>\n",
       "      <td>-1.211435</td>\n",
       "      <td>-1.385647</td>\n",
       "      <td>-1.40763</td>\n",
       "    </tr>\n",
       "    <tr>\n",
       "      <th>2</th>\n",
       "      <td>H800001</td>\n",
       "      <td>17.776043</td>\n",
       "      <td>47.155710</td>\n",
       "      <td>NaN</td>\n",
       "      <td>61.391091</td>\n",
       "      <td>60.985627</td>\n",
       "      <td>0.44</td>\n",
       "      <td>25.782601</td>\n",
       "      <td>182.166667</td>\n",
       "      <td>0.424840</td>\n",
       "      <td>...</td>\n",
       "      <td>15.028955</td>\n",
       "      <td>31.60</td>\n",
       "      <td>0.717705</td>\n",
       "      <td>1.800</td>\n",
       "      <td>30.2200</td>\n",
       "      <td>3.545528</td>\n",
       "      <td>7.3300</td>\n",
       "      <td>-1.211435</td>\n",
       "      <td>-1.385647</td>\n",
       "      <td>-1.40763</td>\n",
       "    </tr>\n",
       "    <tr>\n",
       "      <th>3</th>\n",
       "      <td>H800001</td>\n",
       "      <td>15.764536</td>\n",
       "      <td>46.102694</td>\n",
       "      <td>NaN</td>\n",
       "      <td>61.178408</td>\n",
       "      <td>59.345718</td>\n",
       "      <td>0.38</td>\n",
       "      <td>23.391290</td>\n",
       "      <td>99.208333</td>\n",
       "      <td>0.424863</td>\n",
       "      <td>...</td>\n",
       "      <td>NaN</td>\n",
       "      <td>30.75</td>\n",
       "      <td>1.689474</td>\n",
       "      <td>5.550</td>\n",
       "      <td>27.3600</td>\n",
       "      <td>4.984148</td>\n",
       "      <td>13.5820</td>\n",
       "      <td>-1.211435</td>\n",
       "      <td>-1.385647</td>\n",
       "      <td>-1.40763</td>\n",
       "    </tr>\n",
       "    <tr>\n",
       "      <th>4</th>\n",
       "      <td>H800001</td>\n",
       "      <td>15.250615</td>\n",
       "      <td>43.762170</td>\n",
       "      <td>NaN</td>\n",
       "      <td>61.247844</td>\n",
       "      <td>57.424167</td>\n",
       "      <td>0.40</td>\n",
       "      <td>24.056450</td>\n",
       "      <td>136.333333</td>\n",
       "      <td>0.441570</td>\n",
       "      <td>...</td>\n",
       "      <td>NaN</td>\n",
       "      <td>30.65</td>\n",
       "      <td>0.830880</td>\n",
       "      <td>2.205</td>\n",
       "      <td>30.6825</td>\n",
       "      <td>4.699070</td>\n",
       "      <td>13.8555</td>\n",
       "      <td>-1.211435</td>\n",
       "      <td>-1.385647</td>\n",
       "      <td>-1.40763</td>\n",
       "    </tr>\n",
       "  </tbody>\n",
       "</table>\n",
       "<p>5 rows × 64 columns</p>\n",
       "</div>"
      ],
      "text/plain": [
       "  gls_subject_code  turn_vel_std  turn_vel_mean_ankle  movement_rate  \\\n",
       "0          H800001     22.174349            48.212574       6.701800   \n",
       "1          H800001     19.335984            40.692564       5.241188   \n",
       "2          H800001     17.776043            47.155710            NaN   \n",
       "3          H800001     15.764536            46.102694            NaN   \n",
       "4          H800001     15.250615            43.762170            NaN   \n",
       "\n",
       "   turn_vel_mean  turn_vel_std_ankle  turn_duration  turn_angle  walk_minutes  \\\n",
       "0      57.883232           60.263901           0.42   23.911008    149.375000   \n",
       "1      56.845986           62.676670           0.38   21.143974    245.125000   \n",
       "2      61.391091           60.985627           0.44   25.782601    182.166667   \n",
       "3      61.178408           59.345718           0.38   23.391290     99.208333   \n",
       "4      61.247844           57.424167           0.40   24.056450    136.333333   \n",
       "\n",
       "      swing        ...         hrv_sdnn_at_home  hourly_temp_median_at_home  \\\n",
       "0  0.427722        ...                      NaN                       32.70   \n",
       "1  0.392413        ...                14.108786                       32.85   \n",
       "2  0.424840        ...                15.028955                       31.60   \n",
       "3  0.424863        ...                      NaN                       30.75   \n",
       "4  0.441570        ...                      NaN                       30.65   \n",
       "\n",
       "   hourly_temp_std_at_home  hourly_temp_range_at_home  \\\n",
       "0                 0.760989                      1.905   \n",
       "1                 0.532629                      1.350   \n",
       "2                 0.717705                      1.800   \n",
       "3                 1.689474                      5.550   \n",
       "4                 0.830880                      2.205   \n",
       "\n",
       "   hourly_amb_temp_median_at_home  hourly_amb_temp_std_at_home  \\\n",
       "0                         30.7575                     4.330252   \n",
       "1                         29.5875                     6.815948   \n",
       "2                         30.2200                     3.545528   \n",
       "3                         27.3600                     4.984148   \n",
       "4                         30.6825                     4.699070   \n",
       "\n",
       "   hourly_amb_temp_range_at_home  msfc_composite_1  msfc_composite_2  \\\n",
       "0                        11.7550         -1.211435         -1.385647   \n",
       "1                        15.8120         -1.211435         -1.385647   \n",
       "2                         7.3300         -1.211435         -1.385647   \n",
       "3                        13.5820         -1.211435         -1.385647   \n",
       "4                        13.8555         -1.211435         -1.385647   \n",
       "\n",
       "   msfc_composite_3  \n",
       "0          -1.40763  \n",
       "1          -1.40763  \n",
       "2          -1.40763  \n",
       "3          -1.40763  \n",
       "4          -1.40763  \n",
       "\n",
       "[5 rows x 64 columns]"
      ]
     },
     "execution_count": 75,
     "metadata": {},
     "output_type": "execute_result"
    }
   ],
   "source": [
    "# check the original dataset\n",
    "FeatureDay_filtered.head()"
   ]
  },
  {
   "cell_type": "code",
   "execution_count": 76,
   "metadata": {
    "collapsed": false
   },
   "outputs": [
    {
     "data": {
      "text/html": [
       "<div>\n",
       "<table border=\"1\" class=\"dataframe\">\n",
       "  <thead>\n",
       "    <tr style=\"text-align: right;\">\n",
       "      <th></th>\n",
       "      <th>gls_subject_code</th>\n",
       "      <th>turn_vel_std</th>\n",
       "      <th>turn_vel_mean_ankle</th>\n",
       "      <th>movement_rate</th>\n",
       "      <th>turn_vel_mean</th>\n",
       "      <th>turn_vel_std_ankle</th>\n",
       "      <th>turn_duration</th>\n",
       "      <th>turn_angle</th>\n",
       "      <th>walk_minutes</th>\n",
       "      <th>swing</th>\n",
       "      <th>...</th>\n",
       "      <th>sway_disp_lr_at_home</th>\n",
       "      <th>sway_disp_ap_at_home</th>\n",
       "      <th>mobility_activity_at_home_time</th>\n",
       "      <th>hrv_sdnn_at_home</th>\n",
       "      <th>hourly_temp_median_at_home</th>\n",
       "      <th>hourly_temp_std_at_home</th>\n",
       "      <th>hourly_temp_range_at_home</th>\n",
       "      <th>hourly_amb_temp_median_at_home</th>\n",
       "      <th>hourly_amb_temp_std_at_home</th>\n",
       "      <th>hourly_amb_temp_range_at_home</th>\n",
       "    </tr>\n",
       "  </thead>\n",
       "  <tbody>\n",
       "    <tr>\n",
       "      <th>0</th>\n",
       "      <td>H800001</td>\n",
       "      <td>22.174349</td>\n",
       "      <td>48.212574</td>\n",
       "      <td>6.701800</td>\n",
       "      <td>57.883232</td>\n",
       "      <td>60.263901</td>\n",
       "      <td>0.42</td>\n",
       "      <td>23.911008</td>\n",
       "      <td>149.375000</td>\n",
       "      <td>0.427722</td>\n",
       "      <td>...</td>\n",
       "      <td>424.878675</td>\n",
       "      <td>288.195255</td>\n",
       "      <td>66170.0</td>\n",
       "      <td>NaN</td>\n",
       "      <td>32.70</td>\n",
       "      <td>0.760989</td>\n",
       "      <td>1.905</td>\n",
       "      <td>30.7575</td>\n",
       "      <td>4.330252</td>\n",
       "      <td>11.7550</td>\n",
       "    </tr>\n",
       "    <tr>\n",
       "      <th>1</th>\n",
       "      <td>H800001</td>\n",
       "      <td>19.335984</td>\n",
       "      <td>40.692564</td>\n",
       "      <td>5.241188</td>\n",
       "      <td>56.845986</td>\n",
       "      <td>62.676670</td>\n",
       "      <td>0.38</td>\n",
       "      <td>21.143974</td>\n",
       "      <td>245.125000</td>\n",
       "      <td>0.392413</td>\n",
       "      <td>...</td>\n",
       "      <td>460.529853</td>\n",
       "      <td>251.594150</td>\n",
       "      <td>NaN</td>\n",
       "      <td>14.108786</td>\n",
       "      <td>32.85</td>\n",
       "      <td>0.532629</td>\n",
       "      <td>1.350</td>\n",
       "      <td>29.5875</td>\n",
       "      <td>6.815948</td>\n",
       "      <td>15.8120</td>\n",
       "    </tr>\n",
       "    <tr>\n",
       "      <th>2</th>\n",
       "      <td>H800001</td>\n",
       "      <td>17.776043</td>\n",
       "      <td>47.155710</td>\n",
       "      <td>NaN</td>\n",
       "      <td>61.391091</td>\n",
       "      <td>60.985627</td>\n",
       "      <td>0.44</td>\n",
       "      <td>25.782601</td>\n",
       "      <td>182.166667</td>\n",
       "      <td>0.424840</td>\n",
       "      <td>...</td>\n",
       "      <td>371.773641</td>\n",
       "      <td>301.790876</td>\n",
       "      <td>27070.0</td>\n",
       "      <td>15.028955</td>\n",
       "      <td>31.60</td>\n",
       "      <td>0.717705</td>\n",
       "      <td>1.800</td>\n",
       "      <td>30.2200</td>\n",
       "      <td>3.545528</td>\n",
       "      <td>7.3300</td>\n",
       "    </tr>\n",
       "    <tr>\n",
       "      <th>3</th>\n",
       "      <td>H800001</td>\n",
       "      <td>15.764536</td>\n",
       "      <td>46.102694</td>\n",
       "      <td>NaN</td>\n",
       "      <td>61.178408</td>\n",
       "      <td>59.345718</td>\n",
       "      <td>0.38</td>\n",
       "      <td>23.391290</td>\n",
       "      <td>99.208333</td>\n",
       "      <td>0.424863</td>\n",
       "      <td>...</td>\n",
       "      <td>408.234556</td>\n",
       "      <td>262.974920</td>\n",
       "      <td>30230.0</td>\n",
       "      <td>NaN</td>\n",
       "      <td>30.75</td>\n",
       "      <td>1.689474</td>\n",
       "      <td>5.550</td>\n",
       "      <td>27.3600</td>\n",
       "      <td>4.984148</td>\n",
       "      <td>13.5820</td>\n",
       "    </tr>\n",
       "    <tr>\n",
       "      <th>4</th>\n",
       "      <td>H800001</td>\n",
       "      <td>15.250615</td>\n",
       "      <td>43.762170</td>\n",
       "      <td>NaN</td>\n",
       "      <td>61.247844</td>\n",
       "      <td>57.424167</td>\n",
       "      <td>0.40</td>\n",
       "      <td>24.056450</td>\n",
       "      <td>136.333333</td>\n",
       "      <td>0.441570</td>\n",
       "      <td>...</td>\n",
       "      <td>380.493350</td>\n",
       "      <td>282.825979</td>\n",
       "      <td>29875.0</td>\n",
       "      <td>NaN</td>\n",
       "      <td>30.65</td>\n",
       "      <td>0.830880</td>\n",
       "      <td>2.205</td>\n",
       "      <td>30.6825</td>\n",
       "      <td>4.699070</td>\n",
       "      <td>13.8555</td>\n",
       "    </tr>\n",
       "  </tbody>\n",
       "</table>\n",
       "<p>5 rows × 61 columns</p>\n",
       "</div>"
      ],
      "text/plain": [
       "  gls_subject_code  turn_vel_std  turn_vel_mean_ankle  movement_rate  \\\n",
       "0          H800001     22.174349            48.212574       6.701800   \n",
       "1          H800001     19.335984            40.692564       5.241188   \n",
       "2          H800001     17.776043            47.155710            NaN   \n",
       "3          H800001     15.764536            46.102694            NaN   \n",
       "4          H800001     15.250615            43.762170            NaN   \n",
       "\n",
       "   turn_vel_mean  turn_vel_std_ankle  turn_duration  turn_angle  walk_minutes  \\\n",
       "0      57.883232           60.263901           0.42   23.911008    149.375000   \n",
       "1      56.845986           62.676670           0.38   21.143974    245.125000   \n",
       "2      61.391091           60.985627           0.44   25.782601    182.166667   \n",
       "3      61.178408           59.345718           0.38   23.391290     99.208333   \n",
       "4      61.247844           57.424167           0.40   24.056450    136.333333   \n",
       "\n",
       "      swing              ...                sway_disp_lr_at_home  \\\n",
       "0  0.427722              ...                          424.878675   \n",
       "1  0.392413              ...                          460.529853   \n",
       "2  0.424840              ...                          371.773641   \n",
       "3  0.424863              ...                          408.234556   \n",
       "4  0.441570              ...                          380.493350   \n",
       "\n",
       "   sway_disp_ap_at_home  mobility_activity_at_home_time  hrv_sdnn_at_home  \\\n",
       "0            288.195255                         66170.0               NaN   \n",
       "1            251.594150                             NaN         14.108786   \n",
       "2            301.790876                         27070.0         15.028955   \n",
       "3            262.974920                         30230.0               NaN   \n",
       "4            282.825979                         29875.0               NaN   \n",
       "\n",
       "   hourly_temp_median_at_home  hourly_temp_std_at_home  \\\n",
       "0                       32.70                 0.760989   \n",
       "1                       32.85                 0.532629   \n",
       "2                       31.60                 0.717705   \n",
       "3                       30.75                 1.689474   \n",
       "4                       30.65                 0.830880   \n",
       "\n",
       "   hourly_temp_range_at_home  hourly_amb_temp_median_at_home  \\\n",
       "0                      1.905                         30.7575   \n",
       "1                      1.350                         29.5875   \n",
       "2                      1.800                         30.2200   \n",
       "3                      5.550                         27.3600   \n",
       "4                      2.205                         30.6825   \n",
       "\n",
       "   hourly_amb_temp_std_at_home  hourly_amb_temp_range_at_home  \n",
       "0                     4.330252                        11.7550  \n",
       "1                     6.815948                        15.8120  \n",
       "2                     3.545528                         7.3300  \n",
       "3                     4.984148                        13.5820  \n",
       "4                     4.699070                        13.8555  \n",
       "\n",
       "[5 rows x 61 columns]"
      ]
     },
     "execution_count": 76,
     "metadata": {},
     "output_type": "execute_result"
    },
    {
     "data": {
      "text/plain": [
       "(1532, 61)"
      ]
     },
     "execution_count": 76,
     "metadata": {},
     "output_type": "execute_result"
    }
   ],
   "source": [
    "# drop composite scores, we do not have any varoius values for them over days\n",
    "FeatureDay_filtered_device_features = FeatureDay_filtered.drop(['msfc_composite_1','msfc_composite_2','msfc_composite_3'],axis=1)\n",
    "FeatureDay_filtered_device_features.head()\n",
    "FeatureDay_filtered_device_features.shape"
   ]
  },
  {
   "cell_type": "code",
   "execution_count": 77,
   "metadata": {
    "collapsed": false
   },
   "outputs": [
    {
     "data": {
      "text/html": [
       "<div>\n",
       "<table border=\"1\" class=\"dataframe\">\n",
       "  <thead>\n",
       "    <tr style=\"text-align: right;\">\n",
       "      <th></th>\n",
       "      <th>gls_subject_code</th>\n",
       "      <th>turn_vel_std</th>\n",
       "      <th>turn_vel_mean_ankle</th>\n",
       "      <th>movement_rate</th>\n",
       "      <th>turn_vel_mean</th>\n",
       "      <th>turn_vel_std_ankle</th>\n",
       "      <th>turn_duration</th>\n",
       "      <th>turn_angle</th>\n",
       "      <th>walk_minutes</th>\n",
       "      <th>swing</th>\n",
       "      <th>...</th>\n",
       "      <th>sway_disp_ap_at_home</th>\n",
       "      <th>mobility_activity_at_home_time</th>\n",
       "      <th>hrv_sdnn_at_home</th>\n",
       "      <th>hourly_temp_median_at_home</th>\n",
       "      <th>hourly_temp_std_at_home</th>\n",
       "      <th>hourly_temp_range_at_home</th>\n",
       "      <th>hourly_amb_temp_median_at_home</th>\n",
       "      <th>hourly_amb_temp_std_at_home</th>\n",
       "      <th>hourly_amb_temp_range_at_home</th>\n",
       "      <th>dayofstudy</th>\n",
       "    </tr>\n",
       "  </thead>\n",
       "  <tbody>\n",
       "    <tr>\n",
       "      <th>0</th>\n",
       "      <td>H800001</td>\n",
       "      <td>22.174349</td>\n",
       "      <td>48.212574</td>\n",
       "      <td>6.701800</td>\n",
       "      <td>57.883232</td>\n",
       "      <td>60.263901</td>\n",
       "      <td>0.42</td>\n",
       "      <td>23.911008</td>\n",
       "      <td>149.375000</td>\n",
       "      <td>0.427722</td>\n",
       "      <td>...</td>\n",
       "      <td>288.195255</td>\n",
       "      <td>66170.0</td>\n",
       "      <td>NaN</td>\n",
       "      <td>32.70</td>\n",
       "      <td>0.760989</td>\n",
       "      <td>1.905</td>\n",
       "      <td>30.7575</td>\n",
       "      <td>4.330252</td>\n",
       "      <td>11.7550</td>\n",
       "      <td>23</td>\n",
       "    </tr>\n",
       "    <tr>\n",
       "      <th>1</th>\n",
       "      <td>H800001</td>\n",
       "      <td>19.335984</td>\n",
       "      <td>40.692564</td>\n",
       "      <td>5.241188</td>\n",
       "      <td>56.845986</td>\n",
       "      <td>62.676670</td>\n",
       "      <td>0.38</td>\n",
       "      <td>21.143974</td>\n",
       "      <td>245.125000</td>\n",
       "      <td>0.392413</td>\n",
       "      <td>...</td>\n",
       "      <td>251.594150</td>\n",
       "      <td>NaN</td>\n",
       "      <td>14.108786</td>\n",
       "      <td>32.85</td>\n",
       "      <td>0.532629</td>\n",
       "      <td>1.350</td>\n",
       "      <td>29.5875</td>\n",
       "      <td>6.815948</td>\n",
       "      <td>15.8120</td>\n",
       "      <td>34</td>\n",
       "    </tr>\n",
       "    <tr>\n",
       "      <th>2</th>\n",
       "      <td>H800001</td>\n",
       "      <td>17.776043</td>\n",
       "      <td>47.155710</td>\n",
       "      <td>NaN</td>\n",
       "      <td>61.391091</td>\n",
       "      <td>60.985627</td>\n",
       "      <td>0.44</td>\n",
       "      <td>25.782601</td>\n",
       "      <td>182.166667</td>\n",
       "      <td>0.424840</td>\n",
       "      <td>...</td>\n",
       "      <td>301.790876</td>\n",
       "      <td>27070.0</td>\n",
       "      <td>15.028955</td>\n",
       "      <td>31.60</td>\n",
       "      <td>0.717705</td>\n",
       "      <td>1.800</td>\n",
       "      <td>30.2200</td>\n",
       "      <td>3.545528</td>\n",
       "      <td>7.3300</td>\n",
       "      <td>4</td>\n",
       "    </tr>\n",
       "    <tr>\n",
       "      <th>3</th>\n",
       "      <td>H800001</td>\n",
       "      <td>15.764536</td>\n",
       "      <td>46.102694</td>\n",
       "      <td>NaN</td>\n",
       "      <td>61.178408</td>\n",
       "      <td>59.345718</td>\n",
       "      <td>0.38</td>\n",
       "      <td>23.391290</td>\n",
       "      <td>99.208333</td>\n",
       "      <td>0.424863</td>\n",
       "      <td>...</td>\n",
       "      <td>262.974920</td>\n",
       "      <td>30230.0</td>\n",
       "      <td>NaN</td>\n",
       "      <td>30.75</td>\n",
       "      <td>1.689474</td>\n",
       "      <td>5.550</td>\n",
       "      <td>27.3600</td>\n",
       "      <td>4.984148</td>\n",
       "      <td>13.5820</td>\n",
       "      <td>11</td>\n",
       "    </tr>\n",
       "    <tr>\n",
       "      <th>4</th>\n",
       "      <td>H800001</td>\n",
       "      <td>15.250615</td>\n",
       "      <td>43.762170</td>\n",
       "      <td>NaN</td>\n",
       "      <td>61.247844</td>\n",
       "      <td>57.424167</td>\n",
       "      <td>0.40</td>\n",
       "      <td>24.056450</td>\n",
       "      <td>136.333333</td>\n",
       "      <td>0.441570</td>\n",
       "      <td>...</td>\n",
       "      <td>282.825979</td>\n",
       "      <td>29875.0</td>\n",
       "      <td>NaN</td>\n",
       "      <td>30.65</td>\n",
       "      <td>0.830880</td>\n",
       "      <td>2.205</td>\n",
       "      <td>30.6825</td>\n",
       "      <td>4.699070</td>\n",
       "      <td>13.8555</td>\n",
       "      <td>15</td>\n",
       "    </tr>\n",
       "  </tbody>\n",
       "</table>\n",
       "<p>5 rows × 62 columns</p>\n",
       "</div>"
      ],
      "text/plain": [
       "  gls_subject_code  turn_vel_std  turn_vel_mean_ankle  movement_rate  \\\n",
       "0          H800001     22.174349            48.212574       6.701800   \n",
       "1          H800001     19.335984            40.692564       5.241188   \n",
       "2          H800001     17.776043            47.155710            NaN   \n",
       "3          H800001     15.764536            46.102694            NaN   \n",
       "4          H800001     15.250615            43.762170            NaN   \n",
       "\n",
       "   turn_vel_mean  turn_vel_std_ankle  turn_duration  turn_angle  walk_minutes  \\\n",
       "0      57.883232           60.263901           0.42   23.911008    149.375000   \n",
       "1      56.845986           62.676670           0.38   21.143974    245.125000   \n",
       "2      61.391091           60.985627           0.44   25.782601    182.166667   \n",
       "3      61.178408           59.345718           0.38   23.391290     99.208333   \n",
       "4      61.247844           57.424167           0.40   24.056450    136.333333   \n",
       "\n",
       "      swing     ...      sway_disp_ap_at_home  mobility_activity_at_home_time  \\\n",
       "0  0.427722     ...                288.195255                         66170.0   \n",
       "1  0.392413     ...                251.594150                             NaN   \n",
       "2  0.424840     ...                301.790876                         27070.0   \n",
       "3  0.424863     ...                262.974920                         30230.0   \n",
       "4  0.441570     ...                282.825979                         29875.0   \n",
       "\n",
       "   hrv_sdnn_at_home  hourly_temp_median_at_home  hourly_temp_std_at_home  \\\n",
       "0               NaN                       32.70                 0.760989   \n",
       "1         14.108786                       32.85                 0.532629   \n",
       "2         15.028955                       31.60                 0.717705   \n",
       "3               NaN                       30.75                 1.689474   \n",
       "4               NaN                       30.65                 0.830880   \n",
       "\n",
       "   hourly_temp_range_at_home  hourly_amb_temp_median_at_home  \\\n",
       "0                      1.905                         30.7575   \n",
       "1                      1.350                         29.5875   \n",
       "2                      1.800                         30.2200   \n",
       "3                      5.550                         27.3600   \n",
       "4                      2.205                         30.6825   \n",
       "\n",
       "   hourly_amb_temp_std_at_home  hourly_amb_temp_range_at_home  dayofstudy  \n",
       "0                     4.330252                        11.7550          23  \n",
       "1                     6.815948                        15.8120          34  \n",
       "2                     3.545528                         7.3300           4  \n",
       "3                     4.984148                        13.5820          11  \n",
       "4                     4.699070                        13.8555          15  \n",
       "\n",
       "[5 rows x 62 columns]"
      ]
     },
     "execution_count": 77,
     "metadata": {},
     "output_type": "execute_result"
    },
    {
     "data": {
      "text/plain": [
       "(1532, 62)"
      ]
     },
     "execution_count": 77,
     "metadata": {},
     "output_type": "execute_result"
    }
   ],
   "source": [
    "# will need days of study as an index, add to the dataset\n",
    "FeatureDay_filtered_device_features['dayofstudy'] = FeatureDay['dayofstudy']\n",
    "FeatureDay_filtered_device_features.head()\n",
    "FeatureDay_filtered_device_features.shape"
   ]
  },
  {
   "cell_type": "code",
   "execution_count": 78,
   "metadata": {
    "collapsed": false
   },
   "outputs": [
    {
     "data": {
      "text/plain": [
       "array(['H800001', 'H800002', 'H800003', 'H800004', 'H800006', 'H800007',\n",
       "       'H800008', 'H800009', 'H800010', 'H800011', 'H800013', 'H800014',\n",
       "       'H800016', 'H800017', 'H800018', 'H800019', 'H800020', 'H800021',\n",
       "       'H800022', 'H800023', 'H800024', 'H800025', 'H800005', 'H800012',\n",
       "       'H800015'], dtype=object)"
      ]
     },
     "execution_count": 78,
     "metadata": {},
     "output_type": "execute_result"
    }
   ],
   "source": [
    "# extract patient IDs\n",
    "patientIDs = FeatureDay_filtered['gls_subject_code'].unique()\n",
    "patientIDs"
   ]
  },
  {
   "cell_type": "code",
   "execution_count": 79,
   "metadata": {
    "collapsed": false
   },
   "outputs": [
    {
     "data": {
      "text/html": [
       "<div>\n",
       "<table border=\"1\" class=\"dataframe\">\n",
       "  <thead>\n",
       "    <tr style=\"text-align: right;\">\n",
       "      <th></th>\n",
       "      <th>patientID</th>\n",
       "      <th>num_of_days</th>\n",
       "    </tr>\n",
       "  </thead>\n",
       "  <tbody>\n",
       "    <tr>\n",
       "      <th>0</th>\n",
       "      <td>H800001</td>\n",
       "      <td>62</td>\n",
       "    </tr>\n",
       "    <tr>\n",
       "      <th>1</th>\n",
       "      <td>H800002</td>\n",
       "      <td>63</td>\n",
       "    </tr>\n",
       "    <tr>\n",
       "      <th>2</th>\n",
       "      <td>H800003</td>\n",
       "      <td>68</td>\n",
       "    </tr>\n",
       "    <tr>\n",
       "      <th>3</th>\n",
       "      <td>H800004</td>\n",
       "      <td>65</td>\n",
       "    </tr>\n",
       "    <tr>\n",
       "      <th>4</th>\n",
       "      <td>H800006</td>\n",
       "      <td>79</td>\n",
       "    </tr>\n",
       "  </tbody>\n",
       "</table>\n",
       "</div>"
      ],
      "text/plain": [
       "  patientID  num_of_days\n",
       "0   H800001           62\n",
       "1   H800002           63\n",
       "2   H800003           68\n",
       "3   H800004           65\n",
       "4   H800006           79"
      ]
     },
     "execution_count": 79,
     "metadata": {},
     "output_type": "execute_result"
    }
   ],
   "source": [
    "# what is the maximum number of study days for patients?\n",
    "num_of_days_of_study = [FeatureDay_filtered[FeatureDay_filtered['gls_subject_code'] == ID].shape[0] for ID in patientIDs]\n",
    "days_of_study = pd.DataFrame()\n",
    "days_of_study['patientID'] = patientIDs\n",
    "days_of_study['num_of_days'] = num_of_days_of_study\n",
    "days_of_study.head()\n",
    "max_num_of_days = max(days_of_study['num_of_days'])"
   ]
  },
  {
   "cell_type": "code",
   "execution_count": 80,
   "metadata": {
    "collapsed": false
   },
   "outputs": [
    {
     "data": {
      "text/html": [
       "<div>\n",
       "<table border=\"1\" class=\"dataframe\">\n",
       "  <thead>\n",
       "    <tr style=\"text-align: right;\">\n",
       "      <th></th>\n",
       "      <th>gls_subject_code</th>\n",
       "      <th>turn_vel_std</th>\n",
       "      <th>turn_vel_mean_ankle</th>\n",
       "      <th>movement_rate</th>\n",
       "      <th>turn_vel_mean</th>\n",
       "      <th>turn_vel_std_ankle</th>\n",
       "      <th>turn_duration</th>\n",
       "      <th>turn_angle</th>\n",
       "      <th>walk_minutes</th>\n",
       "      <th>swing</th>\n",
       "      <th>...</th>\n",
       "      <th>sway_disp_ap_at_home</th>\n",
       "      <th>mobility_activity_at_home_time</th>\n",
       "      <th>hrv_sdnn_at_home</th>\n",
       "      <th>hourly_temp_median_at_home</th>\n",
       "      <th>hourly_temp_std_at_home</th>\n",
       "      <th>hourly_temp_range_at_home</th>\n",
       "      <th>hourly_amb_temp_median_at_home</th>\n",
       "      <th>hourly_amb_temp_std_at_home</th>\n",
       "      <th>hourly_amb_temp_range_at_home</th>\n",
       "      <th>dayofstudy</th>\n",
       "    </tr>\n",
       "  </thead>\n",
       "  <tbody>\n",
       "    <tr>\n",
       "      <th>0</th>\n",
       "      <td>H800001</td>\n",
       "      <td>22.174349</td>\n",
       "      <td>48.212574</td>\n",
       "      <td>6.701800</td>\n",
       "      <td>57.883232</td>\n",
       "      <td>60.263901</td>\n",
       "      <td>0.42</td>\n",
       "      <td>23.911008</td>\n",
       "      <td>149.375000</td>\n",
       "      <td>0.427722</td>\n",
       "      <td>...</td>\n",
       "      <td>288.195255</td>\n",
       "      <td>66170.0</td>\n",
       "      <td>NaN</td>\n",
       "      <td>32.70</td>\n",
       "      <td>0.760989</td>\n",
       "      <td>1.905</td>\n",
       "      <td>30.7575</td>\n",
       "      <td>4.330252</td>\n",
       "      <td>11.7550</td>\n",
       "      <td>23</td>\n",
       "    </tr>\n",
       "    <tr>\n",
       "      <th>1</th>\n",
       "      <td>H800001</td>\n",
       "      <td>19.335984</td>\n",
       "      <td>40.692564</td>\n",
       "      <td>5.241188</td>\n",
       "      <td>56.845986</td>\n",
       "      <td>62.676670</td>\n",
       "      <td>0.38</td>\n",
       "      <td>21.143974</td>\n",
       "      <td>245.125000</td>\n",
       "      <td>0.392413</td>\n",
       "      <td>...</td>\n",
       "      <td>251.594150</td>\n",
       "      <td>NaN</td>\n",
       "      <td>14.108786</td>\n",
       "      <td>32.85</td>\n",
       "      <td>0.532629</td>\n",
       "      <td>1.350</td>\n",
       "      <td>29.5875</td>\n",
       "      <td>6.815948</td>\n",
       "      <td>15.8120</td>\n",
       "      <td>34</td>\n",
       "    </tr>\n",
       "    <tr>\n",
       "      <th>2</th>\n",
       "      <td>H800001</td>\n",
       "      <td>17.776043</td>\n",
       "      <td>47.155710</td>\n",
       "      <td>NaN</td>\n",
       "      <td>61.391091</td>\n",
       "      <td>60.985627</td>\n",
       "      <td>0.44</td>\n",
       "      <td>25.782601</td>\n",
       "      <td>182.166667</td>\n",
       "      <td>0.424840</td>\n",
       "      <td>...</td>\n",
       "      <td>301.790876</td>\n",
       "      <td>27070.0</td>\n",
       "      <td>15.028955</td>\n",
       "      <td>31.60</td>\n",
       "      <td>0.717705</td>\n",
       "      <td>1.800</td>\n",
       "      <td>30.2200</td>\n",
       "      <td>3.545528</td>\n",
       "      <td>7.3300</td>\n",
       "      <td>4</td>\n",
       "    </tr>\n",
       "    <tr>\n",
       "      <th>3</th>\n",
       "      <td>H800001</td>\n",
       "      <td>15.764536</td>\n",
       "      <td>46.102694</td>\n",
       "      <td>NaN</td>\n",
       "      <td>61.178408</td>\n",
       "      <td>59.345718</td>\n",
       "      <td>0.38</td>\n",
       "      <td>23.391290</td>\n",
       "      <td>99.208333</td>\n",
       "      <td>0.424863</td>\n",
       "      <td>...</td>\n",
       "      <td>262.974920</td>\n",
       "      <td>30230.0</td>\n",
       "      <td>NaN</td>\n",
       "      <td>30.75</td>\n",
       "      <td>1.689474</td>\n",
       "      <td>5.550</td>\n",
       "      <td>27.3600</td>\n",
       "      <td>4.984148</td>\n",
       "      <td>13.5820</td>\n",
       "      <td>11</td>\n",
       "    </tr>\n",
       "    <tr>\n",
       "      <th>4</th>\n",
       "      <td>H800001</td>\n",
       "      <td>15.250615</td>\n",
       "      <td>43.762170</td>\n",
       "      <td>NaN</td>\n",
       "      <td>61.247844</td>\n",
       "      <td>57.424167</td>\n",
       "      <td>0.40</td>\n",
       "      <td>24.056450</td>\n",
       "      <td>136.333333</td>\n",
       "      <td>0.441570</td>\n",
       "      <td>...</td>\n",
       "      <td>282.825979</td>\n",
       "      <td>29875.0</td>\n",
       "      <td>NaN</td>\n",
       "      <td>30.65</td>\n",
       "      <td>0.830880</td>\n",
       "      <td>2.205</td>\n",
       "      <td>30.6825</td>\n",
       "      <td>4.699070</td>\n",
       "      <td>13.8555</td>\n",
       "      <td>15</td>\n",
       "    </tr>\n",
       "  </tbody>\n",
       "</table>\n",
       "<p>5 rows × 62 columns</p>\n",
       "</div>"
      ],
      "text/plain": [
       "  gls_subject_code  turn_vel_std  turn_vel_mean_ankle  movement_rate  \\\n",
       "0          H800001     22.174349            48.212574       6.701800   \n",
       "1          H800001     19.335984            40.692564       5.241188   \n",
       "2          H800001     17.776043            47.155710            NaN   \n",
       "3          H800001     15.764536            46.102694            NaN   \n",
       "4          H800001     15.250615            43.762170            NaN   \n",
       "\n",
       "   turn_vel_mean  turn_vel_std_ankle  turn_duration  turn_angle  walk_minutes  \\\n",
       "0      57.883232           60.263901           0.42   23.911008    149.375000   \n",
       "1      56.845986           62.676670           0.38   21.143974    245.125000   \n",
       "2      61.391091           60.985627           0.44   25.782601    182.166667   \n",
       "3      61.178408           59.345718           0.38   23.391290     99.208333   \n",
       "4      61.247844           57.424167           0.40   24.056450    136.333333   \n",
       "\n",
       "      swing     ...      sway_disp_ap_at_home  mobility_activity_at_home_time  \\\n",
       "0  0.427722     ...                288.195255                         66170.0   \n",
       "1  0.392413     ...                251.594150                             NaN   \n",
       "2  0.424840     ...                301.790876                         27070.0   \n",
       "3  0.424863     ...                262.974920                         30230.0   \n",
       "4  0.441570     ...                282.825979                         29875.0   \n",
       "\n",
       "   hrv_sdnn_at_home  hourly_temp_median_at_home  hourly_temp_std_at_home  \\\n",
       "0               NaN                       32.70                 0.760989   \n",
       "1         14.108786                       32.85                 0.532629   \n",
       "2         15.028955                       31.60                 0.717705   \n",
       "3               NaN                       30.75                 1.689474   \n",
       "4               NaN                       30.65                 0.830880   \n",
       "\n",
       "   hourly_temp_range_at_home  hourly_amb_temp_median_at_home  \\\n",
       "0                      1.905                         30.7575   \n",
       "1                      1.350                         29.5875   \n",
       "2                      1.800                         30.2200   \n",
       "3                      5.550                         27.3600   \n",
       "4                      2.205                         30.6825   \n",
       "\n",
       "   hourly_amb_temp_std_at_home  hourly_amb_temp_range_at_home  dayofstudy  \n",
       "0                     4.330252                        11.7550          23  \n",
       "1                     6.815948                        15.8120          34  \n",
       "2                     3.545528                         7.3300           4  \n",
       "3                     4.984148                        13.5820          11  \n",
       "4                     4.699070                        13.8555          15  \n",
       "\n",
       "[5 rows x 62 columns]"
      ]
     },
     "execution_count": 80,
     "metadata": {},
     "output_type": "execute_result"
    }
   ],
   "source": [
    "# device features dataset + patient IDs + day of study + composite scores\n",
    "FeatureDay_filtered_device_features.head()"
   ]
  },
  {
   "cell_type": "code",
   "execution_count": 81,
   "metadata": {
    "collapsed": false
   },
   "outputs": [
    {
     "data": {
      "text/plain": [
       "60"
      ]
     },
     "execution_count": 81,
     "metadata": {},
     "output_type": "execute_result"
    }
   ],
   "source": [
    "# just keep the sensor features \n",
    "device_feature_names = list(FeatureDay_filtered_device_features.drop(['gls_subject_code','dayofstudy'],axis = 1))\n",
    "len(device_feature_names)"
   ]
  },
  {
   "cell_type": "code",
   "execution_count": 82,
   "metadata": {
    "collapsed": false
   },
   "outputs": [
    {
     "name": "stdout",
     "output_type": "stream",
     "text": [
      "H800001\n",
      "H800002\n",
      "H800003\n",
      "H800004\n",
      "H800006\n",
      "H800007\n",
      "H800008\n",
      "H800009\n",
      "H800010\n",
      "H800011\n",
      "H800013\n",
      "H800014\n",
      "H800016\n",
      "H800017\n",
      "H800018\n",
      "H800019\n",
      "H800020\n",
      "H800021\n",
      "H800022\n",
      "H800023\n",
      "H800024\n",
      "H800025\n",
      "H800005\n",
      "H800012\n",
      "H800015\n"
     ]
    }
   ],
   "source": [
    "# transform the dataset, add feature values for each day as a new column\n",
    "final_df = pd.DataFrame()\n",
    "for ID in patientIDs:\n",
    "    print(ID)\n",
    "    arr = ID.split('0')\n",
    "    sub_df = FeatureDay_filtered_device_features[FeatureDay_filtered_device_features['gls_subject_code'] == ID]\n",
    "    new_df = pd.DataFrame()\n",
    "    new_df['gls_subject_code'] = [ID]\n",
    "    for day in np.arange(1,max_num_of_days + 1):\n",
    "        for feature in device_feature_names:\n",
    "            col_name = feature + '_day_' + str(day)\n",
    "            if day in sub_df['dayofstudy'].tolist():\n",
    "                idx = sub_df['dayofstudy'].tolist().index(23)\n",
    "                val = sub_df.iloc[idx][feature]\n",
    "                new_df[col_name] = [val]\n",
    "            else:\n",
    "                new_df[col_name] = [np.nan]\n",
    "    final_df = pd.concat([final_df,new_df])"
   ]
  },
  {
   "cell_type": "code",
   "execution_count": 83,
   "metadata": {
    "collapsed": false
   },
   "outputs": [
    {
     "data": {
      "text/html": [
       "<div>\n",
       "<table border=\"1\" class=\"dataframe\">\n",
       "  <thead>\n",
       "    <tr style=\"text-align: right;\">\n",
       "      <th></th>\n",
       "      <th>gls_subject_code</th>\n",
       "      <th>turn_vel_std_day_1</th>\n",
       "      <th>turn_vel_mean_ankle_day_1</th>\n",
       "      <th>movement_rate_day_1</th>\n",
       "      <th>turn_vel_mean_day_1</th>\n",
       "      <th>turn_vel_std_ankle_day_1</th>\n",
       "      <th>turn_duration_day_1</th>\n",
       "      <th>turn_angle_day_1</th>\n",
       "      <th>walk_minutes_day_1</th>\n",
       "      <th>swing_day_1</th>\n",
       "      <th>...</th>\n",
       "      <th>sway_disp_lr_at_home_day_80</th>\n",
       "      <th>sway_disp_ap_at_home_day_80</th>\n",
       "      <th>mobility_activity_at_home_time_day_80</th>\n",
       "      <th>hrv_sdnn_at_home_day_80</th>\n",
       "      <th>hourly_temp_median_at_home_day_80</th>\n",
       "      <th>hourly_temp_std_at_home_day_80</th>\n",
       "      <th>hourly_temp_range_at_home_day_80</th>\n",
       "      <th>hourly_amb_temp_median_at_home_day_80</th>\n",
       "      <th>hourly_amb_temp_std_at_home_day_80</th>\n",
       "      <th>hourly_amb_temp_range_at_home_day_80</th>\n",
       "    </tr>\n",
       "  </thead>\n",
       "  <tbody>\n",
       "    <tr>\n",
       "      <th>0</th>\n",
       "      <td>H800001</td>\n",
       "      <td>22.174349</td>\n",
       "      <td>48.212574</td>\n",
       "      <td>6.701800</td>\n",
       "      <td>57.883232</td>\n",
       "      <td>60.263901</td>\n",
       "      <td>0.42</td>\n",
       "      <td>23.911008</td>\n",
       "      <td>149.375000</td>\n",
       "      <td>0.427722</td>\n",
       "      <td>...</td>\n",
       "      <td>NaN</td>\n",
       "      <td>NaN</td>\n",
       "      <td>NaN</td>\n",
       "      <td>NaN</td>\n",
       "      <td>NaN</td>\n",
       "      <td>NaN</td>\n",
       "      <td>NaN</td>\n",
       "      <td>NaN</td>\n",
       "      <td>NaN</td>\n",
       "      <td>NaN</td>\n",
       "    </tr>\n",
       "    <tr>\n",
       "      <th>0</th>\n",
       "      <td>H800002</td>\n",
       "      <td>NaN</td>\n",
       "      <td>NaN</td>\n",
       "      <td>NaN</td>\n",
       "      <td>NaN</td>\n",
       "      <td>NaN</td>\n",
       "      <td>NaN</td>\n",
       "      <td>NaN</td>\n",
       "      <td>NaN</td>\n",
       "      <td>NaN</td>\n",
       "      <td>...</td>\n",
       "      <td>NaN</td>\n",
       "      <td>NaN</td>\n",
       "      <td>NaN</td>\n",
       "      <td>NaN</td>\n",
       "      <td>NaN</td>\n",
       "      <td>NaN</td>\n",
       "      <td>NaN</td>\n",
       "      <td>NaN</td>\n",
       "      <td>NaN</td>\n",
       "      <td>NaN</td>\n",
       "    </tr>\n",
       "    <tr>\n",
       "      <th>0</th>\n",
       "      <td>H800003</td>\n",
       "      <td>14.908525</td>\n",
       "      <td>35.120240</td>\n",
       "      <td>4.488399</td>\n",
       "      <td>66.330916</td>\n",
       "      <td>92.738296</td>\n",
       "      <td>0.50</td>\n",
       "      <td>29.897820</td>\n",
       "      <td>64.500000</td>\n",
       "      <td>0.420198</td>\n",
       "      <td>...</td>\n",
       "      <td>NaN</td>\n",
       "      <td>NaN</td>\n",
       "      <td>NaN</td>\n",
       "      <td>NaN</td>\n",
       "      <td>NaN</td>\n",
       "      <td>NaN</td>\n",
       "      <td>NaN</td>\n",
       "      <td>NaN</td>\n",
       "      <td>NaN</td>\n",
       "      <td>NaN</td>\n",
       "    </tr>\n",
       "    <tr>\n",
       "      <th>0</th>\n",
       "      <td>H800004</td>\n",
       "      <td>17.141517</td>\n",
       "      <td>55.996969</td>\n",
       "      <td>10.324276</td>\n",
       "      <td>66.854706</td>\n",
       "      <td>65.144946</td>\n",
       "      <td>0.44</td>\n",
       "      <td>28.332181</td>\n",
       "      <td>61.458333</td>\n",
       "      <td>0.495820</td>\n",
       "      <td>...</td>\n",
       "      <td>NaN</td>\n",
       "      <td>NaN</td>\n",
       "      <td>NaN</td>\n",
       "      <td>NaN</td>\n",
       "      <td>NaN</td>\n",
       "      <td>NaN</td>\n",
       "      <td>NaN</td>\n",
       "      <td>NaN</td>\n",
       "      <td>NaN</td>\n",
       "      <td>NaN</td>\n",
       "    </tr>\n",
       "    <tr>\n",
       "      <th>0</th>\n",
       "      <td>H800006</td>\n",
       "      <td>24.291345</td>\n",
       "      <td>52.741362</td>\n",
       "      <td>3.316912</td>\n",
       "      <td>64.354366</td>\n",
       "      <td>81.240676</td>\n",
       "      <td>0.72</td>\n",
       "      <td>43.488300</td>\n",
       "      <td>178.375000</td>\n",
       "      <td>0.465371</td>\n",
       "      <td>...</td>\n",
       "      <td>NaN</td>\n",
       "      <td>NaN</td>\n",
       "      <td>NaN</td>\n",
       "      <td>NaN</td>\n",
       "      <td>NaN</td>\n",
       "      <td>NaN</td>\n",
       "      <td>NaN</td>\n",
       "      <td>NaN</td>\n",
       "      <td>NaN</td>\n",
       "      <td>NaN</td>\n",
       "    </tr>\n",
       "  </tbody>\n",
       "</table>\n",
       "<p>5 rows × 4801 columns</p>\n",
       "</div>"
      ],
      "text/plain": [
       "  gls_subject_code  turn_vel_std_day_1  turn_vel_mean_ankle_day_1  \\\n",
       "0          H800001           22.174349                  48.212574   \n",
       "0          H800002                 NaN                        NaN   \n",
       "0          H800003           14.908525                  35.120240   \n",
       "0          H800004           17.141517                  55.996969   \n",
       "0          H800006           24.291345                  52.741362   \n",
       "\n",
       "   movement_rate_day_1  turn_vel_mean_day_1  turn_vel_std_ankle_day_1  \\\n",
       "0             6.701800            57.883232                 60.263901   \n",
       "0                  NaN                  NaN                       NaN   \n",
       "0             4.488399            66.330916                 92.738296   \n",
       "0            10.324276            66.854706                 65.144946   \n",
       "0             3.316912            64.354366                 81.240676   \n",
       "\n",
       "   turn_duration_day_1  turn_angle_day_1  walk_minutes_day_1  swing_day_1  \\\n",
       "0                 0.42         23.911008          149.375000     0.427722   \n",
       "0                  NaN               NaN                 NaN          NaN   \n",
       "0                 0.50         29.897820           64.500000     0.420198   \n",
       "0                 0.44         28.332181           61.458333     0.495820   \n",
       "0                 0.72         43.488300          178.375000     0.465371   \n",
       "\n",
       "                   ...                   sway_disp_lr_at_home_day_80  \\\n",
       "0                  ...                                           NaN   \n",
       "0                  ...                                           NaN   \n",
       "0                  ...                                           NaN   \n",
       "0                  ...                                           NaN   \n",
       "0                  ...                                           NaN   \n",
       "\n",
       "   sway_disp_ap_at_home_day_80  mobility_activity_at_home_time_day_80  \\\n",
       "0                          NaN                                    NaN   \n",
       "0                          NaN                                    NaN   \n",
       "0                          NaN                                    NaN   \n",
       "0                          NaN                                    NaN   \n",
       "0                          NaN                                    NaN   \n",
       "\n",
       "   hrv_sdnn_at_home_day_80  hourly_temp_median_at_home_day_80  \\\n",
       "0                      NaN                                NaN   \n",
       "0                      NaN                                NaN   \n",
       "0                      NaN                                NaN   \n",
       "0                      NaN                                NaN   \n",
       "0                      NaN                                NaN   \n",
       "\n",
       "   hourly_temp_std_at_home_day_80  hourly_temp_range_at_home_day_80  \\\n",
       "0                             NaN                               NaN   \n",
       "0                             NaN                               NaN   \n",
       "0                             NaN                               NaN   \n",
       "0                             NaN                               NaN   \n",
       "0                             NaN                               NaN   \n",
       "\n",
       "   hourly_amb_temp_median_at_home_day_80  hourly_amb_temp_std_at_home_day_80  \\\n",
       "0                                    NaN                                 NaN   \n",
       "0                                    NaN                                 NaN   \n",
       "0                                    NaN                                 NaN   \n",
       "0                                    NaN                                 NaN   \n",
       "0                                    NaN                                 NaN   \n",
       "\n",
       "   hourly_amb_temp_range_at_home_day_80  \n",
       "0                                   NaN  \n",
       "0                                   NaN  \n",
       "0                                   NaN  \n",
       "0                                   NaN  \n",
       "0                                   NaN  \n",
       "\n",
       "[5 rows x 4801 columns]"
      ]
     },
     "execution_count": 83,
     "metadata": {},
     "output_type": "execute_result"
    },
    {
     "data": {
      "text/plain": [
       "(25, 4801)"
      ]
     },
     "execution_count": 83,
     "metadata": {},
     "output_type": "execute_result"
    }
   ],
   "source": [
    "# check the transformed dataframe\n",
    "final_df.head()\n",
    "final_df.shape"
   ]
  },
  {
   "cell_type": "code",
   "execution_count": 84,
   "metadata": {
    "collapsed": false
   },
   "outputs": [
    {
     "data": {
      "text/html": [
       "<div>\n",
       "<table border=\"1\" class=\"dataframe\">\n",
       "  <thead>\n",
       "    <tr style=\"text-align: right;\">\n",
       "      <th></th>\n",
       "      <th>gls_subject_code</th>\n",
       "      <th>turn_vel_std_day_1</th>\n",
       "      <th>turn_vel_mean_ankle_day_1</th>\n",
       "      <th>movement_rate_day_1</th>\n",
       "      <th>turn_vel_mean_day_1</th>\n",
       "      <th>turn_vel_std_ankle_day_1</th>\n",
       "      <th>turn_duration_day_1</th>\n",
       "      <th>turn_angle_day_1</th>\n",
       "      <th>walk_minutes_day_1</th>\n",
       "      <th>swing_day_1</th>\n",
       "      <th>...</th>\n",
       "      <th>hrv_sdnn_at_home_day_80</th>\n",
       "      <th>hourly_temp_median_at_home_day_80</th>\n",
       "      <th>hourly_temp_std_at_home_day_80</th>\n",
       "      <th>hourly_temp_range_at_home_day_80</th>\n",
       "      <th>hourly_amb_temp_median_at_home_day_80</th>\n",
       "      <th>hourly_amb_temp_std_at_home_day_80</th>\n",
       "      <th>hourly_amb_temp_range_at_home_day_80</th>\n",
       "      <th>msfc_composite_1</th>\n",
       "      <th>msfc_composite_2</th>\n",
       "      <th>msfc_composite_3</th>\n",
       "    </tr>\n",
       "  </thead>\n",
       "  <tbody>\n",
       "    <tr>\n",
       "      <th>0</th>\n",
       "      <td>H800001</td>\n",
       "      <td>22.174349</td>\n",
       "      <td>48.212574</td>\n",
       "      <td>6.701800</td>\n",
       "      <td>57.883232</td>\n",
       "      <td>60.263901</td>\n",
       "      <td>0.42</td>\n",
       "      <td>23.911008</td>\n",
       "      <td>149.375000</td>\n",
       "      <td>0.427722</td>\n",
       "      <td>...</td>\n",
       "      <td>NaN</td>\n",
       "      <td>NaN</td>\n",
       "      <td>NaN</td>\n",
       "      <td>NaN</td>\n",
       "      <td>NaN</td>\n",
       "      <td>NaN</td>\n",
       "      <td>NaN</td>\n",
       "      <td>-1.211435</td>\n",
       "      <td>-1.385647</td>\n",
       "      <td>-1.407630</td>\n",
       "    </tr>\n",
       "    <tr>\n",
       "      <th>0</th>\n",
       "      <td>H800002</td>\n",
       "      <td>NaN</td>\n",
       "      <td>NaN</td>\n",
       "      <td>NaN</td>\n",
       "      <td>NaN</td>\n",
       "      <td>NaN</td>\n",
       "      <td>NaN</td>\n",
       "      <td>NaN</td>\n",
       "      <td>NaN</td>\n",
       "      <td>NaN</td>\n",
       "      <td>...</td>\n",
       "      <td>NaN</td>\n",
       "      <td>NaN</td>\n",
       "      <td>NaN</td>\n",
       "      <td>NaN</td>\n",
       "      <td>NaN</td>\n",
       "      <td>NaN</td>\n",
       "      <td>NaN</td>\n",
       "      <td>0.389599</td>\n",
       "      <td>1.109154</td>\n",
       "      <td>0.631568</td>\n",
       "    </tr>\n",
       "    <tr>\n",
       "      <th>0</th>\n",
       "      <td>H800003</td>\n",
       "      <td>14.908525</td>\n",
       "      <td>35.120240</td>\n",
       "      <td>4.488399</td>\n",
       "      <td>66.330916</td>\n",
       "      <td>92.738296</td>\n",
       "      <td>0.50</td>\n",
       "      <td>29.897820</td>\n",
       "      <td>64.500000</td>\n",
       "      <td>0.420198</td>\n",
       "      <td>...</td>\n",
       "      <td>NaN</td>\n",
       "      <td>NaN</td>\n",
       "      <td>NaN</td>\n",
       "      <td>NaN</td>\n",
       "      <td>NaN</td>\n",
       "      <td>NaN</td>\n",
       "      <td>NaN</td>\n",
       "      <td>0.780895</td>\n",
       "      <td>0.932657</td>\n",
       "      <td>0.911542</td>\n",
       "    </tr>\n",
       "    <tr>\n",
       "      <th>0</th>\n",
       "      <td>H800004</td>\n",
       "      <td>17.141517</td>\n",
       "      <td>55.996969</td>\n",
       "      <td>10.324276</td>\n",
       "      <td>66.854706</td>\n",
       "      <td>65.144946</td>\n",
       "      <td>0.44</td>\n",
       "      <td>28.332181</td>\n",
       "      <td>61.458333</td>\n",
       "      <td>0.495820</td>\n",
       "      <td>...</td>\n",
       "      <td>NaN</td>\n",
       "      <td>NaN</td>\n",
       "      <td>NaN</td>\n",
       "      <td>NaN</td>\n",
       "      <td>NaN</td>\n",
       "      <td>NaN</td>\n",
       "      <td>NaN</td>\n",
       "      <td>-0.969236</td>\n",
       "      <td>-0.983236</td>\n",
       "      <td>-0.695738</td>\n",
       "    </tr>\n",
       "    <tr>\n",
       "      <th>0</th>\n",
       "      <td>H800006</td>\n",
       "      <td>24.291345</td>\n",
       "      <td>52.741362</td>\n",
       "      <td>3.316912</td>\n",
       "      <td>64.354366</td>\n",
       "      <td>81.240676</td>\n",
       "      <td>0.72</td>\n",
       "      <td>43.488300</td>\n",
       "      <td>178.375000</td>\n",
       "      <td>0.465371</td>\n",
       "      <td>...</td>\n",
       "      <td>NaN</td>\n",
       "      <td>NaN</td>\n",
       "      <td>NaN</td>\n",
       "      <td>NaN</td>\n",
       "      <td>NaN</td>\n",
       "      <td>NaN</td>\n",
       "      <td>NaN</td>\n",
       "      <td>0.245690</td>\n",
       "      <td>0.568276</td>\n",
       "      <td>0.495086</td>\n",
       "    </tr>\n",
       "  </tbody>\n",
       "</table>\n",
       "<p>5 rows × 4804 columns</p>\n",
       "</div>"
      ],
      "text/plain": [
       "  gls_subject_code  turn_vel_std_day_1  turn_vel_mean_ankle_day_1  \\\n",
       "0          H800001           22.174349                  48.212574   \n",
       "0          H800002                 NaN                        NaN   \n",
       "0          H800003           14.908525                  35.120240   \n",
       "0          H800004           17.141517                  55.996969   \n",
       "0          H800006           24.291345                  52.741362   \n",
       "\n",
       "   movement_rate_day_1  turn_vel_mean_day_1  turn_vel_std_ankle_day_1  \\\n",
       "0             6.701800            57.883232                 60.263901   \n",
       "0                  NaN                  NaN                       NaN   \n",
       "0             4.488399            66.330916                 92.738296   \n",
       "0            10.324276            66.854706                 65.144946   \n",
       "0             3.316912            64.354366                 81.240676   \n",
       "\n",
       "   turn_duration_day_1  turn_angle_day_1  walk_minutes_day_1  swing_day_1  \\\n",
       "0                 0.42         23.911008          149.375000     0.427722   \n",
       "0                  NaN               NaN                 NaN          NaN   \n",
       "0                 0.50         29.897820           64.500000     0.420198   \n",
       "0                 0.44         28.332181           61.458333     0.495820   \n",
       "0                 0.72         43.488300          178.375000     0.465371   \n",
       "\n",
       "         ...         hrv_sdnn_at_home_day_80  \\\n",
       "0        ...                             NaN   \n",
       "0        ...                             NaN   \n",
       "0        ...                             NaN   \n",
       "0        ...                             NaN   \n",
       "0        ...                             NaN   \n",
       "\n",
       "   hourly_temp_median_at_home_day_80  hourly_temp_std_at_home_day_80  \\\n",
       "0                                NaN                             NaN   \n",
       "0                                NaN                             NaN   \n",
       "0                                NaN                             NaN   \n",
       "0                                NaN                             NaN   \n",
       "0                                NaN                             NaN   \n",
       "\n",
       "   hourly_temp_range_at_home_day_80  hourly_amb_temp_median_at_home_day_80  \\\n",
       "0                               NaN                                    NaN   \n",
       "0                               NaN                                    NaN   \n",
       "0                               NaN                                    NaN   \n",
       "0                               NaN                                    NaN   \n",
       "0                               NaN                                    NaN   \n",
       "\n",
       "   hourly_amb_temp_std_at_home_day_80  hourly_amb_temp_range_at_home_day_80  \\\n",
       "0                                 NaN                                   NaN   \n",
       "0                                 NaN                                   NaN   \n",
       "0                                 NaN                                   NaN   \n",
       "0                                 NaN                                   NaN   \n",
       "0                                 NaN                                   NaN   \n",
       "\n",
       "   msfc_composite_1  msfc_composite_2  msfc_composite_3  \n",
       "0         -1.211435         -1.385647         -1.407630  \n",
       "0          0.389599          1.109154          0.631568  \n",
       "0          0.780895          0.932657          0.911542  \n",
       "0         -0.969236         -0.983236         -0.695738  \n",
       "0          0.245690          0.568276          0.495086  \n",
       "\n",
       "[5 rows x 4804 columns]"
      ]
     },
     "execution_count": 84,
     "metadata": {},
     "output_type": "execute_result"
    }
   ],
   "source": [
    "# add back patient IDs + composite scores to the transformed dataset\n",
    "msfc_composite_1 = []\n",
    "msfc_composite_2 = []\n",
    "msfc_composite_3 = []\n",
    "for ID in final_df['gls_subject_code']:\n",
    "    msfc_composite_1.append(FeatureDay_filtered[FeatureDay_filtered['gls_subject_code'] == ID].iloc[0]['msfc_composite_1'])\n",
    "    msfc_composite_2.append(FeatureDay_filtered[FeatureDay_filtered['gls_subject_code'] == ID].iloc[0]['msfc_composite_2'])\n",
    "    msfc_composite_3.append(FeatureDay_filtered[FeatureDay_filtered['gls_subject_code'] == ID].iloc[0]['msfc_composite_3'])\n",
    "final_df['msfc_composite_1'] = msfc_composite_1\n",
    "final_df['msfc_composite_2'] = msfc_composite_2\n",
    "final_df['msfc_composite_3'] = msfc_composite_3\n",
    "final_df.head()"
   ]
  },
  {
   "cell_type": "code",
   "execution_count": 85,
   "metadata": {
    "collapsed": false
   },
   "outputs": [
    {
     "data": {
      "text/html": [
       "<div>\n",
       "<table border=\"1\" class=\"dataframe\">\n",
       "  <thead>\n",
       "    <tr style=\"text-align: right;\">\n",
       "      <th></th>\n",
       "      <th>gls_subject_code</th>\n",
       "      <th>turn_vel_std_day_1</th>\n",
       "      <th>turn_vel_mean_ankle_day_1</th>\n",
       "      <th>movement_rate_day_1</th>\n",
       "      <th>turn_vel_mean_day_1</th>\n",
       "      <th>turn_vel_std_ankle_day_1</th>\n",
       "      <th>turn_duration_day_1</th>\n",
       "      <th>turn_angle_day_1</th>\n",
       "      <th>walk_minutes_day_1</th>\n",
       "      <th>swing_day_1</th>\n",
       "      <th>...</th>\n",
       "      <th>hrv_sdnn_at_home_day_80</th>\n",
       "      <th>hourly_temp_median_at_home_day_80</th>\n",
       "      <th>hourly_temp_std_at_home_day_80</th>\n",
       "      <th>hourly_temp_range_at_home_day_80</th>\n",
       "      <th>hourly_amb_temp_median_at_home_day_80</th>\n",
       "      <th>hourly_amb_temp_std_at_home_day_80</th>\n",
       "      <th>hourly_amb_temp_range_at_home_day_80</th>\n",
       "      <th>msfc_composite_1</th>\n",
       "      <th>msfc_composite_2</th>\n",
       "      <th>msfc_composite_3</th>\n",
       "    </tr>\n",
       "  </thead>\n",
       "  <tbody>\n",
       "    <tr>\n",
       "      <th>0</th>\n",
       "      <td>H800001</td>\n",
       "      <td>22.174349</td>\n",
       "      <td>48.212574</td>\n",
       "      <td>6.701800</td>\n",
       "      <td>57.883232</td>\n",
       "      <td>60.263901</td>\n",
       "      <td>0.42</td>\n",
       "      <td>23.911008</td>\n",
       "      <td>149.375000</td>\n",
       "      <td>0.427722</td>\n",
       "      <td>...</td>\n",
       "      <td>NaN</td>\n",
       "      <td>NaN</td>\n",
       "      <td>NaN</td>\n",
       "      <td>NaN</td>\n",
       "      <td>NaN</td>\n",
       "      <td>NaN</td>\n",
       "      <td>NaN</td>\n",
       "      <td>-1.211435</td>\n",
       "      <td>-1.385647</td>\n",
       "      <td>-1.407630</td>\n",
       "    </tr>\n",
       "    <tr>\n",
       "      <th>1</th>\n",
       "      <td>H800002</td>\n",
       "      <td>NaN</td>\n",
       "      <td>NaN</td>\n",
       "      <td>NaN</td>\n",
       "      <td>NaN</td>\n",
       "      <td>NaN</td>\n",
       "      <td>NaN</td>\n",
       "      <td>NaN</td>\n",
       "      <td>NaN</td>\n",
       "      <td>NaN</td>\n",
       "      <td>...</td>\n",
       "      <td>NaN</td>\n",
       "      <td>NaN</td>\n",
       "      <td>NaN</td>\n",
       "      <td>NaN</td>\n",
       "      <td>NaN</td>\n",
       "      <td>NaN</td>\n",
       "      <td>NaN</td>\n",
       "      <td>0.389599</td>\n",
       "      <td>1.109154</td>\n",
       "      <td>0.631568</td>\n",
       "    </tr>\n",
       "    <tr>\n",
       "      <th>2</th>\n",
       "      <td>H800003</td>\n",
       "      <td>14.908525</td>\n",
       "      <td>35.120240</td>\n",
       "      <td>4.488399</td>\n",
       "      <td>66.330916</td>\n",
       "      <td>92.738296</td>\n",
       "      <td>0.50</td>\n",
       "      <td>29.897820</td>\n",
       "      <td>64.500000</td>\n",
       "      <td>0.420198</td>\n",
       "      <td>...</td>\n",
       "      <td>NaN</td>\n",
       "      <td>NaN</td>\n",
       "      <td>NaN</td>\n",
       "      <td>NaN</td>\n",
       "      <td>NaN</td>\n",
       "      <td>NaN</td>\n",
       "      <td>NaN</td>\n",
       "      <td>0.780895</td>\n",
       "      <td>0.932657</td>\n",
       "      <td>0.911542</td>\n",
       "    </tr>\n",
       "    <tr>\n",
       "      <th>3</th>\n",
       "      <td>H800004</td>\n",
       "      <td>17.141517</td>\n",
       "      <td>55.996969</td>\n",
       "      <td>10.324276</td>\n",
       "      <td>66.854706</td>\n",
       "      <td>65.144946</td>\n",
       "      <td>0.44</td>\n",
       "      <td>28.332181</td>\n",
       "      <td>61.458333</td>\n",
       "      <td>0.495820</td>\n",
       "      <td>...</td>\n",
       "      <td>NaN</td>\n",
       "      <td>NaN</td>\n",
       "      <td>NaN</td>\n",
       "      <td>NaN</td>\n",
       "      <td>NaN</td>\n",
       "      <td>NaN</td>\n",
       "      <td>NaN</td>\n",
       "      <td>-0.969236</td>\n",
       "      <td>-0.983236</td>\n",
       "      <td>-0.695738</td>\n",
       "    </tr>\n",
       "    <tr>\n",
       "      <th>4</th>\n",
       "      <td>H800006</td>\n",
       "      <td>24.291345</td>\n",
       "      <td>52.741362</td>\n",
       "      <td>3.316912</td>\n",
       "      <td>64.354366</td>\n",
       "      <td>81.240676</td>\n",
       "      <td>0.72</td>\n",
       "      <td>43.488300</td>\n",
       "      <td>178.375000</td>\n",
       "      <td>0.465371</td>\n",
       "      <td>...</td>\n",
       "      <td>NaN</td>\n",
       "      <td>NaN</td>\n",
       "      <td>NaN</td>\n",
       "      <td>NaN</td>\n",
       "      <td>NaN</td>\n",
       "      <td>NaN</td>\n",
       "      <td>NaN</td>\n",
       "      <td>0.245690</td>\n",
       "      <td>0.568276</td>\n",
       "      <td>0.495086</td>\n",
       "    </tr>\n",
       "  </tbody>\n",
       "</table>\n",
       "<p>5 rows × 4804 columns</p>\n",
       "</div>"
      ],
      "text/plain": [
       "  gls_subject_code  turn_vel_std_day_1  turn_vel_mean_ankle_day_1  \\\n",
       "0          H800001           22.174349                  48.212574   \n",
       "1          H800002                 NaN                        NaN   \n",
       "2          H800003           14.908525                  35.120240   \n",
       "3          H800004           17.141517                  55.996969   \n",
       "4          H800006           24.291345                  52.741362   \n",
       "\n",
       "   movement_rate_day_1  turn_vel_mean_day_1  turn_vel_std_ankle_day_1  \\\n",
       "0             6.701800            57.883232                 60.263901   \n",
       "1                  NaN                  NaN                       NaN   \n",
       "2             4.488399            66.330916                 92.738296   \n",
       "3            10.324276            66.854706                 65.144946   \n",
       "4             3.316912            64.354366                 81.240676   \n",
       "\n",
       "   turn_duration_day_1  turn_angle_day_1  walk_minutes_day_1  swing_day_1  \\\n",
       "0                 0.42         23.911008          149.375000     0.427722   \n",
       "1                  NaN               NaN                 NaN          NaN   \n",
       "2                 0.50         29.897820           64.500000     0.420198   \n",
       "3                 0.44         28.332181           61.458333     0.495820   \n",
       "4                 0.72         43.488300          178.375000     0.465371   \n",
       "\n",
       "         ...         hrv_sdnn_at_home_day_80  \\\n",
       "0        ...                             NaN   \n",
       "1        ...                             NaN   \n",
       "2        ...                             NaN   \n",
       "3        ...                             NaN   \n",
       "4        ...                             NaN   \n",
       "\n",
       "   hourly_temp_median_at_home_day_80  hourly_temp_std_at_home_day_80  \\\n",
       "0                                NaN                             NaN   \n",
       "1                                NaN                             NaN   \n",
       "2                                NaN                             NaN   \n",
       "3                                NaN                             NaN   \n",
       "4                                NaN                             NaN   \n",
       "\n",
       "   hourly_temp_range_at_home_day_80  hourly_amb_temp_median_at_home_day_80  \\\n",
       "0                               NaN                                    NaN   \n",
       "1                               NaN                                    NaN   \n",
       "2                               NaN                                    NaN   \n",
       "3                               NaN                                    NaN   \n",
       "4                               NaN                                    NaN   \n",
       "\n",
       "   hourly_amb_temp_std_at_home_day_80  hourly_amb_temp_range_at_home_day_80  \\\n",
       "0                                 NaN                                   NaN   \n",
       "1                                 NaN                                   NaN   \n",
       "2                                 NaN                                   NaN   \n",
       "3                                 NaN                                   NaN   \n",
       "4                                 NaN                                   NaN   \n",
       "\n",
       "   msfc_composite_1  msfc_composite_2  msfc_composite_3  \n",
       "0         -1.211435         -1.385647         -1.407630  \n",
       "1          0.389599          1.109154          0.631568  \n",
       "2          0.780895          0.932657          0.911542  \n",
       "3         -0.969236         -0.983236         -0.695738  \n",
       "4          0.245690          0.568276          0.495086  \n",
       "\n",
       "[5 rows x 4804 columns]"
      ]
     },
     "execution_count": 85,
     "metadata": {},
     "output_type": "execute_result"
    }
   ],
   "source": [
    "# fix the index of the transformed dataset\n",
    "FeatureDay_filtered_reshaped = final_df.reset_index(drop=True)\n",
    "FeatureDay_filtered_reshaped.head()"
   ]
  },
  {
   "cell_type": "code",
   "execution_count": 86,
   "metadata": {
    "collapsed": true
   },
   "outputs": [],
   "source": [
    "###################################################END OF REASHAPING FEATUREDAY####################################"
   ]
  },
  {
   "cell_type": "code",
   "execution_count": 87,
   "metadata": {
    "collapsed": false
   },
   "outputs": [
    {
     "data": {
      "text/plain": [
       "(25, 64)"
      ]
     },
     "execution_count": 87,
     "metadata": {},
     "output_type": "execute_result"
    },
    {
     "data": {
      "text/plain": [
       "(22, 64)"
      ]
     },
     "execution_count": 87,
     "metadata": {},
     "output_type": "execute_result"
    },
    {
     "data": {
      "text/plain": [
       "(25, 4804)"
      ]
     },
     "execution_count": 87,
     "metadata": {},
     "output_type": "execute_result"
    },
    {
     "data": {
      "text/plain": [
       "(20, 1830)"
      ]
     },
     "execution_count": 87,
     "metadata": {},
     "output_type": "execute_result"
    }
   ],
   "source": [
    "# preprocessing: remove columns, rows with > 50% null values\n",
    "\n",
    "# featureStudy\n",
    "# columns\n",
    "TH = FeatureStudy_filtered.shape[0]/2\n",
    "FeatureStudy_filtered_nullDropped = remove_columns_with_null(FeatureStudy_filtered, TH)\n",
    "# rows\n",
    "TH = FeatureStudy_filtered.shape[1]/2\n",
    "FeatureStudy_filtered_nullDropped = remove_rows_with_null(FeatureStudy_filtered_nullDropped, TH)\n",
    "\n",
    "# featureDay\n",
    "# columns\n",
    "TH = FeatureDay_filtered_reshaped.shape[0]/2\n",
    "FeatureDay_filtered_reshaped_nullDropped = remove_columns_with_null(FeatureDay_filtered_reshaped, TH)\n",
    "# rows\n",
    "TH = FeatureDay_filtered_reshaped_nullDropped.shape[1]/2\n",
    "FeatureDay_filtered_reshaped_nullDropped = remove_rows_with_null(FeatureDay_filtered_reshaped_nullDropped, TH)\n",
    "\n",
    "# compare shapes of new dataframes with original ones\n",
    "FeatureStudy_filtered.shape\n",
    "FeatureStudy_filtered_nullDropped.shape\n",
    "FeatureDay_filtered_reshaped.shape\n",
    "FeatureDay_filtered_reshaped_nullDropped.shape"
   ]
  },
  {
   "cell_type": "code",
   "execution_count": 88,
   "metadata": {
    "collapsed": false
   },
   "outputs": [
    {
     "name": "stderr",
     "output_type": "stream",
     "text": [
      "/opt/python3/lib/python3.5/site-packages/pandas/core/generic.py:3191: SettingWithCopyWarning: \n",
      "A value is trying to be set on a copy of a slice from a DataFrame\n",
      "\n",
      "See the caveats in the documentation: http://pandas.pydata.org/pandas-docs/stable/indexing.html#indexing-view-versus-copy\n",
      "  self._update_inplace(new_data)\n"
     ]
    }
   ],
   "source": [
    "# preprocessing: fill null values\n",
    "# msfc composite scores: mean on row\n",
    "# feature values: mean on columns\n",
    "df_study = filter_dataFrame_fillna(FeatureStudy_filtered_nullDropped)\n",
    "df_day = filter_dataFrame_fillna(FeatureDay_filtered_reshaped_nullDropped)"
   ]
  },
  {
   "cell_type": "code",
   "execution_count": 89,
   "metadata": {
    "collapsed": false
   },
   "outputs": [
    {
     "data": {
      "text/plain": [
       "(20, 1830)"
      ]
     },
     "execution_count": 89,
     "metadata": {},
     "output_type": "execute_result"
    },
    {
     "data": {
      "text/plain": [
       "0"
      ]
     },
     "execution_count": 89,
     "metadata": {},
     "output_type": "execute_result"
    },
    {
     "data": {
      "text/plain": [
       "(22, 64)"
      ]
     },
     "execution_count": 89,
     "metadata": {},
     "output_type": "execute_result"
    },
    {
     "data": {
      "text/plain": [
       "0"
      ]
     },
     "execution_count": 89,
     "metadata": {},
     "output_type": "execute_result"
    }
   ],
   "source": [
    "# check to make sure there is no null value left\n",
    "df_day.shape\n",
    "df_day.isnull().sum().sum()\n",
    "df_study.shape\n",
    "df_study.isnull().sum().sum()"
   ]
  },
  {
   "cell_type": "code",
   "execution_count": 90,
   "metadata": {
    "collapsed": false
   },
   "outputs": [
    {
     "data": {
      "text/plain": [
       "{'H800002', 'H800005', 'H800009', 'H800012', 'H800015'}"
      ]
     },
     "execution_count": 90,
     "metadata": {},
     "output_type": "execute_result"
    },
    {
     "data": {
      "text/plain": [
       "{'H800005', 'H800012', 'H800015'}"
      ]
     },
     "execution_count": 90,
     "metadata": {},
     "output_type": "execute_result"
    }
   ],
   "source": [
    "# removed patients\n",
    "set(patientIDs) - set(df_day['gls_subject_code'])\n",
    "set(patientIDs) - set(df_study['gls_subject_code'])"
   ]
  },
  {
   "cell_type": "code",
   "execution_count": 91,
   "metadata": {
    "collapsed": false
   },
   "outputs": [],
   "source": [
    "# data engineering: add binned-msfc3 scores to the dataset\n",
    "num_of_bins = 3\n",
    "minimum =  df_study['msfc_composite_3'].min()\n",
    "maximum = df_study['msfc_composite_3'].max()\n",
    "df_study['msfc_composite_3_bin'] = df_study['msfc_composite_3'].apply(bin_scores, args=(num_of_bins, minimum, maximum))\n",
    "\n",
    "num_of_bins = 3\n",
    "minimum =  df_day['msfc_composite_3'].min()\n",
    "maximum = df_day['msfc_composite_3'].max()\n",
    "df_day['msfc_composite_3_bin'] = df_day['msfc_composite_3'].apply(bin_scores, args=(num_of_bins, minimum, maximum))"
   ]
  },
  {
   "cell_type": "code",
   "execution_count": 92,
   "metadata": {
    "collapsed": false
   },
   "outputs": [],
   "source": [
    "# prepare x,y\n",
    "# df_study\n",
    "col_names_potential_targets = ['msfc_composite_1', 'msfc_composite_2', 'msfc_composite_3']\n",
    "remove_cols = col_names_potential_targets.append('gls_subject_code')\n",
    "# training data (X)\n",
    "x_study = df_study.drop(col_names_potential_targets,axis=1)\n",
    "# training data (Y)\n",
    "y_study = df_study['msfc_composite_3']"
   ]
  },
  {
   "cell_type": "code",
   "execution_count": 93,
   "metadata": {
    "collapsed": true
   },
   "outputs": [],
   "source": [
    "# prepare x,y\n",
    "# df_day\n",
    "col_names_potential_targets = ['msfc_composite_1', 'msfc_composite_2', 'msfc_composite_3']\n",
    "remove_cols = col_names_potential_targets.append('gls_subject_code')\n",
    "# training data (X)\n",
    "x_day = df_day.drop(col_names_potential_targets,axis=1)\n",
    "# training data (Y)\n",
    "y_day = df_day['msfc_composite_3']"
   ]
  },
  {
   "cell_type": "code",
   "execution_count": 94,
   "metadata": {
    "collapsed": false
   },
   "outputs": [],
   "source": [
    "# k-means clustering with PCA\n",
    "def K_means_with_PCA(x,y,bin_num,PC_num):\n",
    "    # normalize the data\n",
    "    x_normalized = (x - x.mean()) / (x.max() - x.min())\n",
    "    \n",
    "    # bin the traget\n",
    "    minimum =  y.min()\n",
    "    maximum = y.max()\n",
    "    y_binned = y.apply(bin_scores, args=(bin_num, minimum, maximum))\n",
    "    \n",
    "    # PCA transformation\n",
    "    from sklearn.decomposition import PCA\n",
    "    pca = PCA(n_components=PC_num)\n",
    "    pca.fit(x_normalized)\n",
    "    x_pca = pca.transform(x_normalized)\n",
    "    x_pca_df = pd.DataFrame(x_pca)\n",
    "    \n",
    "    # K-means clustering\n",
    "    from sklearn.cluster import KMeans\n",
    "    kMeans = KMeans(n_clusters=bin_num, random_state=101)\n",
    "    KM = kMeans.fit(x_pca_df)\n",
    "    predictions = KM.labels_\n",
    "    \n",
    "    # Compare the predicted labels with actual ones\n",
    "    fig, axes = plt.subplots(ncols=2,nrows=1,sharey=True,figsize=(10,5))\n",
    "    axes[0].scatter(x_pca_df[0], x_pca_df[1], c=y_binned, cmap='rainbow')\n",
    "    axes[0].set_title('original')\n",
    "    axes[1].scatter(x_pca_df[0], x_pca_df[1],c=predictions,cmap='rainbow')\n",
    "    axes[1].set_title('K Means')"
   ]
  },
  {
   "cell_type": "code",
   "execution_count": 95,
   "metadata": {
    "collapsed": false
   },
   "outputs": [
    {
     "data": {
      "text/plain": [
       "array([2])"
      ]
     },
     "execution_count": 95,
     "metadata": {},
     "output_type": "execute_result"
    }
   ],
   "source": [
    "np.arange(2,3)"
   ]
  },
  {
   "cell_type": "code",
   "execution_count": 96,
   "metadata": {
    "collapsed": false
   },
   "outputs": [
    {
     "data": {
      "image/png": "[encoded data removed]",
      "text/plain": [
       "<matplotlib.figure.Figure at 0x7f74171c0320>"
      ]
     },
     "metadata": {},
     "output_type": "display_data"
    },
    {
     "data": {
      "image/png": "[encoded data removed]",
      "text/plain": [
       "<matplotlib.figure.Figure at 0x7f74107f4ba8>"
      ]
     },
     "metadata": {},
     "output_type": "display_data"
    },
    {
     "data": {
      "image/png": "[encoded data removed]",
      "text/plain": [
       "<matplotlib.figure.Figure at 0x7f7410773a90>"
      ]
     },
     "metadata": {},
     "output_type": "display_data"
    },
    {
     "data": {
      "image/png": "[encoded data removed]",
      "text/plain": [
       "<matplotlib.figure.Figure at 0x7f74106d9550>"
      ]
     },
     "metadata": {},
     "output_type": "display_data"
    }
   ],
   "source": [
    "# FeatureStudy\n",
    "# PC_num = 2, make it possible to visualize the clusters\n",
    "# try different number of bins (clusters)\n",
    "for bin_num in np.arange(2,6):\n",
    "    K_means_with_PCA(x_study, y_study, bin_num, 2)\n",
    "    \n",
    "# results show with more than 3 levels for MSFC scores, the clustering does not work well."
   ]
  },
  {
   "cell_type": "code",
   "execution_count": 97,
   "metadata": {
    "collapsed": false
   },
   "outputs": [
    {
     "data": {
      "image/png": "[encoded data removed]",
      "text/plain": [
       "<matplotlib.figure.Figure at 0x7f740f0c5d30>"
      ]
     },
     "metadata": {},
     "output_type": "display_data"
    },
    {
     "data": {
      "image/png": "[encoded data removed]",
      "text/plain": [
       "<matplotlib.figure.Figure at 0x7f740f11f908>"
      ]
     },
     "metadata": {},
     "output_type": "display_data"
    },
    {
     "data": {
      "image/png": "[encoded data removed]",
      "text/plain": [
       "<matplotlib.figure.Figure at 0x7f7417910ac8>"
      ]
     },
     "metadata": {},
     "output_type": "display_data"
    },
    {
     "data": {
      "image/png": "[encoded data removed]",
      "text/plain": [
       "<matplotlib.figure.Figure at 0x7f741782d278>"
      ]
     },
     "metadata": {},
     "output_type": "display_data"
    }
   ],
   "source": [
    "# FeatureDay\n",
    "# PC_num = 2, make it possible to visualize the clusters\n",
    "# try different number of bins (clusters)\n",
    "for bin_num in np.arange(2,6):\n",
    "    K_means_with_PCA(x_day, y_day, bin_num, 2)"
   ]
  },
  {
   "cell_type": "code",
   "execution_count": 98,
   "metadata": {
    "collapsed": false
   },
   "outputs": [],
   "source": [
    "# k-means clustering with feature selection\n",
    "def K_means_with_feature_selection(x, y, bin_num, n_features_to_select, n_clusters):\n",
    "    # bin the traget\n",
    "    bin_num = bin_num\n",
    "    minimum =  y.min()\n",
    "    maximum = y.max()\n",
    "    y_binned = y.apply(bin_scores, args=(bin_num, minimum, maximum))\n",
    "\n",
    "    # Feature selectoin using wrapper methods\n",
    "    from sklearn.feature_selection import RFE, RFECV\n",
    "    from sklearn.ensemble import RandomForestClassifier\n",
    "    n_features_to_select = n_features_to_select\n",
    "    rf = RandomForestClassifier()\n",
    "    ref = RFE(rf, n_features_to_select=n_features_to_select)\n",
    "    fit = ref.fit(x, y_binned)\n",
    "\n",
    "    # check the selected features\n",
    "    selected_features = []\n",
    "    for idx in range(len(list(x.columns))):\n",
    "        if fit.support_[idx] == True:\n",
    "            selected_features.append(list(x.columns)[idx])\n",
    "\n",
    "    # k-means using the selected features\n",
    "    x = x[selected_features]\n",
    "\n",
    "    # normalize the data\n",
    "    x = (x - x.mean()) / (x.max() - x.min())\n",
    "\n",
    "    # K-means clustering\n",
    "    from sklearn.cluster import KMeans\n",
    "    n_clusters = n_clusters\n",
    "    kMeans = KMeans(n_clusters=n_clusters, random_state=101)\n",
    "    KM = kMeans.fit(x)\n",
    "    predictions = KM.labels_\n",
    "\n",
    "    # Compare the predicted labels with actual ones\n",
    "    f1 = selected_features[0]\n",
    "    f2 = selected_features[1]\n",
    "    fig, axes = plt.subplots(ncols=2,nrows=1,sharey=True,figsize=(10,5))\n",
    "    axes[0].scatter(x[f1], x[f2], c=y_binned, cmap='rainbow')\n",
    "    axes[0].set_title('original')\n",
    "    axes[0].set_xlabel(f1)\n",
    "    axes[0].set_ylabel(f2)\n",
    "\n",
    "    axes[1].scatter(x[f1], x[f2],c=predictions,cmap='rainbow')\n",
    "    axes[1].set_title('K Means')\n",
    "    axes[1].set_xlabel(f1)\n",
    "    axes[1].set_ylabel(f2)"
   ]
  },
  {
   "cell_type": "code",
   "execution_count": 99,
   "metadata": {
    "collapsed": false
   },
   "outputs": [
    {
     "data": {
      "image/png": "[encoded data removed]",
      "text/plain": [
       "<matplotlib.figure.Figure at 0x7f74cae90198>"
      ]
     },
     "metadata": {},
     "output_type": "display_data"
    }
   ],
   "source": [
    "# FeatureStudy\n",
    "# bin_num = 3\n",
    "# n_features_to_select = 2\n",
    "# n_clusters = 3\n",
    "K_means_with_feature_selection(x_study, y_study, 3, 2, 3)"
   ]
  },
  {
   "cell_type": "code",
   "execution_count": 100,
   "metadata": {
    "collapsed": false
   },
   "outputs": [
    {
     "data": {
      "image/png": "[encoded data removed]",
      "text/plain": [
       "<matplotlib.figure.Figure at 0x7f7417774550>"
      ]
     },
     "metadata": {},
     "output_type": "display_data"
    }
   ],
   "source": [
    "# FeatureDay\n",
    "# bin_num = 3\n",
    "# n_features_to_select = 2\n",
    "# n_clusters = 3\n",
    "K_means_with_feature_selection(x_day, y_day, 3, 2, 3)"
   ]
  },
  {
   "cell_type": "code",
   "execution_count": 101,
   "metadata": {
    "collapsed": true
   },
   "outputs": [],
   "source": [
    "# results show, FeatureDay does not work well with the clustering.\n",
    "# FeatureStudy results in better cluster predictions "
   ]
  },
  {
   "cell_type": "code",
   "execution_count": 102,
   "metadata": {
    "collapsed": true
   },
   "outputs": [],
   "source": [
    "# try different models for classification"
   ]
  },
  {
   "cell_type": "code",
   "execution_count": 103,
   "metadata": {
    "collapsed": true
   },
   "outputs": [],
   "source": [
    "# KNN, KFCV\n",
    "def KNN(x,y,bin_num,n_folds,n_neighbors):\n",
    "    # bin the traget\n",
    "    bin_num = bin_num\n",
    "    minimum =  y.min()\n",
    "    maximum = y.max()\n",
    "    y_binned = y.apply(bin_scores, args=(bin_num, minimum, maximum))\n",
    "    # scale the data \n",
    "    from sklearn.preprocessing import StandardScaler\n",
    "    StandardScaler =  StandardScaler()\n",
    "    StandardScaler.fit(x)\n",
    "    x_scaled = StandardScaler.transform(x)\n",
    "    x_scaled = pd.DataFrame(x_scaled,columns=list(x.columns))\n",
    "    # K=10 fold cross validation\n",
    "    from sklearn.neighbors import KNeighborsClassifier\n",
    "    from sklearn.metrics import classification_report,confusion_matrix,accuracy_score\n",
    "    from sklearn.cross_validation import KFold\n",
    "    kf = KFold(len(y_binned),n_folds=n_folds,random_state=101)\n",
    "    accuracy_scores = []\n",
    "    for train_index, test_index in kf:\n",
    "        x_train, x_test = x_scaled.iloc[train_index],x_scaled.iloc[test_index]\n",
    "        y_train, y_test = y_binned.iloc[train_index], y_binned.iloc[test_index]\n",
    "        # train the model\n",
    "        KNN = KNeighborsClassifier(n_neighbors=n_neighbors)\n",
    "        KNN.fit(x_train,y_train)\n",
    "        predictions = KNN.predict(x_test)\n",
    "        # evaluate the model\n",
    "        accuracy_scores.append(accuracy_score(y_test,predictions))\n",
    "        # print(classification_report(y_test,predictions))\n",
    "    return np.mean(accuracy_scores)"
   ]
  },
  {
   "cell_type": "code",
   "execution_count": 104,
   "metadata": {
    "collapsed": false,
    "scrolled": false
   },
   "outputs": [
    {
     "name": "stderr",
     "output_type": "stream",
     "text": [
      "/opt/python3/lib/python3.5/site-packages/sklearn/externals/joblib/parallel.py:72: VisibleDeprecationWarning: using a non-integer number instead of an integer will result in an error in the future\n",
      "  return [func(*args, **kwargs) for func, args, kwargs in self.items]\n"
     ]
    },
    {
     "name": "stdout",
     "output_type": "stream",
     "text": [
      "0.816666666667\n"
     ]
    },
    {
     "name": "stderr",
     "output_type": "stream",
     "text": [
      "/opt/python3/lib/python3.5/site-packages/sklearn/neighbors/base.py:378: VisibleDeprecationWarning: using a non-integer number instead of an integer will result in an error in the future\n",
      "  neigh_ind = neigh_ind[:, :n_neighbors]\n"
     ]
    },
    {
     "data": {
      "text/plain": [
       "[<matplotlib.lines.Line2D at 0x7f740f0d7ba8>]"
      ]
     },
     "execution_count": 104,
     "metadata": {},
     "output_type": "execute_result"
    },
    {
     "data": {
      "text/plain": [
       "(0, 1)"
      ]
     },
     "execution_count": 104,
     "metadata": {},
     "output_type": "execute_result"
    },
    {
     "data": {
      "text/plain": [
       "(1, 12.0)"
      ]
     },
     "execution_count": 104,
     "metadata": {},
     "output_type": "execute_result"
    },
    {
     "data": {
      "text/plain": [
       "<matplotlib.text.Text at 0x7f741069cc18>"
      ]
     },
     "execution_count": 104,
     "metadata": {},
     "output_type": "execute_result"
    },
    {
     "data": {
      "text/plain": [
       "<matplotlib.text.Text at 0x7f7410773da0>"
      ]
     },
     "execution_count": 104,
     "metadata": {},
     "output_type": "execute_result"
    },
    {
     "data": {
      "text/plain": [
       "<matplotlib.text.Text at 0x7f740f661c18>"
      ]
     },
     "execution_count": 104,
     "metadata": {},
     "output_type": "execute_result"
    },
    {
     "data": {
      "image/png": "[encoded data removed]",
      "text/plain": [
       "<matplotlib.figure.Figure at 0x7f7410711c18>"
      ]
     },
     "metadata": {},
     "output_type": "display_data"
    }
   ],
   "source": [
    "# FeatureStudy\n",
    "bin_num = 3\n",
    "n_folds = 10\n",
    "scores = []\n",
    "# try different number of neighbors in KNN\n",
    "for n_neighbors in np.arange(1,len(y_study)/2+1):\n",
    "    scores.append(KNN(x_study,y_study,bin_num,n_folds,n_neighbors))\n",
    "# maximum mean score\n",
    "print(np.max(scores))\n",
    "# plot the relation between change of number of neighbors and mean accuracy score\n",
    "plt.plot(np.arange(1,len(y_study)/2+1),scores,marker = 'o',ls='--')\n",
    "plt.ylim((0,1))\n",
    "plt.xlim((1,len(y_study)/2+1))\n",
    "plt.xlabel('number of neighbors')\n",
    "plt.ylabel('mean accuracy score')\n",
    "plt.title('KNN and change in number of neighbors')"
   ]
  },
  {
   "cell_type": "code",
   "execution_count": 105,
   "metadata": {
    "collapsed": false,
    "scrolled": false
   },
   "outputs": [
    {
     "name": "stderr",
     "output_type": "stream",
     "text": [
      "/opt/python3/lib/python3.5/site-packages/sklearn/externals/joblib/parallel.py:72: VisibleDeprecationWarning: using a non-integer number instead of an integer will result in an error in the future\n",
      "  return [func(*args, **kwargs) for func, args, kwargs in self.items]\n",
      "/opt/python3/lib/python3.5/site-packages/sklearn/neighbors/base.py:378: VisibleDeprecationWarning: using a non-integer number instead of an integer will result in an error in the future\n",
      "  neigh_ind = neigh_ind[:, :n_neighbors]\n"
     ]
    },
    {
     "name": "stdout",
     "output_type": "stream",
     "text": [
      "0.75\n"
     ]
    },
    {
     "data": {
      "text/plain": [
       "[<matplotlib.lines.Line2D at 0x7f74106e2588>]"
      ]
     },
     "execution_count": 105,
     "metadata": {},
     "output_type": "execute_result"
    },
    {
     "data": {
      "text/plain": [
       "<matplotlib.text.Text at 0x7f74107110b8>"
      ]
     },
     "execution_count": 105,
     "metadata": {},
     "output_type": "execute_result"
    },
    {
     "data": {
      "text/plain": [
       "<matplotlib.text.Text at 0x7f740f69d630>"
      ]
     },
     "execution_count": 105,
     "metadata": {},
     "output_type": "execute_result"
    },
    {
     "data": {
      "text/plain": [
       "<matplotlib.text.Text at 0x7f741080f2e8>"
      ]
     },
     "execution_count": 105,
     "metadata": {},
     "output_type": "execute_result"
    },
    {
     "data": {
      "text/plain": [
       "(0, 1)"
      ]
     },
     "execution_count": 105,
     "metadata": {},
     "output_type": "execute_result"
    },
    {
     "data": {
      "text/plain": [
       "(1, 11.0)"
      ]
     },
     "execution_count": 105,
     "metadata": {},
     "output_type": "execute_result"
    },
    {
     "data": {
      "image/png": "[encoded data removed]",
      "text/plain": [
       "<matplotlib.figure.Figure at 0x7f740f6d1c88>"
      ]
     },
     "metadata": {},
     "output_type": "display_data"
    }
   ],
   "source": [
    "# FeatureDay\n",
    "bin_num = 3\n",
    "n_folds = 10\n",
    "scores = []\n",
    "# try different number of neighbors in KNN\n",
    "for n_neighbors in np.arange(1,len(y_day)/2+1):\n",
    "    scores.append(KNN(x_day,y_day,bin_num,n_folds,n_neighbors))\n",
    "# maximum mean score\n",
    "print(np.max(scores))\n",
    "# plot the relation between change of number of neighbors and mean accuracy score\n",
    "plt.plot(np.arange(1,len(y_day)/2+1),scores,marker = 'o',ls='--')\n",
    "plt.xlabel('number of neighbors')\n",
    "plt.ylabel('mean accuracy score')\n",
    "plt.title('KNN and change in number of neighbors')\n",
    "plt.ylim((0,1))\n",
    "plt.xlim((1,len(y_day)/2+1))"
   ]
  },
  {
   "cell_type": "code",
   "execution_count": 106,
   "metadata": {
    "collapsed": true
   },
   "outputs": [],
   "source": [
    "# results: \n",
    "# FeatureStudy: MAS = 0.81, num_neighbors = 4\n",
    "# FeatureDay: MAS = 0.75, num_neighbors = 3"
   ]
  },
  {
   "cell_type": "code",
   "execution_count": 107,
   "metadata": {
    "collapsed": true
   },
   "outputs": [],
   "source": [
    "# SVM"
   ]
  },
  {
   "cell_type": "code",
   "execution_count": 108,
   "metadata": {
    "collapsed": true
   },
   "outputs": [],
   "source": [
    "# SVM, KFCV\n",
    "def SVM(x,y,bin_num,n_folds,kernel,c,gamma):\n",
    "    # bin the traget\n",
    "    bin_num = bin_num\n",
    "    minimum =  y.min()\n",
    "    maximum = y.max()\n",
    "    y_binned = y.apply(bin_scores, args=(bin_num, minimum, maximum))\n",
    "    # scale the data \n",
    "    from sklearn.preprocessing import StandardScaler\n",
    "    StandardScaler =  StandardScaler()\n",
    "    StandardScaler.fit(x)\n",
    "    x_scaled = StandardScaler.transform(x)\n",
    "    x_scaled = pd.DataFrame(x_scaled,columns=list(x.columns))\n",
    "    # K=10 fold cross validation\n",
    "    from sklearn.svm import SVC\n",
    "    from sklearn.metrics import classification_report,confusion_matrix,accuracy_score\n",
    "    from sklearn.cross_validation import KFold\n",
    "    kf = KFold(len(y_binned),n_folds=n_folds,random_state=101)\n",
    "    accuracy_scores = []\n",
    "    for train_index, test_index in kf:\n",
    "        x_train, x_test = x_scaled.iloc[train_index],x_scaled.iloc[test_index]\n",
    "        y_train, y_test = y_binned.iloc[train_index], y_binned.iloc[test_index]\n",
    "        # train the model\n",
    "        svm = SVC(kernel=kernel,C=c,gamma=gamma)\n",
    "        svm.fit(x_train,y_train)\n",
    "        predictions = svm.predict(x_test)\n",
    "        # evaluate the model\n",
    "        accuracy_scores.append(accuracy_score(y_test,predictions))\n",
    "        #print(classification_report(y_test,predictions))\n",
    "    return np.mean(accuracy_scores)"
   ]
  },
  {
   "cell_type": "code",
   "execution_count": 124,
   "metadata": {
    "collapsed": false,
    "scrolled": true
   },
   "outputs": [
    {
     "data": {
      "text/plain": [
       "0.78333333333333333"
      ]
     },
     "execution_count": 124,
     "metadata": {},
     "output_type": "execute_result"
    }
   ],
   "source": [
    "# FeatureStudy\n",
    "bin_num = 3\n",
    "n_folds = 10\n",
    "kernel = 'rbf'\n",
    "scores = []\n",
    "# do a grid search to pick the best c(regularization) and gamma(kernel coefficient) to train svm\n",
    "for c in np.linspace(0.1,2,10):\n",
    "    for gamma in np.linspace(0.001,1,100):\n",
    "        scores.append((SVM(x_study,y_study,bin_num,n_folds,kernel,c, gamma),c,gamma))\n",
    "        \n",
    "# maximum mean score\n",
    "accuracy = []\n",
    "for (score,c,gamma) in scores:\n",
    "    accuracy.append(score)\n",
    "np.max(accuracy)"
   ]
  },
  {
   "cell_type": "code",
   "execution_count": 125,
   "metadata": {
    "collapsed": false
   },
   "outputs": [
    {
     "data": {
      "text/plain": [
       "0.75"
      ]
     },
     "execution_count": 125,
     "metadata": {},
     "output_type": "execute_result"
    }
   ],
   "source": [
    "# FeatureDay\n",
    "bin_num = 3\n",
    "n_folds = 10\n",
    "kernel = 'rbf'\n",
    "scores = []\n",
    "# do a grid search to pick the best c(regularization) and gamma(kernel coefficient) to train svm\n",
    "for c in np.linspace(0.1,2,10):\n",
    "    for gamma in np.linspace(0.001,1,100):\n",
    "        scores.append((SVM(x_day,y_day,bin_num,n_folds,kernel,c, gamma),c,gamma))\n",
    "\n",
    "# maximum mean score\n",
    "accuracy = []\n",
    "for (score,c,gamma) in scores:\n",
    "    accuracy.append(score)\n",
    "np.max(accuracy)"
   ]
  },
  {
   "cell_type": "code",
   "execution_count": null,
   "metadata": {
    "collapsed": true
   },
   "outputs": [],
   "source": []
  }
 ],
 "metadata": {
  "kernelspec": {
   "display_name": "Python 3",
   "language": "python",
   "name": "python3"
  },
  "language_info": {
   "codemirror_mode": {
    "name": "ipython",
    "version": 3
   },
   "file_extension": ".py",
   "mimetype": "text/x-python",
   "name": "python",
   "nbconvert_exporter": "python",
   "pygments_lexer": "ipython3",
   "version": "3.6.3"
  }
 },
 "nbformat": 4,
 "nbformat_minor": 0
}
