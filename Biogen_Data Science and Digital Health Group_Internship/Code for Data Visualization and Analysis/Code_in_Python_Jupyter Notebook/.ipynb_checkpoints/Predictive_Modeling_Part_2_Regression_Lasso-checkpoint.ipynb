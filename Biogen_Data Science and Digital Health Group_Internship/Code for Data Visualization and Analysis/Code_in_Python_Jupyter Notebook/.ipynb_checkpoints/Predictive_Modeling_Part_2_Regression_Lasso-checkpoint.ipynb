{
 "cells": [
  {
   "cell_type": "code",
   "execution_count": null,
   "metadata": {
    "collapsed": true
   },
   "outputs": [],
   "source": [
    "# Purpose of the code:\n",
    "    # Create a regression model to predict MSFC scores/change in scores\n",
    "        # Model: Lasso\n",
    "        # Validation: 10-fold cross validation"
   ]
  },
  {
   "cell_type": "code",
   "execution_count": 134,
   "metadata": {
    "collapsed": true
   },
   "outputs": [],
   "source": [
    "# necessary imports\n",
    "import pandas as pd\n",
    "import numpy as np\n",
    "import seaborn as sns\n",
    "import matplotlib.pyplot as plt\n",
    "%matplotlib inline\n",
    "from IPython.core.interactiveshell import InteractiveShell\n",
    "InteractiveShell.ast_node_interactivity = \"all\""
   ]
  },
  {
   "cell_type": "code",
   "execution_count": 135,
   "metadata": {
    "collapsed": false
   },
   "outputs": [
    {
     "name": "stdout",
     "output_type": "stream",
     "text": [
      "/camdatalake/bronze/verily_ms/device\n"
     ]
    }
   ],
   "source": [
    "# switch to the proper directory to access the data\n",
    "cd /camdatalake/bronze/verily_ms/device/"
   ]
  },
  {
   "cell_type": "code",
   "execution_count": 136,
   "metadata": {
    "collapsed": true
   },
   "outputs": [],
   "source": [
    "# download and read the data\n",
    "\n",
    "# FeatureDay: Average value of the features for each day of study. Days are listed as \n",
    "# DayOfStudy\n",
    "\n",
    "# FeatureStudy: Features for the entire study period.For the at home features, \n",
    "# the reported value is the median of the observed day level values.\n",
    "\n",
    "import gzip, csv\n",
    "with gzip.open(\"FeaturesDay.csv.gz\", \"rt\", newline=\"\") as file:\n",
    "    FeatureDay = pd.read_csv(file, header = 0)\n",
    "\n",
    "with gzip.open(\"FeaturesStudy.csv.gz\", \"rt\", newline=\"\") as file:\n",
    "    FeatureStudy = pd.read_csv(file, header = 0)"
   ]
  },
  {
   "cell_type": "code",
   "execution_count": 137,
   "metadata": {
    "collapsed": false
   },
   "outputs": [
    {
     "data": {
      "text/plain": [
       "(1532, 217)"
      ]
     },
     "execution_count": 137,
     "metadata": {},
     "output_type": "execute_result"
    }
   ],
   "source": [
    "# explore the datasets\n",
    "FeatureDay.shape"
   ]
  },
  {
   "cell_type": "code",
   "execution_count": 138,
   "metadata": {
    "collapsed": false
   },
   "outputs": [
    {
     "data": {
      "text/plain": [
       "(25, 216)"
      ]
     },
     "execution_count": 138,
     "metadata": {},
     "output_type": "execute_result"
    }
   ],
   "source": [
    "FeatureStudy.shape"
   ]
  },
  {
   "cell_type": "code",
   "execution_count": 139,
   "metadata": {
    "collapsed": true
   },
   "outputs": [],
   "source": [
    "def filter_dataFrame(df):\n",
    "    # a function to return sensor related features in the original dataframe (df)\n",
    "    Selected_features = []\n",
    "    df_columns_names = list(df.columns)\n",
    "    # patient ID(1 column)\n",
    "    Selected_features.append('gls_subject_code')\n",
    "    # related to msfc_composite(3 columns)\n",
    "    df_columns_MSFC_col_names = []\n",
    "    for name in df_columns_names:\n",
    "        name_lowercase = name.lower()\n",
    "        if 'msfc_composite' in name_lowercase:\n",
    "            df_columns_MSFC_col_names.append(name)\n",
    "    # structred activities at home(40 columns)\n",
    "    df_at_home_col_names = []\n",
    "    for name in df_columns_names:\n",
    "        name_lower = name.lower()\n",
    "        if 'home' in name_lower:\n",
    "            df_at_home_col_names.append(name)\n",
    "    # free living features(20 columns)\n",
    "    # extracted before in Data_Visualization_Part_1_FeatureStudy_Correlation_of_Sensor_Features_to_MSFC.py, and saved\n",
    "    df_free_living_related = pd.read_csv('FeatureStudy_free_living_related')\n",
    "    df_free_living_col_names = list(df_free_living_related.columns)\n",
    "    # add everything to Selected_features list\n",
    "    Selected_features += list(df_free_living_related.columns)\n",
    "    Selected_features += df_at_home_col_names\n",
    "    Selected_features += df_columns_MSFC_col_names\n",
    "    # return filtered df with selected features\n",
    "    return df[Selected_features]"
   ]
  },
  {
   "cell_type": "code",
   "execution_count": 140,
   "metadata": {
    "collapsed": true
   },
   "outputs": [],
   "source": [
    "def filter_dataFrame_fillna(df):\n",
    "    # a function to fill null values in the input dataframe (df)\n",
    "    df_columns_names = list(df.columns)\n",
    "    # patient ID(1 column)\n",
    "    df_columns_patientID_col_names =['gls_subject_code']\n",
    "    df_patientID= df[df_columns_patientID_col_names]\n",
    "    # related to msfc_composite(3 columns)\n",
    "    df_columns_MSFC_col_names = []\n",
    "    for name in df_columns_names:\n",
    "        name_lowercase = name.lower()\n",
    "        if 'msfc_composite' in name_lowercase:\n",
    "            df_columns_MSFC_col_names.append(name)\n",
    "    df_msfcComposite = df[df_columns_MSFC_col_names]\n",
    "    # structred activities at home(40 columns)\n",
    "    df_at_home_col_names = []\n",
    "    for name in df_columns_names:\n",
    "        name_lower = name.lower()\n",
    "        if 'home' in name_lower:\n",
    "            df_at_home_col_names.append(name)\n",
    "    df_structuredActivity_atHome = df[df_at_home_col_names]\n",
    "    # free living features(20 columns)\n",
    "    df_all_except_freeLiving_col_names = df_columns_patientID_col_names + df_columns_MSFC_col_names + df_at_home_col_names\n",
    "    df_free_living_col_names = list(set(df_columns_names) - set(df_all_except_freeLiving_col_names))\n",
    "    df_freeLiving = df[df_free_living_col_names]\n",
    "    \n",
    "    # fill null values by row for df_msfcComposite\n",
    "    for idx in range(len(df_msfcComposite.index)):\n",
    "        df_msfcComposite.iloc[idx].fillna(df_msfcComposite.iloc[idx].mean(), inplace = True)\n",
    "    # fill null values by column for df_structuredActivity_atHome\n",
    "    for col_name in list(df_structuredActivity_atHome.columns):\n",
    "        df_structuredActivity_atHome[col_name].fillna(df_structuredActivity_atHome[col_name].mean(),inplace= True)\n",
    "    # fill null values by column for df_freeLiving\n",
    "    for col_name in list(df_freeLiving.columns):\n",
    "        df_freeLiving[col_name].fillna(df_freeLiving[col_name].mean(),inplace= True)\n",
    "    \n",
    "    # return filtered dataframe with selected features\n",
    "    return pd.concat([df_patientID,df_freeLiving,df_structuredActivity_atHome,df_msfcComposite],axis=1)"
   ]
  },
  {
   "cell_type": "code",
   "execution_count": 141,
   "metadata": {
    "collapsed": false
   },
   "outputs": [],
   "source": [
    "def remove_rows_with_null(df,TH):\n",
    "    # remove rows with in df with more than TH% of value points missing\n",
    "    indexes = []\n",
    "    count_null = df.isnull().sum(axis=1)\n",
    "    for idx in range(len(count_null)):\n",
    "        if count_null[idx] > TH:\n",
    "            indexes.append(idx)\n",
    "    df_filtered = df.drop(indexes)\n",
    "    # return the updated dataframe\n",
    "    return df_filtered.reset_index(drop=True)"
   ]
  },
  {
   "cell_type": "code",
   "execution_count": 142,
   "metadata": {
    "collapsed": true
   },
   "outputs": [],
   "source": [
    "def remove_columns_with_null(df,TH):\n",
    "    # remove columns with more than TH% of value points missing\n",
    "    indexes = []\n",
    "    count_null = df.isnull().sum()\n",
    "    col_labels = list(count_null.index)\n",
    "    for idx in range(len(count_null)):\n",
    "        if count_null[idx] > TH:\n",
    "            indexes.append(col_labels[idx])\n",
    "    df_filtered = df.drop(indexes, axis=1)\n",
    "    # return the updated dataframe\n",
    "    return df_filtered.reset_index(drop=True)"
   ]
  },
  {
   "cell_type": "code",
   "execution_count": 143,
   "metadata": {
    "collapsed": true
   },
   "outputs": [],
   "source": [
    "def bin_scores(val,num_of_bins, minimum, maximum):\n",
    "     # a function to bin the scores\n",
    "    # input: \n",
    "        # val: input value to bin\n",
    "        # num_of_bins: desired number of bins\n",
    "        # minimum & maximum: specify the range of values\n",
    "    # output:\n",
    "        # binned value\n",
    "    step = (maximum - minimum)/num_of_bins\n",
    "    curr_val = minimum\n",
    "    level = 1\n",
    "    while(curr_val < maximum):\n",
    "        curr_val += step\n",
    "        if val <= curr_val:\n",
    "            return level\n",
    "        else:\n",
    "            level += 1"
   ]
  },
  {
   "cell_type": "code",
   "execution_count": 144,
   "metadata": {
    "collapsed": false
   },
   "outputs": [],
   "source": [
    "# extract part of the original dataset which is related to sensor measurements\n",
    "FeatureStudy_filtered = filter_dataFrame(FeatureStudy)\n",
    "FeatureDay_filtered = filter_dataFrame(FeatureDay)"
   ]
  },
  {
   "cell_type": "code",
   "execution_count": 145,
   "metadata": {
    "collapsed": true
   },
   "outputs": [],
   "source": [
    "#######################################################RESHAPE FEATURESDAY#########################################"
   ]
  },
  {
   "cell_type": "code",
   "execution_count": null,
   "metadata": {
    "collapsed": true
   },
   "outputs": [],
   "source": [
    "# to consider the time component, we take pair of (feature_value, day_of_study) as a new feature"
   ]
  },
  {
   "cell_type": "code",
   "execution_count": 146,
   "metadata": {
    "collapsed": false
   },
   "outputs": [
    {
     "data": {
      "text/html": [
       "<div>\n",
       "<table border=\"1\" class=\"dataframe\">\n",
       "  <thead>\n",
       "    <tr style=\"text-align: right;\">\n",
       "      <th></th>\n",
       "      <th>gls_subject_code</th>\n",
       "      <th>turn_vel_std</th>\n",
       "      <th>turn_vel_mean_ankle</th>\n",
       "      <th>movement_rate</th>\n",
       "      <th>turn_vel_mean</th>\n",
       "      <th>turn_vel_std_ankle</th>\n",
       "      <th>turn_duration</th>\n",
       "      <th>turn_angle</th>\n",
       "      <th>walk_minutes</th>\n",
       "      <th>swing</th>\n",
       "      <th>...</th>\n",
       "      <th>hrv_sdnn_at_home</th>\n",
       "      <th>hourly_temp_median_at_home</th>\n",
       "      <th>hourly_temp_std_at_home</th>\n",
       "      <th>hourly_temp_range_at_home</th>\n",
       "      <th>hourly_amb_temp_median_at_home</th>\n",
       "      <th>hourly_amb_temp_std_at_home</th>\n",
       "      <th>hourly_amb_temp_range_at_home</th>\n",
       "      <th>msfc_composite_1</th>\n",
       "      <th>msfc_composite_2</th>\n",
       "      <th>msfc_composite_3</th>\n",
       "    </tr>\n",
       "  </thead>\n",
       "  <tbody>\n",
       "    <tr>\n",
       "      <th>0</th>\n",
       "      <td>H800001</td>\n",
       "      <td>22.174349</td>\n",
       "      <td>48.212574</td>\n",
       "      <td>6.701800</td>\n",
       "      <td>57.883232</td>\n",
       "      <td>60.263901</td>\n",
       "      <td>0.42</td>\n",
       "      <td>23.911008</td>\n",
       "      <td>149.375000</td>\n",
       "      <td>0.427722</td>\n",
       "      <td>...</td>\n",
       "      <td>NaN</td>\n",
       "      <td>32.70</td>\n",
       "      <td>0.760989</td>\n",
       "      <td>1.905</td>\n",
       "      <td>30.7575</td>\n",
       "      <td>4.330252</td>\n",
       "      <td>11.7550</td>\n",
       "      <td>-1.211435</td>\n",
       "      <td>-1.385647</td>\n",
       "      <td>-1.40763</td>\n",
       "    </tr>\n",
       "    <tr>\n",
       "      <th>1</th>\n",
       "      <td>H800001</td>\n",
       "      <td>19.335984</td>\n",
       "      <td>40.692564</td>\n",
       "      <td>5.241188</td>\n",
       "      <td>56.845986</td>\n",
       "      <td>62.676670</td>\n",
       "      <td>0.38</td>\n",
       "      <td>21.143974</td>\n",
       "      <td>245.125000</td>\n",
       "      <td>0.392413</td>\n",
       "      <td>...</td>\n",
       "      <td>14.108786</td>\n",
       "      <td>32.85</td>\n",
       "      <td>0.532629</td>\n",
       "      <td>1.350</td>\n",
       "      <td>29.5875</td>\n",
       "      <td>6.815948</td>\n",
       "      <td>15.8120</td>\n",
       "      <td>-1.211435</td>\n",
       "      <td>-1.385647</td>\n",
       "      <td>-1.40763</td>\n",
       "    </tr>\n",
       "    <tr>\n",
       "      <th>2</th>\n",
       "      <td>H800001</td>\n",
       "      <td>17.776043</td>\n",
       "      <td>47.155710</td>\n",
       "      <td>NaN</td>\n",
       "      <td>61.391091</td>\n",
       "      <td>60.985627</td>\n",
       "      <td>0.44</td>\n",
       "      <td>25.782601</td>\n",
       "      <td>182.166667</td>\n",
       "      <td>0.424840</td>\n",
       "      <td>...</td>\n",
       "      <td>15.028955</td>\n",
       "      <td>31.60</td>\n",
       "      <td>0.717705</td>\n",
       "      <td>1.800</td>\n",
       "      <td>30.2200</td>\n",
       "      <td>3.545528</td>\n",
       "      <td>7.3300</td>\n",
       "      <td>-1.211435</td>\n",
       "      <td>-1.385647</td>\n",
       "      <td>-1.40763</td>\n",
       "    </tr>\n",
       "    <tr>\n",
       "      <th>3</th>\n",
       "      <td>H800001</td>\n",
       "      <td>15.764536</td>\n",
       "      <td>46.102694</td>\n",
       "      <td>NaN</td>\n",
       "      <td>61.178408</td>\n",
       "      <td>59.345718</td>\n",
       "      <td>0.38</td>\n",
       "      <td>23.391290</td>\n",
       "      <td>99.208333</td>\n",
       "      <td>0.424863</td>\n",
       "      <td>...</td>\n",
       "      <td>NaN</td>\n",
       "      <td>30.75</td>\n",
       "      <td>1.689474</td>\n",
       "      <td>5.550</td>\n",
       "      <td>27.3600</td>\n",
       "      <td>4.984148</td>\n",
       "      <td>13.5820</td>\n",
       "      <td>-1.211435</td>\n",
       "      <td>-1.385647</td>\n",
       "      <td>-1.40763</td>\n",
       "    </tr>\n",
       "    <tr>\n",
       "      <th>4</th>\n",
       "      <td>H800001</td>\n",
       "      <td>15.250615</td>\n",
       "      <td>43.762170</td>\n",
       "      <td>NaN</td>\n",
       "      <td>61.247844</td>\n",
       "      <td>57.424167</td>\n",
       "      <td>0.40</td>\n",
       "      <td>24.056450</td>\n",
       "      <td>136.333333</td>\n",
       "      <td>0.441570</td>\n",
       "      <td>...</td>\n",
       "      <td>NaN</td>\n",
       "      <td>30.65</td>\n",
       "      <td>0.830880</td>\n",
       "      <td>2.205</td>\n",
       "      <td>30.6825</td>\n",
       "      <td>4.699070</td>\n",
       "      <td>13.8555</td>\n",
       "      <td>-1.211435</td>\n",
       "      <td>-1.385647</td>\n",
       "      <td>-1.40763</td>\n",
       "    </tr>\n",
       "  </tbody>\n",
       "</table>\n",
       "<p>5 rows × 64 columns</p>\n",
       "</div>"
      ],
      "text/plain": [
       "  gls_subject_code  turn_vel_std  turn_vel_mean_ankle  movement_rate  \\\n",
       "0          H800001     22.174349            48.212574       6.701800   \n",
       "1          H800001     19.335984            40.692564       5.241188   \n",
       "2          H800001     17.776043            47.155710            NaN   \n",
       "3          H800001     15.764536            46.102694            NaN   \n",
       "4          H800001     15.250615            43.762170            NaN   \n",
       "\n",
       "   turn_vel_mean  turn_vel_std_ankle  turn_duration  turn_angle  walk_minutes  \\\n",
       "0      57.883232           60.263901           0.42   23.911008    149.375000   \n",
       "1      56.845986           62.676670           0.38   21.143974    245.125000   \n",
       "2      61.391091           60.985627           0.44   25.782601    182.166667   \n",
       "3      61.178408           59.345718           0.38   23.391290     99.208333   \n",
       "4      61.247844           57.424167           0.40   24.056450    136.333333   \n",
       "\n",
       "      swing        ...         hrv_sdnn_at_home  hourly_temp_median_at_home  \\\n",
       "0  0.427722        ...                      NaN                       32.70   \n",
       "1  0.392413        ...                14.108786                       32.85   \n",
       "2  0.424840        ...                15.028955                       31.60   \n",
       "3  0.424863        ...                      NaN                       30.75   \n",
       "4  0.441570        ...                      NaN                       30.65   \n",
       "\n",
       "   hourly_temp_std_at_home  hourly_temp_range_at_home  \\\n",
       "0                 0.760989                      1.905   \n",
       "1                 0.532629                      1.350   \n",
       "2                 0.717705                      1.800   \n",
       "3                 1.689474                      5.550   \n",
       "4                 0.830880                      2.205   \n",
       "\n",
       "   hourly_amb_temp_median_at_home  hourly_amb_temp_std_at_home  \\\n",
       "0                         30.7575                     4.330252   \n",
       "1                         29.5875                     6.815948   \n",
       "2                         30.2200                     3.545528   \n",
       "3                         27.3600                     4.984148   \n",
       "4                         30.6825                     4.699070   \n",
       "\n",
       "   hourly_amb_temp_range_at_home  msfc_composite_1  msfc_composite_2  \\\n",
       "0                        11.7550         -1.211435         -1.385647   \n",
       "1                        15.8120         -1.211435         -1.385647   \n",
       "2                         7.3300         -1.211435         -1.385647   \n",
       "3                        13.5820         -1.211435         -1.385647   \n",
       "4                        13.8555         -1.211435         -1.385647   \n",
       "\n",
       "   msfc_composite_3  \n",
       "0          -1.40763  \n",
       "1          -1.40763  \n",
       "2          -1.40763  \n",
       "3          -1.40763  \n",
       "4          -1.40763  \n",
       "\n",
       "[5 rows x 64 columns]"
      ]
     },
     "execution_count": 146,
     "metadata": {},
     "output_type": "execute_result"
    }
   ],
   "source": [
    "# check the original dataset\n",
    "FeatureDay_filtered.head()"
   ]
  },
  {
   "cell_type": "code",
   "execution_count": 147,
   "metadata": {
    "collapsed": false
   },
   "outputs": [
    {
     "data": {
      "text/html": [
       "<div>\n",
       "<table border=\"1\" class=\"dataframe\">\n",
       "  <thead>\n",
       "    <tr style=\"text-align: right;\">\n",
       "      <th></th>\n",
       "      <th>gls_subject_code</th>\n",
       "      <th>turn_vel_std</th>\n",
       "      <th>turn_vel_mean_ankle</th>\n",
       "      <th>movement_rate</th>\n",
       "      <th>turn_vel_mean</th>\n",
       "      <th>turn_vel_std_ankle</th>\n",
       "      <th>turn_duration</th>\n",
       "      <th>turn_angle</th>\n",
       "      <th>walk_minutes</th>\n",
       "      <th>swing</th>\n",
       "      <th>...</th>\n",
       "      <th>sway_disp_lr_at_home</th>\n",
       "      <th>sway_disp_ap_at_home</th>\n",
       "      <th>mobility_activity_at_home_time</th>\n",
       "      <th>hrv_sdnn_at_home</th>\n",
       "      <th>hourly_temp_median_at_home</th>\n",
       "      <th>hourly_temp_std_at_home</th>\n",
       "      <th>hourly_temp_range_at_home</th>\n",
       "      <th>hourly_amb_temp_median_at_home</th>\n",
       "      <th>hourly_amb_temp_std_at_home</th>\n",
       "      <th>hourly_amb_temp_range_at_home</th>\n",
       "    </tr>\n",
       "  </thead>\n",
       "  <tbody>\n",
       "    <tr>\n",
       "      <th>0</th>\n",
       "      <td>H800001</td>\n",
       "      <td>22.174349</td>\n",
       "      <td>48.212574</td>\n",
       "      <td>6.701800</td>\n",
       "      <td>57.883232</td>\n",
       "      <td>60.263901</td>\n",
       "      <td>0.42</td>\n",
       "      <td>23.911008</td>\n",
       "      <td>149.375000</td>\n",
       "      <td>0.427722</td>\n",
       "      <td>...</td>\n",
       "      <td>424.878675</td>\n",
       "      <td>288.195255</td>\n",
       "      <td>66170.0</td>\n",
       "      <td>NaN</td>\n",
       "      <td>32.70</td>\n",
       "      <td>0.760989</td>\n",
       "      <td>1.905</td>\n",
       "      <td>30.7575</td>\n",
       "      <td>4.330252</td>\n",
       "      <td>11.7550</td>\n",
       "    </tr>\n",
       "    <tr>\n",
       "      <th>1</th>\n",
       "      <td>H800001</td>\n",
       "      <td>19.335984</td>\n",
       "      <td>40.692564</td>\n",
       "      <td>5.241188</td>\n",
       "      <td>56.845986</td>\n",
       "      <td>62.676670</td>\n",
       "      <td>0.38</td>\n",
       "      <td>21.143974</td>\n",
       "      <td>245.125000</td>\n",
       "      <td>0.392413</td>\n",
       "      <td>...</td>\n",
       "      <td>460.529853</td>\n",
       "      <td>251.594150</td>\n",
       "      <td>NaN</td>\n",
       "      <td>14.108786</td>\n",
       "      <td>32.85</td>\n",
       "      <td>0.532629</td>\n",
       "      <td>1.350</td>\n",
       "      <td>29.5875</td>\n",
       "      <td>6.815948</td>\n",
       "      <td>15.8120</td>\n",
       "    </tr>\n",
       "    <tr>\n",
       "      <th>2</th>\n",
       "      <td>H800001</td>\n",
       "      <td>17.776043</td>\n",
       "      <td>47.155710</td>\n",
       "      <td>NaN</td>\n",
       "      <td>61.391091</td>\n",
       "      <td>60.985627</td>\n",
       "      <td>0.44</td>\n",
       "      <td>25.782601</td>\n",
       "      <td>182.166667</td>\n",
       "      <td>0.424840</td>\n",
       "      <td>...</td>\n",
       "      <td>371.773641</td>\n",
       "      <td>301.790876</td>\n",
       "      <td>27070.0</td>\n",
       "      <td>15.028955</td>\n",
       "      <td>31.60</td>\n",
       "      <td>0.717705</td>\n",
       "      <td>1.800</td>\n",
       "      <td>30.2200</td>\n",
       "      <td>3.545528</td>\n",
       "      <td>7.3300</td>\n",
       "    </tr>\n",
       "    <tr>\n",
       "      <th>3</th>\n",
       "      <td>H800001</td>\n",
       "      <td>15.764536</td>\n",
       "      <td>46.102694</td>\n",
       "      <td>NaN</td>\n",
       "      <td>61.178408</td>\n",
       "      <td>59.345718</td>\n",
       "      <td>0.38</td>\n",
       "      <td>23.391290</td>\n",
       "      <td>99.208333</td>\n",
       "      <td>0.424863</td>\n",
       "      <td>...</td>\n",
       "      <td>408.234556</td>\n",
       "      <td>262.974920</td>\n",
       "      <td>30230.0</td>\n",
       "      <td>NaN</td>\n",
       "      <td>30.75</td>\n",
       "      <td>1.689474</td>\n",
       "      <td>5.550</td>\n",
       "      <td>27.3600</td>\n",
       "      <td>4.984148</td>\n",
       "      <td>13.5820</td>\n",
       "    </tr>\n",
       "    <tr>\n",
       "      <th>4</th>\n",
       "      <td>H800001</td>\n",
       "      <td>15.250615</td>\n",
       "      <td>43.762170</td>\n",
       "      <td>NaN</td>\n",
       "      <td>61.247844</td>\n",
       "      <td>57.424167</td>\n",
       "      <td>0.40</td>\n",
       "      <td>24.056450</td>\n",
       "      <td>136.333333</td>\n",
       "      <td>0.441570</td>\n",
       "      <td>...</td>\n",
       "      <td>380.493350</td>\n",
       "      <td>282.825979</td>\n",
       "      <td>29875.0</td>\n",
       "      <td>NaN</td>\n",
       "      <td>30.65</td>\n",
       "      <td>0.830880</td>\n",
       "      <td>2.205</td>\n",
       "      <td>30.6825</td>\n",
       "      <td>4.699070</td>\n",
       "      <td>13.8555</td>\n",
       "    </tr>\n",
       "  </tbody>\n",
       "</table>\n",
       "<p>5 rows × 61 columns</p>\n",
       "</div>"
      ],
      "text/plain": [
       "  gls_subject_code  turn_vel_std  turn_vel_mean_ankle  movement_rate  \\\n",
       "0          H800001     22.174349            48.212574       6.701800   \n",
       "1          H800001     19.335984            40.692564       5.241188   \n",
       "2          H800001     17.776043            47.155710            NaN   \n",
       "3          H800001     15.764536            46.102694            NaN   \n",
       "4          H800001     15.250615            43.762170            NaN   \n",
       "\n",
       "   turn_vel_mean  turn_vel_std_ankle  turn_duration  turn_angle  walk_minutes  \\\n",
       "0      57.883232           60.263901           0.42   23.911008    149.375000   \n",
       "1      56.845986           62.676670           0.38   21.143974    245.125000   \n",
       "2      61.391091           60.985627           0.44   25.782601    182.166667   \n",
       "3      61.178408           59.345718           0.38   23.391290     99.208333   \n",
       "4      61.247844           57.424167           0.40   24.056450    136.333333   \n",
       "\n",
       "      swing              ...                sway_disp_lr_at_home  \\\n",
       "0  0.427722              ...                          424.878675   \n",
       "1  0.392413              ...                          460.529853   \n",
       "2  0.424840              ...                          371.773641   \n",
       "3  0.424863              ...                          408.234556   \n",
       "4  0.441570              ...                          380.493350   \n",
       "\n",
       "   sway_disp_ap_at_home  mobility_activity_at_home_time  hrv_sdnn_at_home  \\\n",
       "0            288.195255                         66170.0               NaN   \n",
       "1            251.594150                             NaN         14.108786   \n",
       "2            301.790876                         27070.0         15.028955   \n",
       "3            262.974920                         30230.0               NaN   \n",
       "4            282.825979                         29875.0               NaN   \n",
       "\n",
       "   hourly_temp_median_at_home  hourly_temp_std_at_home  \\\n",
       "0                       32.70                 0.760989   \n",
       "1                       32.85                 0.532629   \n",
       "2                       31.60                 0.717705   \n",
       "3                       30.75                 1.689474   \n",
       "4                       30.65                 0.830880   \n",
       "\n",
       "   hourly_temp_range_at_home  hourly_amb_temp_median_at_home  \\\n",
       "0                      1.905                         30.7575   \n",
       "1                      1.350                         29.5875   \n",
       "2                      1.800                         30.2200   \n",
       "3                      5.550                         27.3600   \n",
       "4                      2.205                         30.6825   \n",
       "\n",
       "   hourly_amb_temp_std_at_home  hourly_amb_temp_range_at_home  \n",
       "0                     4.330252                        11.7550  \n",
       "1                     6.815948                        15.8120  \n",
       "2                     3.545528                         7.3300  \n",
       "3                     4.984148                        13.5820  \n",
       "4                     4.699070                        13.8555  \n",
       "\n",
       "[5 rows x 61 columns]"
      ]
     },
     "execution_count": 147,
     "metadata": {},
     "output_type": "execute_result"
    },
    {
     "data": {
      "text/plain": [
       "(1532, 61)"
      ]
     },
     "execution_count": 147,
     "metadata": {},
     "output_type": "execute_result"
    }
   ],
   "source": [
    "# drop composite scores, we do not have any varoius values for them over days\n",
    "FeatureDay_filtered_device_features = FeatureDay_filtered.drop(['msfc_composite_1','msfc_composite_2','msfc_composite_3'],axis=1)\n",
    "FeatureDay_filtered_device_features.head()\n",
    "FeatureDay_filtered_device_features.shape"
   ]
  },
  {
   "cell_type": "code",
   "execution_count": 148,
   "metadata": {
    "collapsed": false
   },
   "outputs": [
    {
     "data": {
      "text/html": [
       "<div>\n",
       "<table border=\"1\" class=\"dataframe\">\n",
       "  <thead>\n",
       "    <tr style=\"text-align: right;\">\n",
       "      <th></th>\n",
       "      <th>gls_subject_code</th>\n",
       "      <th>turn_vel_std</th>\n",
       "      <th>turn_vel_mean_ankle</th>\n",
       "      <th>movement_rate</th>\n",
       "      <th>turn_vel_mean</th>\n",
       "      <th>turn_vel_std_ankle</th>\n",
       "      <th>turn_duration</th>\n",
       "      <th>turn_angle</th>\n",
       "      <th>walk_minutes</th>\n",
       "      <th>swing</th>\n",
       "      <th>...</th>\n",
       "      <th>sway_disp_ap_at_home</th>\n",
       "      <th>mobility_activity_at_home_time</th>\n",
       "      <th>hrv_sdnn_at_home</th>\n",
       "      <th>hourly_temp_median_at_home</th>\n",
       "      <th>hourly_temp_std_at_home</th>\n",
       "      <th>hourly_temp_range_at_home</th>\n",
       "      <th>hourly_amb_temp_median_at_home</th>\n",
       "      <th>hourly_amb_temp_std_at_home</th>\n",
       "      <th>hourly_amb_temp_range_at_home</th>\n",
       "      <th>dayofstudy</th>\n",
       "    </tr>\n",
       "  </thead>\n",
       "  <tbody>\n",
       "    <tr>\n",
       "      <th>0</th>\n",
       "      <td>H800001</td>\n",
       "      <td>22.174349</td>\n",
       "      <td>48.212574</td>\n",
       "      <td>6.701800</td>\n",
       "      <td>57.883232</td>\n",
       "      <td>60.263901</td>\n",
       "      <td>0.42</td>\n",
       "      <td>23.911008</td>\n",
       "      <td>149.375000</td>\n",
       "      <td>0.427722</td>\n",
       "      <td>...</td>\n",
       "      <td>288.195255</td>\n",
       "      <td>66170.0</td>\n",
       "      <td>NaN</td>\n",
       "      <td>32.70</td>\n",
       "      <td>0.760989</td>\n",
       "      <td>1.905</td>\n",
       "      <td>30.7575</td>\n",
       "      <td>4.330252</td>\n",
       "      <td>11.7550</td>\n",
       "      <td>23</td>\n",
       "    </tr>\n",
       "    <tr>\n",
       "      <th>1</th>\n",
       "      <td>H800001</td>\n",
       "      <td>19.335984</td>\n",
       "      <td>40.692564</td>\n",
       "      <td>5.241188</td>\n",
       "      <td>56.845986</td>\n",
       "      <td>62.676670</td>\n",
       "      <td>0.38</td>\n",
       "      <td>21.143974</td>\n",
       "      <td>245.125000</td>\n",
       "      <td>0.392413</td>\n",
       "      <td>...</td>\n",
       "      <td>251.594150</td>\n",
       "      <td>NaN</td>\n",
       "      <td>14.108786</td>\n",
       "      <td>32.85</td>\n",
       "      <td>0.532629</td>\n",
       "      <td>1.350</td>\n",
       "      <td>29.5875</td>\n",
       "      <td>6.815948</td>\n",
       "      <td>15.8120</td>\n",
       "      <td>34</td>\n",
       "    </tr>\n",
       "    <tr>\n",
       "      <th>2</th>\n",
       "      <td>H800001</td>\n",
       "      <td>17.776043</td>\n",
       "      <td>47.155710</td>\n",
       "      <td>NaN</td>\n",
       "      <td>61.391091</td>\n",
       "      <td>60.985627</td>\n",
       "      <td>0.44</td>\n",
       "      <td>25.782601</td>\n",
       "      <td>182.166667</td>\n",
       "      <td>0.424840</td>\n",
       "      <td>...</td>\n",
       "      <td>301.790876</td>\n",
       "      <td>27070.0</td>\n",
       "      <td>15.028955</td>\n",
       "      <td>31.60</td>\n",
       "      <td>0.717705</td>\n",
       "      <td>1.800</td>\n",
       "      <td>30.2200</td>\n",
       "      <td>3.545528</td>\n",
       "      <td>7.3300</td>\n",
       "      <td>4</td>\n",
       "    </tr>\n",
       "    <tr>\n",
       "      <th>3</th>\n",
       "      <td>H800001</td>\n",
       "      <td>15.764536</td>\n",
       "      <td>46.102694</td>\n",
       "      <td>NaN</td>\n",
       "      <td>61.178408</td>\n",
       "      <td>59.345718</td>\n",
       "      <td>0.38</td>\n",
       "      <td>23.391290</td>\n",
       "      <td>99.208333</td>\n",
       "      <td>0.424863</td>\n",
       "      <td>...</td>\n",
       "      <td>262.974920</td>\n",
       "      <td>30230.0</td>\n",
       "      <td>NaN</td>\n",
       "      <td>30.75</td>\n",
       "      <td>1.689474</td>\n",
       "      <td>5.550</td>\n",
       "      <td>27.3600</td>\n",
       "      <td>4.984148</td>\n",
       "      <td>13.5820</td>\n",
       "      <td>11</td>\n",
       "    </tr>\n",
       "    <tr>\n",
       "      <th>4</th>\n",
       "      <td>H800001</td>\n",
       "      <td>15.250615</td>\n",
       "      <td>43.762170</td>\n",
       "      <td>NaN</td>\n",
       "      <td>61.247844</td>\n",
       "      <td>57.424167</td>\n",
       "      <td>0.40</td>\n",
       "      <td>24.056450</td>\n",
       "      <td>136.333333</td>\n",
       "      <td>0.441570</td>\n",
       "      <td>...</td>\n",
       "      <td>282.825979</td>\n",
       "      <td>29875.0</td>\n",
       "      <td>NaN</td>\n",
       "      <td>30.65</td>\n",
       "      <td>0.830880</td>\n",
       "      <td>2.205</td>\n",
       "      <td>30.6825</td>\n",
       "      <td>4.699070</td>\n",
       "      <td>13.8555</td>\n",
       "      <td>15</td>\n",
       "    </tr>\n",
       "  </tbody>\n",
       "</table>\n",
       "<p>5 rows × 62 columns</p>\n",
       "</div>"
      ],
      "text/plain": [
       "  gls_subject_code  turn_vel_std  turn_vel_mean_ankle  movement_rate  \\\n",
       "0          H800001     22.174349            48.212574       6.701800   \n",
       "1          H800001     19.335984            40.692564       5.241188   \n",
       "2          H800001     17.776043            47.155710            NaN   \n",
       "3          H800001     15.764536            46.102694            NaN   \n",
       "4          H800001     15.250615            43.762170            NaN   \n",
       "\n",
       "   turn_vel_mean  turn_vel_std_ankle  turn_duration  turn_angle  walk_minutes  \\\n",
       "0      57.883232           60.263901           0.42   23.911008    149.375000   \n",
       "1      56.845986           62.676670           0.38   21.143974    245.125000   \n",
       "2      61.391091           60.985627           0.44   25.782601    182.166667   \n",
       "3      61.178408           59.345718           0.38   23.391290     99.208333   \n",
       "4      61.247844           57.424167           0.40   24.056450    136.333333   \n",
       "\n",
       "      swing     ...      sway_disp_ap_at_home  mobility_activity_at_home_time  \\\n",
       "0  0.427722     ...                288.195255                         66170.0   \n",
       "1  0.392413     ...                251.594150                             NaN   \n",
       "2  0.424840     ...                301.790876                         27070.0   \n",
       "3  0.424863     ...                262.974920                         30230.0   \n",
       "4  0.441570     ...                282.825979                         29875.0   \n",
       "\n",
       "   hrv_sdnn_at_home  hourly_temp_median_at_home  hourly_temp_std_at_home  \\\n",
       "0               NaN                       32.70                 0.760989   \n",
       "1         14.108786                       32.85                 0.532629   \n",
       "2         15.028955                       31.60                 0.717705   \n",
       "3               NaN                       30.75                 1.689474   \n",
       "4               NaN                       30.65                 0.830880   \n",
       "\n",
       "   hourly_temp_range_at_home  hourly_amb_temp_median_at_home  \\\n",
       "0                      1.905                         30.7575   \n",
       "1                      1.350                         29.5875   \n",
       "2                      1.800                         30.2200   \n",
       "3                      5.550                         27.3600   \n",
       "4                      2.205                         30.6825   \n",
       "\n",
       "   hourly_amb_temp_std_at_home  hourly_amb_temp_range_at_home  dayofstudy  \n",
       "0                     4.330252                        11.7550          23  \n",
       "1                     6.815948                        15.8120          34  \n",
       "2                     3.545528                         7.3300           4  \n",
       "3                     4.984148                        13.5820          11  \n",
       "4                     4.699070                        13.8555          15  \n",
       "\n",
       "[5 rows x 62 columns]"
      ]
     },
     "execution_count": 148,
     "metadata": {},
     "output_type": "execute_result"
    },
    {
     "data": {
      "text/plain": [
       "(1532, 62)"
      ]
     },
     "execution_count": 148,
     "metadata": {},
     "output_type": "execute_result"
    }
   ],
   "source": [
    "# will need days of study as an index, add to the dataset\n",
    "FeatureDay_filtered_device_features['dayofstudy'] = FeatureDay['dayofstudy']\n",
    "FeatureDay_filtered_device_features.head()\n",
    "FeatureDay_filtered_device_features.shape"
   ]
  },
  {
   "cell_type": "code",
   "execution_count": 149,
   "metadata": {
    "collapsed": false
   },
   "outputs": [
    {
     "data": {
      "text/plain": [
       "array(['H800001', 'H800002', 'H800003', 'H800004', 'H800006', 'H800007',\n",
       "       'H800008', 'H800009', 'H800010', 'H800011', 'H800013', 'H800014',\n",
       "       'H800016', 'H800017', 'H800018', 'H800019', 'H800020', 'H800021',\n",
       "       'H800022', 'H800023', 'H800024', 'H800025', 'H800005', 'H800012',\n",
       "       'H800015'], dtype=object)"
      ]
     },
     "execution_count": 149,
     "metadata": {},
     "output_type": "execute_result"
    }
   ],
   "source": [
    "# extract patient IDs\n",
    "patientIDs = FeatureDay_filtered['gls_subject_code'].unique()\n",
    "patientIDs"
   ]
  },
  {
   "cell_type": "code",
   "execution_count": 150,
   "metadata": {
    "collapsed": false
   },
   "outputs": [
    {
     "data": {
      "text/html": [
       "<div>\n",
       "<table border=\"1\" class=\"dataframe\">\n",
       "  <thead>\n",
       "    <tr style=\"text-align: right;\">\n",
       "      <th></th>\n",
       "      <th>patientID</th>\n",
       "      <th>num_of_days</th>\n",
       "    </tr>\n",
       "  </thead>\n",
       "  <tbody>\n",
       "    <tr>\n",
       "      <th>0</th>\n",
       "      <td>H800001</td>\n",
       "      <td>62</td>\n",
       "    </tr>\n",
       "    <tr>\n",
       "      <th>1</th>\n",
       "      <td>H800002</td>\n",
       "      <td>63</td>\n",
       "    </tr>\n",
       "    <tr>\n",
       "      <th>2</th>\n",
       "      <td>H800003</td>\n",
       "      <td>68</td>\n",
       "    </tr>\n",
       "    <tr>\n",
       "      <th>3</th>\n",
       "      <td>H800004</td>\n",
       "      <td>65</td>\n",
       "    </tr>\n",
       "    <tr>\n",
       "      <th>4</th>\n",
       "      <td>H800006</td>\n",
       "      <td>79</td>\n",
       "    </tr>\n",
       "  </tbody>\n",
       "</table>\n",
       "</div>"
      ],
      "text/plain": [
       "  patientID  num_of_days\n",
       "0   H800001           62\n",
       "1   H800002           63\n",
       "2   H800003           68\n",
       "3   H800004           65\n",
       "4   H800006           79"
      ]
     },
     "execution_count": 150,
     "metadata": {},
     "output_type": "execute_result"
    }
   ],
   "source": [
    "# what is the maximum number of study days for patients?\n",
    "num_of_days_of_study = [FeatureDay_filtered[FeatureDay_filtered['gls_subject_code'] == ID].shape[0] for ID in patientIDs]\n",
    "days_of_study = pd.DataFrame()\n",
    "days_of_study['patientID'] = patientIDs\n",
    "days_of_study['num_of_days'] = num_of_days_of_study\n",
    "days_of_study.head()\n",
    "max_num_of_days = max(days_of_study['num_of_days'])"
   ]
  },
  {
   "cell_type": "code",
   "execution_count": 151,
   "metadata": {
    "collapsed": false
   },
   "outputs": [
    {
     "data": {
      "text/html": [
       "<div>\n",
       "<table border=\"1\" class=\"dataframe\">\n",
       "  <thead>\n",
       "    <tr style=\"text-align: right;\">\n",
       "      <th></th>\n",
       "      <th>gls_subject_code</th>\n",
       "      <th>turn_vel_std</th>\n",
       "      <th>turn_vel_mean_ankle</th>\n",
       "      <th>movement_rate</th>\n",
       "      <th>turn_vel_mean</th>\n",
       "      <th>turn_vel_std_ankle</th>\n",
       "      <th>turn_duration</th>\n",
       "      <th>turn_angle</th>\n",
       "      <th>walk_minutes</th>\n",
       "      <th>swing</th>\n",
       "      <th>...</th>\n",
       "      <th>sway_disp_ap_at_home</th>\n",
       "      <th>mobility_activity_at_home_time</th>\n",
       "      <th>hrv_sdnn_at_home</th>\n",
       "      <th>hourly_temp_median_at_home</th>\n",
       "      <th>hourly_temp_std_at_home</th>\n",
       "      <th>hourly_temp_range_at_home</th>\n",
       "      <th>hourly_amb_temp_median_at_home</th>\n",
       "      <th>hourly_amb_temp_std_at_home</th>\n",
       "      <th>hourly_amb_temp_range_at_home</th>\n",
       "      <th>dayofstudy</th>\n",
       "    </tr>\n",
       "  </thead>\n",
       "  <tbody>\n",
       "    <tr>\n",
       "      <th>0</th>\n",
       "      <td>H800001</td>\n",
       "      <td>22.174349</td>\n",
       "      <td>48.212574</td>\n",
       "      <td>6.701800</td>\n",
       "      <td>57.883232</td>\n",
       "      <td>60.263901</td>\n",
       "      <td>0.42</td>\n",
       "      <td>23.911008</td>\n",
       "      <td>149.375000</td>\n",
       "      <td>0.427722</td>\n",
       "      <td>...</td>\n",
       "      <td>288.195255</td>\n",
       "      <td>66170.0</td>\n",
       "      <td>NaN</td>\n",
       "      <td>32.70</td>\n",
       "      <td>0.760989</td>\n",
       "      <td>1.905</td>\n",
       "      <td>30.7575</td>\n",
       "      <td>4.330252</td>\n",
       "      <td>11.7550</td>\n",
       "      <td>23</td>\n",
       "    </tr>\n",
       "    <tr>\n",
       "      <th>1</th>\n",
       "      <td>H800001</td>\n",
       "      <td>19.335984</td>\n",
       "      <td>40.692564</td>\n",
       "      <td>5.241188</td>\n",
       "      <td>56.845986</td>\n",
       "      <td>62.676670</td>\n",
       "      <td>0.38</td>\n",
       "      <td>21.143974</td>\n",
       "      <td>245.125000</td>\n",
       "      <td>0.392413</td>\n",
       "      <td>...</td>\n",
       "      <td>251.594150</td>\n",
       "      <td>NaN</td>\n",
       "      <td>14.108786</td>\n",
       "      <td>32.85</td>\n",
       "      <td>0.532629</td>\n",
       "      <td>1.350</td>\n",
       "      <td>29.5875</td>\n",
       "      <td>6.815948</td>\n",
       "      <td>15.8120</td>\n",
       "      <td>34</td>\n",
       "    </tr>\n",
       "    <tr>\n",
       "      <th>2</th>\n",
       "      <td>H800001</td>\n",
       "      <td>17.776043</td>\n",
       "      <td>47.155710</td>\n",
       "      <td>NaN</td>\n",
       "      <td>61.391091</td>\n",
       "      <td>60.985627</td>\n",
       "      <td>0.44</td>\n",
       "      <td>25.782601</td>\n",
       "      <td>182.166667</td>\n",
       "      <td>0.424840</td>\n",
       "      <td>...</td>\n",
       "      <td>301.790876</td>\n",
       "      <td>27070.0</td>\n",
       "      <td>15.028955</td>\n",
       "      <td>31.60</td>\n",
       "      <td>0.717705</td>\n",
       "      <td>1.800</td>\n",
       "      <td>30.2200</td>\n",
       "      <td>3.545528</td>\n",
       "      <td>7.3300</td>\n",
       "      <td>4</td>\n",
       "    </tr>\n",
       "    <tr>\n",
       "      <th>3</th>\n",
       "      <td>H800001</td>\n",
       "      <td>15.764536</td>\n",
       "      <td>46.102694</td>\n",
       "      <td>NaN</td>\n",
       "      <td>61.178408</td>\n",
       "      <td>59.345718</td>\n",
       "      <td>0.38</td>\n",
       "      <td>23.391290</td>\n",
       "      <td>99.208333</td>\n",
       "      <td>0.424863</td>\n",
       "      <td>...</td>\n",
       "      <td>262.974920</td>\n",
       "      <td>30230.0</td>\n",
       "      <td>NaN</td>\n",
       "      <td>30.75</td>\n",
       "      <td>1.689474</td>\n",
       "      <td>5.550</td>\n",
       "      <td>27.3600</td>\n",
       "      <td>4.984148</td>\n",
       "      <td>13.5820</td>\n",
       "      <td>11</td>\n",
       "    </tr>\n",
       "    <tr>\n",
       "      <th>4</th>\n",
       "      <td>H800001</td>\n",
       "      <td>15.250615</td>\n",
       "      <td>43.762170</td>\n",
       "      <td>NaN</td>\n",
       "      <td>61.247844</td>\n",
       "      <td>57.424167</td>\n",
       "      <td>0.40</td>\n",
       "      <td>24.056450</td>\n",
       "      <td>136.333333</td>\n",
       "      <td>0.441570</td>\n",
       "      <td>...</td>\n",
       "      <td>282.825979</td>\n",
       "      <td>29875.0</td>\n",
       "      <td>NaN</td>\n",
       "      <td>30.65</td>\n",
       "      <td>0.830880</td>\n",
       "      <td>2.205</td>\n",
       "      <td>30.6825</td>\n",
       "      <td>4.699070</td>\n",
       "      <td>13.8555</td>\n",
       "      <td>15</td>\n",
       "    </tr>\n",
       "  </tbody>\n",
       "</table>\n",
       "<p>5 rows × 62 columns</p>\n",
       "</div>"
      ],
      "text/plain": [
       "  gls_subject_code  turn_vel_std  turn_vel_mean_ankle  movement_rate  \\\n",
       "0          H800001     22.174349            48.212574       6.701800   \n",
       "1          H800001     19.335984            40.692564       5.241188   \n",
       "2          H800001     17.776043            47.155710            NaN   \n",
       "3          H800001     15.764536            46.102694            NaN   \n",
       "4          H800001     15.250615            43.762170            NaN   \n",
       "\n",
       "   turn_vel_mean  turn_vel_std_ankle  turn_duration  turn_angle  walk_minutes  \\\n",
       "0      57.883232           60.263901           0.42   23.911008    149.375000   \n",
       "1      56.845986           62.676670           0.38   21.143974    245.125000   \n",
       "2      61.391091           60.985627           0.44   25.782601    182.166667   \n",
       "3      61.178408           59.345718           0.38   23.391290     99.208333   \n",
       "4      61.247844           57.424167           0.40   24.056450    136.333333   \n",
       "\n",
       "      swing     ...      sway_disp_ap_at_home  mobility_activity_at_home_time  \\\n",
       "0  0.427722     ...                288.195255                         66170.0   \n",
       "1  0.392413     ...                251.594150                             NaN   \n",
       "2  0.424840     ...                301.790876                         27070.0   \n",
       "3  0.424863     ...                262.974920                         30230.0   \n",
       "4  0.441570     ...                282.825979                         29875.0   \n",
       "\n",
       "   hrv_sdnn_at_home  hourly_temp_median_at_home  hourly_temp_std_at_home  \\\n",
       "0               NaN                       32.70                 0.760989   \n",
       "1         14.108786                       32.85                 0.532629   \n",
       "2         15.028955                       31.60                 0.717705   \n",
       "3               NaN                       30.75                 1.689474   \n",
       "4               NaN                       30.65                 0.830880   \n",
       "\n",
       "   hourly_temp_range_at_home  hourly_amb_temp_median_at_home  \\\n",
       "0                      1.905                         30.7575   \n",
       "1                      1.350                         29.5875   \n",
       "2                      1.800                         30.2200   \n",
       "3                      5.550                         27.3600   \n",
       "4                      2.205                         30.6825   \n",
       "\n",
       "   hourly_amb_temp_std_at_home  hourly_amb_temp_range_at_home  dayofstudy  \n",
       "0                     4.330252                        11.7550          23  \n",
       "1                     6.815948                        15.8120          34  \n",
       "2                     3.545528                         7.3300           4  \n",
       "3                     4.984148                        13.5820          11  \n",
       "4                     4.699070                        13.8555          15  \n",
       "\n",
       "[5 rows x 62 columns]"
      ]
     },
     "execution_count": 151,
     "metadata": {},
     "output_type": "execute_result"
    }
   ],
   "source": [
    "# device features dataset + patient IDs + day of study + composite scores\n",
    "FeatureDay_filtered_device_features.head()"
   ]
  },
  {
   "cell_type": "code",
   "execution_count": 152,
   "metadata": {
    "collapsed": false
   },
   "outputs": [
    {
     "data": {
      "text/plain": [
       "60"
      ]
     },
     "execution_count": 152,
     "metadata": {},
     "output_type": "execute_result"
    }
   ],
   "source": [
    "# just keep the sensor feature values\n",
    "device_feature_names = list(FeatureDay_filtered_device_features.drop(['gls_subject_code','dayofstudy'],axis = 1))\n",
    "len(device_feature_names)"
   ]
  },
  {
   "cell_type": "code",
   "execution_count": 153,
   "metadata": {
    "collapsed": false,
    "scrolled": true
   },
   "outputs": [
    {
     "name": "stdout",
     "output_type": "stream",
     "text": [
      "H800001\n",
      "H800002\n",
      "H800003\n",
      "H800004\n",
      "H800006\n",
      "H800007\n",
      "H800008\n",
      "H800009\n",
      "H800010\n",
      "H800011\n",
      "H800013\n",
      "H800014\n",
      "H800016\n",
      "H800017\n",
      "H800018\n",
      "H800019\n",
      "H800020\n",
      "H800021\n",
      "H800022\n",
      "H800023\n",
      "H800024\n",
      "H800025\n",
      "H800005\n",
      "H800012\n",
      "H800015\n"
     ]
    }
   ],
   "source": [
    "# transform the dataset, add feature values for day x as a new column\n",
    "final_df = pd.DataFrame()\n",
    "for ID in patientIDs:\n",
    "    print(ID)\n",
    "    arr = ID.split('0')\n",
    "    sub_df = FeatureDay_filtered_device_features[FeatureDay_filtered_device_features['gls_subject_code'] == ID]\n",
    "    new_df = pd.DataFrame()\n",
    "    new_df['gls_subject_code'] = [ID]\n",
    "    for day in np.arange(1,max_num_of_days + 1):\n",
    "        for feature in device_feature_names:\n",
    "            col_name = feature + '_day_' + str(day)\n",
    "            if day in sub_df['dayofstudy'].tolist():\n",
    "                idx = sub_df['dayofstudy'].tolist().index(23)\n",
    "                val = sub_df.iloc[idx][feature]\n",
    "                new_df[col_name] = [val]\n",
    "            else:\n",
    "                new_df[col_name] = [np.nan]\n",
    "    final_df = pd.concat([final_df,new_df])"
   ]
  },
  {
   "cell_type": "code",
   "execution_count": 154,
   "metadata": {
    "collapsed": false
   },
   "outputs": [
    {
     "data": {
      "text/html": [
       "<div>\n",
       "<table border=\"1\" class=\"dataframe\">\n",
       "  <thead>\n",
       "    <tr style=\"text-align: right;\">\n",
       "      <th></th>\n",
       "      <th>gls_subject_code</th>\n",
       "      <th>turn_vel_std_day_1</th>\n",
       "      <th>turn_vel_mean_ankle_day_1</th>\n",
       "      <th>movement_rate_day_1</th>\n",
       "      <th>turn_vel_mean_day_1</th>\n",
       "      <th>turn_vel_std_ankle_day_1</th>\n",
       "      <th>turn_duration_day_1</th>\n",
       "      <th>turn_angle_day_1</th>\n",
       "      <th>walk_minutes_day_1</th>\n",
       "      <th>swing_day_1</th>\n",
       "      <th>...</th>\n",
       "      <th>sway_disp_lr_at_home_day_80</th>\n",
       "      <th>sway_disp_ap_at_home_day_80</th>\n",
       "      <th>mobility_activity_at_home_time_day_80</th>\n",
       "      <th>hrv_sdnn_at_home_day_80</th>\n",
       "      <th>hourly_temp_median_at_home_day_80</th>\n",
       "      <th>hourly_temp_std_at_home_day_80</th>\n",
       "      <th>hourly_temp_range_at_home_day_80</th>\n",
       "      <th>hourly_amb_temp_median_at_home_day_80</th>\n",
       "      <th>hourly_amb_temp_std_at_home_day_80</th>\n",
       "      <th>hourly_amb_temp_range_at_home_day_80</th>\n",
       "    </tr>\n",
       "  </thead>\n",
       "  <tbody>\n",
       "    <tr>\n",
       "      <th>0</th>\n",
       "      <td>H800001</td>\n",
       "      <td>22.174349</td>\n",
       "      <td>48.212574</td>\n",
       "      <td>6.701800</td>\n",
       "      <td>57.883232</td>\n",
       "      <td>60.263901</td>\n",
       "      <td>0.42</td>\n",
       "      <td>23.911008</td>\n",
       "      <td>149.375000</td>\n",
       "      <td>0.427722</td>\n",
       "      <td>...</td>\n",
       "      <td>NaN</td>\n",
       "      <td>NaN</td>\n",
       "      <td>NaN</td>\n",
       "      <td>NaN</td>\n",
       "      <td>NaN</td>\n",
       "      <td>NaN</td>\n",
       "      <td>NaN</td>\n",
       "      <td>NaN</td>\n",
       "      <td>NaN</td>\n",
       "      <td>NaN</td>\n",
       "    </tr>\n",
       "    <tr>\n",
       "      <th>0</th>\n",
       "      <td>H800002</td>\n",
       "      <td>NaN</td>\n",
       "      <td>NaN</td>\n",
       "      <td>NaN</td>\n",
       "      <td>NaN</td>\n",
       "      <td>NaN</td>\n",
       "      <td>NaN</td>\n",
       "      <td>NaN</td>\n",
       "      <td>NaN</td>\n",
       "      <td>NaN</td>\n",
       "      <td>...</td>\n",
       "      <td>NaN</td>\n",
       "      <td>NaN</td>\n",
       "      <td>NaN</td>\n",
       "      <td>NaN</td>\n",
       "      <td>NaN</td>\n",
       "      <td>NaN</td>\n",
       "      <td>NaN</td>\n",
       "      <td>NaN</td>\n",
       "      <td>NaN</td>\n",
       "      <td>NaN</td>\n",
       "    </tr>\n",
       "    <tr>\n",
       "      <th>0</th>\n",
       "      <td>H800003</td>\n",
       "      <td>14.908525</td>\n",
       "      <td>35.120240</td>\n",
       "      <td>4.488399</td>\n",
       "      <td>66.330916</td>\n",
       "      <td>92.738296</td>\n",
       "      <td>0.50</td>\n",
       "      <td>29.897820</td>\n",
       "      <td>64.500000</td>\n",
       "      <td>0.420198</td>\n",
       "      <td>...</td>\n",
       "      <td>NaN</td>\n",
       "      <td>NaN</td>\n",
       "      <td>NaN</td>\n",
       "      <td>NaN</td>\n",
       "      <td>NaN</td>\n",
       "      <td>NaN</td>\n",
       "      <td>NaN</td>\n",
       "      <td>NaN</td>\n",
       "      <td>NaN</td>\n",
       "      <td>NaN</td>\n",
       "    </tr>\n",
       "    <tr>\n",
       "      <th>0</th>\n",
       "      <td>H800004</td>\n",
       "      <td>17.141517</td>\n",
       "      <td>55.996969</td>\n",
       "      <td>10.324276</td>\n",
       "      <td>66.854706</td>\n",
       "      <td>65.144946</td>\n",
       "      <td>0.44</td>\n",
       "      <td>28.332181</td>\n",
       "      <td>61.458333</td>\n",
       "      <td>0.495820</td>\n",
       "      <td>...</td>\n",
       "      <td>NaN</td>\n",
       "      <td>NaN</td>\n",
       "      <td>NaN</td>\n",
       "      <td>NaN</td>\n",
       "      <td>NaN</td>\n",
       "      <td>NaN</td>\n",
       "      <td>NaN</td>\n",
       "      <td>NaN</td>\n",
       "      <td>NaN</td>\n",
       "      <td>NaN</td>\n",
       "    </tr>\n",
       "    <tr>\n",
       "      <th>0</th>\n",
       "      <td>H800006</td>\n",
       "      <td>24.291345</td>\n",
       "      <td>52.741362</td>\n",
       "      <td>3.316912</td>\n",
       "      <td>64.354366</td>\n",
       "      <td>81.240676</td>\n",
       "      <td>0.72</td>\n",
       "      <td>43.488300</td>\n",
       "      <td>178.375000</td>\n",
       "      <td>0.465371</td>\n",
       "      <td>...</td>\n",
       "      <td>NaN</td>\n",
       "      <td>NaN</td>\n",
       "      <td>NaN</td>\n",
       "      <td>NaN</td>\n",
       "      <td>NaN</td>\n",
       "      <td>NaN</td>\n",
       "      <td>NaN</td>\n",
       "      <td>NaN</td>\n",
       "      <td>NaN</td>\n",
       "      <td>NaN</td>\n",
       "    </tr>\n",
       "  </tbody>\n",
       "</table>\n",
       "<p>5 rows × 4801 columns</p>\n",
       "</div>"
      ],
      "text/plain": [
       "  gls_subject_code  turn_vel_std_day_1  turn_vel_mean_ankle_day_1  \\\n",
       "0          H800001           22.174349                  48.212574   \n",
       "0          H800002                 NaN                        NaN   \n",
       "0          H800003           14.908525                  35.120240   \n",
       "0          H800004           17.141517                  55.996969   \n",
       "0          H800006           24.291345                  52.741362   \n",
       "\n",
       "   movement_rate_day_1  turn_vel_mean_day_1  turn_vel_std_ankle_day_1  \\\n",
       "0             6.701800            57.883232                 60.263901   \n",
       "0                  NaN                  NaN                       NaN   \n",
       "0             4.488399            66.330916                 92.738296   \n",
       "0            10.324276            66.854706                 65.144946   \n",
       "0             3.316912            64.354366                 81.240676   \n",
       "\n",
       "   turn_duration_day_1  turn_angle_day_1  walk_minutes_day_1  swing_day_1  \\\n",
       "0                 0.42         23.911008          149.375000     0.427722   \n",
       "0                  NaN               NaN                 NaN          NaN   \n",
       "0                 0.50         29.897820           64.500000     0.420198   \n",
       "0                 0.44         28.332181           61.458333     0.495820   \n",
       "0                 0.72         43.488300          178.375000     0.465371   \n",
       "\n",
       "                   ...                   sway_disp_lr_at_home_day_80  \\\n",
       "0                  ...                                           NaN   \n",
       "0                  ...                                           NaN   \n",
       "0                  ...                                           NaN   \n",
       "0                  ...                                           NaN   \n",
       "0                  ...                                           NaN   \n",
       "\n",
       "   sway_disp_ap_at_home_day_80  mobility_activity_at_home_time_day_80  \\\n",
       "0                          NaN                                    NaN   \n",
       "0                          NaN                                    NaN   \n",
       "0                          NaN                                    NaN   \n",
       "0                          NaN                                    NaN   \n",
       "0                          NaN                                    NaN   \n",
       "\n",
       "   hrv_sdnn_at_home_day_80  hourly_temp_median_at_home_day_80  \\\n",
       "0                      NaN                                NaN   \n",
       "0                      NaN                                NaN   \n",
       "0                      NaN                                NaN   \n",
       "0                      NaN                                NaN   \n",
       "0                      NaN                                NaN   \n",
       "\n",
       "   hourly_temp_std_at_home_day_80  hourly_temp_range_at_home_day_80  \\\n",
       "0                             NaN                               NaN   \n",
       "0                             NaN                               NaN   \n",
       "0                             NaN                               NaN   \n",
       "0                             NaN                               NaN   \n",
       "0                             NaN                               NaN   \n",
       "\n",
       "   hourly_amb_temp_median_at_home_day_80  hourly_amb_temp_std_at_home_day_80  \\\n",
       "0                                    NaN                                 NaN   \n",
       "0                                    NaN                                 NaN   \n",
       "0                                    NaN                                 NaN   \n",
       "0                                    NaN                                 NaN   \n",
       "0                                    NaN                                 NaN   \n",
       "\n",
       "   hourly_amb_temp_range_at_home_day_80  \n",
       "0                                   NaN  \n",
       "0                                   NaN  \n",
       "0                                   NaN  \n",
       "0                                   NaN  \n",
       "0                                   NaN  \n",
       "\n",
       "[5 rows x 4801 columns]"
      ]
     },
     "execution_count": 154,
     "metadata": {},
     "output_type": "execute_result"
    },
    {
     "data": {
      "text/plain": [
       "(25, 4801)"
      ]
     },
     "execution_count": 154,
     "metadata": {},
     "output_type": "execute_result"
    }
   ],
   "source": [
    "# check the transformed dataframe\n",
    "final_df.head()\n",
    "final_df.shape"
   ]
  },
  {
   "cell_type": "code",
   "execution_count": 155,
   "metadata": {
    "collapsed": false
   },
   "outputs": [
    {
     "data": {
      "text/html": [
       "<div>\n",
       "<table border=\"1\" class=\"dataframe\">\n",
       "  <thead>\n",
       "    <tr style=\"text-align: right;\">\n",
       "      <th></th>\n",
       "      <th>gls_subject_code</th>\n",
       "      <th>turn_vel_std_day_1</th>\n",
       "      <th>turn_vel_mean_ankle_day_1</th>\n",
       "      <th>movement_rate_day_1</th>\n",
       "      <th>turn_vel_mean_day_1</th>\n",
       "      <th>turn_vel_std_ankle_day_1</th>\n",
       "      <th>turn_duration_day_1</th>\n",
       "      <th>turn_angle_day_1</th>\n",
       "      <th>walk_minutes_day_1</th>\n",
       "      <th>swing_day_1</th>\n",
       "      <th>...</th>\n",
       "      <th>hrv_sdnn_at_home_day_80</th>\n",
       "      <th>hourly_temp_median_at_home_day_80</th>\n",
       "      <th>hourly_temp_std_at_home_day_80</th>\n",
       "      <th>hourly_temp_range_at_home_day_80</th>\n",
       "      <th>hourly_amb_temp_median_at_home_day_80</th>\n",
       "      <th>hourly_amb_temp_std_at_home_day_80</th>\n",
       "      <th>hourly_amb_temp_range_at_home_day_80</th>\n",
       "      <th>msfc_composite_1</th>\n",
       "      <th>msfc_composite_2</th>\n",
       "      <th>msfc_composite_3</th>\n",
       "    </tr>\n",
       "  </thead>\n",
       "  <tbody>\n",
       "    <tr>\n",
       "      <th>0</th>\n",
       "      <td>H800001</td>\n",
       "      <td>22.174349</td>\n",
       "      <td>48.212574</td>\n",
       "      <td>6.701800</td>\n",
       "      <td>57.883232</td>\n",
       "      <td>60.263901</td>\n",
       "      <td>0.42</td>\n",
       "      <td>23.911008</td>\n",
       "      <td>149.375000</td>\n",
       "      <td>0.427722</td>\n",
       "      <td>...</td>\n",
       "      <td>NaN</td>\n",
       "      <td>NaN</td>\n",
       "      <td>NaN</td>\n",
       "      <td>NaN</td>\n",
       "      <td>NaN</td>\n",
       "      <td>NaN</td>\n",
       "      <td>NaN</td>\n",
       "      <td>-1.211435</td>\n",
       "      <td>-1.385647</td>\n",
       "      <td>-1.407630</td>\n",
       "    </tr>\n",
       "    <tr>\n",
       "      <th>0</th>\n",
       "      <td>H800002</td>\n",
       "      <td>NaN</td>\n",
       "      <td>NaN</td>\n",
       "      <td>NaN</td>\n",
       "      <td>NaN</td>\n",
       "      <td>NaN</td>\n",
       "      <td>NaN</td>\n",
       "      <td>NaN</td>\n",
       "      <td>NaN</td>\n",
       "      <td>NaN</td>\n",
       "      <td>...</td>\n",
       "      <td>NaN</td>\n",
       "      <td>NaN</td>\n",
       "      <td>NaN</td>\n",
       "      <td>NaN</td>\n",
       "      <td>NaN</td>\n",
       "      <td>NaN</td>\n",
       "      <td>NaN</td>\n",
       "      <td>0.389599</td>\n",
       "      <td>1.109154</td>\n",
       "      <td>0.631568</td>\n",
       "    </tr>\n",
       "    <tr>\n",
       "      <th>0</th>\n",
       "      <td>H800003</td>\n",
       "      <td>14.908525</td>\n",
       "      <td>35.120240</td>\n",
       "      <td>4.488399</td>\n",
       "      <td>66.330916</td>\n",
       "      <td>92.738296</td>\n",
       "      <td>0.50</td>\n",
       "      <td>29.897820</td>\n",
       "      <td>64.500000</td>\n",
       "      <td>0.420198</td>\n",
       "      <td>...</td>\n",
       "      <td>NaN</td>\n",
       "      <td>NaN</td>\n",
       "      <td>NaN</td>\n",
       "      <td>NaN</td>\n",
       "      <td>NaN</td>\n",
       "      <td>NaN</td>\n",
       "      <td>NaN</td>\n",
       "      <td>0.780895</td>\n",
       "      <td>0.932657</td>\n",
       "      <td>0.911542</td>\n",
       "    </tr>\n",
       "    <tr>\n",
       "      <th>0</th>\n",
       "      <td>H800004</td>\n",
       "      <td>17.141517</td>\n",
       "      <td>55.996969</td>\n",
       "      <td>10.324276</td>\n",
       "      <td>66.854706</td>\n",
       "      <td>65.144946</td>\n",
       "      <td>0.44</td>\n",
       "      <td>28.332181</td>\n",
       "      <td>61.458333</td>\n",
       "      <td>0.495820</td>\n",
       "      <td>...</td>\n",
       "      <td>NaN</td>\n",
       "      <td>NaN</td>\n",
       "      <td>NaN</td>\n",
       "      <td>NaN</td>\n",
       "      <td>NaN</td>\n",
       "      <td>NaN</td>\n",
       "      <td>NaN</td>\n",
       "      <td>-0.969236</td>\n",
       "      <td>-0.983236</td>\n",
       "      <td>-0.695738</td>\n",
       "    </tr>\n",
       "    <tr>\n",
       "      <th>0</th>\n",
       "      <td>H800006</td>\n",
       "      <td>24.291345</td>\n",
       "      <td>52.741362</td>\n",
       "      <td>3.316912</td>\n",
       "      <td>64.354366</td>\n",
       "      <td>81.240676</td>\n",
       "      <td>0.72</td>\n",
       "      <td>43.488300</td>\n",
       "      <td>178.375000</td>\n",
       "      <td>0.465371</td>\n",
       "      <td>...</td>\n",
       "      <td>NaN</td>\n",
       "      <td>NaN</td>\n",
       "      <td>NaN</td>\n",
       "      <td>NaN</td>\n",
       "      <td>NaN</td>\n",
       "      <td>NaN</td>\n",
       "      <td>NaN</td>\n",
       "      <td>0.245690</td>\n",
       "      <td>0.568276</td>\n",
       "      <td>0.495086</td>\n",
       "    </tr>\n",
       "  </tbody>\n",
       "</table>\n",
       "<p>5 rows × 4804 columns</p>\n",
       "</div>"
      ],
      "text/plain": [
       "  gls_subject_code  turn_vel_std_day_1  turn_vel_mean_ankle_day_1  \\\n",
       "0          H800001           22.174349                  48.212574   \n",
       "0          H800002                 NaN                        NaN   \n",
       "0          H800003           14.908525                  35.120240   \n",
       "0          H800004           17.141517                  55.996969   \n",
       "0          H800006           24.291345                  52.741362   \n",
       "\n",
       "   movement_rate_day_1  turn_vel_mean_day_1  turn_vel_std_ankle_day_1  \\\n",
       "0             6.701800            57.883232                 60.263901   \n",
       "0                  NaN                  NaN                       NaN   \n",
       "0             4.488399            66.330916                 92.738296   \n",
       "0            10.324276            66.854706                 65.144946   \n",
       "0             3.316912            64.354366                 81.240676   \n",
       "\n",
       "   turn_duration_day_1  turn_angle_day_1  walk_minutes_day_1  swing_day_1  \\\n",
       "0                 0.42         23.911008          149.375000     0.427722   \n",
       "0                  NaN               NaN                 NaN          NaN   \n",
       "0                 0.50         29.897820           64.500000     0.420198   \n",
       "0                 0.44         28.332181           61.458333     0.495820   \n",
       "0                 0.72         43.488300          178.375000     0.465371   \n",
       "\n",
       "         ...         hrv_sdnn_at_home_day_80  \\\n",
       "0        ...                             NaN   \n",
       "0        ...                             NaN   \n",
       "0        ...                             NaN   \n",
       "0        ...                             NaN   \n",
       "0        ...                             NaN   \n",
       "\n",
       "   hourly_temp_median_at_home_day_80  hourly_temp_std_at_home_day_80  \\\n",
       "0                                NaN                             NaN   \n",
       "0                                NaN                             NaN   \n",
       "0                                NaN                             NaN   \n",
       "0                                NaN                             NaN   \n",
       "0                                NaN                             NaN   \n",
       "\n",
       "   hourly_temp_range_at_home_day_80  hourly_amb_temp_median_at_home_day_80  \\\n",
       "0                               NaN                                    NaN   \n",
       "0                               NaN                                    NaN   \n",
       "0                               NaN                                    NaN   \n",
       "0                               NaN                                    NaN   \n",
       "0                               NaN                                    NaN   \n",
       "\n",
       "   hourly_amb_temp_std_at_home_day_80  hourly_amb_temp_range_at_home_day_80  \\\n",
       "0                                 NaN                                   NaN   \n",
       "0                                 NaN                                   NaN   \n",
       "0                                 NaN                                   NaN   \n",
       "0                                 NaN                                   NaN   \n",
       "0                                 NaN                                   NaN   \n",
       "\n",
       "   msfc_composite_1  msfc_composite_2  msfc_composite_3  \n",
       "0         -1.211435         -1.385647         -1.407630  \n",
       "0          0.389599          1.109154          0.631568  \n",
       "0          0.780895          0.932657          0.911542  \n",
       "0         -0.969236         -0.983236         -0.695738  \n",
       "0          0.245690          0.568276          0.495086  \n",
       "\n",
       "[5 rows x 4804 columns]"
      ]
     },
     "execution_count": 155,
     "metadata": {},
     "output_type": "execute_result"
    }
   ],
   "source": [
    "# add back patient IDs + composite scores to the transformed dataset\n",
    "msfc_composite_1 = []\n",
    "msfc_composite_2 = []\n",
    "msfc_composite_3 = []\n",
    "for ID in final_df['gls_subject_code']:\n",
    "    msfc_composite_1.append(FeatureDay_filtered[FeatureDay_filtered['gls_subject_code'] == ID].iloc[0]['msfc_composite_1'])\n",
    "    msfc_composite_2.append(FeatureDay_filtered[FeatureDay_filtered['gls_subject_code'] == ID].iloc[0]['msfc_composite_2'])\n",
    "    msfc_composite_3.append(FeatureDay_filtered[FeatureDay_filtered['gls_subject_code'] == ID].iloc[0]['msfc_composite_3'])\n",
    "final_df['msfc_composite_1'] = msfc_composite_1\n",
    "final_df['msfc_composite_2'] = msfc_composite_2\n",
    "final_df['msfc_composite_3'] = msfc_composite_3\n",
    "final_df.head()"
   ]
  },
  {
   "cell_type": "code",
   "execution_count": 156,
   "metadata": {
    "collapsed": false
   },
   "outputs": [
    {
     "data": {
      "text/html": [
       "<div>\n",
       "<table border=\"1\" class=\"dataframe\">\n",
       "  <thead>\n",
       "    <tr style=\"text-align: right;\">\n",
       "      <th></th>\n",
       "      <th>gls_subject_code</th>\n",
       "      <th>turn_vel_std_day_1</th>\n",
       "      <th>turn_vel_mean_ankle_day_1</th>\n",
       "      <th>movement_rate_day_1</th>\n",
       "      <th>turn_vel_mean_day_1</th>\n",
       "      <th>turn_vel_std_ankle_day_1</th>\n",
       "      <th>turn_duration_day_1</th>\n",
       "      <th>turn_angle_day_1</th>\n",
       "      <th>walk_minutes_day_1</th>\n",
       "      <th>swing_day_1</th>\n",
       "      <th>...</th>\n",
       "      <th>hrv_sdnn_at_home_day_80</th>\n",
       "      <th>hourly_temp_median_at_home_day_80</th>\n",
       "      <th>hourly_temp_std_at_home_day_80</th>\n",
       "      <th>hourly_temp_range_at_home_day_80</th>\n",
       "      <th>hourly_amb_temp_median_at_home_day_80</th>\n",
       "      <th>hourly_amb_temp_std_at_home_day_80</th>\n",
       "      <th>hourly_amb_temp_range_at_home_day_80</th>\n",
       "      <th>msfc_composite_1</th>\n",
       "      <th>msfc_composite_2</th>\n",
       "      <th>msfc_composite_3</th>\n",
       "    </tr>\n",
       "  </thead>\n",
       "  <tbody>\n",
       "    <tr>\n",
       "      <th>0</th>\n",
       "      <td>H800001</td>\n",
       "      <td>22.174349</td>\n",
       "      <td>48.212574</td>\n",
       "      <td>6.701800</td>\n",
       "      <td>57.883232</td>\n",
       "      <td>60.263901</td>\n",
       "      <td>0.42</td>\n",
       "      <td>23.911008</td>\n",
       "      <td>149.375000</td>\n",
       "      <td>0.427722</td>\n",
       "      <td>...</td>\n",
       "      <td>NaN</td>\n",
       "      <td>NaN</td>\n",
       "      <td>NaN</td>\n",
       "      <td>NaN</td>\n",
       "      <td>NaN</td>\n",
       "      <td>NaN</td>\n",
       "      <td>NaN</td>\n",
       "      <td>-1.211435</td>\n",
       "      <td>-1.385647</td>\n",
       "      <td>-1.407630</td>\n",
       "    </tr>\n",
       "    <tr>\n",
       "      <th>1</th>\n",
       "      <td>H800002</td>\n",
       "      <td>NaN</td>\n",
       "      <td>NaN</td>\n",
       "      <td>NaN</td>\n",
       "      <td>NaN</td>\n",
       "      <td>NaN</td>\n",
       "      <td>NaN</td>\n",
       "      <td>NaN</td>\n",
       "      <td>NaN</td>\n",
       "      <td>NaN</td>\n",
       "      <td>...</td>\n",
       "      <td>NaN</td>\n",
       "      <td>NaN</td>\n",
       "      <td>NaN</td>\n",
       "      <td>NaN</td>\n",
       "      <td>NaN</td>\n",
       "      <td>NaN</td>\n",
       "      <td>NaN</td>\n",
       "      <td>0.389599</td>\n",
       "      <td>1.109154</td>\n",
       "      <td>0.631568</td>\n",
       "    </tr>\n",
       "    <tr>\n",
       "      <th>2</th>\n",
       "      <td>H800003</td>\n",
       "      <td>14.908525</td>\n",
       "      <td>35.120240</td>\n",
       "      <td>4.488399</td>\n",
       "      <td>66.330916</td>\n",
       "      <td>92.738296</td>\n",
       "      <td>0.50</td>\n",
       "      <td>29.897820</td>\n",
       "      <td>64.500000</td>\n",
       "      <td>0.420198</td>\n",
       "      <td>...</td>\n",
       "      <td>NaN</td>\n",
       "      <td>NaN</td>\n",
       "      <td>NaN</td>\n",
       "      <td>NaN</td>\n",
       "      <td>NaN</td>\n",
       "      <td>NaN</td>\n",
       "      <td>NaN</td>\n",
       "      <td>0.780895</td>\n",
       "      <td>0.932657</td>\n",
       "      <td>0.911542</td>\n",
       "    </tr>\n",
       "    <tr>\n",
       "      <th>3</th>\n",
       "      <td>H800004</td>\n",
       "      <td>17.141517</td>\n",
       "      <td>55.996969</td>\n",
       "      <td>10.324276</td>\n",
       "      <td>66.854706</td>\n",
       "      <td>65.144946</td>\n",
       "      <td>0.44</td>\n",
       "      <td>28.332181</td>\n",
       "      <td>61.458333</td>\n",
       "      <td>0.495820</td>\n",
       "      <td>...</td>\n",
       "      <td>NaN</td>\n",
       "      <td>NaN</td>\n",
       "      <td>NaN</td>\n",
       "      <td>NaN</td>\n",
       "      <td>NaN</td>\n",
       "      <td>NaN</td>\n",
       "      <td>NaN</td>\n",
       "      <td>-0.969236</td>\n",
       "      <td>-0.983236</td>\n",
       "      <td>-0.695738</td>\n",
       "    </tr>\n",
       "    <tr>\n",
       "      <th>4</th>\n",
       "      <td>H800006</td>\n",
       "      <td>24.291345</td>\n",
       "      <td>52.741362</td>\n",
       "      <td>3.316912</td>\n",
       "      <td>64.354366</td>\n",
       "      <td>81.240676</td>\n",
       "      <td>0.72</td>\n",
       "      <td>43.488300</td>\n",
       "      <td>178.375000</td>\n",
       "      <td>0.465371</td>\n",
       "      <td>...</td>\n",
       "      <td>NaN</td>\n",
       "      <td>NaN</td>\n",
       "      <td>NaN</td>\n",
       "      <td>NaN</td>\n",
       "      <td>NaN</td>\n",
       "      <td>NaN</td>\n",
       "      <td>NaN</td>\n",
       "      <td>0.245690</td>\n",
       "      <td>0.568276</td>\n",
       "      <td>0.495086</td>\n",
       "    </tr>\n",
       "  </tbody>\n",
       "</table>\n",
       "<p>5 rows × 4804 columns</p>\n",
       "</div>"
      ],
      "text/plain": [
       "  gls_subject_code  turn_vel_std_day_1  turn_vel_mean_ankle_day_1  \\\n",
       "0          H800001           22.174349                  48.212574   \n",
       "1          H800002                 NaN                        NaN   \n",
       "2          H800003           14.908525                  35.120240   \n",
       "3          H800004           17.141517                  55.996969   \n",
       "4          H800006           24.291345                  52.741362   \n",
       "\n",
       "   movement_rate_day_1  turn_vel_mean_day_1  turn_vel_std_ankle_day_1  \\\n",
       "0             6.701800            57.883232                 60.263901   \n",
       "1                  NaN                  NaN                       NaN   \n",
       "2             4.488399            66.330916                 92.738296   \n",
       "3            10.324276            66.854706                 65.144946   \n",
       "4             3.316912            64.354366                 81.240676   \n",
       "\n",
       "   turn_duration_day_1  turn_angle_day_1  walk_minutes_day_1  swing_day_1  \\\n",
       "0                 0.42         23.911008          149.375000     0.427722   \n",
       "1                  NaN               NaN                 NaN          NaN   \n",
       "2                 0.50         29.897820           64.500000     0.420198   \n",
       "3                 0.44         28.332181           61.458333     0.495820   \n",
       "4                 0.72         43.488300          178.375000     0.465371   \n",
       "\n",
       "         ...         hrv_sdnn_at_home_day_80  \\\n",
       "0        ...                             NaN   \n",
       "1        ...                             NaN   \n",
       "2        ...                             NaN   \n",
       "3        ...                             NaN   \n",
       "4        ...                             NaN   \n",
       "\n",
       "   hourly_temp_median_at_home_day_80  hourly_temp_std_at_home_day_80  \\\n",
       "0                                NaN                             NaN   \n",
       "1                                NaN                             NaN   \n",
       "2                                NaN                             NaN   \n",
       "3                                NaN                             NaN   \n",
       "4                                NaN                             NaN   \n",
       "\n",
       "   hourly_temp_range_at_home_day_80  hourly_amb_temp_median_at_home_day_80  \\\n",
       "0                               NaN                                    NaN   \n",
       "1                               NaN                                    NaN   \n",
       "2                               NaN                                    NaN   \n",
       "3                               NaN                                    NaN   \n",
       "4                               NaN                                    NaN   \n",
       "\n",
       "   hourly_amb_temp_std_at_home_day_80  hourly_amb_temp_range_at_home_day_80  \\\n",
       "0                                 NaN                                   NaN   \n",
       "1                                 NaN                                   NaN   \n",
       "2                                 NaN                                   NaN   \n",
       "3                                 NaN                                   NaN   \n",
       "4                                 NaN                                   NaN   \n",
       "\n",
       "   msfc_composite_1  msfc_composite_2  msfc_composite_3  \n",
       "0         -1.211435         -1.385647         -1.407630  \n",
       "1          0.389599          1.109154          0.631568  \n",
       "2          0.780895          0.932657          0.911542  \n",
       "3         -0.969236         -0.983236         -0.695738  \n",
       "4          0.245690          0.568276          0.495086  \n",
       "\n",
       "[5 rows x 4804 columns]"
      ]
     },
     "execution_count": 156,
     "metadata": {},
     "output_type": "execute_result"
    }
   ],
   "source": [
    "# fix the index of the transformed dataset\n",
    "FeatureDay_filtered_reshaped = final_df.reset_index(drop=True)\n",
    "FeatureDay_filtered_reshaped.head()"
   ]
  },
  {
   "cell_type": "code",
   "execution_count": 157,
   "metadata": {
    "collapsed": true
   },
   "outputs": [],
   "source": [
    "#####################################################END OF RESHAPING FEATUREDAY######################################################"
   ]
  },
  {
   "cell_type": "code",
   "execution_count": 158,
   "metadata": {
    "collapsed": false
   },
   "outputs": [
    {
     "data": {
      "text/plain": [
       "(25, 64)"
      ]
     },
     "execution_count": 158,
     "metadata": {},
     "output_type": "execute_result"
    },
    {
     "data": {
      "text/plain": [
       "(22, 64)"
      ]
     },
     "execution_count": 158,
     "metadata": {},
     "output_type": "execute_result"
    },
    {
     "data": {
      "text/plain": [
       "(25, 4804)"
      ]
     },
     "execution_count": 158,
     "metadata": {},
     "output_type": "execute_result"
    },
    {
     "data": {
      "text/plain": [
       "(20, 1830)"
      ]
     },
     "execution_count": 158,
     "metadata": {},
     "output_type": "execute_result"
    }
   ],
   "source": [
    "# preprocessing: remove columns, rows with > 50% null values\n",
    "\n",
    "# feature study\n",
    "# column\n",
    "TH = FeatureStudy_filtered.shape[0]/2\n",
    "FeatureStudy_filtered_nullDropped = remove_columns_with_null(FeatureStudy_filtered, TH)\n",
    "# row\n",
    "TH = FeatureStudy_filtered.shape[1]/2\n",
    "FeatureStudy_filtered_nullDropped = remove_rows_with_null(FeatureStudy_filtered_nullDropped, TH)\n",
    "\n",
    "# feature day\n",
    "# column\n",
    "TH = FeatureDay_filtered_reshaped.shape[0]/2\n",
    "FeatureDay_filtered_reshaped_nullDropped = remove_columns_with_null(FeatureDay_filtered_reshaped, TH)\n",
    "# row\n",
    "TH = FeatureDay_filtered_reshaped_nullDropped.shape[1]/2\n",
    "FeatureDay_filtered_reshaped_nullDropped = remove_rows_with_null(FeatureDay_filtered_reshaped_nullDropped, TH)\n",
    "\n",
    "# compare shapes of new data frames with original ones\n",
    "FeatureStudy_filtered.shape\n",
    "FeatureStudy_filtered_nullDropped.shape\n",
    "FeatureDay_filtered_reshaped.shape\n",
    "FeatureDay_filtered_reshaped_nullDropped.shape"
   ]
  },
  {
   "cell_type": "code",
   "execution_count": 159,
   "metadata": {
    "collapsed": false
   },
   "outputs": [
    {
     "name": "stderr",
     "output_type": "stream",
     "text": [
      "/opt/python3/lib/python3.5/site-packages/pandas/core/generic.py:3191: SettingWithCopyWarning: \n",
      "A value is trying to be set on a copy of a slice from a DataFrame\n",
      "\n",
      "See the caveats in the documentation: http://pandas.pydata.org/pandas-docs/stable/indexing.html#indexing-view-versus-copy\n",
      "  self._update_inplace(new_data)\n"
     ]
    }
   ],
   "source": [
    "# preprocessing: fill null values\n",
    "# msfc composite scores: mean on row\n",
    "# feature values: mean on columns\n",
    "df_study = filter_dataFrame_fillna(FeatureStudy_filtered_nullDropped)\n",
    "df_day = filter_dataFrame_fillna(FeatureDay_filtered_reshaped_nullDropped)"
   ]
  },
  {
   "cell_type": "code",
   "execution_count": 160,
   "metadata": {
    "collapsed": false
   },
   "outputs": [
    {
     "data": {
      "text/plain": [
       "(20, 1830)"
      ]
     },
     "execution_count": 160,
     "metadata": {},
     "output_type": "execute_result"
    },
    {
     "data": {
      "text/plain": [
       "0"
      ]
     },
     "execution_count": 160,
     "metadata": {},
     "output_type": "execute_result"
    },
    {
     "data": {
      "text/plain": [
       "(22, 64)"
      ]
     },
     "execution_count": 160,
     "metadata": {},
     "output_type": "execute_result"
    },
    {
     "data": {
      "text/plain": [
       "0"
      ]
     },
     "execution_count": 160,
     "metadata": {},
     "output_type": "execute_result"
    }
   ],
   "source": [
    "# check to make sure there is no null value left\n",
    "df_day.shape\n",
    "df_day.isnull().sum().sum()\n",
    "df_study.shape\n",
    "df_study.isnull().sum().sum()"
   ]
  },
  {
   "cell_type": "code",
   "execution_count": 161,
   "metadata": {
    "collapsed": true
   },
   "outputs": [],
   "source": [
    "# data engineering: add msfc3-msfc2 to the datasets\n",
    "# there are three potential targets to predict: msfc_composite_3, msfc_change, msfc_composite_3_bin\n",
    "df_study['msfc_change'] = df_study['msfc_composite_3'] - df_study['msfc_composite_2']\n",
    "df_day['msfc_change'] = df_day['msfc_composite_3'] - df_day['msfc_composite_2']"
   ]
  },
  {
   "cell_type": "code",
   "execution_count": 162,
   "metadata": {
    "collapsed": false
   },
   "outputs": [],
   "source": [
    "# data engineering: add binned msfc3 scores to the dataset\n",
    "num_of_bins = 3\n",
    "minimum =  df_study['msfc_composite_3'].min()\n",
    "maximum = df_study['msfc_composite_3'].max()\n",
    "df_study['msfc_composite_3_bin'] = df_study['msfc_composite_3'].apply(bin_scores, args=(num_of_bins, minimum, maximum))\n",
    "\n",
    "num_of_bins = 3\n",
    "minimum =  df_day['msfc_composite_3'].min()\n",
    "maximum = df_day['msfc_composite_3'].max()\n",
    "df_day['msfc_composite_3_bin'] = df_day['msfc_composite_3'].apply(bin_scores, args=(num_of_bins, minimum, maximum))"
   ]
  },
  {
   "cell_type": "code",
   "execution_count": 163,
   "metadata": {
    "collapsed": false
   },
   "outputs": [],
   "source": [
    "# msfc1 and msfc2 are both included mong features\n",
    "# prepare x,y\n",
    "# df_study\n",
    "col_names_potential_targets = ['msfc_composite_3','msfc_change', 'msfc_composite_3_bin']\n",
    "remove_cols = col_names_potential_targets.append('gls_subject_code')\n",
    "x_study = df_study.drop(col_names_potential_targets,axis=1)\n",
    "y_study_score = df_study['msfc_composite_3']\n",
    "y_study_scoreChange = df_study['msfc_change']\n",
    "# normalize data\n",
    "from sklearn import preprocessing\n",
    "x_study_scaled = pd.DataFrame(preprocessing.normalize(x_study),columns=x_study.columns)"
   ]
  },
  {
   "cell_type": "code",
   "execution_count": 164,
   "metadata": {
    "collapsed": true
   },
   "outputs": [],
   "source": [
    "# prepare x,y\n",
    "# df_day\n",
    "col_names_potential_targets = ['msfc_composite_3','msfc_change', 'msfc_composite_3_bin']\n",
    "remove_cols = col_names_potential_targets.append('gls_subject_code')\n",
    "x_day = df_day.drop(col_names_potential_targets,axis=1)\n",
    "y_day_score = df_day['msfc_composite_3']\n",
    "y_day_scoreChange = df_day['msfc_change']\n",
    "# normalize data\n",
    "from sklearn import preprocessing\n",
    "x_day_scaled = pd.DataFrame(preprocessing.normalize(x_day),columns=x_day.columns)"
   ]
  },
  {
   "cell_type": "code",
   "execution_count": 174,
   "metadata": {
    "collapsed": true
   },
   "outputs": [],
   "source": [
    "# model prediction, include msfc2 & msfc1 as features\n",
    "# LassoCV \n",
    "# it will automatically look for the best alpha and do the cross validation\n",
    "train_data = []\n",
    "target = []\n",
    "alphas = []\n",
    "selected_features = []\n",
    "coefficients = []\n",
    "MSEs = []\n",
    "model_complexity = []\n",
    "model_complexity_unique = []\n",
    "num_of_samples = []\n",
    "num_of_features = []"
   ]
  },
  {
   "cell_type": "code",
   "execution_count": 175,
   "metadata": {
    "collapsed": false,
    "scrolled": false
   },
   "outputs": [
    {
     "data": {
      "text/plain": [
       "LassoCV(alphas=None, copy_X=True, cv=10, eps=0.001, fit_intercept=True,\n",
       "    max_iter=1000, n_alphas=100, n_jobs=1, normalize=True, positive=False,\n",
       "    precompute='auto', random_state=42, selection='cyclic', tol=0.0001,\n",
       "    verbose=False)"
      ]
     },
     "execution_count": 175,
     "metadata": {},
     "output_type": "execute_result"
    },
    {
     "name": "stderr",
     "output_type": "stream",
     "text": [
      "/opt/python3/lib/python3.5/site-packages/sklearn/linear_model/coordinate_descent.py:466: ConvergenceWarning: Objective did not converge. You might want to increase the number of iterations\n",
      "  ConvergenceWarning)\n"
     ]
    },
    {
     "data": {
      "text/plain": [
       "<matplotlib.figure.Figure at 0x7fac244b6ac8>"
      ]
     },
     "execution_count": 175,
     "metadata": {},
     "output_type": "execute_result"
    },
    {
     "data": {
      "text/plain": [
       "[<matplotlib.lines.Line2D at 0x7fac1fd78588>,\n",
       " <matplotlib.lines.Line2D at 0x7fac1fd78780>,\n",
       " <matplotlib.lines.Line2D at 0x7fac1fd78a58>,\n",
       " <matplotlib.lines.Line2D at 0x7fac1fd78c88>,\n",
       " <matplotlib.lines.Line2D at 0x7fac1fd78eb8>,\n",
       " <matplotlib.lines.Line2D at 0x7fac1fd7d128>,\n",
       " <matplotlib.lines.Line2D at 0x7fac1fd7d358>,\n",
       " <matplotlib.lines.Line2D at 0x7fac1fd7d588>,\n",
       " <matplotlib.lines.Line2D at 0x7fac1fd7d7b8>,\n",
       " <matplotlib.lines.Line2D at 0x7fac1fd7d9e8>]"
      ]
     },
     "execution_count": 175,
     "metadata": {},
     "output_type": "execute_result"
    },
    {
     "data": {
      "text/plain": [
       "[<matplotlib.lines.Line2D at 0x7fac1faaf780>]"
      ]
     },
     "execution_count": 175,
     "metadata": {},
     "output_type": "execute_result"
    },
    {
     "data": {
      "text/plain": [
       "<matplotlib.lines.Line2D at 0x7fac1fd7dc18>"
      ]
     },
     "execution_count": 175,
     "metadata": {},
     "output_type": "execute_result"
    },
    {
     "data": {
      "text/plain": [
       "<matplotlib.legend.Legend at 0x7fac1fd73da0>"
      ]
     },
     "execution_count": 175,
     "metadata": {},
     "output_type": "execute_result"
    },
    {
     "data": {
      "text/plain": [
       "<matplotlib.text.Text at 0x7fac1fabaa20>"
      ]
     },
     "execution_count": 175,
     "metadata": {},
     "output_type": "execute_result"
    },
    {
     "data": {
      "text/plain": [
       "<matplotlib.text.Text at 0x7fac1fa72860>"
      ]
     },
     "execution_count": 175,
     "metadata": {},
     "output_type": "execute_result"
    },
    {
     "data": {
      "text/plain": [
       "<matplotlib.text.Text at 0x7fac1fa7aeb8>"
      ]
     },
     "execution_count": 175,
     "metadata": {},
     "output_type": "execute_result"
    },
    {
     "data": {
      "text/plain": [
       "{'duration_movement_count': 3.4342607319232138e-09,\n",
       " 'mobility_activity_at_home_time': -1.3727683782510722e-05,\n",
       " 'mobility_stance_at_home': -0.45233265214990481,\n",
       " 'movement_rate': -0.013811662794888479,\n",
       " 'msfc_composite_1': 0.4077747417789509,\n",
       " 'msfc_composite_2': 0.30857687815319518,\n",
       " 'turn_vel_std_ankle': 0.0033892832018009565}"
      ]
     },
     "execution_count": 175,
     "metadata": {},
     "output_type": "execute_result"
    },
    {
     "data": {
      "text/html": [
       "<div>\n",
       "<table border=\"1\" class=\"dataframe\">\n",
       "  <thead>\n",
       "    <tr style=\"text-align: right;\">\n",
       "      <th></th>\n",
       "      <th>selected_features</th>\n",
       "    </tr>\n",
       "  </thead>\n",
       "  <tbody>\n",
       "    <tr>\n",
       "      <th>0</th>\n",
       "      <td>turn_vel_std_ankle</td>\n",
       "    </tr>\n",
       "    <tr>\n",
       "      <th>1</th>\n",
       "      <td>duration_movement_count</td>\n",
       "    </tr>\n",
       "    <tr>\n",
       "      <th>2</th>\n",
       "      <td>movement_rate</td>\n",
       "    </tr>\n",
       "    <tr>\n",
       "      <th>3</th>\n",
       "      <td>mobility_stance_at_home</td>\n",
       "    </tr>\n",
       "    <tr>\n",
       "      <th>4</th>\n",
       "      <td>mobility_activity_at_home_time</td>\n",
       "    </tr>\n",
       "    <tr>\n",
       "      <th>5</th>\n",
       "      <td>msfc_composite_1</td>\n",
       "    </tr>\n",
       "    <tr>\n",
       "      <th>6</th>\n",
       "      <td>msfc_composite_2</td>\n",
       "    </tr>\n",
       "  </tbody>\n",
       "</table>\n",
       "</div>"
      ],
      "text/plain": [
       "                selected_features\n",
       "0              turn_vel_std_ankle\n",
       "1         duration_movement_count\n",
       "2                   movement_rate\n",
       "3         mobility_stance_at_home\n",
       "4  mobility_activity_at_home_time\n",
       "5                msfc_composite_1\n",
       "6                msfc_composite_2"
      ]
     },
     "execution_count": 175,
     "metadata": {},
     "output_type": "execute_result"
    },
    {
     "data": {
      "image/png": "[encoded data removed]",
      "text/plain": [
       "<matplotlib.figure.Figure at 0x7fac244b6ac8>"
      ]
     },
     "metadata": {},
     "output_type": "display_data"
    }
   ],
   "source": [
    "# train data: feature study(normalized)\n",
    "# target: msfc3 \n",
    "# validation: 10-fold cross validation\n",
    "\n",
    "# train the model, 10 fold cross validation\n",
    "from sklearn.cross_validation import KFold, cross_val_score\n",
    "from sklearn.linear_model import LassoCV\n",
    "x = x_study\n",
    "y = y_study_score\n",
    "k = 10\n",
    "\n",
    "lasso = LassoCV(cv=k,random_state=42,normalize=True)  \n",
    "lasso.fit(x,y)\n",
    "scores = cross_val_score(lasso, x, y, cv=k, scoring='mean_squared_error')\n",
    "\n",
    "# plot mean square error for each fold\n",
    "model = lasso\n",
    "m_log_alphascv = -np.log10(model.alphas_)\n",
    "plt.figure(figsize=(10,5))\n",
    "plt.plot(m_log_alphascv, model.mse_path_, ':')\n",
    "plt.plot(m_log_alphascv, model.mse_path_.mean(axis=-1), 'k',\n",
    "         label='Average across the folds', linewidth=2)\n",
    "plt.axvline(-np.log10(model.alpha_), linestyle='--', color='k',\n",
    "            label='chosen alpha by CV')\n",
    "plt.legend()\n",
    "plt.xlabel('-log(alpha)')\n",
    "plt.ylabel('Mean squared error')\n",
    "plt.title('Mean squared error on each fold')\n",
    "\n",
    "# print variable names and regression coefficients\n",
    "features = []\n",
    "coeffs = []\n",
    "for i in range(len(lasso.coef_)):\n",
    "    if lasso.coef_[i] != 0:\n",
    "        coeffs.append(lasso.coef_[i])\n",
    "        features.append(list(x.columns)[i])\n",
    "dict(zip(features, coeffs))\n",
    "\n",
    "# save the data into a dataframe\n",
    "train_data.append('FeatureStudy')\n",
    "target.append('msfc3')\n",
    "alphas.append(lasso.alpha_)\n",
    "selected_features.append(features)\n",
    "coefficients.append(coeffs)\n",
    "MSEs.append(abs(scores).mean())\n",
    "model_complexity.append(len(coeffs))\n",
    "num_of_samples.append(len(y))\n",
    "num_of_features.append(x.shape[1])\n",
    "model_complexity_unique.append(len(coeffs))\n",
    "\n",
    "# print out a table of selected features\n",
    "feature_df = pd.DataFrame()\n",
    "feature_df['selected_features'] = features\n",
    "feature_df"
   ]
  },
  {
   "cell_type": "code",
   "execution_count": 98,
   "metadata": {
    "collapsed": false
   },
   "outputs": [
    {
     "data": {
      "text/plain": [
       "<matplotlib.collections.PathCollection at 0x7fac24c9f908>"
      ]
     },
     "execution_count": 98,
     "metadata": {},
     "output_type": "execute_result"
    },
    {
     "data": {
      "text/plain": [
       "<matplotlib.text.Text at 0x7fac24c95320>"
      ]
     },
     "execution_count": 98,
     "metadata": {},
     "output_type": "execute_result"
    },
    {
     "data": {
      "text/plain": [
       "<matplotlib.text.Text at 0x7fac248cac88>"
      ]
     },
     "execution_count": 98,
     "metadata": {},
     "output_type": "execute_result"
    },
    {
     "data": {
      "text/plain": [
       "<matplotlib.text.Text at 0x7fac248b3588>"
      ]
     },
     "execution_count": 98,
     "metadata": {},
     "output_type": "execute_result"
    },
    {
     "data": {
      "image/png": "[encoded data removed]",
      "text/plain": [
       "<matplotlib.figure.Figure at 0x7fac248ff588>"
      ]
     },
     "metadata": {},
     "output_type": "display_data"
    }
   ],
   "source": [
    "# train data: feature study(normalized)\n",
    "# target: msfc3 \n",
    "# plot predictions against actual values\n",
    "plt.scatter(y.tolist(), lasso.predict(x))\n",
    "plt.title('Predictions plot against actual values')\n",
    "plt.ylabel('Predictions')\n",
    "plt.xlabel('Actual Values')"
   ]
  },
  {
   "cell_type": "code",
   "execution_count": 99,
   "metadata": {
    "collapsed": false
   },
   "outputs": [
    {
     "data": {
      "text/plain": [
       "<matplotlib.collections.PathCollection at 0x7fac24bf3a58>"
      ]
     },
     "execution_count": 99,
     "metadata": {},
     "output_type": "execute_result"
    },
    {
     "data": {
      "text/plain": [
       "<matplotlib.collections.LineCollection at 0x7fac24c98ef0>"
      ]
     },
     "execution_count": 99,
     "metadata": {},
     "output_type": "execute_result"
    },
    {
     "data": {
      "text/plain": [
       "<matplotlib.text.Text at 0x7fac248d62b0>"
      ]
     },
     "execution_count": 99,
     "metadata": {},
     "output_type": "execute_result"
    },
    {
     "data": {
      "text/plain": [
       "<matplotlib.text.Text at 0x7fac24bd1780>"
      ]
     },
     "execution_count": 99,
     "metadata": {},
     "output_type": "execute_result"
    },
    {
     "data": {
      "text/plain": [
       "<matplotlib.text.Text at 0x7fac248b3160>"
      ]
     },
     "execution_count": 99,
     "metadata": {},
     "output_type": "execute_result"
    },
    {
     "data": {
      "image/png": "[encoded data removed]",
      "text/plain": [
       "<matplotlib.figure.Figure at 0x7fac24c98240>"
      ]
     },
     "metadata": {},
     "output_type": "display_data"
    }
   ],
   "source": [
    "# train data: feature study(normalized)\n",
    "# target: msfc3 \n",
    "# plot residuals against actual values\n",
    "residuals = [i-j for i,j in zip(lasso.predict(x), y.tolist())]\n",
    "plt.scatter(y.tolist(), residuals)\n",
    "plt.hlines(y=0,xmin=-2, xmax=2)\n",
    "plt.title('Residuals plot against actual values')\n",
    "plt.ylabel('Residuals')\n",
    "plt.xlabel('Actual Values')"
   ]
  },
  {
   "cell_type": "code",
   "execution_count": 176,
   "metadata": {
    "collapsed": false,
    "scrolled": false
   },
   "outputs": [
    {
     "data": {
      "text/plain": [
       "LassoCV(alphas=None, copy_X=True, cv=10, eps=0.001, fit_intercept=True,\n",
       "    max_iter=1000, n_alphas=100, n_jobs=1, normalize=True, positive=False,\n",
       "    precompute='auto', random_state=42, selection='cyclic', tol=0.0001,\n",
       "    verbose=False)"
      ]
     },
     "execution_count": 176,
     "metadata": {},
     "output_type": "execute_result"
    },
    {
     "name": "stderr",
     "output_type": "stream",
     "text": [
      "/opt/python3/lib/python3.5/site-packages/sklearn/linear_model/coordinate_descent.py:466: ConvergenceWarning: Objective did not converge. You might want to increase the number of iterations\n",
      "  ConvergenceWarning)\n",
      "/opt/python3/lib/python3.5/site-packages/sklearn/linear_model/coordinate_descent.py:466: ConvergenceWarning: Objective did not converge. You might want to increase the number of iterations\n",
      "  ConvergenceWarning)\n",
      "/opt/python3/lib/python3.5/site-packages/sklearn/linear_model/coordinate_descent.py:466: ConvergenceWarning: Objective did not converge. You might want to increase the number of iterations\n",
      "  ConvergenceWarning)\n",
      "/opt/python3/lib/python3.5/site-packages/sklearn/linear_model/coordinate_descent.py:466: ConvergenceWarning: Objective did not converge. You might want to increase the number of iterations\n",
      "  ConvergenceWarning)\n"
     ]
    },
    {
     "data": {
      "text/plain": [
       "<matplotlib.figure.Figure at 0x7fac1f948ef0>"
      ]
     },
     "execution_count": 176,
     "metadata": {},
     "output_type": "execute_result"
    },
    {
     "data": {
      "text/plain": [
       "[<matplotlib.lines.Line2D at 0x7fac1fae94a8>,\n",
       " <matplotlib.lines.Line2D at 0x7fac1fae9668>,\n",
       " <matplotlib.lines.Line2D at 0x7fac1fae9940>,\n",
       " <matplotlib.lines.Line2D at 0x7fac1fae9b70>,\n",
       " <matplotlib.lines.Line2D at 0x7fac1fae9da0>,\n",
       " <matplotlib.lines.Line2D at 0x7fac1fae9fd0>,\n",
       " <matplotlib.lines.Line2D at 0x7fac1fae3240>,\n",
       " <matplotlib.lines.Line2D at 0x7fac1fae3470>,\n",
       " <matplotlib.lines.Line2D at 0x7fac1fae36a0>,\n",
       " <matplotlib.lines.Line2D at 0x7fac1fae38d0>]"
      ]
     },
     "execution_count": 176,
     "metadata": {},
     "output_type": "execute_result"
    },
    {
     "data": {
      "text/plain": [
       "[<matplotlib.lines.Line2D at 0x7fac1fb14fd0>]"
      ]
     },
     "execution_count": 176,
     "metadata": {},
     "output_type": "execute_result"
    },
    {
     "data": {
      "text/plain": [
       "<matplotlib.lines.Line2D at 0x7fac1fae3b00>"
      ]
     },
     "execution_count": 176,
     "metadata": {},
     "output_type": "execute_result"
    },
    {
     "data": {
      "text/plain": [
       "<matplotlib.legend.Legend at 0x7fac24769ba8>"
      ]
     },
     "execution_count": 176,
     "metadata": {},
     "output_type": "execute_result"
    },
    {
     "data": {
      "text/plain": [
       "<matplotlib.text.Text at 0x7fac1fb267f0>"
      ]
     },
     "execution_count": 176,
     "metadata": {},
     "output_type": "execute_result"
    },
    {
     "data": {
      "text/plain": [
       "<matplotlib.text.Text at 0x7fac1fb037f0>"
      ]
     },
     "execution_count": 176,
     "metadata": {},
     "output_type": "execute_result"
    },
    {
     "data": {
      "text/plain": [
       "<matplotlib.text.Text at 0x7fac1fad0160>"
      ]
     },
     "execution_count": 176,
     "metadata": {},
     "output_type": "execute_result"
    },
    {
     "data": {
      "text/plain": [
       "{'fatigue_level_at_home_day_1': -0.041491758161062077,\n",
       " 'hourly_amb_temp_range_at_home_day_59': -0.0059796754176091368,\n",
       " 'hourly_amb_temp_range_at_home_day_60': -0.0013614050186303542,\n",
       " 'hourly_temp_median_at_home_day_1': 0.052105669359207643,\n",
       " 'hourly_temp_range_at_home_day_1': -0.47273888106440104,\n",
       " 'hourly_temp_range_at_home_day_10': -1.9590732265771908e-10,\n",
       " 'hourly_temp_range_at_home_day_11': -2.8795732890706521e-11,\n",
       " 'hourly_temp_range_at_home_day_12': -4.23223728691391e-12,\n",
       " 'hourly_temp_range_at_home_day_13': -6.2236474357066831e-13,\n",
       " 'hourly_temp_range_at_home_day_14': -9.1417293045567665e-14,\n",
       " 'hourly_temp_range_at_home_day_15': -1.3651762270036026e-14,\n",
       " 'hourly_temp_range_at_home_day_16': -1.7825098922534087e-15,\n",
       " 'hourly_temp_range_at_home_day_17': -5.4465580041076374e-16,\n",
       " 'hourly_temp_range_at_home_day_18': -2.1220355860159626e-16,\n",
       " 'hourly_temp_range_at_home_day_19': -2.2635046250836936e-16,\n",
       " 'hourly_temp_range_at_home_day_2': -0.025317343132123662,\n",
       " 'hourly_temp_range_at_home_day_25': -7.0734519533865424e-17,\n",
       " 'hourly_temp_range_at_home_day_27': -5.6587615627092339e-17,\n",
       " 'hourly_temp_range_at_home_day_3': -0.00013216066970772329,\n",
       " 'hourly_temp_range_at_home_day_32': -7.0734519533865424e-18,\n",
       " 'hourly_temp_range_at_home_day_34': -7.0734519533865424e-18,\n",
       " 'hourly_temp_range_at_home_day_35': -7.0734519533865424e-18,\n",
       " 'hourly_temp_range_at_home_day_36': -7.0734519533865424e-18,\n",
       " 'hourly_temp_range_at_home_day_39': -4.2440711720319254e-17,\n",
       " 'hourly_temp_range_at_home_day_4': -1.9425870967266117e-05,\n",
       " 'hourly_temp_range_at_home_day_40': -7.0734519533865424e-18,\n",
       " 'hourly_temp_range_at_home_day_41': -5.6587615627092339e-17,\n",
       " 'hourly_temp_range_at_home_day_43': -1.4146903906773085e-17,\n",
       " 'hourly_temp_range_at_home_day_44': -4.2440711720319254e-17,\n",
       " 'hourly_temp_range_at_home_day_45': -4.2440711720319254e-17,\n",
       " 'hourly_temp_range_at_home_day_47': -2.1220355860159627e-17,\n",
       " 'hourly_temp_range_at_home_day_5': -2.8553461756195461e-06,\n",
       " 'hourly_temp_range_at_home_day_52': -1.4146903906773085e-17,\n",
       " 'hourly_temp_range_at_home_day_54': -1.4146903906773085e-17,\n",
       " 'hourly_temp_range_at_home_day_6': -4.196981332794145e-07,\n",
       " 'hourly_temp_range_at_home_day_7': -6.1690076407880659e-08,\n",
       " 'hourly_temp_range_at_home_day_8': -9.0676255513150131e-09,\n",
       " 'hourly_temp_range_at_home_day_9': -1.3328208360049699e-09,\n",
       " 'hourly_temp_std_at_home_day_62': 0.31599172486913724,\n",
       " 'hourly_temp_std_at_home_day_63': 0.02833156107712051,\n",
       " 'idle_minutes_day_64': -0.00027082069117800655,\n",
       " 'mean_pvt_delay_3_at_home_day_1': -5.0150893523579229e-05,\n",
       " 'mean_pvt_delay_3_at_home_day_2': -4.7246249521209468e-05,\n",
       " 'mean_pvt_delay_7_at_home_day_1': -0.00016232866053277664,\n",
       " 'mean_pvt_delay_7_at_home_day_10': -1.0141567421979306e-08,\n",
       " 'mean_pvt_delay_7_at_home_day_11': -2.3460468228435931e-09,\n",
       " 'mean_pvt_delay_7_at_home_day_12': -5.4132266688357445e-10,\n",
       " 'mean_pvt_delay_7_at_home_day_13': -1.2489851176676802e-10,\n",
       " 'mean_pvt_delay_7_at_home_day_14': -2.8817065139336331e-11,\n",
       " 'mean_pvt_delay_7_at_home_day_15': -6.6487205827660489e-12,\n",
       " 'mean_pvt_delay_7_at_home_day_16': -1.5339963612158704e-12,\n",
       " 'mean_pvt_delay_7_at_home_day_17': -3.5392438336243604e-13,\n",
       " 'mean_pvt_delay_7_at_home_day_18': -8.1655601647372485e-14,\n",
       " 'mean_pvt_delay_7_at_home_day_19': -1.8839757516904044e-14,\n",
       " 'mean_pvt_delay_7_at_home_day_2': -0.00039403764079112667,\n",
       " 'mean_pvt_delay_7_at_home_day_20': -4.3469043761007147e-15,\n",
       " 'mean_pvt_delay_7_at_home_day_21': -1.0022745990750109e-15,\n",
       " 'mean_pvt_delay_7_at_home_day_22': -2.318816436585784e-16,\n",
       " 'mean_pvt_delay_7_at_home_day_23': -5.3024771106591769e-17,\n",
       " 'mean_pvt_delay_7_at_home_day_24': -1.2937960679294331e-17,\n",
       " 'mean_pvt_delay_7_at_home_day_25': -1.9198264233791588e-18,\n",
       " 'mean_pvt_delay_7_at_home_day_26': -8.3470714059963423e-19,\n",
       " 'mean_pvt_delay_7_at_home_day_27': -6.4689803396471656e-19,\n",
       " 'mean_pvt_delay_7_at_home_day_28': -1.0433839257495428e-19,\n",
       " 'mean_pvt_delay_7_at_home_day_29': -6.0516267693473474e-19,\n",
       " 'mean_pvt_delay_7_at_home_day_3': -6.0348924654406881e-05,\n",
       " 'mean_pvt_delay_7_at_home_day_30': -1.4607374960493598e-19,\n",
       " 'mean_pvt_delay_7_at_home_day_31': -8.3470714059963421e-20,\n",
       " 'mean_pvt_delay_7_at_home_day_32': -4.173535702998171e-20,\n",
       " 'mean_pvt_delay_7_at_home_day_33': -1.878091066349177e-19,\n",
       " 'mean_pvt_delay_7_at_home_day_34': -8.3470714059963421e-20,\n",
       " 'mean_pvt_delay_7_at_home_day_35': -1.2520607108994515e-19,\n",
       " 'mean_pvt_delay_7_at_home_day_36': -8.3470714059963421e-20,\n",
       " 'mean_pvt_delay_7_at_home_day_37': -8.3470714059963421e-20,\n",
       " 'mean_pvt_delay_7_at_home_day_4': -9.160693274154405e-06,\n",
       " 'mean_pvt_delay_7_at_home_day_43': -1.0433839257495428e-19,\n",
       " 'mean_pvt_delay_7_at_home_day_46': -2.0867678514990856e-19,\n",
       " 'mean_pvt_delay_7_at_home_day_5': -2.6219691438055891e-07,\n",
       " 'mean_pvt_delay_7_at_home_day_6': -1.9507541850907085e-08,\n",
       " 'mean_pvt_delay_7_at_home_day_61': 0.00080497787584497544,\n",
       " 'mean_pvt_delay_7_at_home_day_62': 8.0054818780858506e-05,\n",
       " 'mean_pvt_delay_7_at_home_day_63': 7.1565108221855993e-05,\n",
       " 'mean_pvt_delay_7_at_home_day_7': -8.4923670540920303e-08,\n",
       " 'mean_pvt_delay_7_at_home_day_8': -7.7864079889969825e-08,\n",
       " 'mean_pvt_delay_7_at_home_day_9': -3.3641092085285014e-08,\n",
       " 'msfc_composite_1': 0.65872798402000043,\n",
       " 'msfc_composite_2': 0.2340901226239521,\n",
       " 'turn_angle_ankle_day_61': 0.0062216753943759558,\n",
       " 'turn_vel_mean_day_61': 0.0077249268882474626}"
      ]
     },
     "execution_count": 176,
     "metadata": {},
     "output_type": "execute_result"
    },
    {
     "data": {
      "text/html": [
       "<div>\n",
       "<table border=\"1\" class=\"dataframe\">\n",
       "  <thead>\n",
       "    <tr style=\"text-align: right;\">\n",
       "      <th></th>\n",
       "      <th>selected_features</th>\n",
       "    </tr>\n",
       "  </thead>\n",
       "  <tbody>\n",
       "    <tr>\n",
       "      <th>0</th>\n",
       "      <td>turn_angle_ankle</td>\n",
       "    </tr>\n",
       "    <tr>\n",
       "      <th>1</th>\n",
       "      <td>hourly_temp_median_at_home</td>\n",
       "    </tr>\n",
       "    <tr>\n",
       "      <th>2</th>\n",
       "      <td>mean_pvt_delay_3_at_home</td>\n",
       "    </tr>\n",
       "    <tr>\n",
       "      <th>3</th>\n",
       "      <td>msfc_composite_2</td>\n",
       "    </tr>\n",
       "    <tr>\n",
       "      <th>4</th>\n",
       "      <td>hourly_temp_range_at_home</td>\n",
       "    </tr>\n",
       "    <tr>\n",
       "      <th>5</th>\n",
       "      <td>mean_pvt_delay_7_at_home</td>\n",
       "    </tr>\n",
       "    <tr>\n",
       "      <th>6</th>\n",
       "      <td>turn_vel_mean</td>\n",
       "    </tr>\n",
       "    <tr>\n",
       "      <th>7</th>\n",
       "      <td>idle_minutes</td>\n",
       "    </tr>\n",
       "    <tr>\n",
       "      <th>8</th>\n",
       "      <td>fatigue_level_at_home</td>\n",
       "    </tr>\n",
       "    <tr>\n",
       "      <th>9</th>\n",
       "      <td>hourly_temp_std_at_home</td>\n",
       "    </tr>\n",
       "    <tr>\n",
       "      <th>10</th>\n",
       "      <td>hourly_amb_temp_range_at_home</td>\n",
       "    </tr>\n",
       "    <tr>\n",
       "      <th>11</th>\n",
       "      <td>msfc_composite_1</td>\n",
       "    </tr>\n",
       "  </tbody>\n",
       "</table>\n",
       "</div>"
      ],
      "text/plain": [
       "                selected_features\n",
       "0                turn_angle_ankle\n",
       "1      hourly_temp_median_at_home\n",
       "2        mean_pvt_delay_3_at_home\n",
       "3                msfc_composite_2\n",
       "4       hourly_temp_range_at_home\n",
       "5        mean_pvt_delay_7_at_home\n",
       "6                   turn_vel_mean\n",
       "7                    idle_minutes\n",
       "8           fatigue_level_at_home\n",
       "9         hourly_temp_std_at_home\n",
       "10  hourly_amb_temp_range_at_home\n",
       "11               msfc_composite_1"
      ]
     },
     "execution_count": 176,
     "metadata": {},
     "output_type": "execute_result"
    },
    {
     "data": {
      "image/png": "[encoded data removed]",
      "text/plain": [
       "<matplotlib.figure.Figure at 0x7fac1f948ef0>"
      ]
     },
     "metadata": {},
     "output_type": "display_data"
    }
   ],
   "source": [
    "# train data: feature day(normalized)\n",
    "# target: msfc3\n",
    "# validation: 10-fold cross validation\n",
    "\n",
    "from sklearn.cross_validation import KFold, cross_val_score\n",
    "from sklearn.linear_model import LassoCV\n",
    "x = x_day\n",
    "y = y_day_score\n",
    "k = 10\n",
    "\n",
    "lasso = LassoCV(cv=k,random_state=42,normalize=True)  \n",
    "lasso.fit(x,y)\n",
    "scores = cross_val_score(lasso, x, y, cv=k,scoring='mean_squared_error')\n",
    "\n",
    "# plot mean square error for each fold\n",
    "model = lasso\n",
    "m_log_alphascv = -np.log10(model.alphas_)\n",
    "plt.figure(figsize=(10,5))\n",
    "plt.plot(m_log_alphascv, model.mse_path_, ':')\n",
    "plt.plot(m_log_alphascv, model.mse_path_.mean(axis=-1), 'k',\n",
    "         label='Average across the folds', linewidth=2)\n",
    "plt.axvline(-np.log10(model.alpha_), linestyle='--', color='k',\n",
    "            label='chosen alpha by CV')\n",
    "plt.legend()\n",
    "plt.xlabel('-log(alpha)')\n",
    "plt.ylabel('Mean squared error')\n",
    "plt.title('Mean squared error on each fold')\n",
    "\n",
    "# print variable names and regression coefficients\n",
    "features = []\n",
    "coeffs = []\n",
    "for i in range(len(lasso.coef_)):\n",
    "    if lasso.coef_[i] != 0:\n",
    "        coeffs.append(lasso.coef_[i])\n",
    "        features.append(list(x.columns)[i])\n",
    "dict(zip(features, coeffs))\n",
    "\n",
    "# save the results into a dataframe\n",
    "train_data.append('FeatureDay')\n",
    "target.append('msfc3')\n",
    "alphas.append(lasso.alpha_)\n",
    "selected_features.append(features)\n",
    "coefficients.append(coeffs)\n",
    "MSEs.append(abs(scores).mean())\n",
    "model_complexity.append(len(coeffs))\n",
    "num_of_samples.append(len(y))\n",
    "num_of_features.append(x.shape[1])\n",
    "model_complexity_unique.append(len(list(set([feature.split('_day_')[0] for feature in features]))))\n",
    "\n",
    "# print out a table of selected features\n",
    "feature_df = pd.DataFrame()\n",
    "feature_df['selected_features'] = list(set([feature.split('_day_')[0] for feature in features]))\n",
    "feature_df"
   ]
  },
  {
   "cell_type": "code",
   "execution_count": 101,
   "metadata": {
    "collapsed": false
   },
   "outputs": [
    {
     "data": {
      "text/plain": [
       "<matplotlib.collections.PathCollection at 0x7fac243dfbe0>"
      ]
     },
     "execution_count": 101,
     "metadata": {},
     "output_type": "execute_result"
    },
    {
     "data": {
      "text/plain": [
       "<matplotlib.text.Text at 0x7fac1ff84208>"
      ]
     },
     "execution_count": 101,
     "metadata": {},
     "output_type": "execute_result"
    },
    {
     "data": {
      "text/plain": [
       "<matplotlib.text.Text at 0x7fac24c21080>"
      ]
     },
     "execution_count": 101,
     "metadata": {},
     "output_type": "execute_result"
    },
    {
     "data": {
      "text/plain": [
       "<matplotlib.text.Text at 0x7fac24c0ef98>"
      ]
     },
     "execution_count": 101,
     "metadata": {},
     "output_type": "execute_result"
    },
    {
     "data": {
      "image/png": "[encoded data removed]",
      "text/plain": [
       "<matplotlib.figure.Figure at 0x7fac24cb1e48>"
      ]
     },
     "metadata": {},
     "output_type": "display_data"
    }
   ],
   "source": [
    "# train data: feature day(normalized)\n",
    "# target: msfc3\n",
    "# plot predictions against actual values\n",
    "plt.scatter(y.tolist(), lasso.predict(x))\n",
    "plt.title('Predictions plot against actual values')\n",
    "plt.ylabel('Predictions')\n",
    "plt.xlabel('Actual Values')"
   ]
  },
  {
   "cell_type": "code",
   "execution_count": 102,
   "metadata": {
    "collapsed": false
   },
   "outputs": [
    {
     "data": {
      "text/plain": [
       "<matplotlib.collections.PathCollection at 0x7fac240b86d8>"
      ]
     },
     "execution_count": 102,
     "metadata": {},
     "output_type": "execute_result"
    },
    {
     "data": {
      "text/plain": [
       "<matplotlib.collections.LineCollection at 0x7fac243b0ba8>"
      ]
     },
     "execution_count": 102,
     "metadata": {},
     "output_type": "execute_result"
    },
    {
     "data": {
      "text/plain": [
       "<matplotlib.text.Text at 0x7fac1ff6ee10>"
      ]
     },
     "execution_count": 102,
     "metadata": {},
     "output_type": "execute_result"
    },
    {
     "data": {
      "text/plain": [
       "<matplotlib.text.Text at 0x7fac243a75c0>"
      ]
     },
     "execution_count": 102,
     "metadata": {},
     "output_type": "execute_result"
    },
    {
     "data": {
      "text/plain": [
       "<matplotlib.text.Text at 0x7fac24c01d30>"
      ]
     },
     "execution_count": 102,
     "metadata": {},
     "output_type": "execute_result"
    },
    {
     "data": {
      "image/png": "[encoded data removed]",
      "text/plain": [
       "<matplotlib.figure.Figure at 0x7fac243b0ac8>"
      ]
     },
     "metadata": {},
     "output_type": "display_data"
    }
   ],
   "source": [
    "# train data: feature day(normalized)\n",
    "# target: msfc3\n",
    "# plot residuals against actual values\n",
    "residuals = [i-j for i,j in zip(lasso.predict(x), y.tolist())]\n",
    "plt.scatter(y.tolist(), residuals)\n",
    "plt.hlines(y=0,xmin=-2, xmax=2)\n",
    "plt.title('Residuals plot against actual values')\n",
    "plt.ylabel('Residuals')\n",
    "plt.xlabel('Actual Values')"
   ]
  },
  {
   "cell_type": "code",
   "execution_count": 177,
   "metadata": {
    "collapsed": false,
    "scrolled": false
   },
   "outputs": [
    {
     "data": {
      "text/plain": [
       "LassoCV(alphas=None, copy_X=True, cv=10, eps=0.001, fit_intercept=True,\n",
       "    max_iter=1000, n_alphas=100, n_jobs=1, normalize=True, positive=False,\n",
       "    precompute='auto', random_state=42, selection='cyclic', tol=0.0001,\n",
       "    verbose=False)"
      ]
     },
     "execution_count": 177,
     "metadata": {},
     "output_type": "execute_result"
    },
    {
     "name": "stderr",
     "output_type": "stream",
     "text": [
      "/opt/python3/lib/python3.5/site-packages/sklearn/linear_model/coordinate_descent.py:466: ConvergenceWarning: Objective did not converge. You might want to increase the number of iterations\n",
      "  ConvergenceWarning)\n",
      "/opt/python3/lib/python3.5/site-packages/sklearn/linear_model/coordinate_descent.py:466: ConvergenceWarning: Objective did not converge. You might want to increase the number of iterations\n",
      "  ConvergenceWarning)\n",
      "/opt/python3/lib/python3.5/site-packages/sklearn/linear_model/coordinate_descent.py:466: ConvergenceWarning: Objective did not converge. You might want to increase the number of iterations\n",
      "  ConvergenceWarning)\n",
      "/opt/python3/lib/python3.5/site-packages/sklearn/linear_model/coordinate_descent.py:466: ConvergenceWarning: Objective did not converge. You might want to increase the number of iterations\n",
      "  ConvergenceWarning)\n",
      "/opt/python3/lib/python3.5/site-packages/sklearn/linear_model/coordinate_descent.py:466: ConvergenceWarning: Objective did not converge. You might want to increase the number of iterations\n",
      "  ConvergenceWarning)\n"
     ]
    },
    {
     "data": {
      "text/plain": [
       "<matplotlib.figure.Figure at 0x7fac1fd64ba8>"
      ]
     },
     "execution_count": 177,
     "metadata": {},
     "output_type": "execute_result"
    },
    {
     "data": {
      "text/plain": [
       "[<matplotlib.lines.Line2D at 0x7fac1fab0dd8>,\n",
       " <matplotlib.lines.Line2D at 0x7fac1fab05c0>,\n",
       " <matplotlib.lines.Line2D at 0x7fac1fab0080>,\n",
       " <matplotlib.lines.Line2D at 0x7fac1fab0c50>,\n",
       " <matplotlib.lines.Line2D at 0x7fac1fab0cc0>,\n",
       " <matplotlib.lines.Line2D at 0x7fac1fab0898>,\n",
       " <matplotlib.lines.Line2D at 0x7fac1faa5828>,\n",
       " <matplotlib.lines.Line2D at 0x7fac1faa5358>,\n",
       " <matplotlib.lines.Line2D at 0x7fac1faa5dd8>,\n",
       " <matplotlib.lines.Line2D at 0x7fac1faa57f0>]"
      ]
     },
     "execution_count": 177,
     "metadata": {},
     "output_type": "execute_result"
    },
    {
     "data": {
      "text/plain": [
       "[<matplotlib.lines.Line2D at 0x7fac1fb3bb00>]"
      ]
     },
     "execution_count": 177,
     "metadata": {},
     "output_type": "execute_result"
    },
    {
     "data": {
      "text/plain": [
       "<matplotlib.lines.Line2D at 0x7fac1faa5940>"
      ]
     },
     "execution_count": 177,
     "metadata": {},
     "output_type": "execute_result"
    },
    {
     "data": {
      "text/plain": [
       "<matplotlib.legend.Legend at 0x7fac1f962fd0>"
      ]
     },
     "execution_count": 177,
     "metadata": {},
     "output_type": "execute_result"
    },
    {
     "data": {
      "text/plain": [
       "<matplotlib.text.Text at 0x7fac1fb30278>"
      ]
     },
     "execution_count": 177,
     "metadata": {},
     "output_type": "execute_result"
    },
    {
     "data": {
      "text/plain": [
       "<matplotlib.text.Text at 0x7fac1fb3b128>"
      ]
     },
     "execution_count": 177,
     "metadata": {},
     "output_type": "execute_result"
    },
    {
     "data": {
      "text/plain": [
       "<matplotlib.text.Text at 0x7fac1fd69160>"
      ]
     },
     "execution_count": 177,
     "metadata": {},
     "output_type": "execute_result"
    },
    {
     "data": {
      "text/plain": [
       "{'duration_rem_count': 1.6771914588624822e-20}"
      ]
     },
     "execution_count": 177,
     "metadata": {},
     "output_type": "execute_result"
    },
    {
     "data": {
      "text/html": [
       "<div>\n",
       "<table border=\"1\" class=\"dataframe\">\n",
       "  <thead>\n",
       "    <tr style=\"text-align: right;\">\n",
       "      <th></th>\n",
       "      <th>selected_features</th>\n",
       "    </tr>\n",
       "  </thead>\n",
       "  <tbody>\n",
       "    <tr>\n",
       "      <th>0</th>\n",
       "      <td>duration_rem_count</td>\n",
       "    </tr>\n",
       "  </tbody>\n",
       "</table>\n",
       "</div>"
      ],
      "text/plain": [
       "    selected_features\n",
       "0  duration_rem_count"
      ]
     },
     "execution_count": 177,
     "metadata": {},
     "output_type": "execute_result"
    },
    {
     "data": {
      "image/png": "[encoded data removed]",
      "text/plain": [
       "<matplotlib.figure.Figure at 0x7fac1fd64ba8>"
      ]
     },
     "metadata": {},
     "output_type": "display_data"
    }
   ],
   "source": [
    "# train data: feature study(normalized)\n",
    "# target: msfc3 - msfc2\n",
    "# validation: 10-fold cross validation\n",
    "\n",
    "from sklearn.cross_validation import KFold, cross_val_score\n",
    "from sklearn.linear_model import LassoCV\n",
    "x = x_study\n",
    "y = y_study_scoreChange\n",
    "k = 10\n",
    "\n",
    "lasso = LassoCV(cv=k,random_state=42,normalize=True)  \n",
    "lasso.fit(x,y)\n",
    "scores = cross_val_score(lasso, x, y, cv=k,scoring='mean_squared_error')\n",
    "\n",
    "# plot mean square error for each fold\n",
    "model = lasso\n",
    "m_log_alphascv = -np.log10(model.alphas_)\n",
    "plt.figure(figsize=(10,5))\n",
    "plt.plot(m_log_alphascv, model.mse_path_, ':')\n",
    "plt.plot(m_log_alphascv, model.mse_path_.mean(axis=-1), 'k',\n",
    "         label='Average across the folds', linewidth=2)\n",
    "plt.axvline(-np.log10(model.alpha_), linestyle='--', color='k',\n",
    "            label='chosen alpha by CV')\n",
    "plt.legend()\n",
    "plt.xlabel('-log(alpha)')\n",
    "plt.ylabel('Mean squared error')\n",
    "plt.title('Mean squared error on each fold')\n",
    "\n",
    "# print variable names and regression coefficients\n",
    "features = []\n",
    "coeffs = []\n",
    "for i in range(len(lasso.coef_)):\n",
    "    if lasso.coef_[i] != 0:\n",
    "        coeffs.append(lasso.coef_[i])\n",
    "        features.append(list(x.columns)[i])\n",
    "dict(zip(features, coeffs))\n",
    "\n",
    "# save the results into a dataframe\n",
    "train_data.append('FeatureStudy')\n",
    "target.append('msfc3 - msfc2')\n",
    "alphas.append(lasso.alpha_)\n",
    "selected_features.append(features)\n",
    "coefficients.append(coeffs)\n",
    "MSEs.append(abs(scores).mean())\n",
    "model_complexity.append(len(coeffs))\n",
    "num_of_samples.append(len(y))\n",
    "num_of_features.append(x.shape[1])\n",
    "model_complexity_unique.append(len(coeffs))\n",
    "\n",
    "# print out a table of selected features\n",
    "feature_df = pd.DataFrame()\n",
    "feature_df['selected_features'] = features\n",
    "feature_df"
   ]
  },
  {
   "cell_type": "code",
   "execution_count": 104,
   "metadata": {
    "collapsed": false
   },
   "outputs": [
    {
     "data": {
      "text/plain": [
       "<matplotlib.collections.PathCollection at 0x7fac2bb32b38>"
      ]
     },
     "execution_count": 104,
     "metadata": {},
     "output_type": "execute_result"
    },
    {
     "data": {
      "text/plain": [
       "<matplotlib.text.Text at 0x7fac2bb2b208>"
      ]
     },
     "execution_count": 104,
     "metadata": {},
     "output_type": "execute_result"
    },
    {
     "data": {
      "text/plain": [
       "<matplotlib.text.Text at 0x7fac2bb88f28>"
      ]
     },
     "execution_count": 104,
     "metadata": {},
     "output_type": "execute_result"
    },
    {
     "data": {
      "text/plain": [
       "<matplotlib.text.Text at 0x7fac1ff5a7b8>"
      ]
     },
     "execution_count": 104,
     "metadata": {},
     "output_type": "execute_result"
    },
    {
     "data": {
      "image/png": "[encoded data removed]",
      "text/plain": [
       "<matplotlib.figure.Figure at 0x7fac1ff5b128>"
      ]
     },
     "metadata": {},
     "output_type": "display_data"
    }
   ],
   "source": [
    "# train data: feature study(normalized)\n",
    "# target: msfc3 - msfc2\n",
    "# plot predictions against actual values\n",
    "plt.scatter(y.tolist(), lasso.predict(x))\n",
    "plt.title('Predictions plot against actual values')\n",
    "plt.ylabel('Predictions')\n",
    "plt.xlabel('Actual Values')"
   ]
  },
  {
   "cell_type": "code",
   "execution_count": 105,
   "metadata": {
    "collapsed": false
   },
   "outputs": [
    {
     "data": {
      "text/plain": [
       "<matplotlib.collections.PathCollection at 0x7fac2413d358>"
      ]
     },
     "execution_count": 105,
     "metadata": {},
     "output_type": "execute_result"
    },
    {
     "data": {
      "text/plain": [
       "<matplotlib.collections.LineCollection at 0x7fac2bb9c320>"
      ]
     },
     "execution_count": 105,
     "metadata": {},
     "output_type": "execute_result"
    },
    {
     "data": {
      "text/plain": [
       "<matplotlib.text.Text at 0x7fac240d97b8>"
      ]
     },
     "execution_count": 105,
     "metadata": {},
     "output_type": "execute_result"
    },
    {
     "data": {
      "text/plain": [
       "<matplotlib.text.Text at 0x7fac240c5dd8>"
      ]
     },
     "execution_count": 105,
     "metadata": {},
     "output_type": "execute_result"
    },
    {
     "data": {
      "text/plain": [
       "<matplotlib.text.Text at 0x7fac1ff5bbe0>"
      ]
     },
     "execution_count": 105,
     "metadata": {},
     "output_type": "execute_result"
    },
    {
     "data": {
      "image/png": "[encoded data removed]",
      "text/plain": [
       "<matplotlib.figure.Figure at 0x7fac2bb9c390>"
      ]
     },
     "metadata": {},
     "output_type": "display_data"
    }
   ],
   "source": [
    "# train data: feature study(normalized)\n",
    "# traget: msfc3 - msfc2\n",
    "# plot residuals against actual values\n",
    "residuals = [i-j for i,j in zip(lasso.predict(x), y.tolist())]\n",
    "plt.scatter(y.tolist(), residuals)\n",
    "plt.hlines(y=0,xmin=-2, xmax=2)\n",
    "plt.title('Residuals plot against actual values')\n",
    "plt.ylabel('Residuals')\n",
    "plt.xlabel('Actual Values')"
   ]
  },
  {
   "cell_type": "code",
   "execution_count": 178,
   "metadata": {
    "collapsed": false,
    "scrolled": false
   },
   "outputs": [
    {
     "name": "stderr",
     "output_type": "stream",
     "text": [
      "/opt/python3/lib/python3.5/site-packages/sklearn/linear_model/coordinate_descent.py:466: ConvergenceWarning: Objective did not converge. You might want to increase the number of iterations\n",
      "  ConvergenceWarning)\n",
      "/opt/python3/lib/python3.5/site-packages/sklearn/linear_model/coordinate_descent.py:466: ConvergenceWarning: Objective did not converge. You might want to increase the number of iterations\n",
      "  ConvergenceWarning)\n"
     ]
    },
    {
     "data": {
      "text/plain": [
       "LassoCV(alphas=None, copy_X=True, cv=10, eps=0.001, fit_intercept=True,\n",
       "    max_iter=1000, n_alphas=100, n_jobs=1, normalize=True, positive=False,\n",
       "    precompute='auto', random_state=42, selection='cyclic', tol=0.0001,\n",
       "    verbose=False)"
      ]
     },
     "execution_count": 178,
     "metadata": {},
     "output_type": "execute_result"
    },
    {
     "name": "stderr",
     "output_type": "stream",
     "text": [
      "/opt/python3/lib/python3.5/site-packages/sklearn/linear_model/coordinate_descent.py:466: ConvergenceWarning: Objective did not converge. You might want to increase the number of iterations\n",
      "  ConvergenceWarning)\n",
      "/opt/python3/lib/python3.5/site-packages/sklearn/linear_model/coordinate_descent.py:466: ConvergenceWarning: Objective did not converge. You might want to increase the number of iterations\n",
      "  ConvergenceWarning)\n",
      "/opt/python3/lib/python3.5/site-packages/sklearn/linear_model/coordinate_descent.py:466: ConvergenceWarning: Objective did not converge. You might want to increase the number of iterations\n",
      "  ConvergenceWarning)\n",
      "/opt/python3/lib/python3.5/site-packages/sklearn/linear_model/coordinate_descent.py:466: ConvergenceWarning: Objective did not converge. You might want to increase the number of iterations\n",
      "  ConvergenceWarning)\n"
     ]
    },
    {
     "data": {
      "text/plain": [
       "<matplotlib.figure.Figure at 0x7fac1fb3bd68>"
      ]
     },
     "execution_count": 178,
     "metadata": {},
     "output_type": "execute_result"
    },
    {
     "data": {
      "text/plain": [
       "[<matplotlib.lines.Line2D at 0x7fac241a98d0>,\n",
       " <matplotlib.lines.Line2D at 0x7fac241a9630>,\n",
       " <matplotlib.lines.Line2D at 0x7fac241a9f98>,\n",
       " <matplotlib.lines.Line2D at 0x7fac241a99e8>,\n",
       " <matplotlib.lines.Line2D at 0x7fac241a90b8>,\n",
       " <matplotlib.lines.Line2D at 0x7fac241a91d0>,\n",
       " <matplotlib.lines.Line2D at 0x7fac241fbef0>,\n",
       " <matplotlib.lines.Line2D at 0x7fac241fb630>,\n",
       " <matplotlib.lines.Line2D at 0x7fac24184fd0>,\n",
       " <matplotlib.lines.Line2D at 0x7fac24184b70>]"
      ]
     },
     "execution_count": 178,
     "metadata": {},
     "output_type": "execute_result"
    },
    {
     "data": {
      "text/plain": [
       "[<matplotlib.lines.Line2D at 0x7fac1faafc18>]"
      ]
     },
     "execution_count": 178,
     "metadata": {},
     "output_type": "execute_result"
    },
    {
     "data": {
      "text/plain": [
       "<matplotlib.lines.Line2D at 0x7fac24184080>"
      ]
     },
     "execution_count": 178,
     "metadata": {},
     "output_type": "execute_result"
    },
    {
     "data": {
      "text/plain": [
       "<matplotlib.legend.Legend at 0x7fac2414e630>"
      ]
     },
     "execution_count": 178,
     "metadata": {},
     "output_type": "execute_result"
    },
    {
     "data": {
      "text/plain": [
       "<matplotlib.text.Text at 0x7fac241c0e80>"
      ]
     },
     "execution_count": 178,
     "metadata": {},
     "output_type": "execute_result"
    },
    {
     "data": {
      "text/plain": [
       "<matplotlib.text.Text at 0x7fac241d7cc0>"
      ]
     },
     "execution_count": 178,
     "metadata": {},
     "output_type": "execute_result"
    },
    {
     "data": {
      "text/plain": [
       "<matplotlib.text.Text at 0x7fac1f948e48>"
      ]
     },
     "execution_count": 178,
     "metadata": {},
     "output_type": "execute_result"
    },
    {
     "data": {
      "text/plain": [
       "{'hourly_amb_temp_range_at_home_day_59': -0.0043267395599548173,\n",
       " 'hourly_amb_temp_range_at_home_day_60': -0.00040550711742894357,\n",
       " 'hourly_temp_median_at_home_day_1': 0.090256491094423144,\n",
       " 'hourly_temp_median_at_home_day_10': 3.591749666605705e-12,\n",
       " 'hourly_temp_median_at_home_day_11': 2.8569853620505279e-13,\n",
       " 'hourly_temp_median_at_home_day_12': 2.2729014399662764e-14,\n",
       " 'hourly_temp_median_at_home_day_13': 1.8065793410163242e-15,\n",
       " 'hourly_temp_median_at_home_day_14': 1.4286680096631448e-16,\n",
       " 'hourly_temp_median_at_home_day_15': 1.0241969935616713e-17,\n",
       " 'hourly_temp_median_at_home_day_16': 1.0415562646389878e-18,\n",
       " 'hourly_temp_median_at_home_day_17': 1.9095198185048109e-18,\n",
       " 'hourly_temp_median_at_home_day_18': 6.9437084309265851e-19,\n",
       " 'hourly_temp_median_at_home_day_19': 6.9437084309265851e-19,\n",
       " 'hourly_temp_median_at_home_day_2': 0.00056171452714279821,\n",
       " 'hourly_temp_median_at_home_day_20': 6.9437084309265851e-19,\n",
       " 'hourly_temp_median_at_home_day_21': 6.9437084309265851e-19,\n",
       " 'hourly_temp_median_at_home_day_26': 1.7359271077316463e-19,\n",
       " 'hourly_temp_median_at_home_day_27': 1.7359271077316463e-19,\n",
       " 'hourly_temp_median_at_home_day_3': 0.00021788547703934048,\n",
       " 'hourly_temp_median_at_home_day_30': 3.4718542154632926e-19,\n",
       " 'hourly_temp_median_at_home_day_31': 5.2077813231949391e-19,\n",
       " 'hourly_temp_median_at_home_day_32': 1.7359271077316463e-19,\n",
       " 'hourly_temp_median_at_home_day_36': 1.7359271077316463e-19,\n",
       " 'hourly_temp_median_at_home_day_4': 1.4305525294238423e-05,\n",
       " 'hourly_temp_median_at_home_day_5': 1.1276634403136558e-06,\n",
       " 'hourly_temp_median_at_home_day_6': 8.9721111713712706e-08,\n",
       " 'hourly_temp_median_at_home_day_7': 7.1366619221504933e-09,\n",
       " 'hourly_temp_median_at_home_day_8': 5.6767379119936153e-10,\n",
       " 'hourly_temp_median_at_home_day_9': 4.5154647588822988e-11,\n",
       " 'hourly_temp_range_at_home_day_1': -0.61965263319923392,\n",
       " 'hourly_temp_range_at_home_day_10': -2.3899244147981931e-05,\n",
       " 'hourly_temp_range_at_home_day_11': -3.8814710633118443e-05,\n",
       " 'hourly_temp_range_at_home_day_12': -4.0946248155813387e-05,\n",
       " 'hourly_temp_range_at_home_day_13': -3.8184987049888769e-05,\n",
       " 'hourly_temp_range_at_home_day_14': -3.3999913717953612e-05,\n",
       " 'hourly_temp_range_at_home_day_15': -2.9666188433511386e-05,\n",
       " 'hourly_temp_range_at_home_day_16': -2.5600793027814381e-05,\n",
       " 'hourly_temp_range_at_home_day_17': -2.1929072025318336e-05,\n",
       " 'hourly_temp_range_at_home_day_18': -1.8672998548022331e-05,\n",
       " 'hourly_temp_range_at_home_day_19': -1.581415443474277e-05,\n",
       " 'hourly_temp_range_at_home_day_2': -0.0052484489723487737,\n",
       " 'hourly_temp_range_at_home_day_20': -1.331834484479083e-05,\n",
       " 'hourly_temp_range_at_home_day_21': -1.1146738442215698e-05,\n",
       " 'hourly_temp_range_at_home_day_22': -9.2610939671027789e-06,\n",
       " 'hourly_temp_range_at_home_day_23': -7.6260295730459422e-06,\n",
       " 'hourly_temp_range_at_home_day_24': -6.2097975623561601e-06,\n",
       " 'hourly_temp_range_at_home_day_25': -4.984346394744178e-06,\n",
       " 'hourly_temp_range_at_home_day_26': -3.9250779059320451e-06,\n",
       " 'hourly_temp_range_at_home_day_27': -3.0104998160663231e-06,\n",
       " 'hourly_temp_range_at_home_day_28': -2.2218641031134416e-06,\n",
       " 'hourly_temp_range_at_home_day_29': -2.1087762384113929e-06,\n",
       " 'hourly_temp_range_at_home_day_3': -0.0023303737987295332,\n",
       " 'hourly_temp_range_at_home_day_30': -3.4387289955786714e-06,\n",
       " 'hourly_temp_range_at_home_day_31': -3.2581561995494229e-06,\n",
       " 'hourly_temp_range_at_home_day_32': -2.7693076548834112e-06,\n",
       " 'hourly_temp_range_at_home_day_33': -2.2582365597717592e-06,\n",
       " 'hourly_temp_range_at_home_day_34': -1.7695701709967763e-06,\n",
       " 'hourly_temp_range_at_home_day_35': -1.3241355954523196e-06,\n",
       " 'hourly_temp_range_at_home_day_36': -9.2540484569954986e-07,\n",
       " 'hourly_temp_range_at_home_day_37': -5.7092871058510873e-07,\n",
       " 'hourly_temp_range_at_home_day_38': -2.5674916575877122e-07,\n",
       " 'hourly_temp_range_at_home_day_39': -4.420907470866589e-19,\n",
       " 'hourly_temp_range_at_home_day_4': -0.00052086544823237203,\n",
       " 'hourly_temp_range_at_home_day_40': -1.0610177930079814e-17,\n",
       " 'hourly_temp_range_at_home_day_41': -3.9788167237799297e-18,\n",
       " 'hourly_temp_range_at_home_day_42': -1.4146903906773085e-17,\n",
       " 'hourly_temp_range_at_home_day_43': -8.841814941733178e-18,\n",
       " 'hourly_temp_range_at_home_day_44': -3.5367259766932712e-18,\n",
       " 'hourly_temp_range_at_home_day_45': -4.420907470866589e-18,\n",
       " 'hourly_temp_range_at_home_day_46': -3.5367259766932712e-18,\n",
       " 'hourly_temp_range_at_home_day_47': -8.841814941733178e-19,\n",
       " 'hourly_temp_range_at_home_day_48': -4.420907470866589e-19,\n",
       " 'hourly_temp_range_at_home_day_5': -0.00013413827219097677,\n",
       " 'hourly_temp_range_at_home_day_50': -1.3262722412599767e-18,\n",
       " 'hourly_temp_range_at_home_day_51': -8.841814941733178e-18,\n",
       " 'hourly_temp_range_at_home_day_52': -5.3050889650399068e-18,\n",
       " 'hourly_temp_range_at_home_day_53': -1.7683629883466356e-18,\n",
       " 'hourly_temp_range_at_home_day_54': -4.420907470866589e-19,\n",
       " 'hourly_temp_range_at_home_day_55': -4.420907470866589e-19,\n",
       " 'hourly_temp_range_at_home_day_56': -4.420907470866589e-19,\n",
       " 'hourly_temp_range_at_home_day_6': -3.6451600637931089e-05,\n",
       " 'hourly_temp_range_at_home_day_7': -9.8439046305220391e-06,\n",
       " 'hourly_temp_range_at_home_day_8': -2.6534416297037239e-06,\n",
       " 'hourly_temp_range_at_home_day_9': -7.148407549484942e-07,\n",
       " 'hourly_temp_std_at_home_day_1': -0.079811641638575695,\n",
       " 'hourly_temp_std_at_home_day_59': 0.71219775961162524,\n",
       " 'hourly_temp_std_at_home_day_60': 0.0098319765346388636,\n",
       " 'hourly_temp_std_at_home_day_64': 0.69343732302427541,\n",
       " 'mean_pvt_delay_1_at_home_day_1': -7.9510257345099796e-05,\n",
       " 'mean_pvt_delay_1_at_home_day_10': -3.7555648722211402e-13,\n",
       " 'mean_pvt_delay_1_at_home_day_11': -3.0820720631830245e-14,\n",
       " 'mean_pvt_delay_1_at_home_day_12': -2.5294211743348327e-15,\n",
       " 'mean_pvt_delay_1_at_home_day_13': -2.076206310699047e-16,\n",
       " 'mean_pvt_delay_1_at_home_day_14': -1.7017667915892379e-17,\n",
       " 'mean_pvt_delay_1_at_home_day_15': -1.4016989017059155e-18,\n",
       " 'mean_pvt_delay_1_at_home_day_16': -1.0633116668475218e-19,\n",
       " 'mean_pvt_delay_1_at_home_day_17': -2.006248428014192e-21,\n",
       " 'mean_pvt_delay_1_at_home_day_18': -8.693743188061498e-21,\n",
       " 'mean_pvt_delay_1_at_home_day_19': -2.006248428014192e-21,\n",
       " 'mean_pvt_delay_1_at_home_day_2': -1.9776531809432888e-05,\n",
       " 'mean_pvt_delay_1_at_home_day_21': -1.0699991616075691e-20,\n",
       " 'mean_pvt_delay_1_at_home_day_22': -1.3374989520094614e-21,\n",
       " 'mean_pvt_delay_1_at_home_day_23': -5.3499958080378456e-21,\n",
       " 'mean_pvt_delay_1_at_home_day_24': -8.024993712056768e-21,\n",
       " 'mean_pvt_delay_1_at_home_day_25': -4.012496856028384e-21,\n",
       " 'mean_pvt_delay_1_at_home_day_26': -3.3437473800236536e-21,\n",
       " 'mean_pvt_delay_1_at_home_day_27': -2.6749979040189228e-21,\n",
       " 'mean_pvt_delay_1_at_home_day_28': -1.3374989520094614e-21,\n",
       " 'mean_pvt_delay_1_at_home_day_29': -3.3437473800236536e-21,\n",
       " 'mean_pvt_delay_1_at_home_day_3': -7.671240368354957e-06,\n",
       " 'mean_pvt_delay_1_at_home_day_30': -2.006248428014192e-21,\n",
       " 'mean_pvt_delay_1_at_home_day_31': -2.006248428014192e-21,\n",
       " 'mean_pvt_delay_1_at_home_day_32': -1.0699991616075691e-20,\n",
       " 'mean_pvt_delay_1_at_home_day_34': -6.687494760047307e-22,\n",
       " 'mean_pvt_delay_1_at_home_day_35': -2.6749979040189228e-21,\n",
       " 'mean_pvt_delay_1_at_home_day_36': -6.687494760047307e-22,\n",
       " 'mean_pvt_delay_1_at_home_day_37': -6.687494760047307e-22,\n",
       " 'mean_pvt_delay_1_at_home_day_39': -6.687494760047307e-22,\n",
       " 'mean_pvt_delay_1_at_home_day_4': -1.2371549887389439e-06,\n",
       " 'mean_pvt_delay_1_at_home_day_42': -6.687494760047307e-22,\n",
       " 'mean_pvt_delay_1_at_home_day_43': -6.687494760047307e-22,\n",
       " 'mean_pvt_delay_1_at_home_day_44': -6.687494760047307e-22,\n",
       " 'mean_pvt_delay_1_at_home_day_49': -2.6749979040189228e-21,\n",
       " 'mean_pvt_delay_1_at_home_day_5': -1.0095277212601837e-07,\n",
       " 'mean_pvt_delay_1_at_home_day_50': -2.6749979040189228e-21,\n",
       " 'mean_pvt_delay_1_at_home_day_51': -6.687494760047307e-22,\n",
       " 'mean_pvt_delay_1_at_home_day_52': -2.6749979040189228e-21,\n",
       " 'mean_pvt_delay_1_at_home_day_53': -6.687494760047307e-22,\n",
       " 'mean_pvt_delay_1_at_home_day_55': -2.006248428014192e-21,\n",
       " 'mean_pvt_delay_1_at_home_day_56': -2.6749979040189228e-21,\n",
       " 'mean_pvt_delay_1_at_home_day_57': -6.687494760047307e-22,\n",
       " 'mean_pvt_delay_1_at_home_day_59': -3.2315263054122466e-06,\n",
       " 'mean_pvt_delay_1_at_home_day_6': -8.2814780327291446e-09,\n",
       " 'mean_pvt_delay_1_at_home_day_7': -6.7957133394682487e-10,\n",
       " 'mean_pvt_delay_1_at_home_day_8': -5.5766191593032648e-11,\n",
       " 'mean_pvt_delay_1_at_home_day_9': -4.5763355965916408e-12,\n",
       " 'mean_pvt_delay_3_at_home_day_1': -0.00053642293918429885,\n",
       " 'mean_pvt_delay_3_at_home_day_2': -2.1221745088645823e-06,\n",
       " 'mean_pvt_delay_5_at_home_day_61': 0.0010723990911988318,\n",
       " 'mean_pvt_delay_5_at_home_day_62': 3.9455608753141545e-05,\n",
       " 'mean_pvt_delay_5_at_home_day_63': 9.8293742755581967e-06,\n",
       " 'mean_pvt_delay_7_at_home_day_1': -0.00036306235313998572,\n",
       " 'mean_pvt_delay_7_at_home_day_2': -2.6484976199408712e-05,\n",
       " 'prv_sdnn_day_10': 5.4762759999450211e-08,\n",
       " 'prv_sdnn_day_12': 1.8360385331710757e-05,\n",
       " 'prv_sdnn_day_19': 3.9829447181897046e-20,\n",
       " 'prv_sdnn_day_2': 1.1126539581575899e-06,\n",
       " 'prv_sdnn_day_20': 0.00015161905478972275,\n",
       " 'prv_sdnn_day_21': 3.9829447181897046e-20,\n",
       " 'prv_sdnn_day_22': 3.9829447181897046e-20,\n",
       " 'prv_sdnn_day_23': 3.9829447181897046e-20,\n",
       " 'prv_sdnn_day_29': 3.6693177443265606e-06,\n",
       " 'prv_sdnn_day_30': 7.5675949645604385e-19,\n",
       " 'prv_sdnn_day_36': 2.5590659221402469e-05,\n",
       " 'prv_sdnn_day_38': 4.1820919540991899e-19,\n",
       " 'prv_sdnn_day_42': 1.4517833497801475e-17,\n",
       " 'prv_sdnn_day_43': 0.00044616300011046683,\n",
       " 'prv_sdnn_day_45': 4.0138831731138905e-05,\n",
       " 'prv_sdnn_day_52': 5.004430061688069e-05,\n",
       " 'prv_sdnn_day_56': 9.7888075151902729e-07,\n",
       " 'prv_sdnn_day_57': 6.0509869137061684e-05,\n",
       " 'prv_sdnn_day_62': 0.0022733443598778034,\n",
       " 'prv_sdnn_day_63': 0.00051118032421831308,\n",
       " 'prv_sdnn_day_7': 0.00022712701704308069,\n",
       " 'stance_day_12': -0.028664428080670865,\n",
       " 'stance_day_14': -4.8238388790500117e-18,\n",
       " 'stance_day_22': -0.020872812257324229,\n",
       " 'stance_day_25': -1.9295355516200047e-17,\n",
       " 'stance_day_30': -0.00061241867897286327,\n",
       " 'stance_day_32': -2.4119194395250058e-17,\n",
       " 'stance_day_36': -0.0042141396031705582,\n",
       " 'stance_day_4': -4.5706593639647451e-08,\n",
       " 'stance_day_41': -7.8140273433579987e-08,\n",
       " 'stance_day_43': -0.00090213331894661343,\n",
       " 'stance_day_47': -0.11505947227117243,\n",
       " 'stance_day_48': -0.00035170683181385529,\n",
       " 'stance_day_54': -0.002819350709607473,\n",
       " 'stance_day_57': -0.011999532998426359,\n",
       " 'turn_angle_ankle_day_61': 0.00018360000967738494,\n",
       " 'turn_angle_ankle_day_62': 0.003119036319510461,\n",
       " 'turn_angle_ankle_day_63': 0.0019563450009138852,\n",
       " 'turn_angle_ankle_day_64': 0.005667922199182808,\n",
       " 'turn_angle_day_59': -0.00068688003633903178,\n",
       " 'turn_angle_day_60': -0.00017323194811055982,\n",
       " 'turn_vel_std_ankle_day_62': -0.0027040962950373349,\n",
       " 'turn_vel_std_ankle_day_63': -0.0081866628150616128,\n",
       " 'turn_vel_std_day_1': 1.8805082389020918e-19,\n",
       " 'turn_vel_std_day_20': 7.0069578164623148e-05,\n",
       " 'turn_vel_std_day_21': 0.00089553785912227946,\n",
       " 'turn_vel_std_day_25': 3.0088131822433468e-19,\n",
       " 'turn_vel_std_day_31': 5.574139610407068e-06,\n",
       " 'turn_vel_std_day_35': 9.5570183891836594e-05,\n",
       " 'turn_vel_std_day_36': 0.00011562591755569552,\n",
       " 'turn_vel_std_day_4': 2.7654754161294162e-16,\n",
       " 'turn_vel_std_day_40': 0.00018723813755522312,\n",
       " 'turn_vel_std_day_48': 2.6469916664606682e-08,\n",
       " 'turn_vel_std_day_53': 1.232475536646377e-06,\n",
       " 'turn_vel_std_day_57': 0.00054003343310927044,\n",
       " 'turn_vel_std_day_7': 0.0013163287712527356,\n",
       " 'turn_vel_std_day_8': 4.9142440535005025e-05,\n",
       " 'walk_minutes_day_61': -0.00017544380883525841,\n",
       " 'walk_minutes_day_62': -2.6857471494418301e-05}"
      ]
     },
     "execution_count": 178,
     "metadata": {},
     "output_type": "execute_result"
    },
    {
     "data": {
      "text/html": [
       "<div>\n",
       "<table border=\"1\" class=\"dataframe\">\n",
       "  <thead>\n",
       "    <tr style=\"text-align: right;\">\n",
       "      <th></th>\n",
       "      <th>selected_features</th>\n",
       "    </tr>\n",
       "  </thead>\n",
       "  <tbody>\n",
       "    <tr>\n",
       "      <th>0</th>\n",
       "      <td>stance</td>\n",
       "    </tr>\n",
       "    <tr>\n",
       "      <th>1</th>\n",
       "      <td>turn_angle_ankle</td>\n",
       "    </tr>\n",
       "    <tr>\n",
       "      <th>2</th>\n",
       "      <td>hourly_temp_median_at_home</td>\n",
       "    </tr>\n",
       "    <tr>\n",
       "      <th>3</th>\n",
       "      <td>mean_pvt_delay_3_at_home</td>\n",
       "    </tr>\n",
       "    <tr>\n",
       "      <th>4</th>\n",
       "      <td>turn_vel_std</td>\n",
       "    </tr>\n",
       "    <tr>\n",
       "      <th>5</th>\n",
       "      <td>walk_minutes</td>\n",
       "    </tr>\n",
       "    <tr>\n",
       "      <th>6</th>\n",
       "      <td>turn_vel_std_ankle</td>\n",
       "    </tr>\n",
       "    <tr>\n",
       "      <th>7</th>\n",
       "      <td>turn_angle</td>\n",
       "    </tr>\n",
       "    <tr>\n",
       "      <th>8</th>\n",
       "      <td>mean_pvt_delay_7_at_home</td>\n",
       "    </tr>\n",
       "    <tr>\n",
       "      <th>9</th>\n",
       "      <td>hourly_temp_range_at_home</td>\n",
       "    </tr>\n",
       "    <tr>\n",
       "      <th>10</th>\n",
       "      <td>mean_pvt_delay_5_at_home</td>\n",
       "    </tr>\n",
       "    <tr>\n",
       "      <th>11</th>\n",
       "      <td>prv_sdnn</td>\n",
       "    </tr>\n",
       "    <tr>\n",
       "      <th>12</th>\n",
       "      <td>hourly_temp_std_at_home</td>\n",
       "    </tr>\n",
       "    <tr>\n",
       "      <th>13</th>\n",
       "      <td>hourly_amb_temp_range_at_home</td>\n",
       "    </tr>\n",
       "    <tr>\n",
       "      <th>14</th>\n",
       "      <td>mean_pvt_delay_1_at_home</td>\n",
       "    </tr>\n",
       "  </tbody>\n",
       "</table>\n",
       "</div>"
      ],
      "text/plain": [
       "                selected_features\n",
       "0                          stance\n",
       "1                turn_angle_ankle\n",
       "2      hourly_temp_median_at_home\n",
       "3        mean_pvt_delay_3_at_home\n",
       "4                    turn_vel_std\n",
       "5                    walk_minutes\n",
       "6              turn_vel_std_ankle\n",
       "7                      turn_angle\n",
       "8        mean_pvt_delay_7_at_home\n",
       "9       hourly_temp_range_at_home\n",
       "10       mean_pvt_delay_5_at_home\n",
       "11                       prv_sdnn\n",
       "12        hourly_temp_std_at_home\n",
       "13  hourly_amb_temp_range_at_home\n",
       "14       mean_pvt_delay_1_at_home"
      ]
     },
     "execution_count": 178,
     "metadata": {},
     "output_type": "execute_result"
    },
    {
     "data": {
      "image/png": "[encoded data removed]",
      "text/plain": [
       "<matplotlib.figure.Figure at 0x7fac1fb3bd68>"
      ]
     },
     "metadata": {},
     "output_type": "display_data"
    }
   ],
   "source": [
    "# train data: feature day(normalized)\n",
    "# target: msfc3 - msfc2\n",
    "# validation: 10-fold cross validation\n",
    "\n",
    "from sklearn.cross_validation import KFold, cross_val_score\n",
    "from sklearn.linear_model import LassoCV\n",
    "x = x_day\n",
    "y = y_day_scoreChange\n",
    "k = 10\n",
    "\n",
    "lasso = LassoCV(cv=k,random_state=42,normalize=True)  \n",
    "lasso.fit(x,y)\n",
    "scores = cross_val_score(lasso, x, y, cv=k,scoring='mean_squared_error')\n",
    "\n",
    "# plot mean square error for each fold\n",
    "model = lasso\n",
    "m_log_alphascv = -np.log10(model.alphas_)\n",
    "plt.figure(figsize=(10,5))\n",
    "plt.plot(m_log_alphascv, model.mse_path_, ':')\n",
    "plt.plot(m_log_alphascv, model.mse_path_.mean(axis=-1), 'k',\n",
    "         label='Average across the folds', linewidth=2)\n",
    "plt.axvline(-np.log10(model.alpha_), linestyle='--', color='k',\n",
    "            label='chosen alpha by CV')\n",
    "plt.legend()\n",
    "plt.xlabel('-log(alpha)')\n",
    "plt.ylabel('Mean squared error')\n",
    "plt.title('Mean squared error on each fold')\n",
    "# print variable names and regression coefficients\n",
    "features = []\n",
    "coeffs = []\n",
    "for i in range(len(lasso.coef_)):\n",
    "    if lasso.coef_[i] != 0:\n",
    "        coeffs.append(lasso.coef_[i])\n",
    "        features.append(list(x.columns)[i])\n",
    "dict(zip(features, coeffs))\n",
    "\n",
    "# save the results into a dataframe\n",
    "train_data.append('FeatureDay')\n",
    "target.append('msfc3 - msfc2')\n",
    "alphas.append(lasso.alpha_)\n",
    "selected_features.append(features)\n",
    "coefficients.append(coeffs)\n",
    "MSEs.append(abs(scores).mean())\n",
    "model_complexity.append(len(coeffs))\n",
    "num_of_samples.append(len(y))\n",
    "num_of_features.append(x.shape[1])\n",
    "model_complexity_unique.append(len(list(set([feature.split('_day_')[0] for feature in features]))))\n",
    "\n",
    "# print out a table of selected features\n",
    "feature_df = pd.DataFrame()\n",
    "feature_df['selected_features'] = list(set([feature.split('_day_')[0] for feature in features]))\n",
    "feature_df"
   ]
  },
  {
   "cell_type": "code",
   "execution_count": 107,
   "metadata": {
    "collapsed": false
   },
   "outputs": [
    {
     "data": {
      "text/plain": [
       "<matplotlib.collections.PathCollection at 0x7fac24899470>"
      ]
     },
     "execution_count": 107,
     "metadata": {},
     "output_type": "execute_result"
    },
    {
     "data": {
      "text/plain": [
       "<matplotlib.text.Text at 0x7fac2487c5f8>"
      ]
     },
     "execution_count": 107,
     "metadata": {},
     "output_type": "execute_result"
    },
    {
     "data": {
      "text/plain": [
       "<matplotlib.text.Text at 0x7fac24514550>"
      ]
     },
     "execution_count": 107,
     "metadata": {},
     "output_type": "execute_result"
    },
    {
     "data": {
      "text/plain": [
       "<matplotlib.text.Text at 0x7fac2bb75208>"
      ]
     },
     "execution_count": 107,
     "metadata": {},
     "output_type": "execute_result"
    },
    {
     "data": {
      "image/png": "[encoded data removed]",
      "text/plain": [
       "<matplotlib.figure.Figure at 0x7fac2bb9f048>"
      ]
     },
     "metadata": {},
     "output_type": "display_data"
    }
   ],
   "source": [
    "# train data: feature day(normalized)\n",
    "# target: msfc3 - msfc2\n",
    "# plot predictions against actual values\n",
    "plt.scatter(y.tolist(), lasso.predict(x))\n",
    "plt.title('Predictions plot against actual values')\n",
    "plt.ylabel('Predictions')\n",
    "plt.xlabel('Actual Values')"
   ]
  },
  {
   "cell_type": "code",
   "execution_count": 108,
   "metadata": {
    "collapsed": false
   },
   "outputs": [
    {
     "data": {
      "text/plain": [
       "<matplotlib.collections.PathCollection at 0x7fac24518b70>"
      ]
     },
     "execution_count": 108,
     "metadata": {},
     "output_type": "execute_result"
    },
    {
     "data": {
      "text/plain": [
       "<matplotlib.collections.LineCollection at 0x7fac24bf8f28>"
      ]
     },
     "execution_count": 108,
     "metadata": {},
     "output_type": "execute_result"
    },
    {
     "data": {
      "text/plain": [
       "<matplotlib.text.Text at 0x7fac1ff21438>"
      ]
     },
     "execution_count": 108,
     "metadata": {},
     "output_type": "execute_result"
    },
    {
     "data": {
      "text/plain": [
       "<matplotlib.text.Text at 0x7fac2491ae10>"
      ]
     },
     "execution_count": 108,
     "metadata": {},
     "output_type": "execute_result"
    },
    {
     "data": {
      "text/plain": [
       "<matplotlib.text.Text at 0x7fac24180978>"
      ]
     },
     "execution_count": 108,
     "metadata": {},
     "output_type": "execute_result"
    },
    {
     "data": {
      "image/png": "[encoded data removed]",
      "text/plain": [
       "<matplotlib.figure.Figure at 0x7fac24bf8ac8>"
      ]
     },
     "metadata": {},
     "output_type": "display_data"
    }
   ],
   "source": [
    "# train data: feature day(normalized)\n",
    "# target: msfc3 - msfc2\n",
    "# plot residuals against actual values\n",
    "residuals = [i-j for i,j in zip(lasso.predict(x), y.tolist())]\n",
    "plt.scatter(y.tolist(), residuals)\n",
    "plt.hlines(y=0,xmin=-2, xmax=2)\n",
    "plt.title('Residuals plot against actual values')\n",
    "plt.ylabel('Residuals')\n",
    "plt.xlabel('Actual Values')"
   ]
  },
  {
   "cell_type": "code",
   "execution_count": 109,
   "metadata": {
    "collapsed": false
   },
   "outputs": [
    {
     "data": {
      "text/html": [
       "<div>\n",
       "<table border=\"1\" class=\"dataframe\">\n",
       "  <thead>\n",
       "    <tr style=\"text-align: right;\">\n",
       "      <th></th>\n",
       "      <th>train_data</th>\n",
       "      <th>num_of_samples</th>\n",
       "      <th>num_of_features</th>\n",
       "      <th>target</th>\n",
       "      <th>alphas</th>\n",
       "      <th>MSEs</th>\n",
       "      <th>model_complexity</th>\n",
       "      <th>model_complexity_unique</th>\n",
       "    </tr>\n",
       "  </thead>\n",
       "  <tbody>\n",
       "    <tr>\n",
       "      <th>0</th>\n",
       "      <td>FeatureStudy</td>\n",
       "      <td>22</td>\n",
       "      <td>62</td>\n",
       "      <td>msfc3</td>\n",
       "      <td>0.027964</td>\n",
       "      <td>0.550589</td>\n",
       "      <td>7</td>\n",
       "      <td>7</td>\n",
       "    </tr>\n",
       "    <tr>\n",
       "      <th>1</th>\n",
       "      <td>FeatureDay</td>\n",
       "      <td>20</td>\n",
       "      <td>1828</td>\n",
       "      <td>msfc3</td>\n",
       "      <td>0.004961</td>\n",
       "      <td>0.156124</td>\n",
       "      <td>89</td>\n",
       "      <td>12</td>\n",
       "    </tr>\n",
       "    <tr>\n",
       "      <th>2</th>\n",
       "      <td>FeatureStudy</td>\n",
       "      <td>22</td>\n",
       "      <td>62</td>\n",
       "      <td>msfc3 - msfc2</td>\n",
       "      <td>0.046528</td>\n",
       "      <td>0.202976</td>\n",
       "      <td>1</td>\n",
       "      <td>1</td>\n",
       "    </tr>\n",
       "    <tr>\n",
       "      <th>3</th>\n",
       "      <td>FeatureDay</td>\n",
       "      <td>20</td>\n",
       "      <td>1828</td>\n",
       "      <td>msfc3 - msfc2</td>\n",
       "      <td>0.000195</td>\n",
       "      <td>0.178833</td>\n",
       "      <td>202</td>\n",
       "      <td>15</td>\n",
       "    </tr>\n",
       "  </tbody>\n",
       "</table>\n",
       "</div>"
      ],
      "text/plain": [
       "     train_data  num_of_samples  num_of_features         target    alphas  \\\n",
       "0  FeatureStudy              22               62          msfc3  0.027964   \n",
       "1    FeatureDay              20             1828          msfc3  0.004961   \n",
       "2  FeatureStudy              22               62  msfc3 - msfc2  0.046528   \n",
       "3    FeatureDay              20             1828  msfc3 - msfc2  0.000195   \n",
       "\n",
       "       MSEs  model_complexity  model_complexity_unique  \n",
       "0  0.550589                 7                        7  \n",
       "1  0.156124                89                       12  \n",
       "2  0.202976                 1                        1  \n",
       "3  0.178833               202                       15  "
      ]
     },
     "execution_count": 109,
     "metadata": {},
     "output_type": "execute_result"
    }
   ],
   "source": [
    "summary = pd.DataFrame()\n",
    "summary['train_data'] = train_data\n",
    "summary['num_of_samples'] = num_of_samples\n",
    "summary['num_of_features'] = num_of_features\n",
    "summary['target'] = target\n",
    "summary['alphas'] = alphas\n",
    "summary['MSEs'] = MSEs\n",
    "summary['model_complexity'] = model_complexity\n",
    "summary['model_complexity_unique'] = model_complexity_unique\n",
    "summary"
   ]
  },
  {
   "cell_type": "code",
   "execution_count": 110,
   "metadata": {
    "collapsed": false
   },
   "outputs": [
    {
     "data": {
      "text/plain": [
       "<matplotlib.text.Text at 0x7fac241347f0>"
      ]
     },
     "execution_count": 110,
     "metadata": {},
     "output_type": "execute_result"
    },
    {
     "data": {
      "text/plain": [
       "<matplotlib.text.Text at 0x7fac24ba64e0>"
      ]
     },
     "execution_count": 110,
     "metadata": {},
     "output_type": "execute_result"
    },
    {
     "data": {
      "text/plain": [
       "<matplotlib.text.Text at 0x7fac24171b38>"
      ]
     },
     "execution_count": 110,
     "metadata": {},
     "output_type": "execute_result"
    },
    {
     "data": {
      "text/plain": [
       "(0, 2)"
      ]
     },
     "execution_count": 110,
     "metadata": {},
     "output_type": "execute_result"
    },
    {
     "data": {
      "text/plain": [
       "<matplotlib.text.Text at 0x7fac2bb14d30>"
      ]
     },
     "execution_count": 110,
     "metadata": {},
     "output_type": "execute_result"
    },
    {
     "data": {
      "text/plain": [
       "<matplotlib.text.Text at 0x7fac2bb06940>"
      ]
     },
     "execution_count": 110,
     "metadata": {},
     "output_type": "execute_result"
    },
    {
     "data": {
      "text/plain": [
       "<matplotlib.text.Text at 0x7fac2bb0b7b8>"
      ]
     },
     "execution_count": 110,
     "metadata": {},
     "output_type": "execute_result"
    },
    {
     "data": {
      "text/plain": [
       "(0, 2)"
      ]
     },
     "execution_count": 110,
     "metadata": {},
     "output_type": "execute_result"
    },
    {
     "data": {
      "image/png": "[encoded data removed]",
      "text/plain": [
       "<matplotlib.figure.Figure at 0x7fac2489c198>"
      ]
     },
     "metadata": {},
     "output_type": "display_data"
    }
   ],
   "source": [
    "# visualize the resulted mean squared errors\n",
    "figs, axes = plt.subplots(nrows= 1, ncols= 2)\n",
    "\n",
    "axes[0] = summary.set_index('train_data')['MSEs'].iloc[[0,1]].plot(kind='bar',ax=axes[0],figsize=(15,5))\n",
    "axes[0].set_title('Mean squared error by Lasso regression, Traget = msfc3 ')\n",
    "axes[0].set_xlabel('Dataset')\n",
    "axes[0].set_ylabel('Mean squared error')\n",
    "axes[0].set_ylim((0,2))\n",
    "\n",
    "axes[1] = summary.set_index('train_data')['MSEs'].iloc[[2,3]].plot(kind='bar',ax=axes[1])\n",
    "axes[1].set_title('Mean squared error by Lasso regression, Target = msfc3 - msfc2')\n",
    "axes[1].set_xlabel('Dataset')\n",
    "axes[1].set_ylabel('Mean squared error')\n",
    "axes[1].set_ylim((0,2))"
   ]
  },
  {
   "cell_type": "code",
   "execution_count": 179,
   "metadata": {
    "collapsed": true
   },
   "outputs": [],
   "source": [
    "# repeat but this time eleminate msfc2 and msfc1 as features"
   ]
  },
  {
   "cell_type": "code",
   "execution_count": 180,
   "metadata": {
    "collapsed": false
   },
   "outputs": [],
   "source": [
    "# prepare x,y\n",
    "# df_study\n",
    "col_names_potential_targets = ['msfc_composite_3','msfc_change', 'msfc_composite_3_bin', 'msfc_composite_1', 'msfc_composite_2']\n",
    "remove_cols = col_names_potential_targets.append('gls_subject_code')\n",
    "x_study = df_study.drop(col_names_potential_targets,axis=1)\n",
    "y_study_score = df_study['msfc_composite_3']\n",
    "y_study_scoreChange = df_study['msfc_change']\n",
    "# normalize data\n",
    "from sklearn import preprocessing\n",
    "x_study_scaled = pd.DataFrame(preprocessing.normalize(x_study),columns=x_study.columns)"
   ]
  },
  {
   "cell_type": "code",
   "execution_count": 181,
   "metadata": {
    "collapsed": true
   },
   "outputs": [],
   "source": [
    "# prepare x,y\n",
    "# df_day\n",
    "col_names_potential_targets = ['msfc_composite_3','msfc_change', 'msfc_composite_3_bin', 'msfc_composite_1', 'msfc_composite_2']\n",
    "remove_cols = col_names_potential_targets.append('gls_subject_code')\n",
    "x_day = df_day.drop(col_names_potential_targets,axis=1)\n",
    "y_day_score = df_day['msfc_composite_3']\n",
    "y_day_scoreChange = df_day['msfc_change']\n",
    "# normalize data\n",
    "from sklearn import preprocessing\n",
    "x_day_scaled = pd.DataFrame(preprocessing.normalize(x_day),columns=x_day.columns)"
   ]
  },
  {
   "cell_type": "code",
   "execution_count": 182,
   "metadata": {
    "collapsed": true
   },
   "outputs": [],
   "source": [
    "# model prediction, include msfc2 & msfc1 as features\n",
    "# LassoCV \n",
    "# it will automatically look for the best alpha and do the cross validation\n",
    "train_data = []\n",
    "target = []\n",
    "alphas = []\n",
    "selected_features = []\n",
    "coefficients = []\n",
    "MSEs = []\n",
    "model_complexity = []\n",
    "model_complexity_unique = []\n",
    "num_of_samples = []\n",
    "num_of_features = []"
   ]
  },
  {
   "cell_type": "code",
   "execution_count": 183,
   "metadata": {
    "collapsed": false,
    "scrolled": false
   },
   "outputs": [
    {
     "data": {
      "text/plain": [
       "LassoCV(alphas=None, copy_X=True, cv=10, eps=0.001, fit_intercept=True,\n",
       "    max_iter=1000, n_alphas=100, n_jobs=1, normalize=True, positive=False,\n",
       "    precompute='auto', random_state=42, selection='cyclic', tol=0.0001,\n",
       "    verbose=False)"
      ]
     },
     "execution_count": 183,
     "metadata": {},
     "output_type": "execute_result"
    },
    {
     "data": {
      "text/plain": [
       "<matplotlib.figure.Figure at 0x7fac241ded30>"
      ]
     },
     "execution_count": 183,
     "metadata": {},
     "output_type": "execute_result"
    },
    {
     "data": {
      "text/plain": [
       "[<matplotlib.lines.Line2D at 0x7fac2ba3f390>,\n",
       " <matplotlib.lines.Line2D at 0x7fac2ba3f940>,\n",
       " <matplotlib.lines.Line2D at 0x7fac2ba3fd68>,\n",
       " <matplotlib.lines.Line2D at 0x7fac2ba3fbe0>,\n",
       " <matplotlib.lines.Line2D at 0x7fac2ba3fe80>,\n",
       " <matplotlib.lines.Line2D at 0x7fac2451b208>,\n",
       " <matplotlib.lines.Line2D at 0x7fac2451bb38>,\n",
       " <matplotlib.lines.Line2D at 0x7fac24c347b8>,\n",
       " <matplotlib.lines.Line2D at 0x7fac24c34278>,\n",
       " <matplotlib.lines.Line2D at 0x7fac24171358>]"
      ]
     },
     "execution_count": 183,
     "metadata": {},
     "output_type": "execute_result"
    },
    {
     "data": {
      "text/plain": [
       "[<matplotlib.lines.Line2D at 0x7fac241b3dd8>]"
      ]
     },
     "execution_count": 183,
     "metadata": {},
     "output_type": "execute_result"
    },
    {
     "data": {
      "text/plain": [
       "<matplotlib.lines.Line2D at 0x7fac241711d0>"
      ]
     },
     "execution_count": 183,
     "metadata": {},
     "output_type": "execute_result"
    },
    {
     "data": {
      "text/plain": [
       "<matplotlib.legend.Legend at 0x7fac24148a20>"
      ]
     },
     "execution_count": 183,
     "metadata": {},
     "output_type": "execute_result"
    },
    {
     "data": {
      "text/plain": [
       "<matplotlib.text.Text at 0x7fac2bb0b198>"
      ]
     },
     "execution_count": 183,
     "metadata": {},
     "output_type": "execute_result"
    },
    {
     "data": {
      "text/plain": [
       "<matplotlib.text.Text at 0x7fac24485d68>"
      ]
     },
     "execution_count": 183,
     "metadata": {},
     "output_type": "execute_result"
    },
    {
     "data": {
      "text/plain": [
       "<matplotlib.text.Text at 0x7fac2ba2de48>"
      ]
     },
     "execution_count": 183,
     "metadata": {},
     "output_type": "execute_result"
    },
    {
     "data": {
      "text/plain": [
       "{'mobility_stance_at_home': -0.25005716208378609,\n",
       " 'pq_nondominant_median_at_home': -0.00091094320823943622}"
      ]
     },
     "execution_count": 183,
     "metadata": {},
     "output_type": "execute_result"
    },
    {
     "data": {
      "text/html": [
       "<div>\n",
       "<table border=\"1\" class=\"dataframe\">\n",
       "  <thead>\n",
       "    <tr style=\"text-align: right;\">\n",
       "      <th></th>\n",
       "      <th>selected_features</th>\n",
       "    </tr>\n",
       "  </thead>\n",
       "  <tbody>\n",
       "    <tr>\n",
       "      <th>0</th>\n",
       "      <td>pq_nondominant_median_at_home</td>\n",
       "    </tr>\n",
       "    <tr>\n",
       "      <th>1</th>\n",
       "      <td>mobility_stance_at_home</td>\n",
       "    </tr>\n",
       "  </tbody>\n",
       "</table>\n",
       "</div>"
      ],
      "text/plain": [
       "               selected_features\n",
       "0  pq_nondominant_median_at_home\n",
       "1        mobility_stance_at_home"
      ]
     },
     "execution_count": 183,
     "metadata": {},
     "output_type": "execute_result"
    },
    {
     "data": {
      "image/png": "[encoded data removed]",
      "text/plain": [
       "<matplotlib.figure.Figure at 0x7fac241ded30>"
      ]
     },
     "metadata": {},
     "output_type": "display_data"
    }
   ],
   "source": [
    "# train data: feature study(normalized)\n",
    "# target: msfc3 \n",
    "# validation: 10-fold cross validation\n",
    "\n",
    "from sklearn.cross_validation import KFold, cross_val_score\n",
    "from sklearn.linear_model import LassoCV\n",
    "x = x_study\n",
    "y = y_study_score\n",
    "k = 10\n",
    "\n",
    "lasso = LassoCV(cv=k,random_state=42,normalize=True)  \n",
    "lasso.fit(x,y)\n",
    "scores = cross_val_score(lasso, x, y, cv=k, scoring='mean_squared_error')\n",
    "\n",
    "# plot mean square error for each fold\n",
    "model = lasso\n",
    "m_log_alphascv = -np.log10(model.alphas_)\n",
    "plt.figure(figsize=(10,5))\n",
    "plt.plot(m_log_alphascv, model.mse_path_, ':')\n",
    "plt.plot(m_log_alphascv, model.mse_path_.mean(axis=-1), 'k',\n",
    "         label='Average across the folds', linewidth=2)\n",
    "plt.axvline(-np.log10(model.alpha_), linestyle='--', color='k',\n",
    "            label='chosen alpha by CV')\n",
    "plt.legend()\n",
    "plt.xlabel('-log(alpha)')\n",
    "plt.ylabel('Mean squared error')\n",
    "plt.title('Mean squared error on each fold')\n",
    "\n",
    "# print variable names and regression coefficients\n",
    "features = []\n",
    "coeffs = []\n",
    "for i in range(len(lasso.coef_)):\n",
    "    if lasso.coef_[i] != 0:\n",
    "        coeffs.append(lasso.coef_[i])\n",
    "        features.append(list(x.columns)[i])\n",
    "dict(zip(features, coeffs))\n",
    "\n",
    "# save the data into a dataframe\n",
    "train_data.append('FeatureStudy')\n",
    "target.append('msfc3')\n",
    "alphas.append(lasso.alpha_)\n",
    "selected_features.append(features)\n",
    "coefficients.append(coeffs)\n",
    "MSEs.append(abs(scores).mean())\n",
    "model_complexity.append(len(coeffs))\n",
    "num_of_samples.append(len(y))\n",
    "num_of_features.append(x.shape[1])\n",
    "model_complexity_unique.append(len(coeffs))\n",
    "\n",
    "# print out a table of selected features\n",
    "feature_df = pd.DataFrame()\n",
    "feature_df['selected_features'] = features\n",
    "feature_df"
   ]
  },
  {
   "cell_type": "code",
   "execution_count": 116,
   "metadata": {
    "collapsed": false
   },
   "outputs": [
    {
     "data": {
      "text/plain": [
       "<matplotlib.collections.PathCollection at 0x7fac2b9729e8>"
      ]
     },
     "execution_count": 116,
     "metadata": {},
     "output_type": "execute_result"
    },
    {
     "data": {
      "text/plain": [
       "<matplotlib.text.Text at 0x7fac2b9d2208>"
      ]
     },
     "execution_count": 116,
     "metadata": {},
     "output_type": "execute_result"
    },
    {
     "data": {
      "text/plain": [
       "<matplotlib.text.Text at 0x7fac2bae0be0>"
      ]
     },
     "execution_count": 116,
     "metadata": {},
     "output_type": "execute_result"
    },
    {
     "data": {
      "text/plain": [
       "<matplotlib.text.Text at 0x7fac2badcb00>"
      ]
     },
     "execution_count": 116,
     "metadata": {},
     "output_type": "execute_result"
    },
    {
     "data": {
      "image/png": "[encoded data removed]",
      "text/plain": [
       "<matplotlib.figure.Figure at 0x7fac2bba2668>"
      ]
     },
     "metadata": {},
     "output_type": "display_data"
    }
   ],
   "source": [
    "# train model: feature study(normalized)\n",
    "# target: msfc3 \n",
    "# plot predictions against actual values\n",
    "plt.scatter(y.tolist(), lasso.predict(x))\n",
    "plt.title('Predictions plot against actual values')\n",
    "plt.ylabel('Predictions')\n",
    "plt.xlabel('Actual Values')"
   ]
  },
  {
   "cell_type": "code",
   "execution_count": 117,
   "metadata": {
    "collapsed": false
   },
   "outputs": [
    {
     "data": {
      "text/plain": [
       "<matplotlib.collections.PathCollection at 0x7fac244e11d0>"
      ]
     },
     "execution_count": 117,
     "metadata": {},
     "output_type": "execute_result"
    },
    {
     "data": {
      "text/plain": [
       "<matplotlib.collections.LineCollection at 0x7fac2b97cc50>"
      ]
     },
     "execution_count": 117,
     "metadata": {},
     "output_type": "execute_result"
    },
    {
     "data": {
      "text/plain": [
       "<matplotlib.text.Text at 0x7fac244bc7f0>"
      ]
     },
     "execution_count": 117,
     "metadata": {},
     "output_type": "execute_result"
    },
    {
     "data": {
      "text/plain": [
       "<matplotlib.text.Text at 0x7fac2ba1ee10>"
      ]
     },
     "execution_count": 117,
     "metadata": {},
     "output_type": "execute_result"
    },
    {
     "data": {
      "text/plain": [
       "<matplotlib.text.Text at 0x7fac2ba11c88>"
      ]
     },
     "execution_count": 117,
     "metadata": {},
     "output_type": "execute_result"
    },
    {
     "data": {
      "image/png": "[encoded data removed]",
      "text/plain": [
       "<matplotlib.figure.Figure at 0x7fac2b97cbe0>"
      ]
     },
     "metadata": {},
     "output_type": "display_data"
    }
   ],
   "source": [
    "# train model: feature study(normalized)\n",
    "# target: msfc3 \n",
    "# plot residuals against actual values\n",
    "residuals = [i-j for i,j in zip(lasso.predict(x), y.tolist())]\n",
    "plt.scatter(y.tolist(), residuals)\n",
    "plt.hlines(y=0,xmin=-2, xmax=2)\n",
    "plt.title('Residuals plot against actual values')\n",
    "plt.ylabel('Residuals')\n",
    "plt.xlabel('Actual Values')"
   ]
  },
  {
   "cell_type": "code",
   "execution_count": 184,
   "metadata": {
    "collapsed": false,
    "scrolled": false
   },
   "outputs": [
    {
     "data": {
      "text/plain": [
       "LassoCV(alphas=None, copy_X=True, cv=10, eps=0.001, fit_intercept=True,\n",
       "    max_iter=1000, n_alphas=100, n_jobs=1, normalize=True, positive=False,\n",
       "    precompute='auto', random_state=42, selection='cyclic', tol=0.0001,\n",
       "    verbose=False)"
      ]
     },
     "execution_count": 184,
     "metadata": {},
     "output_type": "execute_result"
    },
    {
     "name": "stderr",
     "output_type": "stream",
     "text": [
      "/opt/python3/lib/python3.5/site-packages/sklearn/linear_model/coordinate_descent.py:466: ConvergenceWarning: Objective did not converge. You might want to increase the number of iterations\n",
      "  ConvergenceWarning)\n",
      "/opt/python3/lib/python3.5/site-packages/sklearn/linear_model/coordinate_descent.py:466: ConvergenceWarning: Objective did not converge. You might want to increase the number of iterations\n",
      "  ConvergenceWarning)\n"
     ]
    },
    {
     "data": {
      "text/plain": [
       "<matplotlib.figure.Figure at 0x7fac24795d30>"
      ]
     },
     "execution_count": 184,
     "metadata": {},
     "output_type": "execute_result"
    },
    {
     "data": {
      "text/plain": [
       "[<matplotlib.lines.Line2D at 0x7fac1f8d19b0>,\n",
       " <matplotlib.lines.Line2D at 0x7fac1f8d1ba8>,\n",
       " <matplotlib.lines.Line2D at 0x7fac1f8d1e80>,\n",
       " <matplotlib.lines.Line2D at 0x7fac1f75f0f0>,\n",
       " <matplotlib.lines.Line2D at 0x7fac1f75f320>,\n",
       " <matplotlib.lines.Line2D at 0x7fac1f75f550>,\n",
       " <matplotlib.lines.Line2D at 0x7fac1f75f780>,\n",
       " <matplotlib.lines.Line2D at 0x7fac1f75f9b0>,\n",
       " <matplotlib.lines.Line2D at 0x7fac1f75fbe0>,\n",
       " <matplotlib.lines.Line2D at 0x7fac1f75fe10>]"
      ]
     },
     "execution_count": 184,
     "metadata": {},
     "output_type": "execute_result"
    },
    {
     "data": {
      "text/plain": [
       "[<matplotlib.lines.Line2D at 0x7fac1f972da0>]"
      ]
     },
     "execution_count": 184,
     "metadata": {},
     "output_type": "execute_result"
    },
    {
     "data": {
      "text/plain": [
       "<matplotlib.lines.Line2D at 0x7fac1f77e080>"
      ]
     },
     "execution_count": 184,
     "metadata": {},
     "output_type": "execute_result"
    },
    {
     "data": {
      "text/plain": [
       "<matplotlib.legend.Legend at 0x7fac1f77c860>"
      ]
     },
     "execution_count": 184,
     "metadata": {},
     "output_type": "execute_result"
    },
    {
     "data": {
      "text/plain": [
       "<matplotlib.text.Text at 0x7fac1f945e10>"
      ]
     },
     "execution_count": 184,
     "metadata": {},
     "output_type": "execute_result"
    },
    {
     "data": {
      "text/plain": [
       "<matplotlib.text.Text at 0x7fac1f940d30>"
      ]
     },
     "execution_count": 184,
     "metadata": {},
     "output_type": "execute_result"
    },
    {
     "data": {
      "text/plain": [
       "<matplotlib.text.Text at 0x7fac1f8ff6a0>"
      ]
     },
     "execution_count": 184,
     "metadata": {},
     "output_type": "execute_result"
    },
    {
     "data": {
      "text/plain": [
       "{'fatigue_level_at_home_day_1': -0.15094163583140099,\n",
       " 'fatigue_level_at_home_day_2': -0.00037269759239601518,\n",
       " 'fatigue_level_at_home_day_3': -0.00013812298079189173,\n",
       " 'hourly_amb_temp_median_at_home_day_1': -0.0087517939026793071,\n",
       " 'hourly_amb_temp_median_at_home_day_2': -0.00012749636580543558,\n",
       " 'hourly_temp_range_at_home_day_1': -0.085641398196912355,\n",
       " 'hourly_temp_range_at_home_day_2': -0.024368338198672727,\n",
       " 'hourly_temp_range_at_home_day_3': -3.6821384906554897e-05,\n",
       " 'hourly_temp_range_at_home_day_4': -2.4922531246331152e-06,\n",
       " 'mean_pvt_delay_7_at_home_day_1': -0.0014286812156394666,\n",
       " 'mean_pvt_delay_7_at_home_day_2': -2.0043997462922721e-05,\n",
       " 'mean_pvt_delay_7_at_home_day_3': -1.1337076337795658e-06,\n",
       " 'mean_pvt_delay_7_at_home_day_4': -3.2077920253713304e-09,\n",
       " 'mean_pvt_delay_7_at_home_day_5': -4.7150301278622145e-10,\n",
       " 'mean_pvt_delay_7_at_home_day_6': -1.7690928376911113e-12,\n",
       " 'mean_pvt_delay_7_at_home_day_7': -2.7194758640736079e-16,\n",
       " 'mean_pvt_delay_7_at_home_day_8': -5.008242843597806e-19,\n",
       " 'mean_pvt_delay_7_at_home_day_9': -3.3388285623985368e-19,\n",
       " 'turn_duration_ankle_day_1': -7.8468101640317089e-05,\n",
       " 'turn_duration_ankle_day_14': -5.1625698037244946e-06,\n",
       " 'turn_duration_ankle_day_4': -1.4609578815106405,\n",
       " 'turn_duration_ankle_day_46': -0.00039918788630043583,\n",
       " 'turn_duration_ankle_day_47': -0.030276202697742827,\n",
       " 'turn_duration_ankle_day_48': -5.5091905502473124e-15,\n",
       " 'turn_duration_ankle_day_6': -6.2041803710798785e-05,\n",
       " 'turn_duration_day_12': 0.32365908230844964,\n",
       " 'turn_duration_day_15': 0.90196894493492152,\n",
       " 'turn_duration_day_24': 4.0426969772141173e-07,\n",
       " 'turn_duration_day_34': 0.060946637420468623,\n",
       " 'turn_duration_day_40': 0.0094700184032143423,\n",
       " 'turn_vel_std_ankle_day_12': 2.2410104300192993e-08,\n",
       " 'turn_vel_std_ankle_day_13': 1.7800929306453744e-09,\n",
       " 'turn_vel_std_ankle_day_20': 6.4789791208551543e-09,\n",
       " 'turn_vel_std_ankle_day_28': 0.014651245704810691,\n",
       " 'turn_vel_std_ankle_day_40': 1.6790641400222832e-18,\n",
       " 'turn_vel_std_ankle_day_45': 0.00068632375323983994,\n",
       " 'turn_vel_std_ankle_day_57': 6.7162565600891328e-18}"
      ]
     },
     "execution_count": 184,
     "metadata": {},
     "output_type": "execute_result"
    },
    {
     "data": {
      "text/html": [
       "<div>\n",
       "<table border=\"1\" class=\"dataframe\">\n",
       "  <thead>\n",
       "    <tr style=\"text-align: right;\">\n",
       "      <th></th>\n",
       "      <th>selected_features</th>\n",
       "    </tr>\n",
       "  </thead>\n",
       "  <tbody>\n",
       "    <tr>\n",
       "      <th>0</th>\n",
       "      <td>turn_vel_std_ankle</td>\n",
       "    </tr>\n",
       "    <tr>\n",
       "      <th>1</th>\n",
       "      <td>mean_pvt_delay_7_at_home</td>\n",
       "    </tr>\n",
       "    <tr>\n",
       "      <th>2</th>\n",
       "      <td>turn_duration_ankle</td>\n",
       "    </tr>\n",
       "    <tr>\n",
       "      <th>3</th>\n",
       "      <td>hourly_temp_range_at_home</td>\n",
       "    </tr>\n",
       "    <tr>\n",
       "      <th>4</th>\n",
       "      <td>hourly_amb_temp_median_at_home</td>\n",
       "    </tr>\n",
       "    <tr>\n",
       "      <th>5</th>\n",
       "      <td>fatigue_level_at_home</td>\n",
       "    </tr>\n",
       "    <tr>\n",
       "      <th>6</th>\n",
       "      <td>turn_duration</td>\n",
       "    </tr>\n",
       "  </tbody>\n",
       "</table>\n",
       "</div>"
      ],
      "text/plain": [
       "                selected_features\n",
       "0              turn_vel_std_ankle\n",
       "1        mean_pvt_delay_7_at_home\n",
       "2             turn_duration_ankle\n",
       "3       hourly_temp_range_at_home\n",
       "4  hourly_amb_temp_median_at_home\n",
       "5           fatigue_level_at_home\n",
       "6                   turn_duration"
      ]
     },
     "execution_count": 184,
     "metadata": {},
     "output_type": "execute_result"
    },
    {
     "data": {
      "image/png": "[encoded data removed]",
      "text/plain": [
       "<matplotlib.figure.Figure at 0x7fac24795d30>"
      ]
     },
     "metadata": {},
     "output_type": "display_data"
    }
   ],
   "source": [
    "# train model: feature day(normalized)\n",
    "# target: msfc3\n",
    "# validation: 10-fold cross validation\n",
    "\n",
    "from sklearn.cross_validation import KFold, cross_val_score\n",
    "from sklearn.linear_model import LassoCV\n",
    "x = x_day\n",
    "y = y_day_score\n",
    "k = 10\n",
    "\n",
    "lasso = LassoCV(cv=k,random_state=42,normalize=True)  \n",
    "lasso.fit(x,y)\n",
    "scores = cross_val_score(lasso, x, y, cv=k,scoring='mean_squared_error')\n",
    "\n",
    "# plot mean square error for each fold\n",
    "model = lasso\n",
    "m_log_alphascv = -np.log10(model.alphas_)\n",
    "plt.figure(figsize=(10,5))\n",
    "plt.plot(m_log_alphascv, model.mse_path_, ':')\n",
    "plt.plot(m_log_alphascv, model.mse_path_.mean(axis=-1), 'k',\n",
    "         label='Average across the folds', linewidth=2)\n",
    "plt.axvline(-np.log10(model.alpha_), linestyle='--', color='k',\n",
    "            label='chosen alpha by CV')\n",
    "plt.legend()\n",
    "plt.xlabel('-log(alpha)')\n",
    "plt.ylabel('Mean squared error')\n",
    "plt.title('Mean squared error on each fold')\n",
    "\n",
    "# print variable names and regression coefficients\n",
    "features = []\n",
    "coeffs = []\n",
    "for i in range(len(lasso.coef_)):\n",
    "    if lasso.coef_[i] != 0:\n",
    "        coeffs.append(lasso.coef_[i])\n",
    "        features.append(list(x.columns)[i])\n",
    "dict(zip(features, coeffs))\n",
    "\n",
    "# save the results into a dataframe\n",
    "train_data.append('FeatureDay')\n",
    "target.append('msfc3')\n",
    "alphas.append(lasso.alpha_)\n",
    "selected_features.append(features)\n",
    "coefficients.append(coeffs)\n",
    "MSEs.append(abs(scores).mean())\n",
    "model_complexity.append(len(coeffs))\n",
    "num_of_samples.append(len(y))\n",
    "num_of_features.append(x.shape[1])\n",
    "model_complexity_unique.append(len(list(set([feature.split('_day_')[0] for feature in features]))))\n",
    "\n",
    "# print out a table of selected features\n",
    "feature_df = pd.DataFrame()\n",
    "feature_df['selected_features'] = list(set([feature.split('_day_')[0] for feature in features]))\n",
    "feature_df"
   ]
  },
  {
   "cell_type": "code",
   "execution_count": 119,
   "metadata": {
    "collapsed": false
   },
   "outputs": [
    {
     "data": {
      "text/plain": [
       "<matplotlib.collections.PathCollection at 0x7fac1ffc5278>"
      ]
     },
     "execution_count": 119,
     "metadata": {},
     "output_type": "execute_result"
    },
    {
     "data": {
      "text/plain": [
       "<matplotlib.text.Text at 0x7fac24beccc0>"
      ]
     },
     "execution_count": 119,
     "metadata": {},
     "output_type": "execute_result"
    },
    {
     "data": {
      "text/plain": [
       "<matplotlib.text.Text at 0x7fac24c1b748>"
      ]
     },
     "execution_count": 119,
     "metadata": {},
     "output_type": "execute_result"
    },
    {
     "data": {
      "text/plain": [
       "<matplotlib.text.Text at 0x7fac2b9a09b0>"
      ]
     },
     "execution_count": 119,
     "metadata": {},
     "output_type": "execute_result"
    },
    {
     "data": {
      "image/png": "[encoded data removed]",
      "text/plain": [
       "<matplotlib.figure.Figure at 0x7fac24480160>"
      ]
     },
     "metadata": {},
     "output_type": "display_data"
    }
   ],
   "source": [
    "# train data: feature day(normalized)\n",
    "# target: msfc3\n",
    "# plot predictions against actual values\n",
    "plt.scatter(y.tolist(), lasso.predict(x))\n",
    "plt.title('Predictions plot against actual values')\n",
    "plt.ylabel('Predictions')\n",
    "plt.xlabel('Actual Values')"
   ]
  },
  {
   "cell_type": "code",
   "execution_count": 120,
   "metadata": {
    "collapsed": false
   },
   "outputs": [
    {
     "data": {
      "text/plain": [
       "<matplotlib.collections.PathCollection at 0x7fac24a45080>"
      ]
     },
     "execution_count": 120,
     "metadata": {},
     "output_type": "execute_result"
    },
    {
     "data": {
      "text/plain": [
       "<matplotlib.collections.LineCollection at 0x7fac2bb6c7f0>"
      ]
     },
     "execution_count": 120,
     "metadata": {},
     "output_type": "execute_result"
    },
    {
     "data": {
      "text/plain": [
       "<matplotlib.text.Text at 0x7fac24aaae80>"
      ]
     },
     "execution_count": 120,
     "metadata": {},
     "output_type": "execute_result"
    },
    {
     "data": {
      "text/plain": [
       "<matplotlib.text.Text at 0x7fac248614e0>"
      ]
     },
     "execution_count": 120,
     "metadata": {},
     "output_type": "execute_result"
    },
    {
     "data": {
      "text/plain": [
       "<matplotlib.text.Text at 0x7fac244b6940>"
      ]
     },
     "execution_count": 120,
     "metadata": {},
     "output_type": "execute_result"
    },
    {
     "data": {
      "image/png": "[encoded data removed]",
      "text/plain": [
       "<matplotlib.figure.Figure at 0x7fac2bb6c588>"
      ]
     },
     "metadata": {},
     "output_type": "display_data"
    }
   ],
   "source": [
    "# train data: feature day(normalized)\n",
    "# target: msfc3\n",
    "# plot residuals against actual values\n",
    "residuals = [i-j for i,j in zip(lasso.predict(x), y.tolist())]\n",
    "plt.scatter(y.tolist(), residuals)\n",
    "plt.hlines(y=0,xmin=-2, xmax=2)\n",
    "plt.title('Residuals plot against actual values')\n",
    "plt.ylabel('Residuals')\n",
    "plt.xlabel('Actual Values')"
   ]
  },
  {
   "cell_type": "code",
   "execution_count": 185,
   "metadata": {
    "collapsed": false,
    "scrolled": false
   },
   "outputs": [
    {
     "data": {
      "text/plain": [
       "LassoCV(alphas=None, copy_X=True, cv=10, eps=0.001, fit_intercept=True,\n",
       "    max_iter=1000, n_alphas=100, n_jobs=1, normalize=True, positive=False,\n",
       "    precompute='auto', random_state=42, selection='cyclic', tol=0.0001,\n",
       "    verbose=False)"
      ]
     },
     "execution_count": 185,
     "metadata": {},
     "output_type": "execute_result"
    },
    {
     "name": "stderr",
     "output_type": "stream",
     "text": [
      "/opt/python3/lib/python3.5/site-packages/sklearn/linear_model/coordinate_descent.py:466: ConvergenceWarning: Objective did not converge. You might want to increase the number of iterations\n",
      "  ConvergenceWarning)\n",
      "/opt/python3/lib/python3.5/site-packages/sklearn/linear_model/coordinate_descent.py:466: ConvergenceWarning: Objective did not converge. You might want to increase the number of iterations\n",
      "  ConvergenceWarning)\n",
      "/opt/python3/lib/python3.5/site-packages/sklearn/linear_model/coordinate_descent.py:466: ConvergenceWarning: Objective did not converge. You might want to increase the number of iterations\n",
      "  ConvergenceWarning)\n",
      "/opt/python3/lib/python3.5/site-packages/sklearn/linear_model/coordinate_descent.py:466: ConvergenceWarning: Objective did not converge. You might want to increase the number of iterations\n",
      "  ConvergenceWarning)\n"
     ]
    },
    {
     "data": {
      "text/plain": [
       "<matplotlib.figure.Figure at 0x7fac2badc278>"
      ]
     },
     "execution_count": 185,
     "metadata": {},
     "output_type": "execute_result"
    },
    {
     "data": {
      "text/plain": [
       "[<matplotlib.lines.Line2D at 0x7fac241bdba8>,\n",
       " <matplotlib.lines.Line2D at 0x7fac241bdd68>,\n",
       " <matplotlib.lines.Line2D at 0x7fac241dc080>,\n",
       " <matplotlib.lines.Line2D at 0x7fac241dc2b0>,\n",
       " <matplotlib.lines.Line2D at 0x7fac241dc4e0>,\n",
       " <matplotlib.lines.Line2D at 0x7fac241dc710>,\n",
       " <matplotlib.lines.Line2D at 0x7fac241dc940>,\n",
       " <matplotlib.lines.Line2D at 0x7fac241dcb70>,\n",
       " <matplotlib.lines.Line2D at 0x7fac241dcda0>,\n",
       " <matplotlib.lines.Line2D at 0x7fac241dcfd0>]"
      ]
     },
     "execution_count": 185,
     "metadata": {},
     "output_type": "execute_result"
    },
    {
     "data": {
      "text/plain": [
       "[<matplotlib.lines.Line2D at 0x7fac1f75a908>]"
      ]
     },
     "execution_count": 185,
     "metadata": {},
     "output_type": "execute_result"
    },
    {
     "data": {
      "text/plain": [
       "<matplotlib.lines.Line2D at 0x7fac241e0240>"
      ]
     },
     "execution_count": 185,
     "metadata": {},
     "output_type": "execute_result"
    },
    {
     "data": {
      "text/plain": [
       "<matplotlib.legend.Legend at 0x7fac241ce9e8>"
      ]
     },
     "execution_count": 185,
     "metadata": {},
     "output_type": "execute_result"
    },
    {
     "data": {
      "text/plain": [
       "<matplotlib.text.Text at 0x7fac1f9685c0>"
      ]
     },
     "execution_count": 185,
     "metadata": {},
     "output_type": "execute_result"
    },
    {
     "data": {
      "text/plain": [
       "<matplotlib.text.Text at 0x7fac1fd76ef0>"
      ]
     },
     "execution_count": 185,
     "metadata": {},
     "output_type": "execute_result"
    },
    {
     "data": {
      "text/plain": [
       "<matplotlib.text.Text at 0x7fac1fd44dd8>"
      ]
     },
     "execution_count": 185,
     "metadata": {},
     "output_type": "execute_result"
    },
    {
     "data": {
      "text/plain": [
       "{'duration_rem_count': 1.6771914588624822e-20}"
      ]
     },
     "execution_count": 185,
     "metadata": {},
     "output_type": "execute_result"
    },
    {
     "data": {
      "text/html": [
       "<div>\n",
       "<table border=\"1\" class=\"dataframe\">\n",
       "  <thead>\n",
       "    <tr style=\"text-align: right;\">\n",
       "      <th></th>\n",
       "      <th>selected_features</th>\n",
       "    </tr>\n",
       "  </thead>\n",
       "  <tbody>\n",
       "    <tr>\n",
       "      <th>0</th>\n",
       "      <td>duration_rem_count</td>\n",
       "    </tr>\n",
       "  </tbody>\n",
       "</table>\n",
       "</div>"
      ],
      "text/plain": [
       "    selected_features\n",
       "0  duration_rem_count"
      ]
     },
     "execution_count": 185,
     "metadata": {},
     "output_type": "execute_result"
    },
    {
     "data": {
      "image/png": "[encoded data removed]",
      "text/plain": [
       "<matplotlib.figure.Figure at 0x7fac2badc278>"
      ]
     },
     "metadata": {},
     "output_type": "display_data"
    }
   ],
   "source": [
    "# train data: feature study(normalized)\n",
    "# target: msfc3 - msfc2\n",
    "# validation: 10-fold cross validation\n",
    "\n",
    "from sklearn.cross_validation import KFold, cross_val_score\n",
    "from sklearn.linear_model import LassoCV\n",
    "x = x_study\n",
    "y = y_study_scoreChange\n",
    "k = 10\n",
    "\n",
    "lasso = LassoCV(cv=k,random_state=42,normalize=True)  \n",
    "lasso.fit(x,y)\n",
    "scores = cross_val_score(lasso, x, y, cv=k,scoring='mean_squared_error')\n",
    "\n",
    "# plot mean square error for each fold\n",
    "model = lasso\n",
    "m_log_alphascv = -np.log10(model.alphas_)\n",
    "plt.figure(figsize=(10,5))\n",
    "plt.plot(m_log_alphascv, model.mse_path_, ':')\n",
    "plt.plot(m_log_alphascv, model.mse_path_.mean(axis=-1), 'k',\n",
    "         label='Average across the folds', linewidth=2)\n",
    "plt.axvline(-np.log10(model.alpha_), linestyle='--', color='k',\n",
    "            label='chosen alpha by CV')\n",
    "plt.legend()\n",
    "plt.xlabel('-log(alpha)')\n",
    "plt.ylabel('Mean squared error')\n",
    "plt.title('Mean squared error on each fold')\n",
    "\n",
    "# print variable names and regression coefficients\n",
    "features = []\n",
    "coeffs = []\n",
    "for i in range(len(lasso.coef_)):\n",
    "    if lasso.coef_[i] != 0:\n",
    "        coeffs.append(lasso.coef_[i])\n",
    "        features.append(list(x.columns)[i])\n",
    "dict(zip(features, coeffs))\n",
    "\n",
    "# save the results into a dataframe\n",
    "train_data.append('FeatureStudy')\n",
    "target.append('msfc3 - msfc2')\n",
    "alphas.append(lasso.alpha_)\n",
    "selected_features.append(features)\n",
    "coefficients.append(coeffs)\n",
    "MSEs.append(abs(scores).mean())\n",
    "model_complexity.append(len(coeffs))\n",
    "num_of_samples.append(len(y))\n",
    "num_of_features.append(x.shape[1])\n",
    "model_complexity_unique.append(len(coeffs))\n",
    "\n",
    "# print out a table of selected features\n",
    "feature_df = pd.DataFrame()\n",
    "feature_df['selected_features'] = features\n",
    "feature_df"
   ]
  },
  {
   "cell_type": "code",
   "execution_count": 122,
   "metadata": {
    "collapsed": false
   },
   "outputs": [
    {
     "data": {
      "text/plain": [
       "<matplotlib.collections.PathCollection at 0x7fac24465588>"
      ]
     },
     "execution_count": 122,
     "metadata": {},
     "output_type": "execute_result"
    },
    {
     "data": {
      "text/plain": [
       "<matplotlib.text.Text at 0x7fac24443d68>"
      ]
     },
     "execution_count": 122,
     "metadata": {},
     "output_type": "execute_result"
    },
    {
     "data": {
      "text/plain": [
       "<matplotlib.text.Text at 0x7fac24a0d748>"
      ]
     },
     "execution_count": 122,
     "metadata": {},
     "output_type": "execute_result"
    },
    {
     "data": {
      "text/plain": [
       "<matplotlib.text.Text at 0x7fac24bd12e8>"
      ]
     },
     "execution_count": 122,
     "metadata": {},
     "output_type": "execute_result"
    },
    {
     "data": {
      "image/png": "[encoded data removed]",
      "text/plain": [
       "<matplotlib.figure.Figure at 0x7fac2bb50908>"
      ]
     },
     "metadata": {},
     "output_type": "display_data"
    }
   ],
   "source": [
    "# train data: feature study(normalized)\n",
    "# target: msfc3 - msfc2\n",
    "# plot predictions against actual values\n",
    "plt.scatter(y.tolist(), lasso.predict(x))\n",
    "plt.title('Predictions plot against actual values')\n",
    "plt.ylabel('Predictions')\n",
    "plt.xlabel('Actual Values')"
   ]
  },
  {
   "cell_type": "code",
   "execution_count": 123,
   "metadata": {
    "collapsed": false
   },
   "outputs": [
    {
     "data": {
      "text/plain": [
       "<matplotlib.collections.PathCollection at 0x7fac243892b0>"
      ]
     },
     "execution_count": 123,
     "metadata": {},
     "output_type": "execute_result"
    },
    {
     "data": {
      "text/plain": [
       "<matplotlib.collections.LineCollection at 0x7fac24436f60>"
      ]
     },
     "execution_count": 123,
     "metadata": {},
     "output_type": "execute_result"
    },
    {
     "data": {
      "text/plain": [
       "<matplotlib.text.Text at 0x7fac24425ac8>"
      ]
     },
     "execution_count": 123,
     "metadata": {},
     "output_type": "execute_result"
    },
    {
     "data": {
      "text/plain": [
       "<matplotlib.text.Text at 0x7fac2440e390>"
      ]
     },
     "execution_count": 123,
     "metadata": {},
     "output_type": "execute_result"
    },
    {
     "data": {
      "text/plain": [
       "<matplotlib.text.Text at 0x7fac249ac4a8>"
      ]
     },
     "execution_count": 123,
     "metadata": {},
     "output_type": "execute_result"
    },
    {
     "data": {
      "image/png": "[encoded data removed]",
      "text/plain": [
       "<matplotlib.figure.Figure at 0x7fac24436ef0>"
      ]
     },
     "metadata": {},
     "output_type": "display_data"
    }
   ],
   "source": [
    "# train data: feature study(normalized)\n",
    "# target: msfc3 - msfc2\n",
    "# plot residuals against actual values\n",
    "residuals = [i-j for i,j in zip(lasso.predict(x), y.tolist())]\n",
    "plt.scatter(y.tolist(), residuals)\n",
    "plt.hlines(y=0,xmin=-2, xmax=2)\n",
    "plt.title('Residuals plot against actual values')\n",
    "plt.ylabel('Residuals')\n",
    "plt.xlabel('Actual Values')"
   ]
  },
  {
   "cell_type": "code",
   "execution_count": 186,
   "metadata": {
    "collapsed": false,
    "scrolled": false
   },
   "outputs": [
    {
     "name": "stderr",
     "output_type": "stream",
     "text": [
      "/opt/python3/lib/python3.5/site-packages/sklearn/linear_model/coordinate_descent.py:466: ConvergenceWarning: Objective did not converge. You might want to increase the number of iterations\n",
      "  ConvergenceWarning)\n",
      "/opt/python3/lib/python3.5/site-packages/sklearn/linear_model/coordinate_descent.py:466: ConvergenceWarning: Objective did not converge. You might want to increase the number of iterations\n",
      "  ConvergenceWarning)\n"
     ]
    },
    {
     "data": {
      "text/plain": [
       "LassoCV(alphas=None, copy_X=True, cv=10, eps=0.001, fit_intercept=True,\n",
       "    max_iter=1000, n_alphas=100, n_jobs=1, normalize=True, positive=False,\n",
       "    precompute='auto', random_state=42, selection='cyclic', tol=0.0001,\n",
       "    verbose=False)"
      ]
     },
     "execution_count": 186,
     "metadata": {},
     "output_type": "execute_result"
    },
    {
     "name": "stderr",
     "output_type": "stream",
     "text": [
      "/opt/python3/lib/python3.5/site-packages/sklearn/linear_model/coordinate_descent.py:466: ConvergenceWarning: Objective did not converge. You might want to increase the number of iterations\n",
      "  ConvergenceWarning)\n",
      "/opt/python3/lib/python3.5/site-packages/sklearn/linear_model/coordinate_descent.py:466: ConvergenceWarning: Objective did not converge. You might want to increase the number of iterations\n",
      "  ConvergenceWarning)\n",
      "/opt/python3/lib/python3.5/site-packages/sklearn/linear_model/coordinate_descent.py:466: ConvergenceWarning: Objective did not converge. You might want to increase the number of iterations\n",
      "  ConvergenceWarning)\n",
      "/opt/python3/lib/python3.5/site-packages/sklearn/linear_model/coordinate_descent.py:466: ConvergenceWarning: Objective did not converge. You might want to increase the number of iterations\n",
      "  ConvergenceWarning)\n",
      "/opt/python3/lib/python3.5/site-packages/sklearn/linear_model/coordinate_descent.py:466: ConvergenceWarning: Objective did not converge. You might want to increase the number of iterations\n",
      "  ConvergenceWarning)\n",
      "/opt/python3/lib/python3.5/site-packages/sklearn/linear_model/coordinate_descent.py:466: ConvergenceWarning: Objective did not converge. You might want to increase the number of iterations\n",
      "  ConvergenceWarning)\n"
     ]
    },
    {
     "data": {
      "text/plain": [
       "<matplotlib.figure.Figure at 0x7fac1f904898>"
      ]
     },
     "execution_count": 186,
     "metadata": {},
     "output_type": "execute_result"
    },
    {
     "data": {
      "text/plain": [
       "[<matplotlib.lines.Line2D at 0x7fac1f9a5e80>,\n",
       " <matplotlib.lines.Line2D at 0x7fac1f9a5c18>,\n",
       " <matplotlib.lines.Line2D at 0x7fac1f9a5518>,\n",
       " <matplotlib.lines.Line2D at 0x7fac1f9a5358>,\n",
       " <matplotlib.lines.Line2D at 0x7fac1f9a5940>,\n",
       " <matplotlib.lines.Line2D at 0x7fac1f9a56a0>,\n",
       " <matplotlib.lines.Line2D at 0x7fac1f9a5f98>,\n",
       " <matplotlib.lines.Line2D at 0x7fac1f9a5588>,\n",
       " <matplotlib.lines.Line2D at 0x7fac1f9ad240>,\n",
       " <matplotlib.lines.Line2D at 0x7fac1f9ad470>]"
      ]
     },
     "execution_count": 186,
     "metadata": {},
     "output_type": "execute_result"
    },
    {
     "data": {
      "text/plain": [
       "[<matplotlib.lines.Line2D at 0x7fac1f9315c0>]"
      ]
     },
     "execution_count": 186,
     "metadata": {},
     "output_type": "execute_result"
    },
    {
     "data": {
      "text/plain": [
       "<matplotlib.lines.Line2D at 0x7fac1f9ad6a0>"
      ]
     },
     "execution_count": 186,
     "metadata": {},
     "output_type": "execute_result"
    },
    {
     "data": {
      "text/plain": [
       "<matplotlib.legend.Legend at 0x7fac1f9bcef0>"
      ]
     },
     "execution_count": 186,
     "metadata": {},
     "output_type": "execute_result"
    },
    {
     "data": {
      "text/plain": [
       "<matplotlib.text.Text at 0x7fac1f91e0f0>"
      ]
     },
     "execution_count": 186,
     "metadata": {},
     "output_type": "execute_result"
    },
    {
     "data": {
      "text/plain": [
       "<matplotlib.text.Text at 0x7fac1f936400>"
      ]
     },
     "execution_count": 186,
     "metadata": {},
     "output_type": "execute_result"
    },
    {
     "data": {
      "text/plain": [
       "<matplotlib.text.Text at 0x7fac1f861d68>"
      ]
     },
     "execution_count": 186,
     "metadata": {},
     "output_type": "execute_result"
    },
    {
     "data": {
      "text/plain": [
       "{'duration_movement_count_day_17': -2.3778325888474454e-12,\n",
       " 'duration_movement_count_day_22': -1.296770305886888e-12,\n",
       " 'duration_movement_count_day_24': -7.0287570778890306e-13,\n",
       " 'duration_movement_count_day_25': -1.5294624730259153e-26,\n",
       " 'duration_movement_count_day_31': -4.4354411717751543e-25,\n",
       " 'duration_movement_count_day_33': -3.7468372473627177e-11,\n",
       " 'duration_movement_count_day_43': -7.5913160541622163e-11,\n",
       " 'duration_movement_count_day_55': -3.0589249460518306e-26,\n",
       " 'hourly_amb_temp_range_at_home_day_59': -0.0053498724588794651,\n",
       " 'hourly_temp_median_at_home_day_1': 0.091916368110577296,\n",
       " 'hourly_temp_range_at_home_day_1': -0.43189988383447753,\n",
       " 'hourly_temp_range_at_home_day_10': -6.2552374891970678e-05,\n",
       " 'hourly_temp_range_at_home_day_11': -6.0649224979331438e-05,\n",
       " 'hourly_temp_range_at_home_day_12': -8.1562769878684623e-05,\n",
       " 'hourly_temp_range_at_home_day_13': -9.213636880111561e-05,\n",
       " 'hourly_temp_range_at_home_day_14': -8.701610324533342e-05,\n",
       " 'hourly_temp_range_at_home_day_15': -7.8525196105065683e-05,\n",
       " 'hourly_temp_range_at_home_day_16': -6.9560000670302062e-05,\n",
       " 'hourly_temp_range_at_home_day_17': -6.1122584732985842e-05,\n",
       " 'hourly_temp_range_at_home_day_18': -5.3452238026470037e-05,\n",
       " 'hourly_temp_range_at_home_day_19': -4.6552566832057153e-05,\n",
       " 'hourly_temp_range_at_home_day_2': -0.0071677328245298424,\n",
       " 'hourly_temp_range_at_home_day_20': -4.0364895952495139e-05,\n",
       " 'hourly_temp_range_at_home_day_21': -3.4820400785987665e-05,\n",
       " 'hourly_temp_range_at_home_day_22': -2.9854028083775332e-05,\n",
       " 'hourly_temp_range_at_home_day_23': -2.5407205074168743e-05,\n",
       " 'hourly_temp_range_at_home_day_24': -2.1427635133374574e-05,\n",
       " 'hourly_temp_range_at_home_day_25': -1.786826096010653e-05,\n",
       " 'hourly_temp_range_at_home_day_26': -1.468788881084737e-05,\n",
       " 'hourly_temp_range_at_home_day_27': -1.1848198617611333e-05,\n",
       " 'hourly_temp_range_at_home_day_28': -9.3152841199461317e-06,\n",
       " 'hourly_temp_range_at_home_day_29': -7.0585694500813164e-06,\n",
       " 'hourly_temp_range_at_home_day_3': -0.0022979567294209215,\n",
       " 'hourly_temp_range_at_home_day_30': -5.0504659894443462e-06,\n",
       " 'hourly_temp_range_at_home_day_31': -3.2660916485855456e-06,\n",
       " 'hourly_temp_range_at_home_day_32': -1.6830082415172671e-06,\n",
       " 'hourly_temp_range_at_home_day_33': -2.8098260227158595e-07,\n",
       " 'hourly_temp_range_at_home_day_34': -5.9682250856698949e-18,\n",
       " 'hourly_temp_range_at_home_day_35': -1.9894083618899649e-18,\n",
       " 'hourly_temp_range_at_home_day_36': -4.8629982179532475e-18,\n",
       " 'hourly_temp_range_at_home_day_37': -1.9894083618899649e-18,\n",
       " 'hourly_temp_range_at_home_day_38': -6.6313612062998835e-19,\n",
       " 'hourly_temp_range_at_home_day_39': -8.841814941733178e-18,\n",
       " 'hourly_temp_range_at_home_day_4': -0.00064847876456493368,\n",
       " 'hourly_temp_range_at_home_day_40': -1.1052268677166472e-18,\n",
       " 'hourly_temp_range_at_home_day_41': -6.6313612062998835e-19,\n",
       " 'hourly_temp_range_at_home_day_42': -6.6313612062998835e-19,\n",
       " 'hourly_temp_range_at_home_day_43': -3.5367259766932712e-18,\n",
       " 'hourly_temp_range_at_home_day_44': -4.1998620973232593e-18,\n",
       " 'hourly_temp_range_at_home_day_45': -6.6313612062998835e-19,\n",
       " 'hourly_temp_range_at_home_day_46': -6.6313612062998835e-19,\n",
       " 'hourly_temp_range_at_home_day_47': -6.6313612062998835e-19,\n",
       " 'hourly_temp_range_at_home_day_49': -2.2104537354332945e-19,\n",
       " 'hourly_temp_range_at_home_day_5': -0.00017724853425870352,\n",
       " 'hourly_temp_range_at_home_day_50': -2.2104537354332945e-19,\n",
       " 'hourly_temp_range_at_home_day_51': -2.2104537354332945e-19,\n",
       " 'hourly_temp_range_at_home_day_52': -6.6313612062998835e-19,\n",
       " 'hourly_temp_range_at_home_day_53': -6.6313612062998835e-19,\n",
       " 'hourly_temp_range_at_home_day_6': -4.7952198881583509e-05,\n",
       " 'hourly_temp_range_at_home_day_7': -1.2932756307940543e-05,\n",
       " 'hourly_temp_range_at_home_day_8': -3.4847016325806515e-06,\n",
       " 'hourly_temp_range_at_home_day_9': -4.562114697987276e-05,\n",
       " 'hourly_temp_std_at_home_day_1': -0.45861918502439714,\n",
       " 'hourly_temp_std_at_home_day_59': 0.75820719728300778,\n",
       " 'hourly_temp_std_at_home_day_64': 0.61699969031911706,\n",
       " 'idle_minutes_day_64': -1.8414537515046511e-05,\n",
       " 'mean_pvt_delay_1_at_home_day_1': -9.0463183058847341e-05,\n",
       " 'mean_pvt_delay_1_at_home_day_2': -1.1083540207427883e-05,\n",
       " 'mean_pvt_delay_1_at_home_day_61': 0.0001114346031257064,\n",
       " 'mean_pvt_delay_3_at_home_day_1': -0.00055032208941167154,\n",
       " 'mean_pvt_delay_3_at_home_day_10': -4.2030660840075143e-14,\n",
       " 'mean_pvt_delay_3_at_home_day_11': -3.4519044092912735e-15,\n",
       " 'mean_pvt_delay_3_at_home_day_12': -2.8349990829535657e-16,\n",
       " 'mean_pvt_delay_3_at_home_day_13': -2.3272675486178189e-17,\n",
       " 'mean_pvt_delay_3_at_home_day_14': -1.9153406906216846e-18,\n",
       " 'mean_pvt_delay_3_at_home_day_15': -1.6311450362320275e-19,\n",
       " 'mean_pvt_delay_3_at_home_day_16': -2.9486083347271266e-20,\n",
       " 'mean_pvt_delay_3_at_home_day_17': -1.8820904264215703e-21,\n",
       " 'mean_pvt_delay_3_at_home_day_18': -3.7641808528431405e-21,\n",
       " 'mean_pvt_delay_3_at_home_day_19': -1.0037815607581707e-20,\n",
       " 'mean_pvt_delay_3_at_home_day_2': -1.9595852318773706e-05,\n",
       " 'mean_pvt_delay_3_at_home_day_20': -3.7641808528431405e-21,\n",
       " 'mean_pvt_delay_3_at_home_day_21': -6.2736347547385673e-21,\n",
       " 'mean_pvt_delay_3_at_home_day_22': -3.1368173773692836e-21,\n",
       " 'mean_pvt_delay_3_at_home_day_23': -2.5094539018954268e-21,\n",
       " 'mean_pvt_delay_3_at_home_day_24': -2.5094539018954268e-21,\n",
       " 'mean_pvt_delay_3_at_home_day_25': -2.5094539018954268e-21,\n",
       " 'mean_pvt_delay_3_at_home_day_26': -2.5094539018954268e-21,\n",
       " 'mean_pvt_delay_3_at_home_day_27': -1.2547269509477134e-21,\n",
       " 'mean_pvt_delay_3_at_home_day_3': -1.6698874315420254e-06,\n",
       " 'mean_pvt_delay_3_at_home_day_31': -6.2736347547385669e-22,\n",
       " 'mean_pvt_delay_3_at_home_day_34': -5.0189078037908535e-21,\n",
       " 'mean_pvt_delay_3_at_home_day_35': -3.1368173773692836e-21,\n",
       " 'mean_pvt_delay_3_at_home_day_36': -6.2736347547385669e-22,\n",
       " 'mean_pvt_delay_3_at_home_day_37': -6.2736347547385669e-22,\n",
       " 'mean_pvt_delay_3_at_home_day_38': -6.2736347547385669e-22,\n",
       " 'mean_pvt_delay_3_at_home_day_4': -1.3697643000183911e-07,\n",
       " 'mean_pvt_delay_3_at_home_day_40': -6.2736347547385669e-22,\n",
       " 'mean_pvt_delay_3_at_home_day_44': -1.8820904264215703e-21,\n",
       " 'mean_pvt_delay_3_at_home_day_5': -1.1249108623115921e-08,\n",
       " 'mean_pvt_delay_3_at_home_day_50': -1.2547269509477134e-21,\n",
       " 'mean_pvt_delay_3_at_home_day_52': -1.2547269509477134e-21,\n",
       " 'mean_pvt_delay_3_at_home_day_53': -1.2547269509477134e-21,\n",
       " 'mean_pvt_delay_3_at_home_day_54': -1.2547269509477134e-21,\n",
       " 'mean_pvt_delay_3_at_home_day_55': -6.2736347547385669e-22,\n",
       " 'mean_pvt_delay_3_at_home_day_6': -9.2386244419839146e-10,\n",
       " 'mean_pvt_delay_3_at_home_day_7': -7.5874710791568907e-11,\n",
       " 'mean_pvt_delay_3_at_home_day_8': -6.2314168001791608e-12,\n",
       " 'mean_pvt_delay_3_at_home_day_9': -5.1177205186072251e-13,\n",
       " 'mean_pvt_delay_5_at_home_day_61': 0.00086831674831265408,\n",
       " 'mean_pvt_delay_5_at_home_day_62': 3.374686474953531e-05,\n",
       " 'mean_pvt_delay_5_at_home_day_63': 8.955443338626359e-06,\n",
       " 'mean_pvt_delay_7_at_home_day_1': -0.00037538632133302406,\n",
       " 'mean_pvt_delay_at_home_day_59': 0.00017315295343460447,\n",
       " 'mean_pvt_delay_at_home_day_60': 2.990679492922585e-05,\n",
       " 'prv_sdnn_day_12': 1.7794517908502301e-05,\n",
       " 'prv_sdnn_day_18': 5.7689155787242381e-06,\n",
       " 'prv_sdnn_day_2': 1.0630618758773917e-05,\n",
       " 'prv_sdnn_day_20': 0.00016102656739139427,\n",
       " 'prv_sdnn_day_26': 0.00081660793184468541,\n",
       " 'prv_sdnn_day_29': 4.815456132771938e-06,\n",
       " 'prv_sdnn_day_3': 5.2955505441383995e-05,\n",
       " 'prv_sdnn_day_30': 8.8620519979720928e-19,\n",
       " 'prv_sdnn_day_33': 4.3812391900086758e-19,\n",
       " 'prv_sdnn_day_35': 1.1116046264430784e-06,\n",
       " 'prv_sdnn_day_36': 2.4904797846333909e-05,\n",
       " 'prv_sdnn_day_37': 1.0853524357066944e-18,\n",
       " 'prv_sdnn_day_40': 0.00032655846007805455,\n",
       " 'prv_sdnn_day_42': 9.5291952382688677e-18,\n",
       " 'prv_sdnn_day_43': 0.00027677788011748938,\n",
       " 'prv_sdnn_day_52': 0.00014543262169110579,\n",
       " 'prv_sdnn_day_53': 0.00021556147883875724,\n",
       " 'prv_sdnn_day_6': 4.5780041200916301e-06,\n",
       " 'prv_sdnn_day_62': 0.001484966079988265,\n",
       " 'prv_sdnn_day_63': 0.00048622895382414007,\n",
       " 'prv_sdnn_day_7': 0.00024428858422211318,\n",
       " 'stance_day_12': -0.025494299951358799,\n",
       " 'stance_day_14': -5.7396477803888421e-08,\n",
       " 'stance_day_19': -0.010987561693623695,\n",
       " 'stance_day_20': -3.0148992994062572e-18,\n",
       " 'stance_day_22': -0.038607475208374452,\n",
       " 'stance_day_23': -1.7729619814519095e-05,\n",
       " 'stance_day_30': -0.00078021064801353415,\n",
       " 'stance_day_32': -6.0297985988125144e-18,\n",
       " 'stance_day_35': -8.4417180383375206e-18,\n",
       " 'stance_day_36': -0.0035513431877323117,\n",
       " 'stance_day_38': -4.0402358272368773e-05,\n",
       " 'stance_day_4': -5.1773473004169321e-07,\n",
       " 'stance_day_40': -0.00015236172485986915,\n",
       " 'stance_day_41': -6.0297985988125146e-19,\n",
       " 'stance_day_43': -0.00067809259676472231,\n",
       " 'stance_day_47': -0.10028724920699701,\n",
       " 'stance_day_48': -8.1840724826619151e-05,\n",
       " 'stance_day_53': -3.3766872153350083e-17,\n",
       " 'stance_day_54': -0.00065524915328551145,\n",
       " 'stance_day_57': -0.0094090416580382905,\n",
       " 'turn_angle_ankle_day_61': 0.0010102042267773907,\n",
       " 'turn_angle_ankle_day_62': 0.0018582440630706271,\n",
       " 'turn_angle_ankle_day_63': 0.00011165046388549355,\n",
       " 'turn_angle_ankle_day_64': 0.0073266887314328505,\n",
       " 'turn_angle_day_59': -0.00052357054384116817,\n",
       " 'turn_angle_day_60': -0.00051231369390654586,\n",
       " 'turn_duration_ankle_day_3': -0.068040553208658261,\n",
       " 'turn_vel_std_ankle_day_62': -0.0025299837250930815,\n",
       " 'turn_vel_std_ankle_day_63': -0.0083822365724877026,\n",
       " 'turn_vel_std_day_11': 2.4446607105727193e-19,\n",
       " 'turn_vel_std_day_13': 3.7610164778041835e-20,\n",
       " 'turn_vel_std_day_17': 3.7610164778041835e-20,\n",
       " 'turn_vel_std_day_19': 3.7610164778041835e-20,\n",
       " 'turn_vel_std_day_20': 7.2205879195492645e-05,\n",
       " 'turn_vel_std_day_21': 0.00073177628183255952,\n",
       " 'turn_vel_std_day_23': 1.8805082389020918e-20,\n",
       " 'turn_vel_std_day_26': 1.1283049433412552e-19,\n",
       " 'turn_vel_std_day_31': 8.0208172969575432e-06,\n",
       " 'turn_vel_std_day_33': 3.7610164778041835e-20,\n",
       " 'turn_vel_std_day_35': 9.309102904181723e-05,\n",
       " 'turn_vel_std_day_36': 0.00011209233816451273,\n",
       " 'turn_vel_std_day_4': 5.7637577522349123e-17,\n",
       " 'turn_vel_std_day_40': 2.1888596465150226e-06,\n",
       " 'turn_vel_std_day_43': 1.8805082389020918e-20,\n",
       " 'turn_vel_std_day_48': 6.1833075260843575e-09,\n",
       " 'turn_vel_std_day_50': 9.5431095980575201e-05,\n",
       " 'turn_vel_std_day_52': 2.8730379268096459e-05,\n",
       " 'turn_vel_std_day_57': 0.0036251529698255605,\n",
       " 'turn_vel_std_day_6': 3.799653318644412e-05,\n",
       " 'turn_vel_std_day_7': 0.0011260389443879604,\n",
       " 'turn_vel_std_day_8': 5.8911206318418071e-05,\n",
       " 'walk_minutes_day_61': -0.00035640320864923259,\n",
       " 'walk_minutes_day_62': -1.1019802813836281e-05}"
      ]
     },
     "execution_count": 186,
     "metadata": {},
     "output_type": "execute_result"
    },
    {
     "data": {
      "text/html": [
       "<div>\n",
       "<table border=\"1\" class=\"dataframe\">\n",
       "  <thead>\n",
       "    <tr style=\"text-align: right;\">\n",
       "      <th></th>\n",
       "      <th>selected_features</th>\n",
       "    </tr>\n",
       "  </thead>\n",
       "  <tbody>\n",
       "    <tr>\n",
       "      <th>0</th>\n",
       "      <td>stance</td>\n",
       "    </tr>\n",
       "    <tr>\n",
       "      <th>1</th>\n",
       "      <td>turn_angle_ankle</td>\n",
       "    </tr>\n",
       "    <tr>\n",
       "      <th>2</th>\n",
       "      <td>hourly_temp_median_at_home</td>\n",
       "    </tr>\n",
       "    <tr>\n",
       "      <th>3</th>\n",
       "      <td>mean_pvt_delay_3_at_home</td>\n",
       "    </tr>\n",
       "    <tr>\n",
       "      <th>4</th>\n",
       "      <td>turn_vel_std</td>\n",
       "    </tr>\n",
       "    <tr>\n",
       "      <th>5</th>\n",
       "      <td>walk_minutes</td>\n",
       "    </tr>\n",
       "    <tr>\n",
       "      <th>6</th>\n",
       "      <td>mean_pvt_delay_at_home</td>\n",
       "    </tr>\n",
       "    <tr>\n",
       "      <th>7</th>\n",
       "      <td>turn_vel_std_ankle</td>\n",
       "    </tr>\n",
       "    <tr>\n",
       "      <th>8</th>\n",
       "      <td>turn_duration_ankle</td>\n",
       "    </tr>\n",
       "    <tr>\n",
       "      <th>9</th>\n",
       "      <td>turn_angle</td>\n",
       "    </tr>\n",
       "    <tr>\n",
       "      <th>10</th>\n",
       "      <td>mean_pvt_delay_7_at_home</td>\n",
       "    </tr>\n",
       "    <tr>\n",
       "      <th>11</th>\n",
       "      <td>hourly_temp_range_at_home</td>\n",
       "    </tr>\n",
       "    <tr>\n",
       "      <th>12</th>\n",
       "      <td>prv_sdnn</td>\n",
       "    </tr>\n",
       "    <tr>\n",
       "      <th>13</th>\n",
       "      <td>idle_minutes</td>\n",
       "    </tr>\n",
       "    <tr>\n",
       "      <th>14</th>\n",
       "      <td>mean_pvt_delay_5_at_home</td>\n",
       "    </tr>\n",
       "    <tr>\n",
       "      <th>15</th>\n",
       "      <td>hourly_temp_std_at_home</td>\n",
       "    </tr>\n",
       "    <tr>\n",
       "      <th>16</th>\n",
       "      <td>hourly_amb_temp_range_at_home</td>\n",
       "    </tr>\n",
       "    <tr>\n",
       "      <th>17</th>\n",
       "      <td>mean_pvt_delay_1_at_home</td>\n",
       "    </tr>\n",
       "    <tr>\n",
       "      <th>18</th>\n",
       "      <td>duration_movement_count</td>\n",
       "    </tr>\n",
       "  </tbody>\n",
       "</table>\n",
       "</div>"
      ],
      "text/plain": [
       "                selected_features\n",
       "0                          stance\n",
       "1                turn_angle_ankle\n",
       "2      hourly_temp_median_at_home\n",
       "3        mean_pvt_delay_3_at_home\n",
       "4                    turn_vel_std\n",
       "5                    walk_minutes\n",
       "6          mean_pvt_delay_at_home\n",
       "7              turn_vel_std_ankle\n",
       "8             turn_duration_ankle\n",
       "9                      turn_angle\n",
       "10       mean_pvt_delay_7_at_home\n",
       "11      hourly_temp_range_at_home\n",
       "12                       prv_sdnn\n",
       "13                   idle_minutes\n",
       "14       mean_pvt_delay_5_at_home\n",
       "15        hourly_temp_std_at_home\n",
       "16  hourly_amb_temp_range_at_home\n",
       "17       mean_pvt_delay_1_at_home\n",
       "18        duration_movement_count"
      ]
     },
     "execution_count": 186,
     "metadata": {},
     "output_type": "execute_result"
    },
    {
     "data": {
      "image/png": "[encoded data removed]",
      "text/plain": [
       "<matplotlib.figure.Figure at 0x7fac1f904898>"
      ]
     },
     "metadata": {},
     "output_type": "display_data"
    }
   ],
   "source": [
    "# train data: feature day(normalized)\n",
    "# target: msfc3 - msfc2\n",
    "# validation: 10-fold cross validation\n",
    "\n",
    "from sklearn.cross_validation import KFold, cross_val_score\n",
    "from sklearn.linear_model import LassoCV\n",
    "x = x_day\n",
    "y = y_day_scoreChange\n",
    "k = 10\n",
    "\n",
    "lasso = LassoCV(cv=k,random_state=42,normalize=True)  \n",
    "lasso.fit(x,y)\n",
    "scores = cross_val_score(lasso, x, y, cv=k,scoring='mean_squared_error')\n",
    "\n",
    "# plot mean square error for each fold\n",
    "model = lasso\n",
    "m_log_alphascv = -np.log10(model.alphas_)\n",
    "plt.figure(figsize=(10,5))\n",
    "plt.plot(m_log_alphascv, model.mse_path_, ':')\n",
    "plt.plot(m_log_alphascv, model.mse_path_.mean(axis=-1), 'k',\n",
    "         label='Average across the folds', linewidth=2)\n",
    "plt.axvline(-np.log10(model.alpha_), linestyle='--', color='k',\n",
    "            label='chosen alpha by CV')\n",
    "plt.legend()\n",
    "plt.xlabel('-log(alpha)')\n",
    "plt.ylabel('Mean squared error')\n",
    "plt.title('Mean squared error on each fold')\n",
    "# print variable names and regression coefficients\n",
    "features = []\n",
    "coeffs = []\n",
    "for i in range(len(lasso.coef_)):\n",
    "    if lasso.coef_[i] != 0:\n",
    "        coeffs.append(lasso.coef_[i])\n",
    "        features.append(list(x.columns)[i])\n",
    "dict(zip(features, coeffs))\n",
    "\n",
    "# save the results into a dataframe\n",
    "train_data.append('FeatureDay')\n",
    "target.append('msfc3 - msfc2')\n",
    "alphas.append(lasso.alpha_)\n",
    "selected_features.append(features)\n",
    "coefficients.append(coeffs)\n",
    "MSEs.append(abs(scores).mean())\n",
    "model_complexity.append(len(coeffs))\n",
    "num_of_samples.append(len(y))\n",
    "num_of_features.append(x.shape[1])\n",
    "model_complexity_unique.append(len(list(set([feature.split('_day_')[0] for feature in features]))))\n",
    "\n",
    "# print out a table of selected features\n",
    "feature_df = pd.DataFrame()\n",
    "feature_df['selected_features'] = list(set([feature.split('_day_')[0] for feature in features]))\n",
    "feature_df"
   ]
  },
  {
   "cell_type": "code",
   "execution_count": 125,
   "metadata": {
    "collapsed": false
   },
   "outputs": [
    {
     "data": {
      "text/plain": [
       "<matplotlib.collections.PathCollection at 0x7fac2428cba8>"
      ]
     },
     "execution_count": 125,
     "metadata": {},
     "output_type": "execute_result"
    },
    {
     "data": {
      "text/plain": [
       "<matplotlib.text.Text at 0x7fac2426d1d0>"
      ]
     },
     "execution_count": 125,
     "metadata": {},
     "output_type": "execute_result"
    },
    {
     "data": {
      "text/plain": [
       "<matplotlib.text.Text at 0x7fac243279e8>"
      ]
     },
     "execution_count": 125,
     "metadata": {},
     "output_type": "execute_result"
    },
    {
     "data": {
      "text/plain": [
       "<matplotlib.text.Text at 0x7fac2440e898>"
      ]
     },
     "execution_count": 125,
     "metadata": {},
     "output_type": "execute_result"
    },
    {
     "data": {
      "image/png": "[encoded data removed]",
      "text/plain": [
       "<matplotlib.figure.Figure at 0x7fac24439eb8>"
      ]
     },
     "metadata": {},
     "output_type": "display_data"
    }
   ],
   "source": [
    "# train data: feature day(normalized)\n",
    "# target: msfc3 - msfc2\n",
    "# plot predictions against actual values\n",
    "plt.scatter(y.tolist(), lasso.predict(x))\n",
    "plt.title('Predictions plot against actual values')\n",
    "plt.ylabel('Predictions')\n",
    "plt.xlabel('Actual Values')"
   ]
  },
  {
   "cell_type": "code",
   "execution_count": 126,
   "metadata": {
    "collapsed": false
   },
   "outputs": [
    {
     "data": {
      "text/plain": [
       "<matplotlib.collections.PathCollection at 0x7fac241ee668>"
      ]
     },
     "execution_count": 126,
     "metadata": {},
     "output_type": "execute_result"
    },
    {
     "data": {
      "text/plain": [
       "<matplotlib.collections.LineCollection at 0x7fac24433b70>"
      ]
     },
     "execution_count": 126,
     "metadata": {},
     "output_type": "execute_result"
    },
    {
     "data": {
      "text/plain": [
       "<matplotlib.text.Text at 0x7fac2424bef0>"
      ]
     },
     "execution_count": 126,
     "metadata": {},
     "output_type": "execute_result"
    },
    {
     "data": {
      "text/plain": [
       "<matplotlib.text.Text at 0x7fac24238908>"
      ]
     },
     "execution_count": 126,
     "metadata": {},
     "output_type": "execute_result"
    },
    {
     "data": {
      "text/plain": [
       "<matplotlib.text.Text at 0x7fac243f5a90>"
      ]
     },
     "execution_count": 126,
     "metadata": {},
     "output_type": "execute_result"
    },
    {
     "data": {
      "image/png": "[encoded data removed]",
      "text/plain": [
       "<matplotlib.figure.Figure at 0x7fac242df7b8>"
      ]
     },
     "metadata": {},
     "output_type": "display_data"
    }
   ],
   "source": [
    "# train data: feature day(normalized)\n",
    "# target: msfc3 - msfc2\n",
    "# plot residuals against actual values\n",
    "residuals = [i-j for i,j in zip(lasso.predict(x), y.tolist())]\n",
    "plt.scatter(y.tolist(), residuals)\n",
    "plt.hlines(y=0,xmin=-2, xmax=2)\n",
    "plt.title('Residuals plot against actual values')\n",
    "plt.ylabel('Residuals')\n",
    "plt.xlabel('Actual Values')"
   ]
  },
  {
   "cell_type": "code",
   "execution_count": 127,
   "metadata": {
    "collapsed": false
   },
   "outputs": [
    {
     "data": {
      "text/html": [
       "<div>\n",
       "<table border=\"1\" class=\"dataframe\">\n",
       "  <thead>\n",
       "    <tr style=\"text-align: right;\">\n",
       "      <th></th>\n",
       "      <th>train_data</th>\n",
       "      <th>num_of_samples</th>\n",
       "      <th>num_of_features</th>\n",
       "      <th>target</th>\n",
       "      <th>alphas</th>\n",
       "      <th>MSEs</th>\n",
       "      <th>model_complexity</th>\n",
       "      <th>model_complexity_unique</th>\n",
       "    </tr>\n",
       "  </thead>\n",
       "  <tbody>\n",
       "    <tr>\n",
       "      <th>0</th>\n",
       "      <td>FeatureStudy</td>\n",
       "      <td>22</td>\n",
       "      <td>60</td>\n",
       "      <td>msfc3</td>\n",
       "      <td>0.116214</td>\n",
       "      <td>1.438485</td>\n",
       "      <td>2</td>\n",
       "      <td>2</td>\n",
       "    </tr>\n",
       "    <tr>\n",
       "      <th>1</th>\n",
       "      <td>FeatureDay</td>\n",
       "      <td>20</td>\n",
       "      <td>1826</td>\n",
       "      <td>msfc3</td>\n",
       "      <td>0.028395</td>\n",
       "      <td>0.659313</td>\n",
       "      <td>37</td>\n",
       "      <td>7</td>\n",
       "    </tr>\n",
       "    <tr>\n",
       "      <th>2</th>\n",
       "      <td>FeatureStudy</td>\n",
       "      <td>22</td>\n",
       "      <td>60</td>\n",
       "      <td>msfc3 - msfc2</td>\n",
       "      <td>0.046528</td>\n",
       "      <td>0.202976</td>\n",
       "      <td>1</td>\n",
       "      <td>1</td>\n",
       "    </tr>\n",
       "    <tr>\n",
       "      <th>3</th>\n",
       "      <td>FeatureDay</td>\n",
       "      <td>20</td>\n",
       "      <td>1826</td>\n",
       "      <td>msfc3 - msfc2</td>\n",
       "      <td>0.000138</td>\n",
       "      <td>0.175919</td>\n",
       "      <td>189</td>\n",
       "      <td>19</td>\n",
       "    </tr>\n",
       "  </tbody>\n",
       "</table>\n",
       "</div>"
      ],
      "text/plain": [
       "     train_data  num_of_samples  num_of_features         target    alphas  \\\n",
       "0  FeatureStudy              22               60          msfc3  0.116214   \n",
       "1    FeatureDay              20             1826          msfc3  0.028395   \n",
       "2  FeatureStudy              22               60  msfc3 - msfc2  0.046528   \n",
       "3    FeatureDay              20             1826  msfc3 - msfc2  0.000138   \n",
       "\n",
       "       MSEs  model_complexity  model_complexity_unique  \n",
       "0  1.438485                 2                        2  \n",
       "1  0.659313                37                        7  \n",
       "2  0.202976                 1                        1  \n",
       "3  0.175919               189                       19  "
      ]
     },
     "execution_count": 127,
     "metadata": {},
     "output_type": "execute_result"
    }
   ],
   "source": [
    "summary = pd.DataFrame()\n",
    "summary['train_data'] = train_data\n",
    "summary['num_of_samples'] = num_of_samples\n",
    "summary['num_of_features'] = num_of_features\n",
    "summary['target'] = target\n",
    "summary['alphas'] = alphas\n",
    "summary['MSEs'] = MSEs\n",
    "summary['model_complexity'] = model_complexity\n",
    "summary['model_complexity_unique'] = model_complexity_unique\n",
    "summary"
   ]
  },
  {
   "cell_type": "code",
   "execution_count": 128,
   "metadata": {
    "collapsed": false
   },
   "outputs": [
    {
     "data": {
      "text/plain": [
       "<matplotlib.text.Text at 0x7fac243985f8>"
      ]
     },
     "execution_count": 128,
     "metadata": {},
     "output_type": "execute_result"
    },
    {
     "data": {
      "text/plain": [
       "<matplotlib.text.Text at 0x7fac2b583b38>"
      ]
     },
     "execution_count": 128,
     "metadata": {},
     "output_type": "execute_result"
    },
    {
     "data": {
      "text/plain": [
       "<matplotlib.text.Text at 0x7fac2439aa58>"
      ]
     },
     "execution_count": 128,
     "metadata": {},
     "output_type": "execute_result"
    },
    {
     "data": {
      "text/plain": [
       "(0, 2)"
      ]
     },
     "execution_count": 128,
     "metadata": {},
     "output_type": "execute_result"
    },
    {
     "data": {
      "text/plain": [
       "<matplotlib.text.Text at 0x7fac24a11048>"
      ]
     },
     "execution_count": 128,
     "metadata": {},
     "output_type": "execute_result"
    },
    {
     "data": {
      "text/plain": [
       "<matplotlib.text.Text at 0x7fac24350470>"
      ]
     },
     "execution_count": 128,
     "metadata": {},
     "output_type": "execute_result"
    },
    {
     "data": {
      "text/plain": [
       "<matplotlib.text.Text at 0x7fac243477b8>"
      ]
     },
     "execution_count": 128,
     "metadata": {},
     "output_type": "execute_result"
    },
    {
     "data": {
      "text/plain": [
       "(0, 2)"
      ]
     },
     "execution_count": 128,
     "metadata": {},
     "output_type": "execute_result"
    },
    {
     "data": {
      "image/png": "[encoded data removed]",
      "text/plain": [
       "<matplotlib.figure.Figure at 0x7fac24292588>"
      ]
     },
     "metadata": {},
     "output_type": "display_data"
    }
   ],
   "source": [
    "# visualize the resulted mean squared errors scores\n",
    "figs, axes = plt.subplots(nrows= 1, ncols= 2)\n",
    "\n",
    "axes[0] = summary.set_index('train_data')['MSEs'].iloc[[0,1]].plot(kind='bar',ax=axes[0],figsize=(15,5))\n",
    "axes[0].set_title('Mean squared error by Lasso regression, Traget = msfc3 ')\n",
    "axes[0].set_xlabel('Dataset')\n",
    "axes[0].set_ylabel('Mean squared error')\n",
    "axes[0].set_ylim((0,2))\n",
    "\n",
    "axes[1] = summary.set_index('train_data')['MSEs'].iloc[[2,3]].plot(kind='bar',ax=axes[1])\n",
    "axes[1].set_title('Mean squared error by Lasso regression, Target = msfc3 - msfc2')\n",
    "axes[1].set_xlabel('Dataset')\n",
    "axes[1].set_ylabel('Mean squared error')\n",
    "axes[1].set_ylim((0,2))"
   ]
  },
  {
   "cell_type": "code",
   "execution_count": null,
   "metadata": {
    "collapsed": true
   },
   "outputs": [],
   "source": []
  }
 ],
 "metadata": {
  "kernelspec": {
   "display_name": "Python 3",
   "language": "python",
   "name": "python3"
  },
  "language_info": {
   "codemirror_mode": {
    "name": "ipython",
    "version": 3
   },
   "file_extension": ".py",
   "mimetype": "text/x-python",
   "name": "python",
   "nbconvert_exporter": "python",
   "pygments_lexer": "ipython3",
   "version": "3.6.3"
  }
 },
 "nbformat": 4,
 "nbformat_minor": 0
}
