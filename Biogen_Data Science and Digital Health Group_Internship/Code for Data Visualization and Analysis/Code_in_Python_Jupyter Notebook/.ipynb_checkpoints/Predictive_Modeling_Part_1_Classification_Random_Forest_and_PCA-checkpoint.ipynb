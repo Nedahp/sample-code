{
 "cells": [
  {
   "cell_type": "code",
   "execution_count": null,
   "metadata": {
    "collapsed": true
   },
   "outputs": [],
   "source": [
    "# Purpose of the code:\n",
    "    # Create a classification model to predict the level of MSFC scores\n",
    "        # Model: Random Forest\n",
    "        # Validation: 10-fold cross validation"
   ]
  },
  {
   "cell_type": "code",
   "execution_count": 209,
   "metadata": {
    "collapsed": true
   },
   "outputs": [],
   "source": [
    "# necessay imports\n",
    "import pandas as pd\n",
    "import numpy as np\n",
    "import seaborn as sns\n",
    "import matplotlib.pyplot as plt\n",
    "%matplotlib inline\n",
    "from IPython.core.interactiveshell import InteractiveShell\n",
    "InteractiveShell.ast_node_interactivity = \"all\""
   ]
  },
  {
   "cell_type": "code",
   "execution_count": 210,
   "metadata": {
    "collapsed": false
   },
   "outputs": [
    {
     "name": "stdout",
     "output_type": "stream",
     "text": [
      "/camdatalake/bronze/verily_ms/device\n"
     ]
    }
   ],
   "source": [
    "# switch to a proper directory to access the data\n",
    "cd /camdatalake/bronze/verily_ms/device/"
   ]
  },
  {
   "cell_type": "code",
   "execution_count": 211,
   "metadata": {
    "collapsed": true
   },
   "outputs": [],
   "source": [
    "# download and read the data\n",
    "\n",
    "# FeatureDay: Average value of the features for each day of study. Days are listed as \n",
    "# DayOfStudy\n",
    "\n",
    "# FeatureStudy: Features for the entire study period.For the at home features, \n",
    "# the reported value is the median of the observed day level values.\n",
    "\n",
    "import gzip, csv\n",
    "with gzip.open(\"FeaturesDay.csv.gz\", \"rt\", newline=\"\") as file:\n",
    "    FeatureDay = pd.read_csv(file, header = 0)\n",
    "\n",
    "with gzip.open(\"FeaturesStudy.csv.gz\", \"rt\", newline=\"\") as file:\n",
    "    FeatureStudy = pd.read_csv(file, header = 0)"
   ]
  },
  {
   "cell_type": "code",
   "execution_count": 212,
   "metadata": {
    "collapsed": false
   },
   "outputs": [
    {
     "data": {
      "text/plain": [
       "(1532, 217)"
      ]
     },
     "execution_count": 212,
     "metadata": {},
     "output_type": "execute_result"
    }
   ],
   "source": [
    "# explore the datasets\n",
    "FeatureDay.shape"
   ]
  },
  {
   "cell_type": "code",
   "execution_count": 213,
   "metadata": {
    "collapsed": false
   },
   "outputs": [
    {
     "data": {
      "text/plain": [
       "(25, 216)"
      ]
     },
     "execution_count": 213,
     "metadata": {},
     "output_type": "execute_result"
    }
   ],
   "source": [
    "FeatureStudy.shape"
   ]
  },
  {
   "cell_type": "code",
   "execution_count": 214,
   "metadata": {
    "collapsed": true
   },
   "outputs": [],
   "source": [
    "def filter_dataFrame(df):\n",
    "    # a function to extract the sensor related measurements from the original dataset (df)\n",
    "    Selected_features = []\n",
    "    df_columns_names = list(df.columns)\n",
    "    # patient ID(1 column)\n",
    "    Selected_features.append('gls_subject_code')\n",
    "    # related to msfc_composite(3 columns)\n",
    "    df_columns_MSFC_col_names = []\n",
    "    for name in df_columns_names:\n",
    "        name_lowercase = name.lower()\n",
    "        if 'msfc_composite' in name_lowercase:\n",
    "            df_columns_MSFC_col_names.append(name)\n",
    "    # structred activities at home(40 columns)\n",
    "    df_at_home_col_names = []\n",
    "    for name in df_columns_names:\n",
    "        name_lower = name.lower()\n",
    "        if 'home' in name_lower:\n",
    "            df_at_home_col_names.append(name)\n",
    "    # free-living features(20 columns)\n",
    "    # extracted before in Data_Visualization_Part_1_FeatureStudy_Correlation_of_Sensor_Features_to_MSFC.py, and saved\n",
    "    df_free_living_related = pd.read_csv('FeatureStudy_free_living_related')\n",
    "    df_free_living_col_names = list(df_free_living_related.columns)\n",
    "    # add everything to Selected_features list\n",
    "    Selected_features += list(df_free_living_related.columns)\n",
    "    Selected_features += df_at_home_col_names\n",
    "    Selected_features += df_columns_MSFC_col_names\n",
    "    # return filtered dataframe with selected features\n",
    "    return df[Selected_features]"
   ]
  },
  {
   "cell_type": "code",
   "execution_count": 215,
   "metadata": {
    "collapsed": true
   },
   "outputs": [],
   "source": [
    "def filter_dataFrame_fillna(df):\n",
    "    # a function to fill null values in the input dataframe (df)\n",
    "    df_columns_names = list(df.columns)\n",
    "    # patient ID(1 column)\n",
    "    df_columns_patientID_col_names =['gls_subject_code']\n",
    "    df_patientID= df[df_columns_patientID_col_names]\n",
    "    # related to msfc_composite(3 columns)\n",
    "    df_columns_MSFC_col_names = []\n",
    "    for name in df_columns_names:\n",
    "        name_lowercase = name.lower()\n",
    "        if 'msfc_composite' in name_lowercase:\n",
    "            df_columns_MSFC_col_names.append(name)\n",
    "    df_msfcComposite = df[df_columns_MSFC_col_names]\n",
    "    # structred activities at home(40 columns)\n",
    "    df_at_home_col_names = []\n",
    "    for name in df_columns_names:\n",
    "        name_lower = name.lower()\n",
    "        if 'home' in name_lower:\n",
    "            df_at_home_col_names.append(name)\n",
    "    df_structuredActivity_atHome = df[df_at_home_col_names]\n",
    "    # free living features(20 columns)\n",
    "    df_all_except_freeLiving_col_names = df_columns_patientID_col_names + df_columns_MSFC_col_names + df_at_home_col_names\n",
    "    df_free_living_col_names = list(set(df_columns_names) - set(df_all_except_freeLiving_col_names))\n",
    "    df_freeLiving = df[df_free_living_col_names]\n",
    "    \n",
    "    # fill null values by row for df_msfcComposite\n",
    "    for idx in range(len(df_msfcComposite.index)):\n",
    "        df_msfcComposite.iloc[idx].fillna(df_msfcComposite.iloc[idx].mean(), inplace = True)\n",
    "    # fill null values by column for df_structuredActivity_atHome\n",
    "    for col_name in list(df_structuredActivity_atHome.columns):\n",
    "        df_structuredActivity_atHome[col_name].fillna(df_structuredActivity_atHome[col_name].mean(),inplace= True)\n",
    "    # fill null values by column for df_freeLiving\n",
    "    for col_name in list(df_freeLiving.columns):\n",
    "        df_freeLiving[col_name].fillna(df_freeLiving[col_name].mean(),inplace= True)\n",
    "    \n",
    "    # return the updated dataframe with filled null values\n",
    "    return pd.concat([df_patientID,df_freeLiving,df_structuredActivity_atHome,df_msfcComposite],axis=1)"
   ]
  },
  {
   "cell_type": "code",
   "execution_count": 216,
   "metadata": {
    "collapsed": true
   },
   "outputs": [],
   "source": [
    "def remove_rows_with_null(df,TH):\n",
    "    # a function to remove rows from df with more than TH% of value points missing\n",
    "    indexes = []\n",
    "    count_null = df.isnull().sum(axis=1)\n",
    "    for idx in range(len(count_null)):\n",
    "        if count_null[idx] > TH:\n",
    "            indexes.append(idx)\n",
    "    df_filtered = df.drop(indexes)\n",
    "    # return the new dataframe\n",
    "    return df_filtered.reset_index(drop=True)"
   ]
  },
  {
   "cell_type": "code",
   "execution_count": 217,
   "metadata": {
    "collapsed": true
   },
   "outputs": [],
   "source": [
    "def remove_columns_with_null(df,TH):\n",
    "    # a function to remove columns from df with more than TH% of value points missing\n",
    "    indexes = []\n",
    "    count_null = df.isnull().sum()\n",
    "    col_labels = list(count_null.index)\n",
    "    for idx in range(len(count_null)):\n",
    "        if count_null[idx] > TH:\n",
    "            indexes.append(col_labels[idx])\n",
    "    df_filtered = df.drop(indexes, axis=1)\n",
    "    # return the new dataframe\n",
    "    return df_filtered.reset_index(drop=True)"
   ]
  },
  {
   "cell_type": "code",
   "execution_count": 218,
   "metadata": {
    "collapsed": true
   },
   "outputs": [],
   "source": [
    "def bin_scores(val,num_of_bins, minimum, maximum):\n",
    "    # a function to bin the scores\n",
    "    # input: \n",
    "        # val: input value to bin\n",
    "        # num_of_bins: desired number of bins\n",
    "        # minimum & maximum: specify the range of values\n",
    "    # output:\n",
    "        # binned value\n",
    "    step = (maximum - minimum)/num_of_bins\n",
    "    curr_val = minimum\n",
    "    level = 1\n",
    "    while(curr_val < maximum):\n",
    "        curr_val += step\n",
    "        if val <= curr_val:\n",
    "            return level\n",
    "        else:\n",
    "            level += 1"
   ]
  },
  {
   "cell_type": "code",
   "execution_count": 219,
   "metadata": {
    "collapsed": true
   },
   "outputs": [],
   "source": [
    "# extract part of the original dataset which is related to sensor measurements\n",
    "FeatureStudy_filtered = filter_dataFrame(FeatureStudy)\n",
    "FeatureDay_filtered = filter_dataFrame(FeatureDay)"
   ]
  },
  {
   "cell_type": "code",
   "execution_count": 220,
   "metadata": {
    "collapsed": true
   },
   "outputs": [],
   "source": [
    "#######################################################RESHAPE FEATURESDAY#########################################"
   ]
  },
  {
   "cell_type": "code",
   "execution_count": null,
   "metadata": {
    "collapsed": true
   },
   "outputs": [],
   "source": [
    "# to consider the time component, we take pair of (feature_value, day_of_study) as a new feature"
   ]
  },
  {
   "cell_type": "code",
   "execution_count": 221,
   "metadata": {
    "collapsed": false
   },
   "outputs": [
    {
     "data": {
      "text/html": [
       "<div>\n",
       "<table border=\"1\" class=\"dataframe\">\n",
       "  <thead>\n",
       "    <tr style=\"text-align: right;\">\n",
       "      <th></th>\n",
       "      <th>gls_subject_code</th>\n",
       "      <th>turn_vel_std</th>\n",
       "      <th>turn_vel_mean_ankle</th>\n",
       "      <th>movement_rate</th>\n",
       "      <th>turn_vel_mean</th>\n",
       "      <th>turn_vel_std_ankle</th>\n",
       "      <th>turn_duration</th>\n",
       "      <th>turn_angle</th>\n",
       "      <th>walk_minutes</th>\n",
       "      <th>swing</th>\n",
       "      <th>...</th>\n",
       "      <th>hrv_sdnn_at_home</th>\n",
       "      <th>hourly_temp_median_at_home</th>\n",
       "      <th>hourly_temp_std_at_home</th>\n",
       "      <th>hourly_temp_range_at_home</th>\n",
       "      <th>hourly_amb_temp_median_at_home</th>\n",
       "      <th>hourly_amb_temp_std_at_home</th>\n",
       "      <th>hourly_amb_temp_range_at_home</th>\n",
       "      <th>msfc_composite_1</th>\n",
       "      <th>msfc_composite_2</th>\n",
       "      <th>msfc_composite_3</th>\n",
       "    </tr>\n",
       "  </thead>\n",
       "  <tbody>\n",
       "    <tr>\n",
       "      <th>0</th>\n",
       "      <td>H800001</td>\n",
       "      <td>22.174349</td>\n",
       "      <td>48.212574</td>\n",
       "      <td>6.701800</td>\n",
       "      <td>57.883232</td>\n",
       "      <td>60.263901</td>\n",
       "      <td>0.42</td>\n",
       "      <td>23.911008</td>\n",
       "      <td>149.375000</td>\n",
       "      <td>0.427722</td>\n",
       "      <td>...</td>\n",
       "      <td>NaN</td>\n",
       "      <td>32.70</td>\n",
       "      <td>0.760989</td>\n",
       "      <td>1.905</td>\n",
       "      <td>30.7575</td>\n",
       "      <td>4.330252</td>\n",
       "      <td>11.7550</td>\n",
       "      <td>-1.211435</td>\n",
       "      <td>-1.385647</td>\n",
       "      <td>-1.40763</td>\n",
       "    </tr>\n",
       "    <tr>\n",
       "      <th>1</th>\n",
       "      <td>H800001</td>\n",
       "      <td>19.335984</td>\n",
       "      <td>40.692564</td>\n",
       "      <td>5.241188</td>\n",
       "      <td>56.845986</td>\n",
       "      <td>62.676670</td>\n",
       "      <td>0.38</td>\n",
       "      <td>21.143974</td>\n",
       "      <td>245.125000</td>\n",
       "      <td>0.392413</td>\n",
       "      <td>...</td>\n",
       "      <td>14.108786</td>\n",
       "      <td>32.85</td>\n",
       "      <td>0.532629</td>\n",
       "      <td>1.350</td>\n",
       "      <td>29.5875</td>\n",
       "      <td>6.815948</td>\n",
       "      <td>15.8120</td>\n",
       "      <td>-1.211435</td>\n",
       "      <td>-1.385647</td>\n",
       "      <td>-1.40763</td>\n",
       "    </tr>\n",
       "    <tr>\n",
       "      <th>2</th>\n",
       "      <td>H800001</td>\n",
       "      <td>17.776043</td>\n",
       "      <td>47.155710</td>\n",
       "      <td>NaN</td>\n",
       "      <td>61.391091</td>\n",
       "      <td>60.985627</td>\n",
       "      <td>0.44</td>\n",
       "      <td>25.782601</td>\n",
       "      <td>182.166667</td>\n",
       "      <td>0.424840</td>\n",
       "      <td>...</td>\n",
       "      <td>15.028955</td>\n",
       "      <td>31.60</td>\n",
       "      <td>0.717705</td>\n",
       "      <td>1.800</td>\n",
       "      <td>30.2200</td>\n",
       "      <td>3.545528</td>\n",
       "      <td>7.3300</td>\n",
       "      <td>-1.211435</td>\n",
       "      <td>-1.385647</td>\n",
       "      <td>-1.40763</td>\n",
       "    </tr>\n",
       "    <tr>\n",
       "      <th>3</th>\n",
       "      <td>H800001</td>\n",
       "      <td>15.764536</td>\n",
       "      <td>46.102694</td>\n",
       "      <td>NaN</td>\n",
       "      <td>61.178408</td>\n",
       "      <td>59.345718</td>\n",
       "      <td>0.38</td>\n",
       "      <td>23.391290</td>\n",
       "      <td>99.208333</td>\n",
       "      <td>0.424863</td>\n",
       "      <td>...</td>\n",
       "      <td>NaN</td>\n",
       "      <td>30.75</td>\n",
       "      <td>1.689474</td>\n",
       "      <td>5.550</td>\n",
       "      <td>27.3600</td>\n",
       "      <td>4.984148</td>\n",
       "      <td>13.5820</td>\n",
       "      <td>-1.211435</td>\n",
       "      <td>-1.385647</td>\n",
       "      <td>-1.40763</td>\n",
       "    </tr>\n",
       "    <tr>\n",
       "      <th>4</th>\n",
       "      <td>H800001</td>\n",
       "      <td>15.250615</td>\n",
       "      <td>43.762170</td>\n",
       "      <td>NaN</td>\n",
       "      <td>61.247844</td>\n",
       "      <td>57.424167</td>\n",
       "      <td>0.40</td>\n",
       "      <td>24.056450</td>\n",
       "      <td>136.333333</td>\n",
       "      <td>0.441570</td>\n",
       "      <td>...</td>\n",
       "      <td>NaN</td>\n",
       "      <td>30.65</td>\n",
       "      <td>0.830880</td>\n",
       "      <td>2.205</td>\n",
       "      <td>30.6825</td>\n",
       "      <td>4.699070</td>\n",
       "      <td>13.8555</td>\n",
       "      <td>-1.211435</td>\n",
       "      <td>-1.385647</td>\n",
       "      <td>-1.40763</td>\n",
       "    </tr>\n",
       "  </tbody>\n",
       "</table>\n",
       "<p>5 rows × 64 columns</p>\n",
       "</div>"
      ],
      "text/plain": [
       "  gls_subject_code  turn_vel_std  turn_vel_mean_ankle  movement_rate  \\\n",
       "0          H800001     22.174349            48.212574       6.701800   \n",
       "1          H800001     19.335984            40.692564       5.241188   \n",
       "2          H800001     17.776043            47.155710            NaN   \n",
       "3          H800001     15.764536            46.102694            NaN   \n",
       "4          H800001     15.250615            43.762170            NaN   \n",
       "\n",
       "   turn_vel_mean  turn_vel_std_ankle  turn_duration  turn_angle  walk_minutes  \\\n",
       "0      57.883232           60.263901           0.42   23.911008    149.375000   \n",
       "1      56.845986           62.676670           0.38   21.143974    245.125000   \n",
       "2      61.391091           60.985627           0.44   25.782601    182.166667   \n",
       "3      61.178408           59.345718           0.38   23.391290     99.208333   \n",
       "4      61.247844           57.424167           0.40   24.056450    136.333333   \n",
       "\n",
       "      swing        ...         hrv_sdnn_at_home  hourly_temp_median_at_home  \\\n",
       "0  0.427722        ...                      NaN                       32.70   \n",
       "1  0.392413        ...                14.108786                       32.85   \n",
       "2  0.424840        ...                15.028955                       31.60   \n",
       "3  0.424863        ...                      NaN                       30.75   \n",
       "4  0.441570        ...                      NaN                       30.65   \n",
       "\n",
       "   hourly_temp_std_at_home  hourly_temp_range_at_home  \\\n",
       "0                 0.760989                      1.905   \n",
       "1                 0.532629                      1.350   \n",
       "2                 0.717705                      1.800   \n",
       "3                 1.689474                      5.550   \n",
       "4                 0.830880                      2.205   \n",
       "\n",
       "   hourly_amb_temp_median_at_home  hourly_amb_temp_std_at_home  \\\n",
       "0                         30.7575                     4.330252   \n",
       "1                         29.5875                     6.815948   \n",
       "2                         30.2200                     3.545528   \n",
       "3                         27.3600                     4.984148   \n",
       "4                         30.6825                     4.699070   \n",
       "\n",
       "   hourly_amb_temp_range_at_home  msfc_composite_1  msfc_composite_2  \\\n",
       "0                        11.7550         -1.211435         -1.385647   \n",
       "1                        15.8120         -1.211435         -1.385647   \n",
       "2                         7.3300         -1.211435         -1.385647   \n",
       "3                        13.5820         -1.211435         -1.385647   \n",
       "4                        13.8555         -1.211435         -1.385647   \n",
       "\n",
       "   msfc_composite_3  \n",
       "0          -1.40763  \n",
       "1          -1.40763  \n",
       "2          -1.40763  \n",
       "3          -1.40763  \n",
       "4          -1.40763  \n",
       "\n",
       "[5 rows x 64 columns]"
      ]
     },
     "execution_count": 221,
     "metadata": {},
     "output_type": "execute_result"
    }
   ],
   "source": [
    "# check the original dataset\n",
    "FeatureDay_filtered.head()"
   ]
  },
  {
   "cell_type": "code",
   "execution_count": 222,
   "metadata": {
    "collapsed": false
   },
   "outputs": [
    {
     "data": {
      "text/html": [
       "<div>\n",
       "<table border=\"1\" class=\"dataframe\">\n",
       "  <thead>\n",
       "    <tr style=\"text-align: right;\">\n",
       "      <th></th>\n",
       "      <th>gls_subject_code</th>\n",
       "      <th>turn_vel_std</th>\n",
       "      <th>turn_vel_mean_ankle</th>\n",
       "      <th>movement_rate</th>\n",
       "      <th>turn_vel_mean</th>\n",
       "      <th>turn_vel_std_ankle</th>\n",
       "      <th>turn_duration</th>\n",
       "      <th>turn_angle</th>\n",
       "      <th>walk_minutes</th>\n",
       "      <th>swing</th>\n",
       "      <th>...</th>\n",
       "      <th>sway_disp_lr_at_home</th>\n",
       "      <th>sway_disp_ap_at_home</th>\n",
       "      <th>mobility_activity_at_home_time</th>\n",
       "      <th>hrv_sdnn_at_home</th>\n",
       "      <th>hourly_temp_median_at_home</th>\n",
       "      <th>hourly_temp_std_at_home</th>\n",
       "      <th>hourly_temp_range_at_home</th>\n",
       "      <th>hourly_amb_temp_median_at_home</th>\n",
       "      <th>hourly_amb_temp_std_at_home</th>\n",
       "      <th>hourly_amb_temp_range_at_home</th>\n",
       "    </tr>\n",
       "  </thead>\n",
       "  <tbody>\n",
       "    <tr>\n",
       "      <th>0</th>\n",
       "      <td>H800001</td>\n",
       "      <td>22.174349</td>\n",
       "      <td>48.212574</td>\n",
       "      <td>6.701800</td>\n",
       "      <td>57.883232</td>\n",
       "      <td>60.263901</td>\n",
       "      <td>0.42</td>\n",
       "      <td>23.911008</td>\n",
       "      <td>149.375000</td>\n",
       "      <td>0.427722</td>\n",
       "      <td>...</td>\n",
       "      <td>424.878675</td>\n",
       "      <td>288.195255</td>\n",
       "      <td>66170.0</td>\n",
       "      <td>NaN</td>\n",
       "      <td>32.70</td>\n",
       "      <td>0.760989</td>\n",
       "      <td>1.905</td>\n",
       "      <td>30.7575</td>\n",
       "      <td>4.330252</td>\n",
       "      <td>11.7550</td>\n",
       "    </tr>\n",
       "    <tr>\n",
       "      <th>1</th>\n",
       "      <td>H800001</td>\n",
       "      <td>19.335984</td>\n",
       "      <td>40.692564</td>\n",
       "      <td>5.241188</td>\n",
       "      <td>56.845986</td>\n",
       "      <td>62.676670</td>\n",
       "      <td>0.38</td>\n",
       "      <td>21.143974</td>\n",
       "      <td>245.125000</td>\n",
       "      <td>0.392413</td>\n",
       "      <td>...</td>\n",
       "      <td>460.529853</td>\n",
       "      <td>251.594150</td>\n",
       "      <td>NaN</td>\n",
       "      <td>14.108786</td>\n",
       "      <td>32.85</td>\n",
       "      <td>0.532629</td>\n",
       "      <td>1.350</td>\n",
       "      <td>29.5875</td>\n",
       "      <td>6.815948</td>\n",
       "      <td>15.8120</td>\n",
       "    </tr>\n",
       "    <tr>\n",
       "      <th>2</th>\n",
       "      <td>H800001</td>\n",
       "      <td>17.776043</td>\n",
       "      <td>47.155710</td>\n",
       "      <td>NaN</td>\n",
       "      <td>61.391091</td>\n",
       "      <td>60.985627</td>\n",
       "      <td>0.44</td>\n",
       "      <td>25.782601</td>\n",
       "      <td>182.166667</td>\n",
       "      <td>0.424840</td>\n",
       "      <td>...</td>\n",
       "      <td>371.773641</td>\n",
       "      <td>301.790876</td>\n",
       "      <td>27070.0</td>\n",
       "      <td>15.028955</td>\n",
       "      <td>31.60</td>\n",
       "      <td>0.717705</td>\n",
       "      <td>1.800</td>\n",
       "      <td>30.2200</td>\n",
       "      <td>3.545528</td>\n",
       "      <td>7.3300</td>\n",
       "    </tr>\n",
       "    <tr>\n",
       "      <th>3</th>\n",
       "      <td>H800001</td>\n",
       "      <td>15.764536</td>\n",
       "      <td>46.102694</td>\n",
       "      <td>NaN</td>\n",
       "      <td>61.178408</td>\n",
       "      <td>59.345718</td>\n",
       "      <td>0.38</td>\n",
       "      <td>23.391290</td>\n",
       "      <td>99.208333</td>\n",
       "      <td>0.424863</td>\n",
       "      <td>...</td>\n",
       "      <td>408.234556</td>\n",
       "      <td>262.974920</td>\n",
       "      <td>30230.0</td>\n",
       "      <td>NaN</td>\n",
       "      <td>30.75</td>\n",
       "      <td>1.689474</td>\n",
       "      <td>5.550</td>\n",
       "      <td>27.3600</td>\n",
       "      <td>4.984148</td>\n",
       "      <td>13.5820</td>\n",
       "    </tr>\n",
       "    <tr>\n",
       "      <th>4</th>\n",
       "      <td>H800001</td>\n",
       "      <td>15.250615</td>\n",
       "      <td>43.762170</td>\n",
       "      <td>NaN</td>\n",
       "      <td>61.247844</td>\n",
       "      <td>57.424167</td>\n",
       "      <td>0.40</td>\n",
       "      <td>24.056450</td>\n",
       "      <td>136.333333</td>\n",
       "      <td>0.441570</td>\n",
       "      <td>...</td>\n",
       "      <td>380.493350</td>\n",
       "      <td>282.825979</td>\n",
       "      <td>29875.0</td>\n",
       "      <td>NaN</td>\n",
       "      <td>30.65</td>\n",
       "      <td>0.830880</td>\n",
       "      <td>2.205</td>\n",
       "      <td>30.6825</td>\n",
       "      <td>4.699070</td>\n",
       "      <td>13.8555</td>\n",
       "    </tr>\n",
       "  </tbody>\n",
       "</table>\n",
       "<p>5 rows × 61 columns</p>\n",
       "</div>"
      ],
      "text/plain": [
       "  gls_subject_code  turn_vel_std  turn_vel_mean_ankle  movement_rate  \\\n",
       "0          H800001     22.174349            48.212574       6.701800   \n",
       "1          H800001     19.335984            40.692564       5.241188   \n",
       "2          H800001     17.776043            47.155710            NaN   \n",
       "3          H800001     15.764536            46.102694            NaN   \n",
       "4          H800001     15.250615            43.762170            NaN   \n",
       "\n",
       "   turn_vel_mean  turn_vel_std_ankle  turn_duration  turn_angle  walk_minutes  \\\n",
       "0      57.883232           60.263901           0.42   23.911008    149.375000   \n",
       "1      56.845986           62.676670           0.38   21.143974    245.125000   \n",
       "2      61.391091           60.985627           0.44   25.782601    182.166667   \n",
       "3      61.178408           59.345718           0.38   23.391290     99.208333   \n",
       "4      61.247844           57.424167           0.40   24.056450    136.333333   \n",
       "\n",
       "      swing              ...                sway_disp_lr_at_home  \\\n",
       "0  0.427722              ...                          424.878675   \n",
       "1  0.392413              ...                          460.529853   \n",
       "2  0.424840              ...                          371.773641   \n",
       "3  0.424863              ...                          408.234556   \n",
       "4  0.441570              ...                          380.493350   \n",
       "\n",
       "   sway_disp_ap_at_home  mobility_activity_at_home_time  hrv_sdnn_at_home  \\\n",
       "0            288.195255                         66170.0               NaN   \n",
       "1            251.594150                             NaN         14.108786   \n",
       "2            301.790876                         27070.0         15.028955   \n",
       "3            262.974920                         30230.0               NaN   \n",
       "4            282.825979                         29875.0               NaN   \n",
       "\n",
       "   hourly_temp_median_at_home  hourly_temp_std_at_home  \\\n",
       "0                       32.70                 0.760989   \n",
       "1                       32.85                 0.532629   \n",
       "2                       31.60                 0.717705   \n",
       "3                       30.75                 1.689474   \n",
       "4                       30.65                 0.830880   \n",
       "\n",
       "   hourly_temp_range_at_home  hourly_amb_temp_median_at_home  \\\n",
       "0                      1.905                         30.7575   \n",
       "1                      1.350                         29.5875   \n",
       "2                      1.800                         30.2200   \n",
       "3                      5.550                         27.3600   \n",
       "4                      2.205                         30.6825   \n",
       "\n",
       "   hourly_amb_temp_std_at_home  hourly_amb_temp_range_at_home  \n",
       "0                     4.330252                        11.7550  \n",
       "1                     6.815948                        15.8120  \n",
       "2                     3.545528                         7.3300  \n",
       "3                     4.984148                        13.5820  \n",
       "4                     4.699070                        13.8555  \n",
       "\n",
       "[5 rows x 61 columns]"
      ]
     },
     "execution_count": 222,
     "metadata": {},
     "output_type": "execute_result"
    },
    {
     "data": {
      "text/plain": [
       "(1532, 61)"
      ]
     },
     "execution_count": 222,
     "metadata": {},
     "output_type": "execute_result"
    }
   ],
   "source": [
    "# drop composite scores, we do not have any varoius values for them over days\n",
    "FeatureDay_filtered_device_features = FeatureDay_filtered.drop(['msfc_composite_1','msfc_composite_2','msfc_composite_3'],axis=1)\n",
    "FeatureDay_filtered_device_features.head()\n",
    "FeatureDay_filtered_device_features.shape"
   ]
  },
  {
   "cell_type": "code",
   "execution_count": 223,
   "metadata": {
    "collapsed": false
   },
   "outputs": [
    {
     "data": {
      "text/html": [
       "<div>\n",
       "<table border=\"1\" class=\"dataframe\">\n",
       "  <thead>\n",
       "    <tr style=\"text-align: right;\">\n",
       "      <th></th>\n",
       "      <th>gls_subject_code</th>\n",
       "      <th>turn_vel_std</th>\n",
       "      <th>turn_vel_mean_ankle</th>\n",
       "      <th>movement_rate</th>\n",
       "      <th>turn_vel_mean</th>\n",
       "      <th>turn_vel_std_ankle</th>\n",
       "      <th>turn_duration</th>\n",
       "      <th>turn_angle</th>\n",
       "      <th>walk_minutes</th>\n",
       "      <th>swing</th>\n",
       "      <th>...</th>\n",
       "      <th>sway_disp_ap_at_home</th>\n",
       "      <th>mobility_activity_at_home_time</th>\n",
       "      <th>hrv_sdnn_at_home</th>\n",
       "      <th>hourly_temp_median_at_home</th>\n",
       "      <th>hourly_temp_std_at_home</th>\n",
       "      <th>hourly_temp_range_at_home</th>\n",
       "      <th>hourly_amb_temp_median_at_home</th>\n",
       "      <th>hourly_amb_temp_std_at_home</th>\n",
       "      <th>hourly_amb_temp_range_at_home</th>\n",
       "      <th>dayofstudy</th>\n",
       "    </tr>\n",
       "  </thead>\n",
       "  <tbody>\n",
       "    <tr>\n",
       "      <th>0</th>\n",
       "      <td>H800001</td>\n",
       "      <td>22.174349</td>\n",
       "      <td>48.212574</td>\n",
       "      <td>6.701800</td>\n",
       "      <td>57.883232</td>\n",
       "      <td>60.263901</td>\n",
       "      <td>0.42</td>\n",
       "      <td>23.911008</td>\n",
       "      <td>149.375000</td>\n",
       "      <td>0.427722</td>\n",
       "      <td>...</td>\n",
       "      <td>288.195255</td>\n",
       "      <td>66170.0</td>\n",
       "      <td>NaN</td>\n",
       "      <td>32.70</td>\n",
       "      <td>0.760989</td>\n",
       "      <td>1.905</td>\n",
       "      <td>30.7575</td>\n",
       "      <td>4.330252</td>\n",
       "      <td>11.7550</td>\n",
       "      <td>23</td>\n",
       "    </tr>\n",
       "    <tr>\n",
       "      <th>1</th>\n",
       "      <td>H800001</td>\n",
       "      <td>19.335984</td>\n",
       "      <td>40.692564</td>\n",
       "      <td>5.241188</td>\n",
       "      <td>56.845986</td>\n",
       "      <td>62.676670</td>\n",
       "      <td>0.38</td>\n",
       "      <td>21.143974</td>\n",
       "      <td>245.125000</td>\n",
       "      <td>0.392413</td>\n",
       "      <td>...</td>\n",
       "      <td>251.594150</td>\n",
       "      <td>NaN</td>\n",
       "      <td>14.108786</td>\n",
       "      <td>32.85</td>\n",
       "      <td>0.532629</td>\n",
       "      <td>1.350</td>\n",
       "      <td>29.5875</td>\n",
       "      <td>6.815948</td>\n",
       "      <td>15.8120</td>\n",
       "      <td>34</td>\n",
       "    </tr>\n",
       "    <tr>\n",
       "      <th>2</th>\n",
       "      <td>H800001</td>\n",
       "      <td>17.776043</td>\n",
       "      <td>47.155710</td>\n",
       "      <td>NaN</td>\n",
       "      <td>61.391091</td>\n",
       "      <td>60.985627</td>\n",
       "      <td>0.44</td>\n",
       "      <td>25.782601</td>\n",
       "      <td>182.166667</td>\n",
       "      <td>0.424840</td>\n",
       "      <td>...</td>\n",
       "      <td>301.790876</td>\n",
       "      <td>27070.0</td>\n",
       "      <td>15.028955</td>\n",
       "      <td>31.60</td>\n",
       "      <td>0.717705</td>\n",
       "      <td>1.800</td>\n",
       "      <td>30.2200</td>\n",
       "      <td>3.545528</td>\n",
       "      <td>7.3300</td>\n",
       "      <td>4</td>\n",
       "    </tr>\n",
       "    <tr>\n",
       "      <th>3</th>\n",
       "      <td>H800001</td>\n",
       "      <td>15.764536</td>\n",
       "      <td>46.102694</td>\n",
       "      <td>NaN</td>\n",
       "      <td>61.178408</td>\n",
       "      <td>59.345718</td>\n",
       "      <td>0.38</td>\n",
       "      <td>23.391290</td>\n",
       "      <td>99.208333</td>\n",
       "      <td>0.424863</td>\n",
       "      <td>...</td>\n",
       "      <td>262.974920</td>\n",
       "      <td>30230.0</td>\n",
       "      <td>NaN</td>\n",
       "      <td>30.75</td>\n",
       "      <td>1.689474</td>\n",
       "      <td>5.550</td>\n",
       "      <td>27.3600</td>\n",
       "      <td>4.984148</td>\n",
       "      <td>13.5820</td>\n",
       "      <td>11</td>\n",
       "    </tr>\n",
       "    <tr>\n",
       "      <th>4</th>\n",
       "      <td>H800001</td>\n",
       "      <td>15.250615</td>\n",
       "      <td>43.762170</td>\n",
       "      <td>NaN</td>\n",
       "      <td>61.247844</td>\n",
       "      <td>57.424167</td>\n",
       "      <td>0.40</td>\n",
       "      <td>24.056450</td>\n",
       "      <td>136.333333</td>\n",
       "      <td>0.441570</td>\n",
       "      <td>...</td>\n",
       "      <td>282.825979</td>\n",
       "      <td>29875.0</td>\n",
       "      <td>NaN</td>\n",
       "      <td>30.65</td>\n",
       "      <td>0.830880</td>\n",
       "      <td>2.205</td>\n",
       "      <td>30.6825</td>\n",
       "      <td>4.699070</td>\n",
       "      <td>13.8555</td>\n",
       "      <td>15</td>\n",
       "    </tr>\n",
       "  </tbody>\n",
       "</table>\n",
       "<p>5 rows × 62 columns</p>\n",
       "</div>"
      ],
      "text/plain": [
       "  gls_subject_code  turn_vel_std  turn_vel_mean_ankle  movement_rate  \\\n",
       "0          H800001     22.174349            48.212574       6.701800   \n",
       "1          H800001     19.335984            40.692564       5.241188   \n",
       "2          H800001     17.776043            47.155710            NaN   \n",
       "3          H800001     15.764536            46.102694            NaN   \n",
       "4          H800001     15.250615            43.762170            NaN   \n",
       "\n",
       "   turn_vel_mean  turn_vel_std_ankle  turn_duration  turn_angle  walk_minutes  \\\n",
       "0      57.883232           60.263901           0.42   23.911008    149.375000   \n",
       "1      56.845986           62.676670           0.38   21.143974    245.125000   \n",
       "2      61.391091           60.985627           0.44   25.782601    182.166667   \n",
       "3      61.178408           59.345718           0.38   23.391290     99.208333   \n",
       "4      61.247844           57.424167           0.40   24.056450    136.333333   \n",
       "\n",
       "      swing     ...      sway_disp_ap_at_home  mobility_activity_at_home_time  \\\n",
       "0  0.427722     ...                288.195255                         66170.0   \n",
       "1  0.392413     ...                251.594150                             NaN   \n",
       "2  0.424840     ...                301.790876                         27070.0   \n",
       "3  0.424863     ...                262.974920                         30230.0   \n",
       "4  0.441570     ...                282.825979                         29875.0   \n",
       "\n",
       "   hrv_sdnn_at_home  hourly_temp_median_at_home  hourly_temp_std_at_home  \\\n",
       "0               NaN                       32.70                 0.760989   \n",
       "1         14.108786                       32.85                 0.532629   \n",
       "2         15.028955                       31.60                 0.717705   \n",
       "3               NaN                       30.75                 1.689474   \n",
       "4               NaN                       30.65                 0.830880   \n",
       "\n",
       "   hourly_temp_range_at_home  hourly_amb_temp_median_at_home  \\\n",
       "0                      1.905                         30.7575   \n",
       "1                      1.350                         29.5875   \n",
       "2                      1.800                         30.2200   \n",
       "3                      5.550                         27.3600   \n",
       "4                      2.205                         30.6825   \n",
       "\n",
       "   hourly_amb_temp_std_at_home  hourly_amb_temp_range_at_home  dayofstudy  \n",
       "0                     4.330252                        11.7550          23  \n",
       "1                     6.815948                        15.8120          34  \n",
       "2                     3.545528                         7.3300           4  \n",
       "3                     4.984148                        13.5820          11  \n",
       "4                     4.699070                        13.8555          15  \n",
       "\n",
       "[5 rows x 62 columns]"
      ]
     },
     "execution_count": 223,
     "metadata": {},
     "output_type": "execute_result"
    },
    {
     "data": {
      "text/plain": [
       "(1532, 62)"
      ]
     },
     "execution_count": 223,
     "metadata": {},
     "output_type": "execute_result"
    }
   ],
   "source": [
    "# will need days of study as an index, add to the dataset\n",
    "FeatureDay_filtered_device_features['dayofstudy'] = FeatureDay['dayofstudy']\n",
    "FeatureDay_filtered_device_features.head()\n",
    "FeatureDay_filtered_device_features.shape"
   ]
  },
  {
   "cell_type": "code",
   "execution_count": 224,
   "metadata": {
    "collapsed": false
   },
   "outputs": [
    {
     "data": {
      "text/plain": [
       "array(['H800001', 'H800002', 'H800003', 'H800004', 'H800006', 'H800007',\n",
       "       'H800008', 'H800009', 'H800010', 'H800011', 'H800013', 'H800014',\n",
       "       'H800016', 'H800017', 'H800018', 'H800019', 'H800020', 'H800021',\n",
       "       'H800022', 'H800023', 'H800024', 'H800025', 'H800005', 'H800012',\n",
       "       'H800015'], dtype=object)"
      ]
     },
     "execution_count": 224,
     "metadata": {},
     "output_type": "execute_result"
    }
   ],
   "source": [
    "# extract patient IDs\n",
    "patientIDs = FeatureDay_filtered['gls_subject_code'].unique()\n",
    "patientIDs"
   ]
  },
  {
   "cell_type": "code",
   "execution_count": 225,
   "metadata": {
    "collapsed": false
   },
   "outputs": [
    {
     "data": {
      "text/html": [
       "<div>\n",
       "<table border=\"1\" class=\"dataframe\">\n",
       "  <thead>\n",
       "    <tr style=\"text-align: right;\">\n",
       "      <th></th>\n",
       "      <th>patientID</th>\n",
       "      <th>num_of_days</th>\n",
       "    </tr>\n",
       "  </thead>\n",
       "  <tbody>\n",
       "    <tr>\n",
       "      <th>0</th>\n",
       "      <td>H800001</td>\n",
       "      <td>62</td>\n",
       "    </tr>\n",
       "    <tr>\n",
       "      <th>1</th>\n",
       "      <td>H800002</td>\n",
       "      <td>63</td>\n",
       "    </tr>\n",
       "    <tr>\n",
       "      <th>2</th>\n",
       "      <td>H800003</td>\n",
       "      <td>68</td>\n",
       "    </tr>\n",
       "    <tr>\n",
       "      <th>3</th>\n",
       "      <td>H800004</td>\n",
       "      <td>65</td>\n",
       "    </tr>\n",
       "    <tr>\n",
       "      <th>4</th>\n",
       "      <td>H800006</td>\n",
       "      <td>79</td>\n",
       "    </tr>\n",
       "  </tbody>\n",
       "</table>\n",
       "</div>"
      ],
      "text/plain": [
       "  patientID  num_of_days\n",
       "0   H800001           62\n",
       "1   H800002           63\n",
       "2   H800003           68\n",
       "3   H800004           65\n",
       "4   H800006           79"
      ]
     },
     "execution_count": 225,
     "metadata": {},
     "output_type": "execute_result"
    }
   ],
   "source": [
    "# what is the maximum number of study days for patients?\n",
    "num_of_days_of_study = [FeatureDay_filtered[FeatureDay_filtered['gls_subject_code'] == ID].shape[0] for ID in patientIDs]\n",
    "days_of_study = pd.DataFrame()\n",
    "days_of_study['patientID'] = patientIDs\n",
    "days_of_study['num_of_days'] = num_of_days_of_study\n",
    "days_of_study.head()\n",
    "max_num_of_days = max(days_of_study['num_of_days'])"
   ]
  },
  {
   "cell_type": "code",
   "execution_count": 226,
   "metadata": {
    "collapsed": false
   },
   "outputs": [
    {
     "data": {
      "text/html": [
       "<div>\n",
       "<table border=\"1\" class=\"dataframe\">\n",
       "  <thead>\n",
       "    <tr style=\"text-align: right;\">\n",
       "      <th></th>\n",
       "      <th>gls_subject_code</th>\n",
       "      <th>turn_vel_std</th>\n",
       "      <th>turn_vel_mean_ankle</th>\n",
       "      <th>movement_rate</th>\n",
       "      <th>turn_vel_mean</th>\n",
       "      <th>turn_vel_std_ankle</th>\n",
       "      <th>turn_duration</th>\n",
       "      <th>turn_angle</th>\n",
       "      <th>walk_minutes</th>\n",
       "      <th>swing</th>\n",
       "      <th>...</th>\n",
       "      <th>sway_disp_ap_at_home</th>\n",
       "      <th>mobility_activity_at_home_time</th>\n",
       "      <th>hrv_sdnn_at_home</th>\n",
       "      <th>hourly_temp_median_at_home</th>\n",
       "      <th>hourly_temp_std_at_home</th>\n",
       "      <th>hourly_temp_range_at_home</th>\n",
       "      <th>hourly_amb_temp_median_at_home</th>\n",
       "      <th>hourly_amb_temp_std_at_home</th>\n",
       "      <th>hourly_amb_temp_range_at_home</th>\n",
       "      <th>dayofstudy</th>\n",
       "    </tr>\n",
       "  </thead>\n",
       "  <tbody>\n",
       "    <tr>\n",
       "      <th>0</th>\n",
       "      <td>H800001</td>\n",
       "      <td>22.174349</td>\n",
       "      <td>48.212574</td>\n",
       "      <td>6.701800</td>\n",
       "      <td>57.883232</td>\n",
       "      <td>60.263901</td>\n",
       "      <td>0.42</td>\n",
       "      <td>23.911008</td>\n",
       "      <td>149.375000</td>\n",
       "      <td>0.427722</td>\n",
       "      <td>...</td>\n",
       "      <td>288.195255</td>\n",
       "      <td>66170.0</td>\n",
       "      <td>NaN</td>\n",
       "      <td>32.70</td>\n",
       "      <td>0.760989</td>\n",
       "      <td>1.905</td>\n",
       "      <td>30.7575</td>\n",
       "      <td>4.330252</td>\n",
       "      <td>11.7550</td>\n",
       "      <td>23</td>\n",
       "    </tr>\n",
       "    <tr>\n",
       "      <th>1</th>\n",
       "      <td>H800001</td>\n",
       "      <td>19.335984</td>\n",
       "      <td>40.692564</td>\n",
       "      <td>5.241188</td>\n",
       "      <td>56.845986</td>\n",
       "      <td>62.676670</td>\n",
       "      <td>0.38</td>\n",
       "      <td>21.143974</td>\n",
       "      <td>245.125000</td>\n",
       "      <td>0.392413</td>\n",
       "      <td>...</td>\n",
       "      <td>251.594150</td>\n",
       "      <td>NaN</td>\n",
       "      <td>14.108786</td>\n",
       "      <td>32.85</td>\n",
       "      <td>0.532629</td>\n",
       "      <td>1.350</td>\n",
       "      <td>29.5875</td>\n",
       "      <td>6.815948</td>\n",
       "      <td>15.8120</td>\n",
       "      <td>34</td>\n",
       "    </tr>\n",
       "    <tr>\n",
       "      <th>2</th>\n",
       "      <td>H800001</td>\n",
       "      <td>17.776043</td>\n",
       "      <td>47.155710</td>\n",
       "      <td>NaN</td>\n",
       "      <td>61.391091</td>\n",
       "      <td>60.985627</td>\n",
       "      <td>0.44</td>\n",
       "      <td>25.782601</td>\n",
       "      <td>182.166667</td>\n",
       "      <td>0.424840</td>\n",
       "      <td>...</td>\n",
       "      <td>301.790876</td>\n",
       "      <td>27070.0</td>\n",
       "      <td>15.028955</td>\n",
       "      <td>31.60</td>\n",
       "      <td>0.717705</td>\n",
       "      <td>1.800</td>\n",
       "      <td>30.2200</td>\n",
       "      <td>3.545528</td>\n",
       "      <td>7.3300</td>\n",
       "      <td>4</td>\n",
       "    </tr>\n",
       "    <tr>\n",
       "      <th>3</th>\n",
       "      <td>H800001</td>\n",
       "      <td>15.764536</td>\n",
       "      <td>46.102694</td>\n",
       "      <td>NaN</td>\n",
       "      <td>61.178408</td>\n",
       "      <td>59.345718</td>\n",
       "      <td>0.38</td>\n",
       "      <td>23.391290</td>\n",
       "      <td>99.208333</td>\n",
       "      <td>0.424863</td>\n",
       "      <td>...</td>\n",
       "      <td>262.974920</td>\n",
       "      <td>30230.0</td>\n",
       "      <td>NaN</td>\n",
       "      <td>30.75</td>\n",
       "      <td>1.689474</td>\n",
       "      <td>5.550</td>\n",
       "      <td>27.3600</td>\n",
       "      <td>4.984148</td>\n",
       "      <td>13.5820</td>\n",
       "      <td>11</td>\n",
       "    </tr>\n",
       "    <tr>\n",
       "      <th>4</th>\n",
       "      <td>H800001</td>\n",
       "      <td>15.250615</td>\n",
       "      <td>43.762170</td>\n",
       "      <td>NaN</td>\n",
       "      <td>61.247844</td>\n",
       "      <td>57.424167</td>\n",
       "      <td>0.40</td>\n",
       "      <td>24.056450</td>\n",
       "      <td>136.333333</td>\n",
       "      <td>0.441570</td>\n",
       "      <td>...</td>\n",
       "      <td>282.825979</td>\n",
       "      <td>29875.0</td>\n",
       "      <td>NaN</td>\n",
       "      <td>30.65</td>\n",
       "      <td>0.830880</td>\n",
       "      <td>2.205</td>\n",
       "      <td>30.6825</td>\n",
       "      <td>4.699070</td>\n",
       "      <td>13.8555</td>\n",
       "      <td>15</td>\n",
       "    </tr>\n",
       "  </tbody>\n",
       "</table>\n",
       "<p>5 rows × 62 columns</p>\n",
       "</div>"
      ],
      "text/plain": [
       "  gls_subject_code  turn_vel_std  turn_vel_mean_ankle  movement_rate  \\\n",
       "0          H800001     22.174349            48.212574       6.701800   \n",
       "1          H800001     19.335984            40.692564       5.241188   \n",
       "2          H800001     17.776043            47.155710            NaN   \n",
       "3          H800001     15.764536            46.102694            NaN   \n",
       "4          H800001     15.250615            43.762170            NaN   \n",
       "\n",
       "   turn_vel_mean  turn_vel_std_ankle  turn_duration  turn_angle  walk_minutes  \\\n",
       "0      57.883232           60.263901           0.42   23.911008    149.375000   \n",
       "1      56.845986           62.676670           0.38   21.143974    245.125000   \n",
       "2      61.391091           60.985627           0.44   25.782601    182.166667   \n",
       "3      61.178408           59.345718           0.38   23.391290     99.208333   \n",
       "4      61.247844           57.424167           0.40   24.056450    136.333333   \n",
       "\n",
       "      swing     ...      sway_disp_ap_at_home  mobility_activity_at_home_time  \\\n",
       "0  0.427722     ...                288.195255                         66170.0   \n",
       "1  0.392413     ...                251.594150                             NaN   \n",
       "2  0.424840     ...                301.790876                         27070.0   \n",
       "3  0.424863     ...                262.974920                         30230.0   \n",
       "4  0.441570     ...                282.825979                         29875.0   \n",
       "\n",
       "   hrv_sdnn_at_home  hourly_temp_median_at_home  hourly_temp_std_at_home  \\\n",
       "0               NaN                       32.70                 0.760989   \n",
       "1         14.108786                       32.85                 0.532629   \n",
       "2         15.028955                       31.60                 0.717705   \n",
       "3               NaN                       30.75                 1.689474   \n",
       "4               NaN                       30.65                 0.830880   \n",
       "\n",
       "   hourly_temp_range_at_home  hourly_amb_temp_median_at_home  \\\n",
       "0                      1.905                         30.7575   \n",
       "1                      1.350                         29.5875   \n",
       "2                      1.800                         30.2200   \n",
       "3                      5.550                         27.3600   \n",
       "4                      2.205                         30.6825   \n",
       "\n",
       "   hourly_amb_temp_std_at_home  hourly_amb_temp_range_at_home  dayofstudy  \n",
       "0                     4.330252                        11.7550          23  \n",
       "1                     6.815948                        15.8120          34  \n",
       "2                     3.545528                         7.3300           4  \n",
       "3                     4.984148                        13.5820          11  \n",
       "4                     4.699070                        13.8555          15  \n",
       "\n",
       "[5 rows x 62 columns]"
      ]
     },
     "execution_count": 226,
     "metadata": {},
     "output_type": "execute_result"
    }
   ],
   "source": [
    "# device features dataset + patient IDs + day of study + composite scores\n",
    "FeatureDay_filtered_device_features.head()"
   ]
  },
  {
   "cell_type": "code",
   "execution_count": 227,
   "metadata": {
    "collapsed": false
   },
   "outputs": [
    {
     "data": {
      "text/plain": [
       "60"
      ]
     },
     "execution_count": 227,
     "metadata": {},
     "output_type": "execute_result"
    }
   ],
   "source": [
    "# just keep the sensor feature values\n",
    "device_feature_names = list(FeatureDay_filtered_device_features.drop(['gls_subject_code','dayofstudy'],axis = 1))\n",
    "len(device_feature_names)"
   ]
  },
  {
   "cell_type": "code",
   "execution_count": 228,
   "metadata": {
    "collapsed": false
   },
   "outputs": [
    {
     "name": "stdout",
     "output_type": "stream",
     "text": [
      "H800001\n",
      "H800002\n",
      "H800003\n",
      "H800004\n",
      "H800006\n",
      "H800007\n",
      "H800008\n",
      "H800009\n",
      "H800010\n",
      "H800011\n",
      "H800013\n",
      "H800014\n",
      "H800016\n",
      "H800017\n",
      "H800018\n",
      "H800019\n",
      "H800020\n",
      "H800021\n",
      "H800022\n",
      "H800023\n",
      "H800024\n",
      "H800025\n",
      "H800005\n",
      "H800012\n",
      "H800015\n"
     ]
    }
   ],
   "source": [
    "# transform the dataset, add feature values for each day as a new column\n",
    "final_df = pd.DataFrame()\n",
    "for ID in patientIDs:\n",
    "    print(ID)\n",
    "    arr = ID.split('0')\n",
    "    sub_df = FeatureDay_filtered_device_features[FeatureDay_filtered_device_features['gls_subject_code'] == ID]\n",
    "    new_df = pd.DataFrame()\n",
    "    new_df['gls_subject_code'] = [ID]\n",
    "    for day in np.arange(1,max_num_of_days + 1):\n",
    "        for feature in device_feature_names:\n",
    "            col_name = feature + '_day_' + str(day)\n",
    "            if day in sub_df['dayofstudy'].tolist():\n",
    "                idx = sub_df['dayofstudy'].tolist().index(23)\n",
    "                val = sub_df.iloc[idx][feature]\n",
    "                new_df[col_name] = [val]\n",
    "            else:\n",
    "                new_df[col_name] = [np.nan]\n",
    "    final_df = pd.concat([final_df,new_df])"
   ]
  },
  {
   "cell_type": "code",
   "execution_count": 229,
   "metadata": {
    "collapsed": false
   },
   "outputs": [
    {
     "data": {
      "text/html": [
       "<div>\n",
       "<table border=\"1\" class=\"dataframe\">\n",
       "  <thead>\n",
       "    <tr style=\"text-align: right;\">\n",
       "      <th></th>\n",
       "      <th>gls_subject_code</th>\n",
       "      <th>turn_vel_std_day_1</th>\n",
       "      <th>turn_vel_mean_ankle_day_1</th>\n",
       "      <th>movement_rate_day_1</th>\n",
       "      <th>turn_vel_mean_day_1</th>\n",
       "      <th>turn_vel_std_ankle_day_1</th>\n",
       "      <th>turn_duration_day_1</th>\n",
       "      <th>turn_angle_day_1</th>\n",
       "      <th>walk_minutes_day_1</th>\n",
       "      <th>swing_day_1</th>\n",
       "      <th>...</th>\n",
       "      <th>sway_disp_lr_at_home_day_80</th>\n",
       "      <th>sway_disp_ap_at_home_day_80</th>\n",
       "      <th>mobility_activity_at_home_time_day_80</th>\n",
       "      <th>hrv_sdnn_at_home_day_80</th>\n",
       "      <th>hourly_temp_median_at_home_day_80</th>\n",
       "      <th>hourly_temp_std_at_home_day_80</th>\n",
       "      <th>hourly_temp_range_at_home_day_80</th>\n",
       "      <th>hourly_amb_temp_median_at_home_day_80</th>\n",
       "      <th>hourly_amb_temp_std_at_home_day_80</th>\n",
       "      <th>hourly_amb_temp_range_at_home_day_80</th>\n",
       "    </tr>\n",
       "  </thead>\n",
       "  <tbody>\n",
       "    <tr>\n",
       "      <th>0</th>\n",
       "      <td>H800001</td>\n",
       "      <td>22.174349</td>\n",
       "      <td>48.212574</td>\n",
       "      <td>6.701800</td>\n",
       "      <td>57.883232</td>\n",
       "      <td>60.263901</td>\n",
       "      <td>0.42</td>\n",
       "      <td>23.911008</td>\n",
       "      <td>149.375000</td>\n",
       "      <td>0.427722</td>\n",
       "      <td>...</td>\n",
       "      <td>NaN</td>\n",
       "      <td>NaN</td>\n",
       "      <td>NaN</td>\n",
       "      <td>NaN</td>\n",
       "      <td>NaN</td>\n",
       "      <td>NaN</td>\n",
       "      <td>NaN</td>\n",
       "      <td>NaN</td>\n",
       "      <td>NaN</td>\n",
       "      <td>NaN</td>\n",
       "    </tr>\n",
       "    <tr>\n",
       "      <th>0</th>\n",
       "      <td>H800002</td>\n",
       "      <td>NaN</td>\n",
       "      <td>NaN</td>\n",
       "      <td>NaN</td>\n",
       "      <td>NaN</td>\n",
       "      <td>NaN</td>\n",
       "      <td>NaN</td>\n",
       "      <td>NaN</td>\n",
       "      <td>NaN</td>\n",
       "      <td>NaN</td>\n",
       "      <td>...</td>\n",
       "      <td>NaN</td>\n",
       "      <td>NaN</td>\n",
       "      <td>NaN</td>\n",
       "      <td>NaN</td>\n",
       "      <td>NaN</td>\n",
       "      <td>NaN</td>\n",
       "      <td>NaN</td>\n",
       "      <td>NaN</td>\n",
       "      <td>NaN</td>\n",
       "      <td>NaN</td>\n",
       "    </tr>\n",
       "    <tr>\n",
       "      <th>0</th>\n",
       "      <td>H800003</td>\n",
       "      <td>14.908525</td>\n",
       "      <td>35.120240</td>\n",
       "      <td>4.488399</td>\n",
       "      <td>66.330916</td>\n",
       "      <td>92.738296</td>\n",
       "      <td>0.50</td>\n",
       "      <td>29.897820</td>\n",
       "      <td>64.500000</td>\n",
       "      <td>0.420198</td>\n",
       "      <td>...</td>\n",
       "      <td>NaN</td>\n",
       "      <td>NaN</td>\n",
       "      <td>NaN</td>\n",
       "      <td>NaN</td>\n",
       "      <td>NaN</td>\n",
       "      <td>NaN</td>\n",
       "      <td>NaN</td>\n",
       "      <td>NaN</td>\n",
       "      <td>NaN</td>\n",
       "      <td>NaN</td>\n",
       "    </tr>\n",
       "    <tr>\n",
       "      <th>0</th>\n",
       "      <td>H800004</td>\n",
       "      <td>17.141517</td>\n",
       "      <td>55.996969</td>\n",
       "      <td>10.324276</td>\n",
       "      <td>66.854706</td>\n",
       "      <td>65.144946</td>\n",
       "      <td>0.44</td>\n",
       "      <td>28.332181</td>\n",
       "      <td>61.458333</td>\n",
       "      <td>0.495820</td>\n",
       "      <td>...</td>\n",
       "      <td>NaN</td>\n",
       "      <td>NaN</td>\n",
       "      <td>NaN</td>\n",
       "      <td>NaN</td>\n",
       "      <td>NaN</td>\n",
       "      <td>NaN</td>\n",
       "      <td>NaN</td>\n",
       "      <td>NaN</td>\n",
       "      <td>NaN</td>\n",
       "      <td>NaN</td>\n",
       "    </tr>\n",
       "    <tr>\n",
       "      <th>0</th>\n",
       "      <td>H800006</td>\n",
       "      <td>24.291345</td>\n",
       "      <td>52.741362</td>\n",
       "      <td>3.316912</td>\n",
       "      <td>64.354366</td>\n",
       "      <td>81.240676</td>\n",
       "      <td>0.72</td>\n",
       "      <td>43.488300</td>\n",
       "      <td>178.375000</td>\n",
       "      <td>0.465371</td>\n",
       "      <td>...</td>\n",
       "      <td>NaN</td>\n",
       "      <td>NaN</td>\n",
       "      <td>NaN</td>\n",
       "      <td>NaN</td>\n",
       "      <td>NaN</td>\n",
       "      <td>NaN</td>\n",
       "      <td>NaN</td>\n",
       "      <td>NaN</td>\n",
       "      <td>NaN</td>\n",
       "      <td>NaN</td>\n",
       "    </tr>\n",
       "  </tbody>\n",
       "</table>\n",
       "<p>5 rows × 4801 columns</p>\n",
       "</div>"
      ],
      "text/plain": [
       "  gls_subject_code  turn_vel_std_day_1  turn_vel_mean_ankle_day_1  \\\n",
       "0          H800001           22.174349                  48.212574   \n",
       "0          H800002                 NaN                        NaN   \n",
       "0          H800003           14.908525                  35.120240   \n",
       "0          H800004           17.141517                  55.996969   \n",
       "0          H800006           24.291345                  52.741362   \n",
       "\n",
       "   movement_rate_day_1  turn_vel_mean_day_1  turn_vel_std_ankle_day_1  \\\n",
       "0             6.701800            57.883232                 60.263901   \n",
       "0                  NaN                  NaN                       NaN   \n",
       "0             4.488399            66.330916                 92.738296   \n",
       "0            10.324276            66.854706                 65.144946   \n",
       "0             3.316912            64.354366                 81.240676   \n",
       "\n",
       "   turn_duration_day_1  turn_angle_day_1  walk_minutes_day_1  swing_day_1  \\\n",
       "0                 0.42         23.911008          149.375000     0.427722   \n",
       "0                  NaN               NaN                 NaN          NaN   \n",
       "0                 0.50         29.897820           64.500000     0.420198   \n",
       "0                 0.44         28.332181           61.458333     0.495820   \n",
       "0                 0.72         43.488300          178.375000     0.465371   \n",
       "\n",
       "                   ...                   sway_disp_lr_at_home_day_80  \\\n",
       "0                  ...                                           NaN   \n",
       "0                  ...                                           NaN   \n",
       "0                  ...                                           NaN   \n",
       "0                  ...                                           NaN   \n",
       "0                  ...                                           NaN   \n",
       "\n",
       "   sway_disp_ap_at_home_day_80  mobility_activity_at_home_time_day_80  \\\n",
       "0                          NaN                                    NaN   \n",
       "0                          NaN                                    NaN   \n",
       "0                          NaN                                    NaN   \n",
       "0                          NaN                                    NaN   \n",
       "0                          NaN                                    NaN   \n",
       "\n",
       "   hrv_sdnn_at_home_day_80  hourly_temp_median_at_home_day_80  \\\n",
       "0                      NaN                                NaN   \n",
       "0                      NaN                                NaN   \n",
       "0                      NaN                                NaN   \n",
       "0                      NaN                                NaN   \n",
       "0                      NaN                                NaN   \n",
       "\n",
       "   hourly_temp_std_at_home_day_80  hourly_temp_range_at_home_day_80  \\\n",
       "0                             NaN                               NaN   \n",
       "0                             NaN                               NaN   \n",
       "0                             NaN                               NaN   \n",
       "0                             NaN                               NaN   \n",
       "0                             NaN                               NaN   \n",
       "\n",
       "   hourly_amb_temp_median_at_home_day_80  hourly_amb_temp_std_at_home_day_80  \\\n",
       "0                                    NaN                                 NaN   \n",
       "0                                    NaN                                 NaN   \n",
       "0                                    NaN                                 NaN   \n",
       "0                                    NaN                                 NaN   \n",
       "0                                    NaN                                 NaN   \n",
       "\n",
       "   hourly_amb_temp_range_at_home_day_80  \n",
       "0                                   NaN  \n",
       "0                                   NaN  \n",
       "0                                   NaN  \n",
       "0                                   NaN  \n",
       "0                                   NaN  \n",
       "\n",
       "[5 rows x 4801 columns]"
      ]
     },
     "execution_count": 229,
     "metadata": {},
     "output_type": "execute_result"
    },
    {
     "data": {
      "text/plain": [
       "(25, 4801)"
      ]
     },
     "execution_count": 229,
     "metadata": {},
     "output_type": "execute_result"
    }
   ],
   "source": [
    "# check the transformed dataframe\n",
    "final_df.head()\n",
    "final_df.shape"
   ]
  },
  {
   "cell_type": "code",
   "execution_count": 230,
   "metadata": {
    "collapsed": false
   },
   "outputs": [
    {
     "data": {
      "text/html": [
       "<div>\n",
       "<table border=\"1\" class=\"dataframe\">\n",
       "  <thead>\n",
       "    <tr style=\"text-align: right;\">\n",
       "      <th></th>\n",
       "      <th>gls_subject_code</th>\n",
       "      <th>turn_vel_std_day_1</th>\n",
       "      <th>turn_vel_mean_ankle_day_1</th>\n",
       "      <th>movement_rate_day_1</th>\n",
       "      <th>turn_vel_mean_day_1</th>\n",
       "      <th>turn_vel_std_ankle_day_1</th>\n",
       "      <th>turn_duration_day_1</th>\n",
       "      <th>turn_angle_day_1</th>\n",
       "      <th>walk_minutes_day_1</th>\n",
       "      <th>swing_day_1</th>\n",
       "      <th>...</th>\n",
       "      <th>hrv_sdnn_at_home_day_80</th>\n",
       "      <th>hourly_temp_median_at_home_day_80</th>\n",
       "      <th>hourly_temp_std_at_home_day_80</th>\n",
       "      <th>hourly_temp_range_at_home_day_80</th>\n",
       "      <th>hourly_amb_temp_median_at_home_day_80</th>\n",
       "      <th>hourly_amb_temp_std_at_home_day_80</th>\n",
       "      <th>hourly_amb_temp_range_at_home_day_80</th>\n",
       "      <th>msfc_composite_1</th>\n",
       "      <th>msfc_composite_2</th>\n",
       "      <th>msfc_composite_3</th>\n",
       "    </tr>\n",
       "  </thead>\n",
       "  <tbody>\n",
       "    <tr>\n",
       "      <th>0</th>\n",
       "      <td>H800001</td>\n",
       "      <td>22.174349</td>\n",
       "      <td>48.212574</td>\n",
       "      <td>6.701800</td>\n",
       "      <td>57.883232</td>\n",
       "      <td>60.263901</td>\n",
       "      <td>0.42</td>\n",
       "      <td>23.911008</td>\n",
       "      <td>149.375000</td>\n",
       "      <td>0.427722</td>\n",
       "      <td>...</td>\n",
       "      <td>NaN</td>\n",
       "      <td>NaN</td>\n",
       "      <td>NaN</td>\n",
       "      <td>NaN</td>\n",
       "      <td>NaN</td>\n",
       "      <td>NaN</td>\n",
       "      <td>NaN</td>\n",
       "      <td>-1.211435</td>\n",
       "      <td>-1.385647</td>\n",
       "      <td>-1.407630</td>\n",
       "    </tr>\n",
       "    <tr>\n",
       "      <th>0</th>\n",
       "      <td>H800002</td>\n",
       "      <td>NaN</td>\n",
       "      <td>NaN</td>\n",
       "      <td>NaN</td>\n",
       "      <td>NaN</td>\n",
       "      <td>NaN</td>\n",
       "      <td>NaN</td>\n",
       "      <td>NaN</td>\n",
       "      <td>NaN</td>\n",
       "      <td>NaN</td>\n",
       "      <td>...</td>\n",
       "      <td>NaN</td>\n",
       "      <td>NaN</td>\n",
       "      <td>NaN</td>\n",
       "      <td>NaN</td>\n",
       "      <td>NaN</td>\n",
       "      <td>NaN</td>\n",
       "      <td>NaN</td>\n",
       "      <td>0.389599</td>\n",
       "      <td>1.109154</td>\n",
       "      <td>0.631568</td>\n",
       "    </tr>\n",
       "    <tr>\n",
       "      <th>0</th>\n",
       "      <td>H800003</td>\n",
       "      <td>14.908525</td>\n",
       "      <td>35.120240</td>\n",
       "      <td>4.488399</td>\n",
       "      <td>66.330916</td>\n",
       "      <td>92.738296</td>\n",
       "      <td>0.50</td>\n",
       "      <td>29.897820</td>\n",
       "      <td>64.500000</td>\n",
       "      <td>0.420198</td>\n",
       "      <td>...</td>\n",
       "      <td>NaN</td>\n",
       "      <td>NaN</td>\n",
       "      <td>NaN</td>\n",
       "      <td>NaN</td>\n",
       "      <td>NaN</td>\n",
       "      <td>NaN</td>\n",
       "      <td>NaN</td>\n",
       "      <td>0.780895</td>\n",
       "      <td>0.932657</td>\n",
       "      <td>0.911542</td>\n",
       "    </tr>\n",
       "    <tr>\n",
       "      <th>0</th>\n",
       "      <td>H800004</td>\n",
       "      <td>17.141517</td>\n",
       "      <td>55.996969</td>\n",
       "      <td>10.324276</td>\n",
       "      <td>66.854706</td>\n",
       "      <td>65.144946</td>\n",
       "      <td>0.44</td>\n",
       "      <td>28.332181</td>\n",
       "      <td>61.458333</td>\n",
       "      <td>0.495820</td>\n",
       "      <td>...</td>\n",
       "      <td>NaN</td>\n",
       "      <td>NaN</td>\n",
       "      <td>NaN</td>\n",
       "      <td>NaN</td>\n",
       "      <td>NaN</td>\n",
       "      <td>NaN</td>\n",
       "      <td>NaN</td>\n",
       "      <td>-0.969236</td>\n",
       "      <td>-0.983236</td>\n",
       "      <td>-0.695738</td>\n",
       "    </tr>\n",
       "    <tr>\n",
       "      <th>0</th>\n",
       "      <td>H800006</td>\n",
       "      <td>24.291345</td>\n",
       "      <td>52.741362</td>\n",
       "      <td>3.316912</td>\n",
       "      <td>64.354366</td>\n",
       "      <td>81.240676</td>\n",
       "      <td>0.72</td>\n",
       "      <td>43.488300</td>\n",
       "      <td>178.375000</td>\n",
       "      <td>0.465371</td>\n",
       "      <td>...</td>\n",
       "      <td>NaN</td>\n",
       "      <td>NaN</td>\n",
       "      <td>NaN</td>\n",
       "      <td>NaN</td>\n",
       "      <td>NaN</td>\n",
       "      <td>NaN</td>\n",
       "      <td>NaN</td>\n",
       "      <td>0.245690</td>\n",
       "      <td>0.568276</td>\n",
       "      <td>0.495086</td>\n",
       "    </tr>\n",
       "  </tbody>\n",
       "</table>\n",
       "<p>5 rows × 4804 columns</p>\n",
       "</div>"
      ],
      "text/plain": [
       "  gls_subject_code  turn_vel_std_day_1  turn_vel_mean_ankle_day_1  \\\n",
       "0          H800001           22.174349                  48.212574   \n",
       "0          H800002                 NaN                        NaN   \n",
       "0          H800003           14.908525                  35.120240   \n",
       "0          H800004           17.141517                  55.996969   \n",
       "0          H800006           24.291345                  52.741362   \n",
       "\n",
       "   movement_rate_day_1  turn_vel_mean_day_1  turn_vel_std_ankle_day_1  \\\n",
       "0             6.701800            57.883232                 60.263901   \n",
       "0                  NaN                  NaN                       NaN   \n",
       "0             4.488399            66.330916                 92.738296   \n",
       "0            10.324276            66.854706                 65.144946   \n",
       "0             3.316912            64.354366                 81.240676   \n",
       "\n",
       "   turn_duration_day_1  turn_angle_day_1  walk_minutes_day_1  swing_day_1  \\\n",
       "0                 0.42         23.911008          149.375000     0.427722   \n",
       "0                  NaN               NaN                 NaN          NaN   \n",
       "0                 0.50         29.897820           64.500000     0.420198   \n",
       "0                 0.44         28.332181           61.458333     0.495820   \n",
       "0                 0.72         43.488300          178.375000     0.465371   \n",
       "\n",
       "         ...         hrv_sdnn_at_home_day_80  \\\n",
       "0        ...                             NaN   \n",
       "0        ...                             NaN   \n",
       "0        ...                             NaN   \n",
       "0        ...                             NaN   \n",
       "0        ...                             NaN   \n",
       "\n",
       "   hourly_temp_median_at_home_day_80  hourly_temp_std_at_home_day_80  \\\n",
       "0                                NaN                             NaN   \n",
       "0                                NaN                             NaN   \n",
       "0                                NaN                             NaN   \n",
       "0                                NaN                             NaN   \n",
       "0                                NaN                             NaN   \n",
       "\n",
       "   hourly_temp_range_at_home_day_80  hourly_amb_temp_median_at_home_day_80  \\\n",
       "0                               NaN                                    NaN   \n",
       "0                               NaN                                    NaN   \n",
       "0                               NaN                                    NaN   \n",
       "0                               NaN                                    NaN   \n",
       "0                               NaN                                    NaN   \n",
       "\n",
       "   hourly_amb_temp_std_at_home_day_80  hourly_amb_temp_range_at_home_day_80  \\\n",
       "0                                 NaN                                   NaN   \n",
       "0                                 NaN                                   NaN   \n",
       "0                                 NaN                                   NaN   \n",
       "0                                 NaN                                   NaN   \n",
       "0                                 NaN                                   NaN   \n",
       "\n",
       "   msfc_composite_1  msfc_composite_2  msfc_composite_3  \n",
       "0         -1.211435         -1.385647         -1.407630  \n",
       "0          0.389599          1.109154          0.631568  \n",
       "0          0.780895          0.932657          0.911542  \n",
       "0         -0.969236         -0.983236         -0.695738  \n",
       "0          0.245690          0.568276          0.495086  \n",
       "\n",
       "[5 rows x 4804 columns]"
      ]
     },
     "execution_count": 230,
     "metadata": {},
     "output_type": "execute_result"
    }
   ],
   "source": [
    "# add back patient IDs + composite scores to the transformed dataset\n",
    "msfc_composite_1 = []\n",
    "msfc_composite_2 = []\n",
    "msfc_composite_3 = []\n",
    "for ID in final_df['gls_subject_code']:\n",
    "    msfc_composite_1.append(FeatureDay_filtered[FeatureDay_filtered['gls_subject_code'] == ID].iloc[0]['msfc_composite_1'])\n",
    "    msfc_composite_2.append(FeatureDay_filtered[FeatureDay_filtered['gls_subject_code'] == ID].iloc[0]['msfc_composite_2'])\n",
    "    msfc_composite_3.append(FeatureDay_filtered[FeatureDay_filtered['gls_subject_code'] == ID].iloc[0]['msfc_composite_3'])\n",
    "final_df['msfc_composite_1'] = msfc_composite_1\n",
    "final_df['msfc_composite_2'] = msfc_composite_2\n",
    "final_df['msfc_composite_3'] = msfc_composite_3\n",
    "final_df.head()"
   ]
  },
  {
   "cell_type": "code",
   "execution_count": 231,
   "metadata": {
    "collapsed": false
   },
   "outputs": [
    {
     "data": {
      "text/html": [
       "<div>\n",
       "<table border=\"1\" class=\"dataframe\">\n",
       "  <thead>\n",
       "    <tr style=\"text-align: right;\">\n",
       "      <th></th>\n",
       "      <th>gls_subject_code</th>\n",
       "      <th>turn_vel_std_day_1</th>\n",
       "      <th>turn_vel_mean_ankle_day_1</th>\n",
       "      <th>movement_rate_day_1</th>\n",
       "      <th>turn_vel_mean_day_1</th>\n",
       "      <th>turn_vel_std_ankle_day_1</th>\n",
       "      <th>turn_duration_day_1</th>\n",
       "      <th>turn_angle_day_1</th>\n",
       "      <th>walk_minutes_day_1</th>\n",
       "      <th>swing_day_1</th>\n",
       "      <th>...</th>\n",
       "      <th>hrv_sdnn_at_home_day_80</th>\n",
       "      <th>hourly_temp_median_at_home_day_80</th>\n",
       "      <th>hourly_temp_std_at_home_day_80</th>\n",
       "      <th>hourly_temp_range_at_home_day_80</th>\n",
       "      <th>hourly_amb_temp_median_at_home_day_80</th>\n",
       "      <th>hourly_amb_temp_std_at_home_day_80</th>\n",
       "      <th>hourly_amb_temp_range_at_home_day_80</th>\n",
       "      <th>msfc_composite_1</th>\n",
       "      <th>msfc_composite_2</th>\n",
       "      <th>msfc_composite_3</th>\n",
       "    </tr>\n",
       "  </thead>\n",
       "  <tbody>\n",
       "    <tr>\n",
       "      <th>0</th>\n",
       "      <td>H800001</td>\n",
       "      <td>22.174349</td>\n",
       "      <td>48.212574</td>\n",
       "      <td>6.701800</td>\n",
       "      <td>57.883232</td>\n",
       "      <td>60.263901</td>\n",
       "      <td>0.42</td>\n",
       "      <td>23.911008</td>\n",
       "      <td>149.375000</td>\n",
       "      <td>0.427722</td>\n",
       "      <td>...</td>\n",
       "      <td>NaN</td>\n",
       "      <td>NaN</td>\n",
       "      <td>NaN</td>\n",
       "      <td>NaN</td>\n",
       "      <td>NaN</td>\n",
       "      <td>NaN</td>\n",
       "      <td>NaN</td>\n",
       "      <td>-1.211435</td>\n",
       "      <td>-1.385647</td>\n",
       "      <td>-1.407630</td>\n",
       "    </tr>\n",
       "    <tr>\n",
       "      <th>1</th>\n",
       "      <td>H800002</td>\n",
       "      <td>NaN</td>\n",
       "      <td>NaN</td>\n",
       "      <td>NaN</td>\n",
       "      <td>NaN</td>\n",
       "      <td>NaN</td>\n",
       "      <td>NaN</td>\n",
       "      <td>NaN</td>\n",
       "      <td>NaN</td>\n",
       "      <td>NaN</td>\n",
       "      <td>...</td>\n",
       "      <td>NaN</td>\n",
       "      <td>NaN</td>\n",
       "      <td>NaN</td>\n",
       "      <td>NaN</td>\n",
       "      <td>NaN</td>\n",
       "      <td>NaN</td>\n",
       "      <td>NaN</td>\n",
       "      <td>0.389599</td>\n",
       "      <td>1.109154</td>\n",
       "      <td>0.631568</td>\n",
       "    </tr>\n",
       "    <tr>\n",
       "      <th>2</th>\n",
       "      <td>H800003</td>\n",
       "      <td>14.908525</td>\n",
       "      <td>35.120240</td>\n",
       "      <td>4.488399</td>\n",
       "      <td>66.330916</td>\n",
       "      <td>92.738296</td>\n",
       "      <td>0.50</td>\n",
       "      <td>29.897820</td>\n",
       "      <td>64.500000</td>\n",
       "      <td>0.420198</td>\n",
       "      <td>...</td>\n",
       "      <td>NaN</td>\n",
       "      <td>NaN</td>\n",
       "      <td>NaN</td>\n",
       "      <td>NaN</td>\n",
       "      <td>NaN</td>\n",
       "      <td>NaN</td>\n",
       "      <td>NaN</td>\n",
       "      <td>0.780895</td>\n",
       "      <td>0.932657</td>\n",
       "      <td>0.911542</td>\n",
       "    </tr>\n",
       "    <tr>\n",
       "      <th>3</th>\n",
       "      <td>H800004</td>\n",
       "      <td>17.141517</td>\n",
       "      <td>55.996969</td>\n",
       "      <td>10.324276</td>\n",
       "      <td>66.854706</td>\n",
       "      <td>65.144946</td>\n",
       "      <td>0.44</td>\n",
       "      <td>28.332181</td>\n",
       "      <td>61.458333</td>\n",
       "      <td>0.495820</td>\n",
       "      <td>...</td>\n",
       "      <td>NaN</td>\n",
       "      <td>NaN</td>\n",
       "      <td>NaN</td>\n",
       "      <td>NaN</td>\n",
       "      <td>NaN</td>\n",
       "      <td>NaN</td>\n",
       "      <td>NaN</td>\n",
       "      <td>-0.969236</td>\n",
       "      <td>-0.983236</td>\n",
       "      <td>-0.695738</td>\n",
       "    </tr>\n",
       "    <tr>\n",
       "      <th>4</th>\n",
       "      <td>H800006</td>\n",
       "      <td>24.291345</td>\n",
       "      <td>52.741362</td>\n",
       "      <td>3.316912</td>\n",
       "      <td>64.354366</td>\n",
       "      <td>81.240676</td>\n",
       "      <td>0.72</td>\n",
       "      <td>43.488300</td>\n",
       "      <td>178.375000</td>\n",
       "      <td>0.465371</td>\n",
       "      <td>...</td>\n",
       "      <td>NaN</td>\n",
       "      <td>NaN</td>\n",
       "      <td>NaN</td>\n",
       "      <td>NaN</td>\n",
       "      <td>NaN</td>\n",
       "      <td>NaN</td>\n",
       "      <td>NaN</td>\n",
       "      <td>0.245690</td>\n",
       "      <td>0.568276</td>\n",
       "      <td>0.495086</td>\n",
       "    </tr>\n",
       "  </tbody>\n",
       "</table>\n",
       "<p>5 rows × 4804 columns</p>\n",
       "</div>"
      ],
      "text/plain": [
       "  gls_subject_code  turn_vel_std_day_1  turn_vel_mean_ankle_day_1  \\\n",
       "0          H800001           22.174349                  48.212574   \n",
       "1          H800002                 NaN                        NaN   \n",
       "2          H800003           14.908525                  35.120240   \n",
       "3          H800004           17.141517                  55.996969   \n",
       "4          H800006           24.291345                  52.741362   \n",
       "\n",
       "   movement_rate_day_1  turn_vel_mean_day_1  turn_vel_std_ankle_day_1  \\\n",
       "0             6.701800            57.883232                 60.263901   \n",
       "1                  NaN                  NaN                       NaN   \n",
       "2             4.488399            66.330916                 92.738296   \n",
       "3            10.324276            66.854706                 65.144946   \n",
       "4             3.316912            64.354366                 81.240676   \n",
       "\n",
       "   turn_duration_day_1  turn_angle_day_1  walk_minutes_day_1  swing_day_1  \\\n",
       "0                 0.42         23.911008          149.375000     0.427722   \n",
       "1                  NaN               NaN                 NaN          NaN   \n",
       "2                 0.50         29.897820           64.500000     0.420198   \n",
       "3                 0.44         28.332181           61.458333     0.495820   \n",
       "4                 0.72         43.488300          178.375000     0.465371   \n",
       "\n",
       "         ...         hrv_sdnn_at_home_day_80  \\\n",
       "0        ...                             NaN   \n",
       "1        ...                             NaN   \n",
       "2        ...                             NaN   \n",
       "3        ...                             NaN   \n",
       "4        ...                             NaN   \n",
       "\n",
       "   hourly_temp_median_at_home_day_80  hourly_temp_std_at_home_day_80  \\\n",
       "0                                NaN                             NaN   \n",
       "1                                NaN                             NaN   \n",
       "2                                NaN                             NaN   \n",
       "3                                NaN                             NaN   \n",
       "4                                NaN                             NaN   \n",
       "\n",
       "   hourly_temp_range_at_home_day_80  hourly_amb_temp_median_at_home_day_80  \\\n",
       "0                               NaN                                    NaN   \n",
       "1                               NaN                                    NaN   \n",
       "2                               NaN                                    NaN   \n",
       "3                               NaN                                    NaN   \n",
       "4                               NaN                                    NaN   \n",
       "\n",
       "   hourly_amb_temp_std_at_home_day_80  hourly_amb_temp_range_at_home_day_80  \\\n",
       "0                                 NaN                                   NaN   \n",
       "1                                 NaN                                   NaN   \n",
       "2                                 NaN                                   NaN   \n",
       "3                                 NaN                                   NaN   \n",
       "4                                 NaN                                   NaN   \n",
       "\n",
       "   msfc_composite_1  msfc_composite_2  msfc_composite_3  \n",
       "0         -1.211435         -1.385647         -1.407630  \n",
       "1          0.389599          1.109154          0.631568  \n",
       "2          0.780895          0.932657          0.911542  \n",
       "3         -0.969236         -0.983236         -0.695738  \n",
       "4          0.245690          0.568276          0.495086  \n",
       "\n",
       "[5 rows x 4804 columns]"
      ]
     },
     "execution_count": 231,
     "metadata": {},
     "output_type": "execute_result"
    }
   ],
   "source": [
    "# fix the index of the transformed dataset\n",
    "FeatureDay_filtered_reshaped = final_df.reset_index(drop=True)\n",
    "FeatureDay_filtered_reshaped.head()"
   ]
  },
  {
   "cell_type": "code",
   "execution_count": 232,
   "metadata": {
    "collapsed": true
   },
   "outputs": [],
   "source": [
    "###################################################END OF REASHAPING FEATUREDAY####################################"
   ]
  },
  {
   "cell_type": "code",
   "execution_count": 233,
   "metadata": {
    "collapsed": false
   },
   "outputs": [
    {
     "data": {
      "text/plain": [
       "(25, 64)"
      ]
     },
     "execution_count": 233,
     "metadata": {},
     "output_type": "execute_result"
    },
    {
     "data": {
      "text/plain": [
       "(22, 64)"
      ]
     },
     "execution_count": 233,
     "metadata": {},
     "output_type": "execute_result"
    },
    {
     "data": {
      "text/plain": [
       "(25, 4804)"
      ]
     },
     "execution_count": 233,
     "metadata": {},
     "output_type": "execute_result"
    },
    {
     "data": {
      "text/plain": [
       "(20, 1830)"
      ]
     },
     "execution_count": 233,
     "metadata": {},
     "output_type": "execute_result"
    }
   ],
   "source": [
    "# preprocessing: remove columns, rows with > 50% null values\n",
    "\n",
    "# featureStudy\n",
    "# columns\n",
    "TH = FeatureStudy_filtered.shape[0]/2\n",
    "FeatureStudy_filtered_nullDropped = remove_columns_with_null(FeatureStudy_filtered, TH)\n",
    "# rows\n",
    "TH = FeatureStudy_filtered.shape[1]/2\n",
    "FeatureStudy_filtered_nullDropped = remove_rows_with_null(FeatureStudy_filtered_nullDropped, TH)\n",
    "\n",
    "# featureDay\n",
    "# columns\n",
    "TH = FeatureDay_filtered_reshaped.shape[0]/2\n",
    "FeatureDay_filtered_reshaped_nullDropped = remove_columns_with_null(FeatureDay_filtered_reshaped, TH)\n",
    "# rows\n",
    "TH = FeatureDay_filtered_reshaped_nullDropped.shape[1]/2\n",
    "FeatureDay_filtered_reshaped_nullDropped = remove_rows_with_null(FeatureDay_filtered_reshaped_nullDropped, TH)\n",
    "\n",
    "# compare shapes of new data frames with original ones\n",
    "FeatureStudy_filtered.shape\n",
    "FeatureStudy_filtered_nullDropped.shape\n",
    "FeatureDay_filtered_reshaped.shape\n",
    "FeatureDay_filtered_reshaped_nullDropped.shape"
   ]
  },
  {
   "cell_type": "code",
   "execution_count": 234,
   "metadata": {
    "collapsed": false
   },
   "outputs": [
    {
     "name": "stderr",
     "output_type": "stream",
     "text": [
      "/opt/python3/lib/python3.5/site-packages/pandas/core/generic.py:3191: SettingWithCopyWarning: \n",
      "A value is trying to be set on a copy of a slice from a DataFrame\n",
      "\n",
      "See the caveats in the documentation: http://pandas.pydata.org/pandas-docs/stable/indexing.html#indexing-view-versus-copy\n",
      "  self._update_inplace(new_data)\n"
     ]
    }
   ],
   "source": [
    "# preprocessing: fill null values\n",
    "# MSFC composite scores: mean on row\n",
    "# feature values: mean on columns\n",
    "df_study = filter_dataFrame_fillna(FeatureStudy_filtered_nullDropped)\n",
    "df_day = filter_dataFrame_fillna(FeatureDay_filtered_reshaped_nullDropped)"
   ]
  },
  {
   "cell_type": "code",
   "execution_count": 235,
   "metadata": {
    "collapsed": false
   },
   "outputs": [
    {
     "data": {
      "text/plain": [
       "(20, 1830)"
      ]
     },
     "execution_count": 235,
     "metadata": {},
     "output_type": "execute_result"
    },
    {
     "data": {
      "text/plain": [
       "0"
      ]
     },
     "execution_count": 235,
     "metadata": {},
     "output_type": "execute_result"
    },
    {
     "data": {
      "text/plain": [
       "(22, 64)"
      ]
     },
     "execution_count": 235,
     "metadata": {},
     "output_type": "execute_result"
    },
    {
     "data": {
      "text/plain": [
       "0"
      ]
     },
     "execution_count": 235,
     "metadata": {},
     "output_type": "execute_result"
    }
   ],
   "source": [
    "# check to make sure there is no null value left\n",
    "df_day.shape\n",
    "df_day.isnull().sum().sum()\n",
    "df_study.shape\n",
    "df_study.isnull().sum().sum()"
   ]
  },
  {
   "cell_type": "code",
   "execution_count": 236,
   "metadata": {
    "collapsed": false
   },
   "outputs": [
    {
     "data": {
      "text/plain": [
       "{'H800002', 'H800005', 'H800009', 'H800012', 'H800015'}"
      ]
     },
     "execution_count": 236,
     "metadata": {},
     "output_type": "execute_result"
    },
    {
     "data": {
      "text/plain": [
       "{'H800005', 'H800012', 'H800015'}"
      ]
     },
     "execution_count": 236,
     "metadata": {},
     "output_type": "execute_result"
    }
   ],
   "source": [
    "# removed patients\n",
    "set(patientIDs) - set(df_day['gls_subject_code'])\n",
    "set(patientIDs) - set(df_study['gls_subject_code'])"
   ]
  },
  {
   "cell_type": "code",
   "execution_count": 237,
   "metadata": {
    "collapsed": true
   },
   "outputs": [],
   "source": [
    "# data engineering: add MSFC3-MSFC2 to the datasets\n",
    "# there are three potential targets to predict: msfc_composite_3, msfc_change, msfc_composite_3_bin\n",
    "df_study['msfc_change'] = df_study['msfc_composite_3'] - df_study['msfc_composite_2']\n",
    "df_day['msfc_change'] = df_day['msfc_composite_3'] - df_day['msfc_composite_2']"
   ]
  },
  {
   "cell_type": "code",
   "execution_count": 238,
   "metadata": {
    "collapsed": true
   },
   "outputs": [],
   "source": [
    "# data engineering: add binned msfc3 scores to the dataset\n",
    "num_of_bins = 3\n",
    "minimum =  df_study['msfc_composite_3'].min()\n",
    "maximum = df_study['msfc_composite_3'].max()\n",
    "df_study['msfc_composite_3_bin'] = df_study['msfc_composite_3'].apply(bin_scores, args=(num_of_bins, minimum, maximum))\n",
    "\n",
    "num_of_bins = 3\n",
    "minimum =  df_day['msfc_composite_3'].min()\n",
    "maximum = df_day['msfc_composite_3'].max()\n",
    "df_day['msfc_composite_3_bin'] = df_day['msfc_composite_3'].apply(bin_scores, args=(num_of_bins, minimum, maximum))"
   ]
  },
  {
   "cell_type": "code",
   "execution_count": null,
   "metadata": {
    "collapsed": true
   },
   "outputs": [],
   "source": [
    "# start the classification while msfc scores from previous clinical visits are considered as features in datasets"
   ]
  },
  {
   "cell_type": "code",
   "execution_count": 321,
   "metadata": {
    "collapsed": true
   },
   "outputs": [],
   "source": [
    "# prepare x,y\n",
    "# df_study\n",
    "col_names_potential_targets = ['msfc_composite_3','msfc_change', 'msfc_composite_3_bin']\n",
    "remove_cols = col_names_potential_targets.append('gls_subject_code')\n",
    "x_study = df_study.drop(col_names_potential_targets,axis=1)\n",
    "y_study = df_study['msfc_composite_3_bin']\n",
    "\n",
    "# normalize data\n",
    "from sklearn import preprocessing\n",
    "x_study_scaled = pd.DataFrame(preprocessing.normalize(x_study),columns=x_study.columns)"
   ]
  },
  {
   "cell_type": "code",
   "execution_count": 322,
   "metadata": {
    "collapsed": true
   },
   "outputs": [],
   "source": [
    "# prepare x,y\n",
    "# df_day\n",
    "col_names_potential_targets = ['msfc_composite_3','msfc_change', 'msfc_composite_3_bin']\n",
    "remove_cols = col_names_potential_targets.append('gls_subject_code')\n",
    "x_day = df_day.drop(col_names_potential_targets,axis=1)\n",
    "y_day = df_day['msfc_composite_3_bin']\n",
    "\n",
    "# normalize data\n",
    "from sklearn import preprocessing\n",
    "x_day_scaled = pd.DataFrame(preprocessing.normalize(x_day),columns=x_day.columns)"
   ]
  },
  {
   "cell_type": "code",
   "execution_count": 323,
   "metadata": {
    "collapsed": true
   },
   "outputs": [],
   "source": [
    "# summerize the results in a dataframe\n",
    "summary_1 = pd.DataFrame()\n",
    "best_accuracy_score = []\n",
    "accuracy_of_best_model_on_whole_data = []\n",
    "best_num_of_estimator = []\n",
    "train_data = []\n",
    "target = []\n",
    "num_of_samples = []\n",
    "num_of_features = []"
   ]
  },
  {
   "cell_type": "code",
   "execution_count": 324,
   "metadata": {
    "collapsed": false
   },
   "outputs": [
    {
     "name": "stderr",
     "output_type": "stream",
     "text": [
      "/opt/python3/lib/python3.5/site-packages/sklearn/cross_validation.py:516: Warning: The least populated class in y has only 2 members, which is too few. The minimum number of labels for any class cannot be less than n_folds=10.\n",
      "  % (min_labels, self.n_folds)), Warning)\n"
     ]
    },
    {
     "data": {
      "text/plain": [
       "GridSearchCV(cv=10, error_score='raise',\n",
       "       estimator=RandomForestClassifier(bootstrap=True, class_weight=None, criterion='gini',\n",
       "            max_depth=None, max_features='auto', max_leaf_nodes=None,\n",
       "            min_samples_leaf=1, min_samples_split=2,\n",
       "            min_weight_fraction_leaf=0.0, n_estimators=10, n_jobs=1,\n",
       "            oob_score=False, random_state=42, verbose=0, warm_start=False),\n",
       "       fit_params={}, iid=True, n_jobs=1,\n",
       "       param_grid={'n_estimators': array([ 5, 10, 15, 20, 25, 30, 35, 40, 45, 50, 55, 60, 65, 70, 75, 80, 85,\n",
       "       90, 95])},\n",
       "       pre_dispatch='2*n_jobs', refit=True, scoring=None, verbose=0)"
      ]
     },
     "execution_count": 324,
     "metadata": {},
     "output_type": "execute_result"
    },
    {
     "data": {
      "text/plain": [
       "0.86363636363636365"
      ]
     },
     "execution_count": 324,
     "metadata": {},
     "output_type": "execute_result"
    },
    {
     "data": {
      "text/plain": [
       "{'n_estimators': 20}"
      ]
     },
     "execution_count": 324,
     "metadata": {},
     "output_type": "execute_result"
    },
    {
     "data": {
      "text/plain": [
       "[mean: 0.81818, std: 0.17500, params: {'n_estimators': 5},\n",
       " mean: 0.81818, std: 0.17500, params: {'n_estimators': 10},\n",
       " mean: 0.81818, std: 0.17500, params: {'n_estimators': 15},\n",
       " mean: 0.86364, std: 0.12910, params: {'n_estimators': 20},\n",
       " mean: 0.86364, std: 0.12910, params: {'n_estimators': 25},\n",
       " mean: 0.86364, std: 0.12910, params: {'n_estimators': 30},\n",
       " mean: 0.86364, std: 0.12910, params: {'n_estimators': 35},\n",
       " mean: 0.86364, std: 0.12910, params: {'n_estimators': 40},\n",
       " mean: 0.86364, std: 0.12910, params: {'n_estimators': 45},\n",
       " mean: 0.81818, std: 0.14530, params: {'n_estimators': 50},\n",
       " mean: 0.81818, std: 0.14530, params: {'n_estimators': 55},\n",
       " mean: 0.86364, std: 0.12910, params: {'n_estimators': 60},\n",
       " mean: 0.86364, std: 0.12910, params: {'n_estimators': 65},\n",
       " mean: 0.86364, std: 0.12910, params: {'n_estimators': 70},\n",
       " mean: 0.86364, std: 0.12910, params: {'n_estimators': 75},\n",
       " mean: 0.86364, std: 0.12910, params: {'n_estimators': 80},\n",
       " mean: 0.86364, std: 0.12910, params: {'n_estimators': 85},\n",
       " mean: 0.86364, std: 0.12910, params: {'n_estimators': 90},\n",
       " mean: 0.86364, std: 0.12910, params: {'n_estimators': 95}]"
      ]
     },
     "execution_count": 324,
     "metadata": {},
     "output_type": "execute_result"
    },
    {
     "data": {
      "text/plain": [
       "array([[ 2,  0,  0],\n",
       "       [ 0,  4,  0],\n",
       "       [ 0,  0, 16]])"
      ]
     },
     "execution_count": 324,
     "metadata": {},
     "output_type": "execute_result"
    },
    {
     "data": {
      "text/plain": [
       "1.0"
      ]
     },
     "execution_count": 324,
     "metadata": {},
     "output_type": "execute_result"
    },
    {
     "name": "stderr",
     "output_type": "stream",
     "text": [
      "/opt/python3/lib/python3.5/site-packages/ipykernel/__main__.py:26: FutureWarning: sort(columns=....) is deprecated, use sort_values(by=.....)\n"
     ]
    },
    {
     "data": {
      "text/html": [
       "<div>\n",
       "<table border=\"1\" class=\"dataframe\">\n",
       "  <thead>\n",
       "    <tr style=\"text-align: right;\">\n",
       "      <th></th>\n",
       "      <th>feature</th>\n",
       "      <th>importance</th>\n",
       "    </tr>\n",
       "  </thead>\n",
       "  <tbody>\n",
       "    <tr>\n",
       "      <th>61</th>\n",
       "      <td>msfc_composite_2</td>\n",
       "      <td>0.120729</td>\n",
       "    </tr>\n",
       "    <tr>\n",
       "      <th>21</th>\n",
       "      <td>mean_pvt_delay_3_at_home</td>\n",
       "      <td>0.120552</td>\n",
       "    </tr>\n",
       "    <tr>\n",
       "      <th>24</th>\n",
       "      <td>mean_pvt_delay_at_home</td>\n",
       "      <td>0.079606</td>\n",
       "    </tr>\n",
       "    <tr>\n",
       "      <th>23</th>\n",
       "      <td>mean_pvt_delay_7_at_home</td>\n",
       "      <td>0.069225</td>\n",
       "    </tr>\n",
       "    <tr>\n",
       "      <th>20</th>\n",
       "      <td>mean_pvt_delay_1_at_home</td>\n",
       "      <td>0.053505</td>\n",
       "    </tr>\n",
       "    <tr>\n",
       "      <th>4</th>\n",
       "      <td>prv_sdnn</td>\n",
       "      <td>0.050000</td>\n",
       "    </tr>\n",
       "    <tr>\n",
       "      <th>7</th>\n",
       "      <td>turn_vel_mean_ankle</td>\n",
       "      <td>0.044880</td>\n",
       "    </tr>\n",
       "    <tr>\n",
       "      <th>30</th>\n",
       "      <td>zx_nondominant_num_correct_at_home</td>\n",
       "      <td>0.037280</td>\n",
       "    </tr>\n",
       "    <tr>\n",
       "      <th>37</th>\n",
       "      <td>mobility_swing_at_home</td>\n",
       "      <td>0.037046</td>\n",
       "    </tr>\n",
       "    <tr>\n",
       "      <th>26</th>\n",
       "      <td>pq_nondominant_median_at_home</td>\n",
       "      <td>0.032451</td>\n",
       "    </tr>\n",
       "    <tr>\n",
       "      <th>60</th>\n",
       "      <td>msfc_composite_1</td>\n",
       "      <td>0.032157</td>\n",
       "    </tr>\n",
       "    <tr>\n",
       "      <th>14</th>\n",
       "      <td>turn_duration</td>\n",
       "      <td>0.030394</td>\n",
       "    </tr>\n",
       "    <tr>\n",
       "      <th>1</th>\n",
       "      <td>stance</td>\n",
       "      <td>0.028650</td>\n",
       "    </tr>\n",
       "    <tr>\n",
       "      <th>39</th>\n",
       "      <td>turn_duration_at_home</td>\n",
       "      <td>0.023974</td>\n",
       "    </tr>\n",
       "    <tr>\n",
       "      <th>5</th>\n",
       "      <td>turn_vel_std_ankle</td>\n",
       "      <td>0.023519</td>\n",
       "    </tr>\n",
       "    <tr>\n",
       "      <th>28</th>\n",
       "      <td>zx_nondominant_median_at_home</td>\n",
       "      <td>0.022370</td>\n",
       "    </tr>\n",
       "    <tr>\n",
       "      <th>34</th>\n",
       "      <td>pq_nondominant_rhythm_at_home</td>\n",
       "      <td>0.017712</td>\n",
       "    </tr>\n",
       "    <tr>\n",
       "      <th>35</th>\n",
       "      <td>pq_dominant_rhythm_at_home</td>\n",
       "      <td>0.016263</td>\n",
       "    </tr>\n",
       "    <tr>\n",
       "      <th>22</th>\n",
       "      <td>mean_pvt_delay_5_at_home</td>\n",
       "      <td>0.016117</td>\n",
       "    </tr>\n",
       "    <tr>\n",
       "      <th>13</th>\n",
       "      <td>turn_duration_ankle</td>\n",
       "      <td>0.016025</td>\n",
       "    </tr>\n",
       "  </tbody>\n",
       "</table>\n",
       "</div>"
      ],
      "text/plain": [
       "                               feature  importance\n",
       "61                    msfc_composite_2    0.120729\n",
       "21            mean_pvt_delay_3_at_home    0.120552\n",
       "24              mean_pvt_delay_at_home    0.079606\n",
       "23            mean_pvt_delay_7_at_home    0.069225\n",
       "20            mean_pvt_delay_1_at_home    0.053505\n",
       "4                             prv_sdnn    0.050000\n",
       "7                  turn_vel_mean_ankle    0.044880\n",
       "30  zx_nondominant_num_correct_at_home    0.037280\n",
       "37              mobility_swing_at_home    0.037046\n",
       "26       pq_nondominant_median_at_home    0.032451\n",
       "60                    msfc_composite_1    0.032157\n",
       "14                       turn_duration    0.030394\n",
       "1                               stance    0.028650\n",
       "39               turn_duration_at_home    0.023974\n",
       "5                   turn_vel_std_ankle    0.023519\n",
       "28       zx_nondominant_median_at_home    0.022370\n",
       "34       pq_nondominant_rhythm_at_home    0.017712\n",
       "35          pq_dominant_rhythm_at_home    0.016263\n",
       "22            mean_pvt_delay_5_at_home    0.016117\n",
       "13                 turn_duration_ankle    0.016025"
      ]
     },
     "execution_count": 324,
     "metadata": {},
     "output_type": "execute_result"
    }
   ],
   "source": [
    "# random forest\n",
    "# train data: df_study\n",
    "# target: binned_msfc3\n",
    "# validation: 10_fold cross validation\n",
    "\n",
    "from sklearn.ensemble import RandomForestClassifier\n",
    "from sklearn.cross_validation import cross_val_score\n",
    "from sklearn.grid_search import GridSearchCV\n",
    "from sklearn.metrics import confusion_matrix, accuracy_score\n",
    "# train and fit the model\n",
    "clf = RandomForestClassifier(random_state = 42) \n",
    "param_grid = {'n_estimators': np.arange(5,100,5)}\n",
    "grid_clf = GridSearchCV(clf, param_grid = param_grid, cv=10)\n",
    "grid_clf.fit(x_study, y_study)\n",
    "# get the parameters\n",
    "grid_clf.best_score_\n",
    "grid_clf.best_params_\n",
    "grid_clf.grid_scores_\n",
    "# get the confusion matrix and accuracy_score\n",
    "rf = grid_clf.best_estimator_\n",
    "preds = rf.predict(x_study)\n",
    "confusion_matrix(preds, y_study)\n",
    "accuracy_score(preds, y_study)\n",
    "# get the 20 first important features\n",
    "l = rf.feature_importances_\n",
    "df = pd.DataFrame()\n",
    "df['feature'] = list(x_study.columns)\n",
    "df['importance'] = l\n",
    "df.sort('importance', ascending = False).head(20)\n",
    "# store the result\n",
    "best_accuracy_score.append(grid_clf.best_score_)\n",
    "best_num_of_estimator.append(grid_clf.best_params_['n_estimators'])\n",
    "train_data.append('FeatureStudy')\n",
    "target.append('msfc3_level')\n",
    "num_of_samples.append(len(y_study))\n",
    "num_of_features.append(x_study.shape[1])\n",
    "accuracy_of_best_model_on_whole_data.append(accuracy_score(preds, y_study))"
   ]
  },
  {
   "cell_type": "code",
   "execution_count": 325,
   "metadata": {
    "collapsed": false
   },
   "outputs": [
    {
     "name": "stderr",
     "output_type": "stream",
     "text": [
      "/opt/python3/lib/python3.5/site-packages/sklearn/cross_validation.py:516: Warning: The least populated class in y has only 2 members, which is too few. The minimum number of labels for any class cannot be less than n_folds=10.\n",
      "  % (min_labels, self.n_folds)), Warning)\n"
     ]
    },
    {
     "data": {
      "text/plain": [
       "GridSearchCV(cv=10, error_score='raise',\n",
       "       estimator=RandomForestClassifier(bootstrap=True, class_weight=None, criterion='gini',\n",
       "            max_depth=None, max_features='auto', max_leaf_nodes=None,\n",
       "            min_samples_leaf=1, min_samples_split=2,\n",
       "            min_weight_fraction_leaf=0.0, n_estimators=10, n_jobs=1,\n",
       "            oob_score=False, random_state=42, verbose=0, warm_start=False),\n",
       "       fit_params={}, iid=True, n_jobs=1,\n",
       "       param_grid={'n_estimators': array([ 5, 10, 15, 20, 25, 30, 35, 40, 45, 50, 55, 60, 65, 70, 75, 80, 85,\n",
       "       90, 95])},\n",
       "       pre_dispatch='2*n_jobs', refit=True, scoring=None, verbose=0)"
      ]
     },
     "execution_count": 325,
     "metadata": {},
     "output_type": "execute_result"
    },
    {
     "data": {
      "text/plain": [
       "0.75"
      ]
     },
     "execution_count": 325,
     "metadata": {},
     "output_type": "execute_result"
    },
    {
     "data": {
      "text/plain": [
       "{'n_estimators': 10}"
      ]
     },
     "execution_count": 325,
     "metadata": {},
     "output_type": "execute_result"
    },
    {
     "data": {
      "text/plain": [
       "[mean: 0.70000, std: 0.25941, params: {'n_estimators': 5},\n",
       " mean: 0.75000, std: 0.20817, params: {'n_estimators': 10},\n",
       " mean: 0.75000, std: 0.20817, params: {'n_estimators': 15},\n",
       " mean: 0.75000, std: 0.20817, params: {'n_estimators': 20},\n",
       " mean: 0.75000, std: 0.20817, params: {'n_estimators': 25},\n",
       " mean: 0.75000, std: 0.20817, params: {'n_estimators': 30},\n",
       " mean: 0.75000, std: 0.20817, params: {'n_estimators': 35},\n",
       " mean: 0.75000, std: 0.20817, params: {'n_estimators': 40},\n",
       " mean: 0.75000, std: 0.20817, params: {'n_estimators': 45},\n",
       " mean: 0.75000, std: 0.20817, params: {'n_estimators': 50},\n",
       " mean: 0.75000, std: 0.20817, params: {'n_estimators': 55},\n",
       " mean: 0.75000, std: 0.20817, params: {'n_estimators': 60},\n",
       " mean: 0.75000, std: 0.20817, params: {'n_estimators': 65},\n",
       " mean: 0.75000, std: 0.20817, params: {'n_estimators': 70},\n",
       " mean: 0.75000, std: 0.20817, params: {'n_estimators': 75},\n",
       " mean: 0.75000, std: 0.20817, params: {'n_estimators': 80},\n",
       " mean: 0.75000, std: 0.20817, params: {'n_estimators': 85},\n",
       " mean: 0.75000, std: 0.20817, params: {'n_estimators': 90},\n",
       " mean: 0.75000, std: 0.20817, params: {'n_estimators': 95}]"
      ]
     },
     "execution_count": 325,
     "metadata": {},
     "output_type": "execute_result"
    },
    {
     "data": {
      "text/plain": [
       "array([[ 1,  0,  0],\n",
       "       [ 0,  3,  0],\n",
       "       [ 1,  0, 15]])"
      ]
     },
     "execution_count": 325,
     "metadata": {},
     "output_type": "execute_result"
    },
    {
     "data": {
      "text/plain": [
       "0.94999999999999996"
      ]
     },
     "execution_count": 325,
     "metadata": {},
     "output_type": "execute_result"
    },
    {
     "name": "stderr",
     "output_type": "stream",
     "text": [
      "/opt/python3/lib/python3.5/site-packages/ipykernel/__main__.py:26: FutureWarning: sort(columns=....) is deprecated, use sort_values(by=.....)\n"
     ]
    },
    {
     "data": {
      "text/html": [
       "<div>\n",
       "<table border=\"1\" class=\"dataframe\">\n",
       "  <thead>\n",
       "    <tr style=\"text-align: right;\">\n",
       "      <th></th>\n",
       "      <th>feature</th>\n",
       "      <th>importance</th>\n",
       "    </tr>\n",
       "  </thead>\n",
       "  <tbody>\n",
       "    <tr>\n",
       "      <th>920</th>\n",
       "      <td>turn_vel_std_day_44</td>\n",
       "      <td>0.100000</td>\n",
       "    </tr>\n",
       "    <tr>\n",
       "      <th>1103</th>\n",
       "      <td>mean_pvt_delay_7_at_home_day_4</td>\n",
       "      <td>0.100000</td>\n",
       "    </tr>\n",
       "    <tr>\n",
       "      <th>679</th>\n",
       "      <td>turn_vel_max_ankle_day_58</td>\n",
       "      <td>0.079747</td>\n",
       "    </tr>\n",
       "    <tr>\n",
       "      <th>657</th>\n",
       "      <td>idle_minutes_day_28</td>\n",
       "      <td>0.076266</td>\n",
       "    </tr>\n",
       "    <tr>\n",
       "      <th>675</th>\n",
       "      <td>turn_duration_ankle_day_31</td>\n",
       "      <td>0.072973</td>\n",
       "    </tr>\n",
       "    <tr>\n",
       "      <th>645</th>\n",
       "      <td>turn_angle_ankle_day_1</td>\n",
       "      <td>0.071905</td>\n",
       "    </tr>\n",
       "    <tr>\n",
       "      <th>646</th>\n",
       "      <td>stance_day_61</td>\n",
       "      <td>0.064286</td>\n",
       "    </tr>\n",
       "    <tr>\n",
       "      <th>343</th>\n",
       "      <td>turn_vel_mean_ankle_day_8</td>\n",
       "      <td>0.059270</td>\n",
       "    </tr>\n",
       "    <tr>\n",
       "      <th>1756</th>\n",
       "      <td>hourly_temp_range_at_home_day_58</td>\n",
       "      <td>0.056427</td>\n",
       "    </tr>\n",
       "    <tr>\n",
       "      <th>1367</th>\n",
       "      <td>mean_pvt_delay_7_at_home_day_26</td>\n",
       "      <td>0.043905</td>\n",
       "    </tr>\n",
       "    <tr>\n",
       "      <th>812</th>\n",
       "      <td>turn_duration_ankle_day_24</td>\n",
       "      <td>0.043573</td>\n",
       "    </tr>\n",
       "    <tr>\n",
       "      <th>569</th>\n",
       "      <td>idle_minutes_day_17</td>\n",
       "      <td>0.035714</td>\n",
       "    </tr>\n",
       "    <tr>\n",
       "      <th>1672</th>\n",
       "      <td>hourly_temp_range_at_home_day_51</td>\n",
       "      <td>0.032794</td>\n",
       "    </tr>\n",
       "    <tr>\n",
       "      <th>1529</th>\n",
       "      <td>hourly_amb_temp_median_at_home_day_39</td>\n",
       "      <td>0.028095</td>\n",
       "    </tr>\n",
       "    <tr>\n",
       "      <th>916</th>\n",
       "      <td>turn_vel_mean_ankle_day_58</td>\n",
       "      <td>0.027027</td>\n",
       "    </tr>\n",
       "    <tr>\n",
       "      <th>1366</th>\n",
       "      <td>mean_pvt_delay_5_at_home_day_26</td>\n",
       "      <td>0.023734</td>\n",
       "    </tr>\n",
       "    <tr>\n",
       "      <th>1793</th>\n",
       "      <td>hourly_amb_temp_median_at_home_day_61</td>\n",
       "      <td>0.023301</td>\n",
       "    </tr>\n",
       "    <tr>\n",
       "      <th>1142</th>\n",
       "      <td>hourly_temp_median_at_home_day_7</td>\n",
       "      <td>0.020974</td>\n",
       "    </tr>\n",
       "    <tr>\n",
       "      <th>1415</th>\n",
       "      <td>mean_pvt_delay_7_at_home_day_30</td>\n",
       "      <td>0.020253</td>\n",
       "    </tr>\n",
       "    <tr>\n",
       "      <th>513</th>\n",
       "      <td>swing_day_55</td>\n",
       "      <td>0.019757</td>\n",
       "    </tr>\n",
       "  </tbody>\n",
       "</table>\n",
       "</div>"
      ],
      "text/plain": [
       "                                    feature  importance\n",
       "920                     turn_vel_std_day_44    0.100000\n",
       "1103         mean_pvt_delay_7_at_home_day_4    0.100000\n",
       "679               turn_vel_max_ankle_day_58    0.079747\n",
       "657                     idle_minutes_day_28    0.076266\n",
       "675              turn_duration_ankle_day_31    0.072973\n",
       "645                  turn_angle_ankle_day_1    0.071905\n",
       "646                           stance_day_61    0.064286\n",
       "343               turn_vel_mean_ankle_day_8    0.059270\n",
       "1756       hourly_temp_range_at_home_day_58    0.056427\n",
       "1367        mean_pvt_delay_7_at_home_day_26    0.043905\n",
       "812              turn_duration_ankle_day_24    0.043573\n",
       "569                     idle_minutes_day_17    0.035714\n",
       "1672       hourly_temp_range_at_home_day_51    0.032794\n",
       "1529  hourly_amb_temp_median_at_home_day_39    0.028095\n",
       "916              turn_vel_mean_ankle_day_58    0.027027\n",
       "1366        mean_pvt_delay_5_at_home_day_26    0.023734\n",
       "1793  hourly_amb_temp_median_at_home_day_61    0.023301\n",
       "1142       hourly_temp_median_at_home_day_7    0.020974\n",
       "1415        mean_pvt_delay_7_at_home_day_30    0.020253\n",
       "513                            swing_day_55    0.019757"
      ]
     },
     "execution_count": 325,
     "metadata": {},
     "output_type": "execute_result"
    }
   ],
   "source": [
    "# random forest\n",
    "# train data: df_day\n",
    "# target: binned_msfc3\n",
    "# validation: 10-fold cross validation\n",
    "\n",
    "from sklearn.ensemble import RandomForestClassifier\n",
    "from sklearn.cross_validation import cross_val_score\n",
    "from sklearn.grid_search import GridSearchCV\n",
    "from sklearn.metrics import confusion_matrix, accuracy_score\n",
    "# train and fit the model\n",
    "clf = RandomForestClassifier(random_state = 42) \n",
    "param_grid = {'n_estimators': np.arange(5,100,5)}\n",
    "grid_clf = GridSearchCV(clf, param_grid = param_grid, cv=10)\n",
    "grid_clf.fit(x_day, y_day)\n",
    "# get the parameters\n",
    "grid_clf.best_score_\n",
    "grid_clf.best_params_\n",
    "grid_clf.grid_scores_\n",
    "# get the confusion matrix and accuracy_score\n",
    "rf = grid_clf.best_estimator_\n",
    "preds = rf.predict(x_day)\n",
    "confusion_matrix(preds, y_day)\n",
    "accuracy_score(preds, y_day)\n",
    "# get the 20 first important features\n",
    "l = rf.feature_importances_\n",
    "df = pd.DataFrame()\n",
    "df['feature'] = list(x_day.columns)\n",
    "df['importance'] = l\n",
    "df.sort('importance', ascending = False).head(20)\n",
    "# store the result\n",
    "best_accuracy_score.append(grid_clf.best_score_)\n",
    "best_num_of_estimator.append(grid_clf.best_params_['n_estimators'])\n",
    "train_data.append('FeatureDay')\n",
    "target.append('msfc3_level')\n",
    "num_of_samples.append(len(y_day))\n",
    "num_of_features.append(x_day.shape[1])\n",
    "accuracy_of_best_model_on_whole_data.append(accuracy_score(preds, y_day))"
   ]
  },
  {
   "cell_type": "code",
   "execution_count": 326,
   "metadata": {
    "collapsed": false
   },
   "outputs": [
    {
     "data": {
      "text/html": [
       "<div>\n",
       "<table border=\"1\" class=\"dataframe\">\n",
       "  <thead>\n",
       "    <tr style=\"text-align: right;\">\n",
       "      <th></th>\n",
       "      <th>train_data</th>\n",
       "      <th>target</th>\n",
       "      <th>num_of_samples</th>\n",
       "      <th>num_of_features</th>\n",
       "      <th>best_num_of_estimator</th>\n",
       "      <th>mean_accuracy_score</th>\n",
       "      <th>accuracy_on_whole_data</th>\n",
       "    </tr>\n",
       "  </thead>\n",
       "  <tbody>\n",
       "    <tr>\n",
       "      <th>0</th>\n",
       "      <td>FeatureStudy</td>\n",
       "      <td>msfc3_level</td>\n",
       "      <td>22</td>\n",
       "      <td>62</td>\n",
       "      <td>20</td>\n",
       "      <td>0.863636</td>\n",
       "      <td>1.00</td>\n",
       "    </tr>\n",
       "    <tr>\n",
       "      <th>1</th>\n",
       "      <td>FeatureDay</td>\n",
       "      <td>msfc3_level</td>\n",
       "      <td>20</td>\n",
       "      <td>1828</td>\n",
       "      <td>10</td>\n",
       "      <td>0.750000</td>\n",
       "      <td>0.95</td>\n",
       "    </tr>\n",
       "  </tbody>\n",
       "</table>\n",
       "</div>"
      ],
      "text/plain": [
       "     train_data       target  num_of_samples  num_of_features  \\\n",
       "0  FeatureStudy  msfc3_level              22               62   \n",
       "1    FeatureDay  msfc3_level              20             1828   \n",
       "\n",
       "   best_num_of_estimator  mean_accuracy_score  accuracy_on_whole_data  \n",
       "0                     20             0.863636                    1.00  \n",
       "1                     10             0.750000                    0.95  "
      ]
     },
     "execution_count": 326,
     "metadata": {},
     "output_type": "execute_result"
    }
   ],
   "source": [
    "# fill summary dataframe\n",
    "summary_1['train_data'] = train_data\n",
    "summary_1['target'] = target\n",
    "summary_1['num_of_samples'] = num_of_samples\n",
    "summary_1['num_of_features'] = num_of_features\n",
    "summary_1['best_num_of_estimator'] = best_num_of_estimator\n",
    "summary_1['mean_accuracy_score'] = best_accuracy_score\n",
    "summary_1['accuracy_on_whole_data'] = accuracy_of_best_model_on_whole_data\n",
    "summary_1"
   ]
  },
  {
   "cell_type": "code",
   "execution_count": 327,
   "metadata": {
    "collapsed": true
   },
   "outputs": [],
   "source": [
    "# PCA transformation"
   ]
  },
  {
   "cell_type": "code",
   "execution_count": 328,
   "metadata": {
    "collapsed": true
   },
   "outputs": [],
   "source": [
    "# normalize the data\n",
    "# normalizing each feaure values in datasets based on the columns\n",
    "x_study_normalized = (x_study - x_study.mean()) / (x_study.max() - x_study.min())\n",
    "x_day_normalized = (x_day - x_day.mean()) / (x_day.max() - x_day.min())"
   ]
  },
  {
   "cell_type": "code",
   "execution_count": 329,
   "metadata": {
    "collapsed": true
   },
   "outputs": [],
   "source": [
    "# summerize the results in a dataframe\n",
    "summary_2 = pd.DataFrame()\n",
    "best_accuracy_score = []\n",
    "num_of_estimators = []\n",
    "train_data = []\n",
    "target = []\n",
    "num_of_samples = []\n",
    "best_num_of_PCAs = []\n",
    "accuracy_of_best_model_on_whole_data = []"
   ]
  },
  {
   "cell_type": "code",
   "execution_count": 330,
   "metadata": {
    "collapsed": false,
    "scrolled": true
   },
   "outputs": [
    {
     "data": {
      "text/plain": [
       "PCA(copy=True, n_components=1, whiten=False)"
      ]
     },
     "execution_count": 330,
     "metadata": {},
     "output_type": "execute_result"
    },
    {
     "name": "stderr",
     "output_type": "stream",
     "text": [
      "/opt/python3/lib/python3.5/site-packages/sklearn/cross_validation.py:516: Warning: The least populated class in y has only 2 members, which is too few. The minimum number of labels for any class cannot be less than n_folds=10.\n",
      "  % (min_labels, self.n_folds)), Warning)\n"
     ]
    },
    {
     "data": {
      "text/plain": [
       "PCA(copy=True, n_components=2, whiten=False)"
      ]
     },
     "execution_count": 330,
     "metadata": {},
     "output_type": "execute_result"
    },
    {
     "name": "stderr",
     "output_type": "stream",
     "text": [
      "/opt/python3/lib/python3.5/site-packages/sklearn/cross_validation.py:516: Warning: The least populated class in y has only 2 members, which is too few. The minimum number of labels for any class cannot be less than n_folds=10.\n",
      "  % (min_labels, self.n_folds)), Warning)\n"
     ]
    },
    {
     "data": {
      "text/plain": [
       "PCA(copy=True, n_components=3, whiten=False)"
      ]
     },
     "execution_count": 330,
     "metadata": {},
     "output_type": "execute_result"
    },
    {
     "name": "stderr",
     "output_type": "stream",
     "text": [
      "/opt/python3/lib/python3.5/site-packages/sklearn/cross_validation.py:516: Warning: The least populated class in y has only 2 members, which is too few. The minimum number of labels for any class cannot be less than n_folds=10.\n",
      "  % (min_labels, self.n_folds)), Warning)\n"
     ]
    },
    {
     "data": {
      "text/plain": [
       "PCA(copy=True, n_components=4, whiten=False)"
      ]
     },
     "execution_count": 330,
     "metadata": {},
     "output_type": "execute_result"
    },
    {
     "name": "stderr",
     "output_type": "stream",
     "text": [
      "/opt/python3/lib/python3.5/site-packages/sklearn/cross_validation.py:516: Warning: The least populated class in y has only 2 members, which is too few. The minimum number of labels for any class cannot be less than n_folds=10.\n",
      "  % (min_labels, self.n_folds)), Warning)\n"
     ]
    },
    {
     "data": {
      "text/plain": [
       "PCA(copy=True, n_components=5, whiten=False)"
      ]
     },
     "execution_count": 330,
     "metadata": {},
     "output_type": "execute_result"
    },
    {
     "name": "stderr",
     "output_type": "stream",
     "text": [
      "/opt/python3/lib/python3.5/site-packages/sklearn/cross_validation.py:516: Warning: The least populated class in y has only 2 members, which is too few. The minimum number of labels for any class cannot be less than n_folds=10.\n",
      "  % (min_labels, self.n_folds)), Warning)\n"
     ]
    },
    {
     "data": {
      "text/plain": [
       "PCA(copy=True, n_components=6, whiten=False)"
      ]
     },
     "execution_count": 330,
     "metadata": {},
     "output_type": "execute_result"
    },
    {
     "name": "stderr",
     "output_type": "stream",
     "text": [
      "/opt/python3/lib/python3.5/site-packages/sklearn/cross_validation.py:516: Warning: The least populated class in y has only 2 members, which is too few. The minimum number of labels for any class cannot be less than n_folds=10.\n",
      "  % (min_labels, self.n_folds)), Warning)\n"
     ]
    },
    {
     "data": {
      "text/plain": [
       "PCA(copy=True, n_components=7, whiten=False)"
      ]
     },
     "execution_count": 330,
     "metadata": {},
     "output_type": "execute_result"
    },
    {
     "name": "stderr",
     "output_type": "stream",
     "text": [
      "/opt/python3/lib/python3.5/site-packages/sklearn/cross_validation.py:516: Warning: The least populated class in y has only 2 members, which is too few. The minimum number of labels for any class cannot be less than n_folds=10.\n",
      "  % (min_labels, self.n_folds)), Warning)\n"
     ]
    },
    {
     "data": {
      "text/plain": [
       "PCA(copy=True, n_components=8, whiten=False)"
      ]
     },
     "execution_count": 330,
     "metadata": {},
     "output_type": "execute_result"
    },
    {
     "name": "stderr",
     "output_type": "stream",
     "text": [
      "/opt/python3/lib/python3.5/site-packages/sklearn/cross_validation.py:516: Warning: The least populated class in y has only 2 members, which is too few. The minimum number of labels for any class cannot be less than n_folds=10.\n",
      "  % (min_labels, self.n_folds)), Warning)\n"
     ]
    },
    {
     "data": {
      "text/plain": [
       "PCA(copy=True, n_components=9, whiten=False)"
      ]
     },
     "execution_count": 330,
     "metadata": {},
     "output_type": "execute_result"
    },
    {
     "name": "stderr",
     "output_type": "stream",
     "text": [
      "/opt/python3/lib/python3.5/site-packages/sklearn/cross_validation.py:516: Warning: The least populated class in y has only 2 members, which is too few. The minimum number of labels for any class cannot be less than n_folds=10.\n",
      "  % (min_labels, self.n_folds)), Warning)\n"
     ]
    },
    {
     "data": {
      "text/plain": [
       "PCA(copy=True, n_components=10, whiten=False)"
      ]
     },
     "execution_count": 330,
     "metadata": {},
     "output_type": "execute_result"
    },
    {
     "name": "stderr",
     "output_type": "stream",
     "text": [
      "/opt/python3/lib/python3.5/site-packages/sklearn/cross_validation.py:516: Warning: The least populated class in y has only 2 members, which is too few. The minimum number of labels for any class cannot be less than n_folds=10.\n",
      "  % (min_labels, self.n_folds)), Warning)\n"
     ]
    },
    {
     "data": {
      "text/plain": [
       "PCA(copy=True, n_components=11, whiten=False)"
      ]
     },
     "execution_count": 330,
     "metadata": {},
     "output_type": "execute_result"
    },
    {
     "name": "stderr",
     "output_type": "stream",
     "text": [
      "/opt/python3/lib/python3.5/site-packages/sklearn/cross_validation.py:516: Warning: The least populated class in y has only 2 members, which is too few. The minimum number of labels for any class cannot be less than n_folds=10.\n",
      "  % (min_labels, self.n_folds)), Warning)\n"
     ]
    },
    {
     "data": {
      "text/plain": [
       "PCA(copy=True, n_components=12, whiten=False)"
      ]
     },
     "execution_count": 330,
     "metadata": {},
     "output_type": "execute_result"
    },
    {
     "name": "stderr",
     "output_type": "stream",
     "text": [
      "/opt/python3/lib/python3.5/site-packages/sklearn/cross_validation.py:516: Warning: The least populated class in y has only 2 members, which is too few. The minimum number of labels for any class cannot be less than n_folds=10.\n",
      "  % (min_labels, self.n_folds)), Warning)\n"
     ]
    },
    {
     "data": {
      "text/plain": [
       "PCA(copy=True, n_components=13, whiten=False)"
      ]
     },
     "execution_count": 330,
     "metadata": {},
     "output_type": "execute_result"
    },
    {
     "name": "stderr",
     "output_type": "stream",
     "text": [
      "/opt/python3/lib/python3.5/site-packages/sklearn/cross_validation.py:516: Warning: The least populated class in y has only 2 members, which is too few. The minimum number of labels for any class cannot be less than n_folds=10.\n",
      "  % (min_labels, self.n_folds)), Warning)\n"
     ]
    },
    {
     "data": {
      "text/plain": [
       "PCA(copy=True, n_components=14, whiten=False)"
      ]
     },
     "execution_count": 330,
     "metadata": {},
     "output_type": "execute_result"
    },
    {
     "name": "stderr",
     "output_type": "stream",
     "text": [
      "/opt/python3/lib/python3.5/site-packages/sklearn/cross_validation.py:516: Warning: The least populated class in y has only 2 members, which is too few. The minimum number of labels for any class cannot be less than n_folds=10.\n",
      "  % (min_labels, self.n_folds)), Warning)\n"
     ]
    },
    {
     "data": {
      "text/plain": [
       "PCA(copy=True, n_components=15, whiten=False)"
      ]
     },
     "execution_count": 330,
     "metadata": {},
     "output_type": "execute_result"
    },
    {
     "name": "stderr",
     "output_type": "stream",
     "text": [
      "/opt/python3/lib/python3.5/site-packages/sklearn/cross_validation.py:516: Warning: The least populated class in y has only 2 members, which is too few. The minimum number of labels for any class cannot be less than n_folds=10.\n",
      "  % (min_labels, self.n_folds)), Warning)\n"
     ]
    },
    {
     "data": {
      "text/plain": [
       "PCA(copy=True, n_components=16, whiten=False)"
      ]
     },
     "execution_count": 330,
     "metadata": {},
     "output_type": "execute_result"
    },
    {
     "name": "stderr",
     "output_type": "stream",
     "text": [
      "/opt/python3/lib/python3.5/site-packages/sklearn/cross_validation.py:516: Warning: The least populated class in y has only 2 members, which is too few. The minimum number of labels for any class cannot be less than n_folds=10.\n",
      "  % (min_labels, self.n_folds)), Warning)\n"
     ]
    },
    {
     "data": {
      "text/plain": [
       "PCA(copy=True, n_components=17, whiten=False)"
      ]
     },
     "execution_count": 330,
     "metadata": {},
     "output_type": "execute_result"
    },
    {
     "name": "stderr",
     "output_type": "stream",
     "text": [
      "/opt/python3/lib/python3.5/site-packages/sklearn/cross_validation.py:516: Warning: The least populated class in y has only 2 members, which is too few. The minimum number of labels for any class cannot be less than n_folds=10.\n",
      "  % (min_labels, self.n_folds)), Warning)\n"
     ]
    },
    {
     "data": {
      "text/plain": [
       "PCA(copy=True, n_components=18, whiten=False)"
      ]
     },
     "execution_count": 330,
     "metadata": {},
     "output_type": "execute_result"
    },
    {
     "name": "stderr",
     "output_type": "stream",
     "text": [
      "/opt/python3/lib/python3.5/site-packages/sklearn/cross_validation.py:516: Warning: The least populated class in y has only 2 members, which is too few. The minimum number of labels for any class cannot be less than n_folds=10.\n",
      "  % (min_labels, self.n_folds)), Warning)\n"
     ]
    },
    {
     "data": {
      "text/plain": [
       "PCA(copy=True, n_components=19, whiten=False)"
      ]
     },
     "execution_count": 330,
     "metadata": {},
     "output_type": "execute_result"
    },
    {
     "name": "stderr",
     "output_type": "stream",
     "text": [
      "/opt/python3/lib/python3.5/site-packages/sklearn/cross_validation.py:516: Warning: The least populated class in y has only 2 members, which is too few. The minimum number of labels for any class cannot be less than n_folds=10.\n",
      "  % (min_labels, self.n_folds)), Warning)\n"
     ]
    },
    {
     "name": "stdout",
     "output_type": "stream",
     "text": [
      "0.883333333333\n",
      "2\n"
     ]
    }
   ],
   "source": [
    "# random forest\n",
    "# train data: df_study, pca transformation\n",
    "# target: binned_msfc3\n",
    "# validation: 10_fold cross validation\n",
    "# see how the number of PCs can change the accuracy of transformation\n",
    "\n",
    "n_estimators = 20\n",
    "k = 10\n",
    "from sklearn.metrics import confusion_matrix, accuracy_score, classification_report\n",
    "from sklearn.cross_validation import KFold\n",
    "from sklearn.ensemble import RandomForestClassifier\n",
    "from sklearn.decomposition import PCA\n",
    "accuracy = []\n",
    "# use various number of PCs\n",
    "for pc_num in np.arange(1,20,1):\n",
    "    # PCA transformation\n",
    "    pca = PCA(n_components=pc_num)\n",
    "    pca.fit(x_study_normalized)\n",
    "    x_study_pca = pca.transform(x_study_normalized)\n",
    "    # put the transformed data to a dataframe\n",
    "    df_study_pca = pd.DataFrame(x_study_pca)\n",
    "    # fit the model and do cross validation using PCA transformed dataset\n",
    "    clf = RandomForestClassifier(n_estimators=n_estimators, random_state = 42) #fix the number of estimators the best \n",
    "    accuracy.append(np.mean(cross_val_score(clf, df_study_pca, y_study, cv=k))) \n",
    "# max accuracy? what number of PCAs?\n",
    "max_acc = accuracy[np.argmax(accuracy)]\n",
    "best_num_of_PCA = np.arange(1,20,1)[np.argmax(accuracy)]\n",
    "# print out the results\n",
    "print(max_acc)\n",
    "print(best_num_of_PCA)\n",
    "# store the result\n",
    "best_accuracy_score.append(max_acc)\n",
    "best_num_of_PCAs.append(best_num_of_PCA)\n",
    "train_data.append('FeatureStudy_PCA_transformed')\n",
    "target.append('msfc3_level')\n",
    "num_of_samples.append(len(y_study))\n",
    "num_of_estimators.append(n_estimators)"
   ]
  },
  {
   "cell_type": "code",
   "execution_count": 331,
   "metadata": {
    "collapsed": false
   },
   "outputs": [
    {
     "data": {
      "text/plain": [
       "PCA(copy=True, n_components=2, whiten=False)"
      ]
     },
     "execution_count": 331,
     "metadata": {},
     "output_type": "execute_result"
    },
    {
     "data": {
      "text/html": [
       "<div>\n",
       "<table border=\"1\" class=\"dataframe\">\n",
       "  <thead>\n",
       "    <tr style=\"text-align: right;\">\n",
       "      <th></th>\n",
       "      <th>Explained Variance</th>\n",
       "    </tr>\n",
       "  </thead>\n",
       "  <tbody>\n",
       "    <tr>\n",
       "      <th>1</th>\n",
       "      <td>0.870880</td>\n",
       "    </tr>\n",
       "    <tr>\n",
       "      <th>2</th>\n",
       "      <td>0.466023</td>\n",
       "    </tr>\n",
       "  </tbody>\n",
       "</table>\n",
       "</div>"
      ],
      "text/plain": [
       "   Explained Variance\n",
       "1            0.870880\n",
       "2            0.466023"
      ]
     },
     "execution_count": 331,
     "metadata": {},
     "output_type": "execute_result"
    },
    {
     "name": "stderr",
     "output_type": "stream",
     "text": [
      "/opt/python3/lib/python3.5/site-packages/sklearn/cross_validation.py:516: Warning: The least populated class in y has only 2 members, which is too few. The minimum number of labels for any class cannot be less than n_folds=10.\n",
      "  % (min_labels, self.n_folds)), Warning)\n"
     ]
    },
    {
     "data": {
      "text/plain": [
       "GridSearchCV(cv=10, error_score='raise',\n",
       "       estimator=RandomForestClassifier(bootstrap=True, class_weight=None, criterion='gini',\n",
       "            max_depth=None, max_features='auto', max_leaf_nodes=None,\n",
       "            min_samples_leaf=1, min_samples_split=2,\n",
       "            min_weight_fraction_leaf=0.0, n_estimators=10, n_jobs=1,\n",
       "            oob_score=False, random_state=42, verbose=0, warm_start=False),\n",
       "       fit_params={}, iid=True, n_jobs=1,\n",
       "       param_grid={'n_estimators': [20]}, pre_dispatch='2*n_jobs',\n",
       "       refit=True, scoring=None, verbose=0)"
      ]
     },
     "execution_count": 331,
     "metadata": {},
     "output_type": "execute_result"
    },
    {
     "data": {
      "text/plain": [
       "1.0"
      ]
     },
     "execution_count": 331,
     "metadata": {},
     "output_type": "execute_result"
    },
    {
     "data": {
      "text/plain": [
       "array([[ 2,  0,  0],\n",
       "       [ 0,  4,  0],\n",
       "       [ 0,  0, 16]])"
      ]
     },
     "execution_count": 331,
     "metadata": {},
     "output_type": "execute_result"
    }
   ],
   "source": [
    "# random forest\n",
    "# train data: df_study, pca transformation\n",
    "# target: binned_msfc3\n",
    "# validation: 10-fold cross validation\n",
    "# what is the best model accuracy on the whole dataset?\n",
    "\n",
    "from sklearn.metrics import confusion_matrix, accuracy_score, classification_report\n",
    "from sklearn.cross_validation import KFold\n",
    "from sklearn.ensemble import RandomForestClassifier\n",
    "from sklearn.decomposition import PCA\n",
    "pc_num = 2\n",
    "estimator_num = 20\n",
    "k = 10\n",
    "# PCA transformation\n",
    "pca = PCA(n_components=pc_num)\n",
    "pca.fit(x_study_normalized)\n",
    "x_study_pca = pca.transform(x_study_normalized)\n",
    "# variance explained by each PCA\n",
    "explained_var = list(pca.explained_variance_)\n",
    "PCA_list = np.arange(1, pc_num + 1)\n",
    "df_explained_var = pd.DataFrame(explained_var,index=PCA_list,columns=['Explained Variance'])\n",
    "df_explained_var\n",
    "# put the transformed data to a dataframe\n",
    "df_study_pca = pd.DataFrame(x_study_pca)\n",
    "# fit the model and do cross validation using PCA transformed dataset\n",
    "clf = RandomForestClassifier(random_state = 42) \n",
    "param_grid = {'n_estimators': [estimator_num]}\n",
    "grid_clf = GridSearchCV(clf, param_grid = param_grid, cv=k)\n",
    "grid_clf.fit(df_study_pca, y_study)\n",
    "# try the model on the whole dataset\n",
    "preds = grid_clf.best_estimator_.predict(df_study_pca)\n",
    "accuracy_score(y_study, preds)\n",
    "confusion_matrix(y_study, preds)\n",
    "# store the result\n",
    "accuracy_of_best_model_on_whole_data.append(accuracy_score(y_study, preds))"
   ]
  },
  {
   "cell_type": "code",
   "execution_count": 332,
   "metadata": {
    "collapsed": false,
    "scrolled": true
   },
   "outputs": [
    {
     "data": {
      "text/plain": [
       "PCA(copy=True, n_components=1, whiten=False)"
      ]
     },
     "execution_count": 332,
     "metadata": {},
     "output_type": "execute_result"
    },
    {
     "name": "stderr",
     "output_type": "stream",
     "text": [
      "/opt/python3/lib/python3.5/site-packages/sklearn/cross_validation.py:516: Warning: The least populated class in y has only 2 members, which is too few. The minimum number of labels for any class cannot be less than n_folds=10.\n",
      "  % (min_labels, self.n_folds)), Warning)\n"
     ]
    },
    {
     "data": {
      "text/plain": [
       "PCA(copy=True, n_components=2, whiten=False)"
      ]
     },
     "execution_count": 332,
     "metadata": {},
     "output_type": "execute_result"
    },
    {
     "name": "stderr",
     "output_type": "stream",
     "text": [
      "/opt/python3/lib/python3.5/site-packages/sklearn/cross_validation.py:516: Warning: The least populated class in y has only 2 members, which is too few. The minimum number of labels for any class cannot be less than n_folds=10.\n",
      "  % (min_labels, self.n_folds)), Warning)\n"
     ]
    },
    {
     "data": {
      "text/plain": [
       "PCA(copy=True, n_components=3, whiten=False)"
      ]
     },
     "execution_count": 332,
     "metadata": {},
     "output_type": "execute_result"
    },
    {
     "name": "stderr",
     "output_type": "stream",
     "text": [
      "/opt/python3/lib/python3.5/site-packages/sklearn/cross_validation.py:516: Warning: The least populated class in y has only 2 members, which is too few. The minimum number of labels for any class cannot be less than n_folds=10.\n",
      "  % (min_labels, self.n_folds)), Warning)\n"
     ]
    },
    {
     "data": {
      "text/plain": [
       "PCA(copy=True, n_components=4, whiten=False)"
      ]
     },
     "execution_count": 332,
     "metadata": {},
     "output_type": "execute_result"
    },
    {
     "name": "stderr",
     "output_type": "stream",
     "text": [
      "/opt/python3/lib/python3.5/site-packages/sklearn/cross_validation.py:516: Warning: The least populated class in y has only 2 members, which is too few. The minimum number of labels for any class cannot be less than n_folds=10.\n",
      "  % (min_labels, self.n_folds)), Warning)\n"
     ]
    },
    {
     "data": {
      "text/plain": [
       "PCA(copy=True, n_components=5, whiten=False)"
      ]
     },
     "execution_count": 332,
     "metadata": {},
     "output_type": "execute_result"
    },
    {
     "name": "stderr",
     "output_type": "stream",
     "text": [
      "/opt/python3/lib/python3.5/site-packages/sklearn/cross_validation.py:516: Warning: The least populated class in y has only 2 members, which is too few. The minimum number of labels for any class cannot be less than n_folds=10.\n",
      "  % (min_labels, self.n_folds)), Warning)\n"
     ]
    },
    {
     "data": {
      "text/plain": [
       "PCA(copy=True, n_components=6, whiten=False)"
      ]
     },
     "execution_count": 332,
     "metadata": {},
     "output_type": "execute_result"
    },
    {
     "name": "stderr",
     "output_type": "stream",
     "text": [
      "/opt/python3/lib/python3.5/site-packages/sklearn/cross_validation.py:516: Warning: The least populated class in y has only 2 members, which is too few. The minimum number of labels for any class cannot be less than n_folds=10.\n",
      "  % (min_labels, self.n_folds)), Warning)\n"
     ]
    },
    {
     "data": {
      "text/plain": [
       "PCA(copy=True, n_components=7, whiten=False)"
      ]
     },
     "execution_count": 332,
     "metadata": {},
     "output_type": "execute_result"
    },
    {
     "name": "stderr",
     "output_type": "stream",
     "text": [
      "/opt/python3/lib/python3.5/site-packages/sklearn/cross_validation.py:516: Warning: The least populated class in y has only 2 members, which is too few. The minimum number of labels for any class cannot be less than n_folds=10.\n",
      "  % (min_labels, self.n_folds)), Warning)\n"
     ]
    },
    {
     "data": {
      "text/plain": [
       "PCA(copy=True, n_components=8, whiten=False)"
      ]
     },
     "execution_count": 332,
     "metadata": {},
     "output_type": "execute_result"
    },
    {
     "name": "stderr",
     "output_type": "stream",
     "text": [
      "/opt/python3/lib/python3.5/site-packages/sklearn/cross_validation.py:516: Warning: The least populated class in y has only 2 members, which is too few. The minimum number of labels for any class cannot be less than n_folds=10.\n",
      "  % (min_labels, self.n_folds)), Warning)\n"
     ]
    },
    {
     "data": {
      "text/plain": [
       "PCA(copy=True, n_components=9, whiten=False)"
      ]
     },
     "execution_count": 332,
     "metadata": {},
     "output_type": "execute_result"
    },
    {
     "name": "stderr",
     "output_type": "stream",
     "text": [
      "/opt/python3/lib/python3.5/site-packages/sklearn/cross_validation.py:516: Warning: The least populated class in y has only 2 members, which is too few. The minimum number of labels for any class cannot be less than n_folds=10.\n",
      "  % (min_labels, self.n_folds)), Warning)\n"
     ]
    },
    {
     "data": {
      "text/plain": [
       "PCA(copy=True, n_components=10, whiten=False)"
      ]
     },
     "execution_count": 332,
     "metadata": {},
     "output_type": "execute_result"
    },
    {
     "name": "stderr",
     "output_type": "stream",
     "text": [
      "/opt/python3/lib/python3.5/site-packages/sklearn/cross_validation.py:516: Warning: The least populated class in y has only 2 members, which is too few. The minimum number of labels for any class cannot be less than n_folds=10.\n",
      "  % (min_labels, self.n_folds)), Warning)\n"
     ]
    },
    {
     "data": {
      "text/plain": [
       "PCA(copy=True, n_components=11, whiten=False)"
      ]
     },
     "execution_count": 332,
     "metadata": {},
     "output_type": "execute_result"
    },
    {
     "name": "stderr",
     "output_type": "stream",
     "text": [
      "/opt/python3/lib/python3.5/site-packages/sklearn/cross_validation.py:516: Warning: The least populated class in y has only 2 members, which is too few. The minimum number of labels for any class cannot be less than n_folds=10.\n",
      "  % (min_labels, self.n_folds)), Warning)\n"
     ]
    },
    {
     "data": {
      "text/plain": [
       "PCA(copy=True, n_components=12, whiten=False)"
      ]
     },
     "execution_count": 332,
     "metadata": {},
     "output_type": "execute_result"
    },
    {
     "name": "stderr",
     "output_type": "stream",
     "text": [
      "/opt/python3/lib/python3.5/site-packages/sklearn/cross_validation.py:516: Warning: The least populated class in y has only 2 members, which is too few. The minimum number of labels for any class cannot be less than n_folds=10.\n",
      "  % (min_labels, self.n_folds)), Warning)\n"
     ]
    },
    {
     "data": {
      "text/plain": [
       "PCA(copy=True, n_components=13, whiten=False)"
      ]
     },
     "execution_count": 332,
     "metadata": {},
     "output_type": "execute_result"
    },
    {
     "name": "stderr",
     "output_type": "stream",
     "text": [
      "/opt/python3/lib/python3.5/site-packages/sklearn/cross_validation.py:516: Warning: The least populated class in y has only 2 members, which is too few. The minimum number of labels for any class cannot be less than n_folds=10.\n",
      "  % (min_labels, self.n_folds)), Warning)\n"
     ]
    },
    {
     "data": {
      "text/plain": [
       "PCA(copy=True, n_components=14, whiten=False)"
      ]
     },
     "execution_count": 332,
     "metadata": {},
     "output_type": "execute_result"
    },
    {
     "name": "stderr",
     "output_type": "stream",
     "text": [
      "/opt/python3/lib/python3.5/site-packages/sklearn/cross_validation.py:516: Warning: The least populated class in y has only 2 members, which is too few. The minimum number of labels for any class cannot be less than n_folds=10.\n",
      "  % (min_labels, self.n_folds)), Warning)\n"
     ]
    },
    {
     "data": {
      "text/plain": [
       "PCA(copy=True, n_components=15, whiten=False)"
      ]
     },
     "execution_count": 332,
     "metadata": {},
     "output_type": "execute_result"
    },
    {
     "name": "stderr",
     "output_type": "stream",
     "text": [
      "/opt/python3/lib/python3.5/site-packages/sklearn/cross_validation.py:516: Warning: The least populated class in y has only 2 members, which is too few. The minimum number of labels for any class cannot be less than n_folds=10.\n",
      "  % (min_labels, self.n_folds)), Warning)\n"
     ]
    },
    {
     "data": {
      "text/plain": [
       "PCA(copy=True, n_components=16, whiten=False)"
      ]
     },
     "execution_count": 332,
     "metadata": {},
     "output_type": "execute_result"
    },
    {
     "name": "stderr",
     "output_type": "stream",
     "text": [
      "/opt/python3/lib/python3.5/site-packages/sklearn/cross_validation.py:516: Warning: The least populated class in y has only 2 members, which is too few. The minimum number of labels for any class cannot be less than n_folds=10.\n",
      "  % (min_labels, self.n_folds)), Warning)\n"
     ]
    },
    {
     "data": {
      "text/plain": [
       "PCA(copy=True, n_components=17, whiten=False)"
      ]
     },
     "execution_count": 332,
     "metadata": {},
     "output_type": "execute_result"
    },
    {
     "name": "stderr",
     "output_type": "stream",
     "text": [
      "/opt/python3/lib/python3.5/site-packages/sklearn/cross_validation.py:516: Warning: The least populated class in y has only 2 members, which is too few. The minimum number of labels for any class cannot be less than n_folds=10.\n",
      "  % (min_labels, self.n_folds)), Warning)\n"
     ]
    },
    {
     "data": {
      "text/plain": [
       "PCA(copy=True, n_components=18, whiten=False)"
      ]
     },
     "execution_count": 332,
     "metadata": {},
     "output_type": "execute_result"
    },
    {
     "name": "stderr",
     "output_type": "stream",
     "text": [
      "/opt/python3/lib/python3.5/site-packages/sklearn/cross_validation.py:516: Warning: The least populated class in y has only 2 members, which is too few. The minimum number of labels for any class cannot be less than n_folds=10.\n",
      "  % (min_labels, self.n_folds)), Warning)\n"
     ]
    },
    {
     "data": {
      "text/plain": [
       "PCA(copy=True, n_components=19, whiten=False)"
      ]
     },
     "execution_count": 332,
     "metadata": {},
     "output_type": "execute_result"
    },
    {
     "name": "stderr",
     "output_type": "stream",
     "text": [
      "/opt/python3/lib/python3.5/site-packages/sklearn/cross_validation.py:516: Warning: The least populated class in y has only 2 members, which is too few. The minimum number of labels for any class cannot be less than n_folds=10.\n",
      "  % (min_labels, self.n_folds)), Warning)\n"
     ]
    },
    {
     "name": "stdout",
     "output_type": "stream",
     "text": [
      "0.866666666667\n",
      "7\n"
     ]
    }
   ],
   "source": [
    "# random forest\n",
    "# train data: df_day, pca transformation\n",
    "# target: msfc3 level\n",
    "# validation: 10-fold cross validation\n",
    "# see how the number of PCs can change the accuracy of transformation\n",
    "\n",
    "from sklearn.metrics import confusion_matrix, accuracy_score, classification_report\n",
    "from sklearn.cross_validation import KFold\n",
    "from sklearn.ensemble import RandomForestClassifier\n",
    "from sklearn.decomposition import PCA\n",
    "accuracy = []\n",
    "n_estimators = 10\n",
    "k = 10\n",
    "# use various number of PCs\n",
    "for pc_num in np.arange(1,20,1):\n",
    "    # PCA transformation\n",
    "    pca = PCA(n_components=pc_num)\n",
    "    pca.fit(x_day_normalized)\n",
    "    x_day_pca = pca.transform(x_day_normalized)\n",
    "    # put the transformed data to a dataframe\n",
    "    df_day_pca = pd.DataFrame(x_day_pca)\n",
    "    # fit the model and do cross validation using PCA transformed dataset\n",
    "    clf = RandomForestClassifier(n_estimators=n_estimators, random_state = 42) #fix the number of estimators the best \n",
    "    accuracy.append(np.mean(cross_val_score(clf, df_day_pca, y_day, cv=k))) \n",
    "# max accuracy? what number of PCAs?\n",
    "max_acc = accuracy[np.argmax(accuracy)]\n",
    "best_num_of_PCA = np.arange(1,20,1)[np.argmax(accuracy)]\n",
    "# print out the results\n",
    "print(max_acc)\n",
    "print(best_num_of_PCA)\n",
    "# store the result\n",
    "best_accuracy_score.append(max_acc)\n",
    "best_num_of_PCAs.append(best_num_of_PCA)\n",
    "train_data.append('FeatureDay_PCA_transformed')\n",
    "target.append('msfc3_level')\n",
    "num_of_samples.append(len(y_day))\n",
    "num_of_estimators.append(n_estimators)"
   ]
  },
  {
   "cell_type": "code",
   "execution_count": 333,
   "metadata": {
    "collapsed": false
   },
   "outputs": [
    {
     "data": {
      "text/plain": [
       "PCA(copy=True, n_components=7, whiten=False)"
      ]
     },
     "execution_count": 333,
     "metadata": {},
     "output_type": "execute_result"
    },
    {
     "data": {
      "text/html": [
       "<div>\n",
       "<table border=\"1\" class=\"dataframe\">\n",
       "  <thead>\n",
       "    <tr style=\"text-align: right;\">\n",
       "      <th></th>\n",
       "      <th>Explained Variance</th>\n",
       "    </tr>\n",
       "  </thead>\n",
       "  <tbody>\n",
       "    <tr>\n",
       "      <th>1</th>\n",
       "      <td>26.488498</td>\n",
       "    </tr>\n",
       "    <tr>\n",
       "      <th>2</th>\n",
       "      <td>20.826458</td>\n",
       "    </tr>\n",
       "    <tr>\n",
       "      <th>3</th>\n",
       "      <td>13.252714</td>\n",
       "    </tr>\n",
       "    <tr>\n",
       "      <th>4</th>\n",
       "      <td>10.647363</td>\n",
       "    </tr>\n",
       "    <tr>\n",
       "      <th>5</th>\n",
       "      <td>8.217323</td>\n",
       "    </tr>\n",
       "    <tr>\n",
       "      <th>6</th>\n",
       "      <td>7.081441</td>\n",
       "    </tr>\n",
       "    <tr>\n",
       "      <th>7</th>\n",
       "      <td>6.164811</td>\n",
       "    </tr>\n",
       "  </tbody>\n",
       "</table>\n",
       "</div>"
      ],
      "text/plain": [
       "   Explained Variance\n",
       "1           26.488498\n",
       "2           20.826458\n",
       "3           13.252714\n",
       "4           10.647363\n",
       "5            8.217323\n",
       "6            7.081441\n",
       "7            6.164811"
      ]
     },
     "execution_count": 333,
     "metadata": {},
     "output_type": "execute_result"
    },
    {
     "name": "stderr",
     "output_type": "stream",
     "text": [
      "/opt/python3/lib/python3.5/site-packages/sklearn/cross_validation.py:516: Warning: The least populated class in y has only 2 members, which is too few. The minimum number of labels for any class cannot be less than n_folds=10.\n",
      "  % (min_labels, self.n_folds)), Warning)\n"
     ]
    },
    {
     "data": {
      "text/plain": [
       "GridSearchCV(cv=10, error_score='raise',\n",
       "       estimator=RandomForestClassifier(bootstrap=True, class_weight=None, criterion='gini',\n",
       "            max_depth=None, max_features='auto', max_leaf_nodes=None,\n",
       "            min_samples_leaf=1, min_samples_split=2,\n",
       "            min_weight_fraction_leaf=0.0, n_estimators=10, n_jobs=1,\n",
       "            oob_score=False, random_state=42, verbose=0, warm_start=False),\n",
       "       fit_params={}, iid=True, n_jobs=1,\n",
       "       param_grid={'n_estimators': [10]}, pre_dispatch='2*n_jobs',\n",
       "       refit=True, scoring=None, verbose=0)"
      ]
     },
     "execution_count": 333,
     "metadata": {},
     "output_type": "execute_result"
    },
    {
     "data": {
      "text/plain": [
       "0.94999999999999996"
      ]
     },
     "execution_count": 333,
     "metadata": {},
     "output_type": "execute_result"
    },
    {
     "data": {
      "text/plain": [
       "array([[ 1,  0,  1],\n",
       "       [ 0,  3,  0],\n",
       "       [ 0,  0, 15]])"
      ]
     },
     "execution_count": 333,
     "metadata": {},
     "output_type": "execute_result"
    }
   ],
   "source": [
    "# random forest\n",
    "# train data: df_day, pca transformation\n",
    "# target: binned_msfc3\n",
    "# validation: 10-fold cross validation\n",
    "# what is the best model accuracy on the whole dataset?\n",
    "\n",
    "from sklearn.metrics import confusion_matrix, accuracy_score, classification_report\n",
    "from sklearn.cross_validation import KFold\n",
    "from sklearn.ensemble import RandomForestClassifier\n",
    "from sklearn.decomposition import PCA\n",
    "pc_num = 7\n",
    "estimator_num = 10\n",
    "k = 10\n",
    "# PCA transformation\n",
    "pca = PCA(n_components=pc_num)\n",
    "pca.fit(x_day_normalized)\n",
    "x_day_pca = pca.transform(x_day_normalized)\n",
    "# variance explained by each PCA\n",
    "explained_var = list(pca.explained_variance_)\n",
    "PCA_list = np.arange(1, pc_num + 1)\n",
    "df_explained_var = pd.DataFrame(explained_var,index=PCA_list,columns=['Explained Variance'])\n",
    "df_explained_var\n",
    "# put the transformed data to a dataframe\n",
    "df_day_pca = pd.DataFrame(x_day_pca)\n",
    "# fit the model and do cross validation using PCA transformed dataset\n",
    "clf = RandomForestClassifier(random_state = 42) \n",
    "param_grid = {'n_estimators': [estimator_num]}\n",
    "grid_clf = GridSearchCV(clf, param_grid = param_grid, cv=k)\n",
    "grid_clf.fit(df_day_pca, y_day)\n",
    "# try the model on the whole dataset\n",
    "preds = grid_clf.best_estimator_.predict(df_day_pca)\n",
    "accuracy_score(y_day, preds)\n",
    "confusion_matrix(y_day, preds)\n",
    "# store the result\n",
    "accuracy_of_best_model_on_whole_data.append(accuracy_score(y_day, preds))"
   ]
  },
  {
   "cell_type": "code",
   "execution_count": 334,
   "metadata": {
    "collapsed": false
   },
   "outputs": [
    {
     "data": {
      "text/html": [
       "<div>\n",
       "<table border=\"1\" class=\"dataframe\">\n",
       "  <thead>\n",
       "    <tr style=\"text-align: right;\">\n",
       "      <th></th>\n",
       "      <th>train_data</th>\n",
       "      <th>target</th>\n",
       "      <th>best_num_of_PCs</th>\n",
       "      <th>num_of_samples</th>\n",
       "      <th>num_of_estimators</th>\n",
       "      <th>mean_accuracy_score</th>\n",
       "      <th>accuracy_on_whole_data</th>\n",
       "    </tr>\n",
       "  </thead>\n",
       "  <tbody>\n",
       "    <tr>\n",
       "      <th>0</th>\n",
       "      <td>FeatureStudy_PCA_transformed</td>\n",
       "      <td>msfc3_level</td>\n",
       "      <td>2</td>\n",
       "      <td>22</td>\n",
       "      <td>20</td>\n",
       "      <td>0.883333</td>\n",
       "      <td>1.00</td>\n",
       "    </tr>\n",
       "    <tr>\n",
       "      <th>1</th>\n",
       "      <td>FeatureDay_PCA_transformed</td>\n",
       "      <td>msfc3_level</td>\n",
       "      <td>7</td>\n",
       "      <td>20</td>\n",
       "      <td>10</td>\n",
       "      <td>0.866667</td>\n",
       "      <td>0.95</td>\n",
       "    </tr>\n",
       "  </tbody>\n",
       "</table>\n",
       "</div>"
      ],
      "text/plain": [
       "                     train_data       target  best_num_of_PCs  num_of_samples  \\\n",
       "0  FeatureStudy_PCA_transformed  msfc3_level                2              22   \n",
       "1    FeatureDay_PCA_transformed  msfc3_level                7              20   \n",
       "\n",
       "   num_of_estimators  mean_accuracy_score  accuracy_on_whole_data  \n",
       "0                 20             0.883333                    1.00  \n",
       "1                 10             0.866667                    0.95  "
      ]
     },
     "execution_count": 334,
     "metadata": {},
     "output_type": "execute_result"
    }
   ],
   "source": [
    "# fill summary dataframe\n",
    "summary_2['train_data'] = train_data\n",
    "summary_2['target'] = target\n",
    "summary_2['best_num_of_PCs'] = best_num_of_PCAs\n",
    "summary_2['num_of_samples'] = num_of_samples\n",
    "summary_2['num_of_estimators'] = num_of_estimators\n",
    "summary_2['mean_accuracy_score'] = best_accuracy_score\n",
    "summary_2['accuracy_on_whole_data'] = accuracy_of_best_model_on_whole_data\n",
    "summary_2"
   ]
  },
  {
   "cell_type": "code",
   "execution_count": 335,
   "metadata": {
    "collapsed": false
   },
   "outputs": [
    {
     "data": {
      "text/plain": [
       "<matplotlib.text.Text at 0x7fd7f933c8d0>"
      ]
     },
     "execution_count": 335,
     "metadata": {},
     "output_type": "execute_result"
    },
    {
     "data": {
      "text/plain": [
       "<matplotlib.text.Text at 0x7fd7ff09f198>"
      ]
     },
     "execution_count": 335,
     "metadata": {},
     "output_type": "execute_result"
    },
    {
     "data": {
      "text/plain": [
       "<matplotlib.text.Text at 0x7fd7f92dcf98>"
      ]
     },
     "execution_count": 335,
     "metadata": {},
     "output_type": "execute_result"
    },
    {
     "data": {
      "text/plain": [
       "(0, 1)"
      ]
     },
     "execution_count": 335,
     "metadata": {},
     "output_type": "execute_result"
    },
    {
     "data": {
      "text/plain": [
       "<matplotlib.text.Text at 0x7fd7ff061668>"
      ]
     },
     "execution_count": 335,
     "metadata": {},
     "output_type": "execute_result"
    },
    {
     "data": {
      "text/plain": [
       "<matplotlib.text.Text at 0x7fd7f93fd240>"
      ]
     },
     "execution_count": 335,
     "metadata": {},
     "output_type": "execute_result"
    },
    {
     "data": {
      "text/plain": [
       "<matplotlib.text.Text at 0x7fd7f92ca940>"
      ]
     },
     "execution_count": 335,
     "metadata": {},
     "output_type": "execute_result"
    },
    {
     "data": {
      "text/plain": [
       "(0, 1)"
      ]
     },
     "execution_count": 335,
     "metadata": {},
     "output_type": "execute_result"
    },
    {
     "data": {
      "image/png": "[encoded data removed]",
      "text/plain": [
       "<matplotlib.figure.Figure at 0x7fd7f92f63c8>"
      ]
     },
     "metadata": {},
     "output_type": "display_data"
    }
   ],
   "source": [
    "# visualize the accuracy of prediction resulted in scenarios above\n",
    "figs, axes = plt.subplots(nrows= 1, ncols= 2)\n",
    "\n",
    "axes[0] = summary_1.set_index('train_data')['mean_accuracy_score'].iloc[[0,1]].plot(kind='bar',ax=axes[0],figsize=(15,5))\n",
    "axes[0].set_title('Classification by Random Forest, Traget = msfc3_level')\n",
    "axes[0].set_xlabel('Dataset')\n",
    "axes[0].set_ylabel('Mean accuracy score')\n",
    "axes[0].set_ylim((0,1))\n",
    "\n",
    "axes[0] = summary_2.set_index('train_data')['mean_accuracy_score'].iloc[[0,1]].plot(kind='bar',ax=axes[1])\n",
    "axes[0].set_title('Classification by Random Forest, Traget = msfc3_level')\n",
    "axes[0].set_xlabel('Dataset')\n",
    "axes[0].set_ylabel('Mean accuracy score')\n",
    "axes[0].set_ylim((0,1))"
   ]
  },
  {
   "cell_type": "code",
   "execution_count": 336,
   "metadata": {
    "collapsed": true
   },
   "outputs": [],
   "source": [
    "# repeat the process but this time exclude msfc scores as input features"
   ]
  },
  {
   "cell_type": "code",
   "execution_count": 337,
   "metadata": {
    "collapsed": true
   },
   "outputs": [],
   "source": [
    "# prepare x,y\n",
    "# df_study\n",
    "col_names_potential_targets = ['msfc_composite_3','msfc_change', 'msfc_composite_3_bin', 'msfc_composite_2', 'msfc_composite_1']\n",
    "remove_cols = col_names_potential_targets.append('gls_subject_code')\n",
    "x_study = df_study.drop(col_names_potential_targets,axis=1)\n",
    "y_study = df_study['msfc_composite_3_bin']\n",
    "\n",
    "# normalize data\n",
    "from sklearn import preprocessing\n",
    "x_study_scaled = pd.DataFrame(preprocessing.normalize(x_study),columns=x_study.columns)"
   ]
  },
  {
   "cell_type": "code",
   "execution_count": 338,
   "metadata": {
    "collapsed": true
   },
   "outputs": [],
   "source": [
    "# prepare x,y\n",
    "# df_day\n",
    "col_names_potential_targets = ['msfc_composite_3','msfc_change', 'msfc_composite_3_bin', 'msfc_composite_2', 'msfc_composite_1']\n",
    "remove_cols = col_names_potential_targets.append('gls_subject_code')\n",
    "x_day = df_day.drop(col_names_potential_targets,axis=1)\n",
    "y_day = df_day['msfc_composite_3_bin']\n",
    "\n",
    "# normalize data\n",
    "from sklearn import preprocessing\n",
    "x_day_scaled = pd.DataFrame(preprocessing.normalize(x_day),columns=x_day.columns)"
   ]
  },
  {
   "cell_type": "code",
   "execution_count": 339,
   "metadata": {
    "collapsed": true
   },
   "outputs": [],
   "source": [
    "# summerize the results in a dataframe\n",
    "summary_1 = pd.DataFrame()\n",
    "best_accuracy_score = []\n",
    "accuracy_of_best_model_on_whole_data = []\n",
    "best_num_of_estimator = []\n",
    "train_data = []\n",
    "target = []\n",
    "num_of_samples = []\n",
    "num_of_features = []"
   ]
  },
  {
   "cell_type": "code",
   "execution_count": 340,
   "metadata": {
    "collapsed": false
   },
   "outputs": [
    {
     "name": "stderr",
     "output_type": "stream",
     "text": [
      "/opt/python3/lib/python3.5/site-packages/sklearn/cross_validation.py:516: Warning: The least populated class in y has only 2 members, which is too few. The minimum number of labels for any class cannot be less than n_folds=10.\n",
      "  % (min_labels, self.n_folds)), Warning)\n"
     ]
    },
    {
     "data": {
      "text/plain": [
       "GridSearchCV(cv=10, error_score='raise',\n",
       "       estimator=RandomForestClassifier(bootstrap=True, class_weight=None, criterion='gini',\n",
       "            max_depth=None, max_features='auto', max_leaf_nodes=None,\n",
       "            min_samples_leaf=1, min_samples_split=2,\n",
       "            min_weight_fraction_leaf=0.0, n_estimators=10, n_jobs=1,\n",
       "            oob_score=False, random_state=42, verbose=0, warm_start=False),\n",
       "       fit_params={}, iid=True, n_jobs=1,\n",
       "       param_grid={'n_estimators': array([ 5, 10, 15, 20, 25, 30, 35, 40, 45, 50, 55, 60, 65, 70, 75, 80, 85,\n",
       "       90, 95])},\n",
       "       pre_dispatch='2*n_jobs', refit=True, scoring=None, verbose=0)"
      ]
     },
     "execution_count": 340,
     "metadata": {},
     "output_type": "execute_result"
    },
    {
     "data": {
      "text/plain": [
       "0.81818181818181823"
      ]
     },
     "execution_count": 340,
     "metadata": {},
     "output_type": "execute_result"
    },
    {
     "data": {
      "text/plain": [
       "{'n_estimators': 10}"
      ]
     },
     "execution_count": 340,
     "metadata": {},
     "output_type": "execute_result"
    },
    {
     "data": {
      "text/plain": [
       "[mean: 0.59091, std: 0.36219, params: {'n_estimators': 5},\n",
       " mean: 0.81818, std: 0.17500, params: {'n_estimators': 10},\n",
       " mean: 0.77273, std: 0.18276, params: {'n_estimators': 15},\n",
       " mean: 0.77273, std: 0.18276, params: {'n_estimators': 20},\n",
       " mean: 0.77273, std: 0.18276, params: {'n_estimators': 25},\n",
       " mean: 0.77273, std: 0.18276, params: {'n_estimators': 30},\n",
       " mean: 0.77273, std: 0.18276, params: {'n_estimators': 35},\n",
       " mean: 0.77273, std: 0.18276, params: {'n_estimators': 40},\n",
       " mean: 0.77273, std: 0.18276, params: {'n_estimators': 45},\n",
       " mean: 0.77273, std: 0.18276, params: {'n_estimators': 50},\n",
       " mean: 0.77273, std: 0.18276, params: {'n_estimators': 55},\n",
       " mean: 0.77273, std: 0.18276, params: {'n_estimators': 60},\n",
       " mean: 0.77273, std: 0.18276, params: {'n_estimators': 65},\n",
       " mean: 0.77273, std: 0.18276, params: {'n_estimators': 70},\n",
       " mean: 0.77273, std: 0.18276, params: {'n_estimators': 75},\n",
       " mean: 0.77273, std: 0.18276, params: {'n_estimators': 80},\n",
       " mean: 0.77273, std: 0.18276, params: {'n_estimators': 85},\n",
       " mean: 0.77273, std: 0.18276, params: {'n_estimators': 90},\n",
       " mean: 0.77273, std: 0.18276, params: {'n_estimators': 95}]"
      ]
     },
     "execution_count": 340,
     "metadata": {},
     "output_type": "execute_result"
    },
    {
     "data": {
      "text/plain": [
       "array([[ 2,  0,  0],\n",
       "       [ 0,  4,  0],\n",
       "       [ 0,  0, 16]])"
      ]
     },
     "execution_count": 340,
     "metadata": {},
     "output_type": "execute_result"
    },
    {
     "data": {
      "text/plain": [
       "1.0"
      ]
     },
     "execution_count": 340,
     "metadata": {},
     "output_type": "execute_result"
    },
    {
     "name": "stderr",
     "output_type": "stream",
     "text": [
      "/opt/python3/lib/python3.5/site-packages/ipykernel/__main__.py:26: FutureWarning: sort(columns=....) is deprecated, use sort_values(by=.....)\n"
     ]
    },
    {
     "data": {
      "text/html": [
       "<div>\n",
       "<table border=\"1\" class=\"dataframe\">\n",
       "  <thead>\n",
       "    <tr style=\"text-align: right;\">\n",
       "      <th></th>\n",
       "      <th>feature</th>\n",
       "      <th>importance</th>\n",
       "    </tr>\n",
       "  </thead>\n",
       "  <tbody>\n",
       "    <tr>\n",
       "      <th>23</th>\n",
       "      <td>mean_pvt_delay_7_at_home</td>\n",
       "      <td>0.244240</td>\n",
       "    </tr>\n",
       "    <tr>\n",
       "      <th>20</th>\n",
       "      <td>mean_pvt_delay_1_at_home</td>\n",
       "      <td>0.142282</td>\n",
       "    </tr>\n",
       "    <tr>\n",
       "      <th>52</th>\n",
       "      <td>mobility_activity_at_home_time</td>\n",
       "      <td>0.100000</td>\n",
       "    </tr>\n",
       "    <tr>\n",
       "      <th>21</th>\n",
       "      <td>mean_pvt_delay_3_at_home</td>\n",
       "      <td>0.068571</td>\n",
       "    </tr>\n",
       "    <tr>\n",
       "      <th>45</th>\n",
       "      <td>turn_vel_max_ankle_at_home</td>\n",
       "      <td>0.061404</td>\n",
       "    </tr>\n",
       "    <tr>\n",
       "      <th>39</th>\n",
       "      <td>turn_duration_at_home</td>\n",
       "      <td>0.057935</td>\n",
       "    </tr>\n",
       "    <tr>\n",
       "      <th>26</th>\n",
       "      <td>pq_nondominant_median_at_home</td>\n",
       "      <td>0.052991</td>\n",
       "    </tr>\n",
       "    <tr>\n",
       "      <th>37</th>\n",
       "      <td>mobility_swing_at_home</td>\n",
       "      <td>0.043147</td>\n",
       "    </tr>\n",
       "    <tr>\n",
       "      <th>10</th>\n",
       "      <td>turn_angle</td>\n",
       "      <td>0.042354</td>\n",
       "    </tr>\n",
       "    <tr>\n",
       "      <th>49</th>\n",
       "      <td>sway_dist_ap_at_home</td>\n",
       "      <td>0.031778</td>\n",
       "    </tr>\n",
       "    <tr>\n",
       "      <th>28</th>\n",
       "      <td>zx_nondominant_median_at_home</td>\n",
       "      <td>0.022833</td>\n",
       "    </tr>\n",
       "    <tr>\n",
       "      <th>51</th>\n",
       "      <td>sway_disp_ap_at_home</td>\n",
       "      <td>0.022564</td>\n",
       "    </tr>\n",
       "    <tr>\n",
       "      <th>33</th>\n",
       "      <td>zx_dominant_rhythm_at_home</td>\n",
       "      <td>0.022000</td>\n",
       "    </tr>\n",
       "    <tr>\n",
       "      <th>22</th>\n",
       "      <td>mean_pvt_delay_5_at_home</td>\n",
       "      <td>0.022000</td>\n",
       "    </tr>\n",
       "    <tr>\n",
       "      <th>2</th>\n",
       "      <td>turn_vel_std</td>\n",
       "      <td>0.021569</td>\n",
       "    </tr>\n",
       "    <tr>\n",
       "      <th>38</th>\n",
       "      <td>turn_angle_at_home</td>\n",
       "      <td>0.016660</td>\n",
       "    </tr>\n",
       "    <tr>\n",
       "      <th>58</th>\n",
       "      <td>hourly_amb_temp_std_at_home</td>\n",
       "      <td>0.014823</td>\n",
       "    </tr>\n",
       "    <tr>\n",
       "      <th>18</th>\n",
       "      <td>duration_movement_count</td>\n",
       "      <td>0.012847</td>\n",
       "    </tr>\n",
       "    <tr>\n",
       "      <th>41</th>\n",
       "      <td>turn_vel_mean_at_home</td>\n",
       "      <td>0.000000</td>\n",
       "    </tr>\n",
       "    <tr>\n",
       "      <th>40</th>\n",
       "      <td>turn_vel_max_at_home</td>\n",
       "      <td>0.000000</td>\n",
       "    </tr>\n",
       "  </tbody>\n",
       "</table>\n",
       "</div>"
      ],
      "text/plain": [
       "                           feature  importance\n",
       "23        mean_pvt_delay_7_at_home    0.244240\n",
       "20        mean_pvt_delay_1_at_home    0.142282\n",
       "52  mobility_activity_at_home_time    0.100000\n",
       "21        mean_pvt_delay_3_at_home    0.068571\n",
       "45      turn_vel_max_ankle_at_home    0.061404\n",
       "39           turn_duration_at_home    0.057935\n",
       "26   pq_nondominant_median_at_home    0.052991\n",
       "37          mobility_swing_at_home    0.043147\n",
       "10                      turn_angle    0.042354\n",
       "49            sway_dist_ap_at_home    0.031778\n",
       "28   zx_nondominant_median_at_home    0.022833\n",
       "51            sway_disp_ap_at_home    0.022564\n",
       "33      zx_dominant_rhythm_at_home    0.022000\n",
       "22        mean_pvt_delay_5_at_home    0.022000\n",
       "2                     turn_vel_std    0.021569\n",
       "38              turn_angle_at_home    0.016660\n",
       "58     hourly_amb_temp_std_at_home    0.014823\n",
       "18         duration_movement_count    0.012847\n",
       "41           turn_vel_mean_at_home    0.000000\n",
       "40            turn_vel_max_at_home    0.000000"
      ]
     },
     "execution_count": 340,
     "metadata": {},
     "output_type": "execute_result"
    }
   ],
   "source": [
    "# random forest\n",
    "# train data: df_study\n",
    "# target: binned_msfc3\n",
    "# validation: 10-fold cross validation\n",
    "\n",
    "from sklearn.ensemble import RandomForestClassifier\n",
    "from sklearn.cross_validation import cross_val_score\n",
    "from sklearn.grid_search import GridSearchCV\n",
    "from sklearn.metrics import confusion_matrix, accuracy_score\n",
    "# train and fit the model\n",
    "clf = RandomForestClassifier(random_state = 42) \n",
    "param_grid = {'n_estimators': np.arange(5,100,5)}\n",
    "grid_clf = GridSearchCV(clf, param_grid = param_grid, cv=10)\n",
    "grid_clf.fit(x_study, y_study)\n",
    "# get the parameters\n",
    "grid_clf.best_score_\n",
    "grid_clf.best_params_\n",
    "grid_clf.grid_scores_\n",
    "# get the confusion matrix and accuracy_score\n",
    "rf = grid_clf.best_estimator_\n",
    "preds = rf.predict(x_study)\n",
    "confusion_matrix(preds, y_study)\n",
    "accuracy_score(preds, y_study)\n",
    "# get the 20 first important features\n",
    "l = rf.feature_importances_\n",
    "df = pd.DataFrame()\n",
    "df['feature'] = list(x_study.columns)\n",
    "df['importance'] = l\n",
    "df.sort('importance', ascending = False).head(20)\n",
    "# store the result\n",
    "best_accuracy_score.append(grid_clf.best_score_)\n",
    "best_num_of_estimator.append(grid_clf.best_params_['n_estimators'])\n",
    "train_data.append('FeatureStudy')\n",
    "target.append('msfc3_level')\n",
    "num_of_samples.append(len(y_study))\n",
    "num_of_features.append(x_study.shape[1])\n",
    "accuracy_of_best_model_on_whole_data.append(accuracy_score(preds, y_study))"
   ]
  },
  {
   "cell_type": "code",
   "execution_count": 341,
   "metadata": {
    "collapsed": false
   },
   "outputs": [
    {
     "name": "stderr",
     "output_type": "stream",
     "text": [
      "/opt/python3/lib/python3.5/site-packages/sklearn/cross_validation.py:516: Warning: The least populated class in y has only 2 members, which is too few. The minimum number of labels for any class cannot be less than n_folds=10.\n",
      "  % (min_labels, self.n_folds)), Warning)\n"
     ]
    },
    {
     "data": {
      "text/plain": [
       "GridSearchCV(cv=10, error_score='raise',\n",
       "       estimator=RandomForestClassifier(bootstrap=True, class_weight=None, criterion='gini',\n",
       "            max_depth=None, max_features='auto', max_leaf_nodes=None,\n",
       "            min_samples_leaf=1, min_samples_split=2,\n",
       "            min_weight_fraction_leaf=0.0, n_estimators=10, n_jobs=1,\n",
       "            oob_score=False, random_state=42, verbose=0, warm_start=False),\n",
       "       fit_params={}, iid=True, n_jobs=1,\n",
       "       param_grid={'n_estimators': array([ 5, 10, 15, 20, 25, 30, 35, 40, 45, 50, 55, 60, 65, 70, 75, 80, 85,\n",
       "       90, 95])},\n",
       "       pre_dispatch='2*n_jobs', refit=True, scoring=None, verbose=0)"
      ]
     },
     "execution_count": 341,
     "metadata": {},
     "output_type": "execute_result"
    },
    {
     "data": {
      "text/plain": [
       "0.75"
      ]
     },
     "execution_count": 341,
     "metadata": {},
     "output_type": "execute_result"
    },
    {
     "data": {
      "text/plain": [
       "{'n_estimators': 5}"
      ]
     },
     "execution_count": 341,
     "metadata": {},
     "output_type": "execute_result"
    },
    {
     "data": {
      "text/plain": [
       "[mean: 0.75000, std: 0.20817, params: {'n_estimators': 5},\n",
       " mean: 0.75000, std: 0.20817, params: {'n_estimators': 10},\n",
       " mean: 0.75000, std: 0.20817, params: {'n_estimators': 15},\n",
       " mean: 0.70000, std: 0.22913, params: {'n_estimators': 20},\n",
       " mean: 0.75000, std: 0.20817, params: {'n_estimators': 25},\n",
       " mean: 0.75000, std: 0.20817, params: {'n_estimators': 30},\n",
       " mean: 0.75000, std: 0.20817, params: {'n_estimators': 35},\n",
       " mean: 0.75000, std: 0.20817, params: {'n_estimators': 40},\n",
       " mean: 0.75000, std: 0.20817, params: {'n_estimators': 45},\n",
       " mean: 0.75000, std: 0.20817, params: {'n_estimators': 50},\n",
       " mean: 0.75000, std: 0.20817, params: {'n_estimators': 55},\n",
       " mean: 0.75000, std: 0.20817, params: {'n_estimators': 60},\n",
       " mean: 0.75000, std: 0.20817, params: {'n_estimators': 65},\n",
       " mean: 0.75000, std: 0.20817, params: {'n_estimators': 70},\n",
       " mean: 0.75000, std: 0.20817, params: {'n_estimators': 75},\n",
       " mean: 0.75000, std: 0.20817, params: {'n_estimators': 80},\n",
       " mean: 0.75000, std: 0.20817, params: {'n_estimators': 85},\n",
       " mean: 0.75000, std: 0.20817, params: {'n_estimators': 90},\n",
       " mean: 0.75000, std: 0.20817, params: {'n_estimators': 95}]"
      ]
     },
     "execution_count": 341,
     "metadata": {},
     "output_type": "execute_result"
    },
    {
     "data": {
      "text/plain": [
       "array([[ 2,  0,  0],\n",
       "       [ 0,  2,  0],\n",
       "       [ 0,  1, 15]])"
      ]
     },
     "execution_count": 341,
     "metadata": {},
     "output_type": "execute_result"
    },
    {
     "data": {
      "text/plain": [
       "0.94999999999999996"
      ]
     },
     "execution_count": 341,
     "metadata": {},
     "output_type": "execute_result"
    },
    {
     "name": "stderr",
     "output_type": "stream",
     "text": [
      "/opt/python3/lib/python3.5/site-packages/ipykernel/__main__.py:26: FutureWarning: sort(columns=....) is deprecated, use sort_values(by=.....)\n"
     ]
    },
    {
     "data": {
      "text/html": [
       "<div>\n",
       "<table border=\"1\" class=\"dataframe\">\n",
       "  <thead>\n",
       "    <tr style=\"text-align: right;\">\n",
       "      <th></th>\n",
       "      <th>feature</th>\n",
       "      <th>importance</th>\n",
       "    </tr>\n",
       "  </thead>\n",
       "  <tbody>\n",
       "    <tr>\n",
       "      <th>139</th>\n",
       "      <td>turn_vel_std_ankle_day_16</td>\n",
       "      <td>0.200000</td>\n",
       "    </tr>\n",
       "    <tr>\n",
       "      <th>964</th>\n",
       "      <td>turn_vel_max_ankle_day_37</td>\n",
       "      <td>0.168418</td>\n",
       "    </tr>\n",
       "    <tr>\n",
       "      <th>1044</th>\n",
       "      <td>turn_vel_max_ankle_day_53</td>\n",
       "      <td>0.128571</td>\n",
       "    </tr>\n",
       "    <tr>\n",
       "      <th>562</th>\n",
       "      <td>prv_sdnn_day_52</td>\n",
       "      <td>0.118539</td>\n",
       "    </tr>\n",
       "    <tr>\n",
       "      <th>386</th>\n",
       "      <td>turn_duration_day_19</td>\n",
       "      <td>0.109465</td>\n",
       "    </tr>\n",
       "    <tr>\n",
       "      <th>288</th>\n",
       "      <td>turn_duration_ankle_day_40</td>\n",
       "      <td>0.071429</td>\n",
       "    </tr>\n",
       "    <tr>\n",
       "      <th>933</th>\n",
       "      <td>turn_duration_day_50</td>\n",
       "      <td>0.058989</td>\n",
       "    </tr>\n",
       "    <tr>\n",
       "      <th>1323</th>\n",
       "      <td>hourly_temp_std_at_home_day_22</td>\n",
       "      <td>0.057613</td>\n",
       "    </tr>\n",
       "    <tr>\n",
       "      <th>1662</th>\n",
       "      <td>hourly_amb_temp_std_at_home_day_50</td>\n",
       "      <td>0.054054</td>\n",
       "    </tr>\n",
       "    <tr>\n",
       "      <th>511</th>\n",
       "      <td>walk_minutes_day_24</td>\n",
       "      <td>0.032922</td>\n",
       "    </tr>\n",
       "    <tr>\n",
       "      <th>1219</th>\n",
       "      <td>hourly_amb_temp_range_at_home_day_13</td>\n",
       "      <td>0.000000</td>\n",
       "    </tr>\n",
       "    <tr>\n",
       "      <th>1218</th>\n",
       "      <td>hourly_amb_temp_std_at_home_day_13</td>\n",
       "      <td>0.000000</td>\n",
       "    </tr>\n",
       "    <tr>\n",
       "      <th>1220</th>\n",
       "      <td>mean_pvt_delay_1_at_home_day_14</td>\n",
       "      <td>0.000000</td>\n",
       "    </tr>\n",
       "    <tr>\n",
       "      <th>1217</th>\n",
       "      <td>hourly_amb_temp_median_at_home_day_13</td>\n",
       "      <td>0.000000</td>\n",
       "    </tr>\n",
       "    <tr>\n",
       "      <th>1221</th>\n",
       "      <td>mean_pvt_delay_3_at_home_day_14</td>\n",
       "      <td>0.000000</td>\n",
       "    </tr>\n",
       "    <tr>\n",
       "      <th>1216</th>\n",
       "      <td>hourly_temp_range_at_home_day_13</td>\n",
       "      <td>0.000000</td>\n",
       "    </tr>\n",
       "    <tr>\n",
       "      <th>1222</th>\n",
       "      <td>mean_pvt_delay_5_at_home_day_14</td>\n",
       "      <td>0.000000</td>\n",
       "    </tr>\n",
       "    <tr>\n",
       "      <th>1223</th>\n",
       "      <td>mean_pvt_delay_7_at_home_day_14</td>\n",
       "      <td>0.000000</td>\n",
       "    </tr>\n",
       "    <tr>\n",
       "      <th>1224</th>\n",
       "      <td>mean_pvt_delay_at_home_day_14</td>\n",
       "      <td>0.000000</td>\n",
       "    </tr>\n",
       "    <tr>\n",
       "      <th>1215</th>\n",
       "      <td>hourly_temp_std_at_home_day_13</td>\n",
       "      <td>0.000000</td>\n",
       "    </tr>\n",
       "  </tbody>\n",
       "</table>\n",
       "</div>"
      ],
      "text/plain": [
       "                                    feature  importance\n",
       "139               turn_vel_std_ankle_day_16    0.200000\n",
       "964               turn_vel_max_ankle_day_37    0.168418\n",
       "1044              turn_vel_max_ankle_day_53    0.128571\n",
       "562                         prv_sdnn_day_52    0.118539\n",
       "386                    turn_duration_day_19    0.109465\n",
       "288              turn_duration_ankle_day_40    0.071429\n",
       "933                    turn_duration_day_50    0.058989\n",
       "1323         hourly_temp_std_at_home_day_22    0.057613\n",
       "1662     hourly_amb_temp_std_at_home_day_50    0.054054\n",
       "511                     walk_minutes_day_24    0.032922\n",
       "1219   hourly_amb_temp_range_at_home_day_13    0.000000\n",
       "1218     hourly_amb_temp_std_at_home_day_13    0.000000\n",
       "1220        mean_pvt_delay_1_at_home_day_14    0.000000\n",
       "1217  hourly_amb_temp_median_at_home_day_13    0.000000\n",
       "1221        mean_pvt_delay_3_at_home_day_14    0.000000\n",
       "1216       hourly_temp_range_at_home_day_13    0.000000\n",
       "1222        mean_pvt_delay_5_at_home_day_14    0.000000\n",
       "1223        mean_pvt_delay_7_at_home_day_14    0.000000\n",
       "1224          mean_pvt_delay_at_home_day_14    0.000000\n",
       "1215         hourly_temp_std_at_home_day_13    0.000000"
      ]
     },
     "execution_count": 341,
     "metadata": {},
     "output_type": "execute_result"
    }
   ],
   "source": [
    "# random forest\n",
    "# train data: df_day\n",
    "# target: binned_msfc3\n",
    "# validation: 10-fold cross validation\n",
    "\n",
    "from sklearn.ensemble import RandomForestClassifier\n",
    "from sklearn.cross_validation import cross_val_score\n",
    "from sklearn.grid_search import GridSearchCV\n",
    "from sklearn.metrics import confusion_matrix, accuracy_score\n",
    "# train and fit the model\n",
    "clf = RandomForestClassifier(random_state = 42) \n",
    "param_grid = {'n_estimators': np.arange(5,100,5)}\n",
    "grid_clf = GridSearchCV(clf, param_grid = param_grid, cv=10)\n",
    "grid_clf.fit(x_day, y_day)\n",
    "# get the parameters\n",
    "grid_clf.best_score_\n",
    "grid_clf.best_params_\n",
    "grid_clf.grid_scores_\n",
    "# get the confusion matrix and accuracy_score\n",
    "rf = grid_clf.best_estimator_\n",
    "preds = rf.predict(x_day)\n",
    "confusion_matrix(preds, y_day)\n",
    "accuracy_score(preds, y_day)\n",
    "# get the 20 first important features\n",
    "l = rf.feature_importances_\n",
    "df = pd.DataFrame()\n",
    "df['feature'] = list(x_day.columns)\n",
    "df['importance'] = l\n",
    "df.sort('importance', ascending = False).head(20)\n",
    "# store the result\n",
    "best_accuracy_score.append(grid_clf.best_score_)\n",
    "best_num_of_estimator.append(grid_clf.best_params_['n_estimators'])\n",
    "train_data.append('FeatureDay')\n",
    "target.append('msfc3_level')\n",
    "num_of_samples.append(len(y_day))\n",
    "num_of_features.append(x_day.shape[1])\n",
    "accuracy_of_best_model_on_whole_data.append(accuracy_score(preds, y_day))"
   ]
  },
  {
   "cell_type": "code",
   "execution_count": 342,
   "metadata": {
    "collapsed": false
   },
   "outputs": [
    {
     "data": {
      "text/html": [
       "<div>\n",
       "<table border=\"1\" class=\"dataframe\">\n",
       "  <thead>\n",
       "    <tr style=\"text-align: right;\">\n",
       "      <th></th>\n",
       "      <th>train_data</th>\n",
       "      <th>target</th>\n",
       "      <th>num_of_samples</th>\n",
       "      <th>num_of_features</th>\n",
       "      <th>best_num_of_estimator</th>\n",
       "      <th>mean_accuracy_score</th>\n",
       "      <th>accuracy_on_whole_data</th>\n",
       "    </tr>\n",
       "  </thead>\n",
       "  <tbody>\n",
       "    <tr>\n",
       "      <th>0</th>\n",
       "      <td>FeatureStudy</td>\n",
       "      <td>msfc3_level</td>\n",
       "      <td>22</td>\n",
       "      <td>60</td>\n",
       "      <td>10</td>\n",
       "      <td>0.818182</td>\n",
       "      <td>1.00</td>\n",
       "    </tr>\n",
       "    <tr>\n",
       "      <th>1</th>\n",
       "      <td>FeatureDay</td>\n",
       "      <td>msfc3_level</td>\n",
       "      <td>20</td>\n",
       "      <td>1826</td>\n",
       "      <td>5</td>\n",
       "      <td>0.750000</td>\n",
       "      <td>0.95</td>\n",
       "    </tr>\n",
       "  </tbody>\n",
       "</table>\n",
       "</div>"
      ],
      "text/plain": [
       "     train_data       target  num_of_samples  num_of_features  \\\n",
       "0  FeatureStudy  msfc3_level              22               60   \n",
       "1    FeatureDay  msfc3_level              20             1826   \n",
       "\n",
       "   best_num_of_estimator  mean_accuracy_score  accuracy_on_whole_data  \n",
       "0                     10             0.818182                    1.00  \n",
       "1                      5             0.750000                    0.95  "
      ]
     },
     "execution_count": 342,
     "metadata": {},
     "output_type": "execute_result"
    }
   ],
   "source": [
    "# fill summary dataframe\n",
    "summary_1['train_data'] = train_data\n",
    "summary_1['target'] = target\n",
    "summary_1['num_of_samples'] = num_of_samples\n",
    "summary_1['num_of_features'] = num_of_features\n",
    "summary_1['best_num_of_estimator'] = best_num_of_estimator\n",
    "summary_1['mean_accuracy_score'] = best_accuracy_score\n",
    "summary_1['accuracy_on_whole_data'] = accuracy_of_best_model_on_whole_data\n",
    "summary_1"
   ]
  },
  {
   "cell_type": "code",
   "execution_count": 343,
   "metadata": {
    "collapsed": true
   },
   "outputs": [],
   "source": [
    "# PCA transformation"
   ]
  },
  {
   "cell_type": "code",
   "execution_count": 299,
   "metadata": {
    "collapsed": true
   },
   "outputs": [],
   "source": [
    "# normalize the data\n",
    "# normalizing each feaure values in FeaturesDay based on the columns\n",
    "x_study_normalized = (x_study - x_study.mean()) / (x_study.max() - x_study.min())\n",
    "x_day_normalized = (x_day - x_day.mean()) / (x_day.max() - x_day.min())"
   ]
  },
  {
   "cell_type": "code",
   "execution_count": 300,
   "metadata": {
    "collapsed": true
   },
   "outputs": [],
   "source": [
    "# summerize the results in a dataframe\n",
    "summary_2 = pd.DataFrame()\n",
    "best_accuracy_score = []\n",
    "num_of_estimators = []\n",
    "train_data = []\n",
    "target = []\n",
    "num_of_samples = []\n",
    "best_num_of_PCAs = []\n",
    "accuracy_of_best_model_on_whole_data = []"
   ]
  },
  {
   "cell_type": "code",
   "execution_count": 301,
   "metadata": {
    "collapsed": false,
    "scrolled": true
   },
   "outputs": [
    {
     "data": {
      "text/plain": [
       "PCA(copy=True, n_components=1, whiten=False)"
      ]
     },
     "execution_count": 301,
     "metadata": {},
     "output_type": "execute_result"
    },
    {
     "name": "stderr",
     "output_type": "stream",
     "text": [
      "/opt/python3/lib/python3.5/site-packages/sklearn/cross_validation.py:516: Warning: The least populated class in y has only 2 members, which is too few. The minimum number of labels for any class cannot be less than n_folds=10.\n",
      "  % (min_labels, self.n_folds)), Warning)\n"
     ]
    },
    {
     "data": {
      "text/plain": [
       "PCA(copy=True, n_components=2, whiten=False)"
      ]
     },
     "execution_count": 301,
     "metadata": {},
     "output_type": "execute_result"
    },
    {
     "name": "stderr",
     "output_type": "stream",
     "text": [
      "/opt/python3/lib/python3.5/site-packages/sklearn/cross_validation.py:516: Warning: The least populated class in y has only 2 members, which is too few. The minimum number of labels for any class cannot be less than n_folds=10.\n",
      "  % (min_labels, self.n_folds)), Warning)\n"
     ]
    },
    {
     "data": {
      "text/plain": [
       "PCA(copy=True, n_components=3, whiten=False)"
      ]
     },
     "execution_count": 301,
     "metadata": {},
     "output_type": "execute_result"
    },
    {
     "name": "stderr",
     "output_type": "stream",
     "text": [
      "/opt/python3/lib/python3.5/site-packages/sklearn/cross_validation.py:516: Warning: The least populated class in y has only 2 members, which is too few. The minimum number of labels for any class cannot be less than n_folds=10.\n",
      "  % (min_labels, self.n_folds)), Warning)\n"
     ]
    },
    {
     "data": {
      "text/plain": [
       "PCA(copy=True, n_components=4, whiten=False)"
      ]
     },
     "execution_count": 301,
     "metadata": {},
     "output_type": "execute_result"
    },
    {
     "name": "stderr",
     "output_type": "stream",
     "text": [
      "/opt/python3/lib/python3.5/site-packages/sklearn/cross_validation.py:516: Warning: The least populated class in y has only 2 members, which is too few. The minimum number of labels for any class cannot be less than n_folds=10.\n",
      "  % (min_labels, self.n_folds)), Warning)\n"
     ]
    },
    {
     "data": {
      "text/plain": [
       "PCA(copy=True, n_components=5, whiten=False)"
      ]
     },
     "execution_count": 301,
     "metadata": {},
     "output_type": "execute_result"
    },
    {
     "name": "stderr",
     "output_type": "stream",
     "text": [
      "/opt/python3/lib/python3.5/site-packages/sklearn/cross_validation.py:516: Warning: The least populated class in y has only 2 members, which is too few. The minimum number of labels for any class cannot be less than n_folds=10.\n",
      "  % (min_labels, self.n_folds)), Warning)\n"
     ]
    },
    {
     "data": {
      "text/plain": [
       "PCA(copy=True, n_components=6, whiten=False)"
      ]
     },
     "execution_count": 301,
     "metadata": {},
     "output_type": "execute_result"
    },
    {
     "name": "stderr",
     "output_type": "stream",
     "text": [
      "/opt/python3/lib/python3.5/site-packages/sklearn/cross_validation.py:516: Warning: The least populated class in y has only 2 members, which is too few. The minimum number of labels for any class cannot be less than n_folds=10.\n",
      "  % (min_labels, self.n_folds)), Warning)\n"
     ]
    },
    {
     "data": {
      "text/plain": [
       "PCA(copy=True, n_components=7, whiten=False)"
      ]
     },
     "execution_count": 301,
     "metadata": {},
     "output_type": "execute_result"
    },
    {
     "name": "stderr",
     "output_type": "stream",
     "text": [
      "/opt/python3/lib/python3.5/site-packages/sklearn/cross_validation.py:516: Warning: The least populated class in y has only 2 members, which is too few. The minimum number of labels for any class cannot be less than n_folds=10.\n",
      "  % (min_labels, self.n_folds)), Warning)\n"
     ]
    },
    {
     "data": {
      "text/plain": [
       "PCA(copy=True, n_components=8, whiten=False)"
      ]
     },
     "execution_count": 301,
     "metadata": {},
     "output_type": "execute_result"
    },
    {
     "name": "stderr",
     "output_type": "stream",
     "text": [
      "/opt/python3/lib/python3.5/site-packages/sklearn/cross_validation.py:516: Warning: The least populated class in y has only 2 members, which is too few. The minimum number of labels for any class cannot be less than n_folds=10.\n",
      "  % (min_labels, self.n_folds)), Warning)\n"
     ]
    },
    {
     "data": {
      "text/plain": [
       "PCA(copy=True, n_components=9, whiten=False)"
      ]
     },
     "execution_count": 301,
     "metadata": {},
     "output_type": "execute_result"
    },
    {
     "name": "stderr",
     "output_type": "stream",
     "text": [
      "/opt/python3/lib/python3.5/site-packages/sklearn/cross_validation.py:516: Warning: The least populated class in y has only 2 members, which is too few. The minimum number of labels for any class cannot be less than n_folds=10.\n",
      "  % (min_labels, self.n_folds)), Warning)\n"
     ]
    },
    {
     "data": {
      "text/plain": [
       "PCA(copy=True, n_components=10, whiten=False)"
      ]
     },
     "execution_count": 301,
     "metadata": {},
     "output_type": "execute_result"
    },
    {
     "name": "stderr",
     "output_type": "stream",
     "text": [
      "/opt/python3/lib/python3.5/site-packages/sklearn/cross_validation.py:516: Warning: The least populated class in y has only 2 members, which is too few. The minimum number of labels for any class cannot be less than n_folds=10.\n",
      "  % (min_labels, self.n_folds)), Warning)\n"
     ]
    },
    {
     "data": {
      "text/plain": [
       "PCA(copy=True, n_components=11, whiten=False)"
      ]
     },
     "execution_count": 301,
     "metadata": {},
     "output_type": "execute_result"
    },
    {
     "name": "stderr",
     "output_type": "stream",
     "text": [
      "/opt/python3/lib/python3.5/site-packages/sklearn/cross_validation.py:516: Warning: The least populated class in y has only 2 members, which is too few. The minimum number of labels for any class cannot be less than n_folds=10.\n",
      "  % (min_labels, self.n_folds)), Warning)\n"
     ]
    },
    {
     "data": {
      "text/plain": [
       "PCA(copy=True, n_components=12, whiten=False)"
      ]
     },
     "execution_count": 301,
     "metadata": {},
     "output_type": "execute_result"
    },
    {
     "name": "stderr",
     "output_type": "stream",
     "text": [
      "/opt/python3/lib/python3.5/site-packages/sklearn/cross_validation.py:516: Warning: The least populated class in y has only 2 members, which is too few. The minimum number of labels for any class cannot be less than n_folds=10.\n",
      "  % (min_labels, self.n_folds)), Warning)\n"
     ]
    },
    {
     "data": {
      "text/plain": [
       "PCA(copy=True, n_components=13, whiten=False)"
      ]
     },
     "execution_count": 301,
     "metadata": {},
     "output_type": "execute_result"
    },
    {
     "name": "stderr",
     "output_type": "stream",
     "text": [
      "/opt/python3/lib/python3.5/site-packages/sklearn/cross_validation.py:516: Warning: The least populated class in y has only 2 members, which is too few. The minimum number of labels for any class cannot be less than n_folds=10.\n",
      "  % (min_labels, self.n_folds)), Warning)\n"
     ]
    },
    {
     "data": {
      "text/plain": [
       "PCA(copy=True, n_components=14, whiten=False)"
      ]
     },
     "execution_count": 301,
     "metadata": {},
     "output_type": "execute_result"
    },
    {
     "name": "stderr",
     "output_type": "stream",
     "text": [
      "/opt/python3/lib/python3.5/site-packages/sklearn/cross_validation.py:516: Warning: The least populated class in y has only 2 members, which is too few. The minimum number of labels for any class cannot be less than n_folds=10.\n",
      "  % (min_labels, self.n_folds)), Warning)\n"
     ]
    },
    {
     "data": {
      "text/plain": [
       "PCA(copy=True, n_components=15, whiten=False)"
      ]
     },
     "execution_count": 301,
     "metadata": {},
     "output_type": "execute_result"
    },
    {
     "name": "stderr",
     "output_type": "stream",
     "text": [
      "/opt/python3/lib/python3.5/site-packages/sklearn/cross_validation.py:516: Warning: The least populated class in y has only 2 members, which is too few. The minimum number of labels for any class cannot be less than n_folds=10.\n",
      "  % (min_labels, self.n_folds)), Warning)\n"
     ]
    },
    {
     "data": {
      "text/plain": [
       "PCA(copy=True, n_components=16, whiten=False)"
      ]
     },
     "execution_count": 301,
     "metadata": {},
     "output_type": "execute_result"
    },
    {
     "name": "stderr",
     "output_type": "stream",
     "text": [
      "/opt/python3/lib/python3.5/site-packages/sklearn/cross_validation.py:516: Warning: The least populated class in y has only 2 members, which is too few. The minimum number of labels for any class cannot be less than n_folds=10.\n",
      "  % (min_labels, self.n_folds)), Warning)\n"
     ]
    },
    {
     "data": {
      "text/plain": [
       "PCA(copy=True, n_components=17, whiten=False)"
      ]
     },
     "execution_count": 301,
     "metadata": {},
     "output_type": "execute_result"
    },
    {
     "name": "stderr",
     "output_type": "stream",
     "text": [
      "/opt/python3/lib/python3.5/site-packages/sklearn/cross_validation.py:516: Warning: The least populated class in y has only 2 members, which is too few. The minimum number of labels for any class cannot be less than n_folds=10.\n",
      "  % (min_labels, self.n_folds)), Warning)\n"
     ]
    },
    {
     "data": {
      "text/plain": [
       "PCA(copy=True, n_components=18, whiten=False)"
      ]
     },
     "execution_count": 301,
     "metadata": {},
     "output_type": "execute_result"
    },
    {
     "name": "stderr",
     "output_type": "stream",
     "text": [
      "/opt/python3/lib/python3.5/site-packages/sklearn/cross_validation.py:516: Warning: The least populated class in y has only 2 members, which is too few. The minimum number of labels for any class cannot be less than n_folds=10.\n",
      "  % (min_labels, self.n_folds)), Warning)\n"
     ]
    },
    {
     "data": {
      "text/plain": [
       "PCA(copy=True, n_components=19, whiten=False)"
      ]
     },
     "execution_count": 301,
     "metadata": {},
     "output_type": "execute_result"
    },
    {
     "name": "stderr",
     "output_type": "stream",
     "text": [
      "/opt/python3/lib/python3.5/site-packages/sklearn/cross_validation.py:516: Warning: The least populated class in y has only 2 members, which is too few. The minimum number of labels for any class cannot be less than n_folds=10.\n",
      "  % (min_labels, self.n_folds)), Warning)\n"
     ]
    },
    {
     "name": "stdout",
     "output_type": "stream",
     "text": [
      "0.883333333333\n",
      "2\n"
     ]
    }
   ],
   "source": [
    "# random forest\n",
    "# train data: df_study, pca transformation\n",
    "# target: binned_msfc3\n",
    "# validation: 10-fold cross validation\n",
    "# see how the number of PCs can change the accuracy of transformation\n",
    "\n",
    "from sklearn.metrics import confusion_matrix, accuracy_score, classification_report\n",
    "from sklearn.cross_validation import KFold\n",
    "from sklearn.ensemble import RandomForestClassifier\n",
    "from sklearn.decomposition import PCA\n",
    "accuracy = []\n",
    "n_estimators = 10\n",
    "k = 10\n",
    "# use various number of PCs\n",
    "for pc_num in np.arange(1,20,1):\n",
    "    # PCA transformation\n",
    "    pca = PCA(n_components=pc_num)\n",
    "    pca.fit(x_study_normalized)\n",
    "    x_study_pca = pca.transform(x_study_normalized)\n",
    "    # put the transformed data to a dataframe\n",
    "    df_study_pca = pd.DataFrame(x_study_pca)\n",
    "    # fit the model and do cross validation using PCA transformed dataset\n",
    "    clf = RandomForestClassifier(n_estimators=n_estimators, random_state = 42) #fix the number of estimators the best \n",
    "    accuracy.append(np.mean(cross_val_score(clf, df_study_pca, y_study, cv=k))) \n",
    "# max accuracy? what number of PCAs?\n",
    "max_acc = accuracy[np.argmax(accuracy)]\n",
    "best_num_of_PCA = np.arange(1,20,1)[np.argmax(accuracy)]\n",
    "# print out the results\n",
    "print(max_acc)\n",
    "print(best_num_of_PCA)\n",
    "# store the result\n",
    "best_accuracy_score.append(max_acc)\n",
    "best_num_of_PCAs.append(best_num_of_PCA)\n",
    "train_data.append('FeatureStudy_PCA')\n",
    "target.append('msfc3_level')\n",
    "num_of_samples.append(len(y_study))\n",
    "num_of_estimators.append(10)"
   ]
  },
  {
   "cell_type": "code",
   "execution_count": 302,
   "metadata": {
    "collapsed": false
   },
   "outputs": [
    {
     "data": {
      "text/plain": [
       "PCA(copy=True, n_components=2, whiten=False)"
      ]
     },
     "execution_count": 302,
     "metadata": {},
     "output_type": "execute_result"
    },
    {
     "data": {
      "text/html": [
       "<div>\n",
       "<table border=\"1\" class=\"dataframe\">\n",
       "  <thead>\n",
       "    <tr style=\"text-align: right;\">\n",
       "      <th></th>\n",
       "      <th>Explained Variance</th>\n",
       "    </tr>\n",
       "  </thead>\n",
       "  <tbody>\n",
       "    <tr>\n",
       "      <th>1</th>\n",
       "      <td>0.726197</td>\n",
       "    </tr>\n",
       "    <tr>\n",
       "      <th>2</th>\n",
       "      <td>0.464367</td>\n",
       "    </tr>\n",
       "  </tbody>\n",
       "</table>\n",
       "</div>"
      ],
      "text/plain": [
       "   Explained Variance\n",
       "1            0.726197\n",
       "2            0.464367"
      ]
     },
     "execution_count": 302,
     "metadata": {},
     "output_type": "execute_result"
    },
    {
     "name": "stderr",
     "output_type": "stream",
     "text": [
      "/opt/python3/lib/python3.5/site-packages/sklearn/cross_validation.py:516: Warning: The least populated class in y has only 2 members, which is too few. The minimum number of labels for any class cannot be less than n_folds=10.\n",
      "  % (min_labels, self.n_folds)), Warning)\n"
     ]
    },
    {
     "data": {
      "text/plain": [
       "GridSearchCV(cv=10, error_score='raise',\n",
       "       estimator=RandomForestClassifier(bootstrap=True, class_weight=None, criterion='gini',\n",
       "            max_depth=None, max_features='auto', max_leaf_nodes=None,\n",
       "            min_samples_leaf=1, min_samples_split=2,\n",
       "            min_weight_fraction_leaf=0.0, n_estimators=10, n_jobs=1,\n",
       "            oob_score=False, random_state=42, verbose=0, warm_start=False),\n",
       "       fit_params={}, iid=True, n_jobs=1,\n",
       "       param_grid={'n_estimators': [10]}, pre_dispatch='2*n_jobs',\n",
       "       refit=True, scoring=None, verbose=0)"
      ]
     },
     "execution_count": 302,
     "metadata": {},
     "output_type": "execute_result"
    },
    {
     "data": {
      "text/plain": [
       "1.0"
      ]
     },
     "execution_count": 302,
     "metadata": {},
     "output_type": "execute_result"
    },
    {
     "data": {
      "text/plain": [
       "array([[ 2,  0,  0],\n",
       "       [ 0,  4,  0],\n",
       "       [ 0,  0, 16]])"
      ]
     },
     "execution_count": 302,
     "metadata": {},
     "output_type": "execute_result"
    }
   ],
   "source": [
    "# random forest\n",
    "# train data: df_study, pca transformation\n",
    "# target: binned_msfc3\n",
    "# validation: 10-fold cross validation\n",
    "# what is the best model accuracy on the whole dataset?\n",
    "\n",
    "from sklearn.metrics import confusion_matrix, accuracy_score, classification_report\n",
    "from sklearn.cross_validation import KFold\n",
    "from sklearn.ensemble import RandomForestClassifier\n",
    "from sklearn.decomposition import PCA\n",
    "pc_num = 2\n",
    "estimator_num = 10\n",
    "k = 10\n",
    "# PCA transformation\n",
    "pca = PCA(n_components=pc_num)\n",
    "pca.fit(x_study_normalized)\n",
    "x_study_pca = pca.transform(x_study_normalized)\n",
    "# variance explained by each PCA\n",
    "explained_var = list(pca.explained_variance_)\n",
    "PCA_list = np.arange(1, pc_num + 1)\n",
    "df_explained_var = pd.DataFrame(explained_var,index=PCA_list,columns=['Explained Variance'])\n",
    "df_explained_var\n",
    "# put the transformed data to a dataframe\n",
    "df_study_pca = pd.DataFrame(x_study_pca)\n",
    "# fit the model and do cross validation using PCA transformed dataset\n",
    "clf = RandomForestClassifier(random_state = 42) \n",
    "param_grid = {'n_estimators': [estimator_num]}\n",
    "grid_clf = GridSearchCV(clf, param_grid = param_grid, cv=k)\n",
    "grid_clf.fit(df_study_pca, y_study)\n",
    "# try the model on the whole dataset\n",
    "preds = grid_clf.best_estimator_.predict(df_study_pca)\n",
    "accuracy_score(y_study, preds)\n",
    "confusion_matrix(y_study, preds)\n",
    "# store the result\n",
    "accuracy_of_best_model_on_whole_data.append(accuracy_score(y_study, preds))"
   ]
  },
  {
   "cell_type": "code",
   "execution_count": 303,
   "metadata": {
    "collapsed": false,
    "scrolled": true
   },
   "outputs": [
    {
     "data": {
      "text/plain": [
       "PCA(copy=True, n_components=1, whiten=False)"
      ]
     },
     "execution_count": 303,
     "metadata": {},
     "output_type": "execute_result"
    },
    {
     "name": "stderr",
     "output_type": "stream",
     "text": [
      "/opt/python3/lib/python3.5/site-packages/sklearn/cross_validation.py:516: Warning: The least populated class in y has only 2 members, which is too few. The minimum number of labels for any class cannot be less than n_folds=10.\n",
      "  % (min_labels, self.n_folds)), Warning)\n"
     ]
    },
    {
     "data": {
      "text/plain": [
       "PCA(copy=True, n_components=2, whiten=False)"
      ]
     },
     "execution_count": 303,
     "metadata": {},
     "output_type": "execute_result"
    },
    {
     "name": "stderr",
     "output_type": "stream",
     "text": [
      "/opt/python3/lib/python3.5/site-packages/sklearn/cross_validation.py:516: Warning: The least populated class in y has only 2 members, which is too few. The minimum number of labels for any class cannot be less than n_folds=10.\n",
      "  % (min_labels, self.n_folds)), Warning)\n"
     ]
    },
    {
     "data": {
      "text/plain": [
       "PCA(copy=True, n_components=3, whiten=False)"
      ]
     },
     "execution_count": 303,
     "metadata": {},
     "output_type": "execute_result"
    },
    {
     "name": "stderr",
     "output_type": "stream",
     "text": [
      "/opt/python3/lib/python3.5/site-packages/sklearn/cross_validation.py:516: Warning: The least populated class in y has only 2 members, which is too few. The minimum number of labels for any class cannot be less than n_folds=10.\n",
      "  % (min_labels, self.n_folds)), Warning)\n"
     ]
    },
    {
     "data": {
      "text/plain": [
       "PCA(copy=True, n_components=4, whiten=False)"
      ]
     },
     "execution_count": 303,
     "metadata": {},
     "output_type": "execute_result"
    },
    {
     "name": "stderr",
     "output_type": "stream",
     "text": [
      "/opt/python3/lib/python3.5/site-packages/sklearn/cross_validation.py:516: Warning: The least populated class in y has only 2 members, which is too few. The minimum number of labels for any class cannot be less than n_folds=10.\n",
      "  % (min_labels, self.n_folds)), Warning)\n"
     ]
    },
    {
     "data": {
      "text/plain": [
       "PCA(copy=True, n_components=5, whiten=False)"
      ]
     },
     "execution_count": 303,
     "metadata": {},
     "output_type": "execute_result"
    },
    {
     "name": "stderr",
     "output_type": "stream",
     "text": [
      "/opt/python3/lib/python3.5/site-packages/sklearn/cross_validation.py:516: Warning: The least populated class in y has only 2 members, which is too few. The minimum number of labels for any class cannot be less than n_folds=10.\n",
      "  % (min_labels, self.n_folds)), Warning)\n"
     ]
    },
    {
     "data": {
      "text/plain": [
       "PCA(copy=True, n_components=6, whiten=False)"
      ]
     },
     "execution_count": 303,
     "metadata": {},
     "output_type": "execute_result"
    },
    {
     "name": "stderr",
     "output_type": "stream",
     "text": [
      "/opt/python3/lib/python3.5/site-packages/sklearn/cross_validation.py:516: Warning: The least populated class in y has only 2 members, which is too few. The minimum number of labels for any class cannot be less than n_folds=10.\n",
      "  % (min_labels, self.n_folds)), Warning)\n"
     ]
    },
    {
     "data": {
      "text/plain": [
       "PCA(copy=True, n_components=7, whiten=False)"
      ]
     },
     "execution_count": 303,
     "metadata": {},
     "output_type": "execute_result"
    },
    {
     "name": "stderr",
     "output_type": "stream",
     "text": [
      "/opt/python3/lib/python3.5/site-packages/sklearn/cross_validation.py:516: Warning: The least populated class in y has only 2 members, which is too few. The minimum number of labels for any class cannot be less than n_folds=10.\n",
      "  % (min_labels, self.n_folds)), Warning)\n"
     ]
    },
    {
     "data": {
      "text/plain": [
       "PCA(copy=True, n_components=8, whiten=False)"
      ]
     },
     "execution_count": 303,
     "metadata": {},
     "output_type": "execute_result"
    },
    {
     "name": "stderr",
     "output_type": "stream",
     "text": [
      "/opt/python3/lib/python3.5/site-packages/sklearn/cross_validation.py:516: Warning: The least populated class in y has only 2 members, which is too few. The minimum number of labels for any class cannot be less than n_folds=10.\n",
      "  % (min_labels, self.n_folds)), Warning)\n"
     ]
    },
    {
     "data": {
      "text/plain": [
       "PCA(copy=True, n_components=9, whiten=False)"
      ]
     },
     "execution_count": 303,
     "metadata": {},
     "output_type": "execute_result"
    },
    {
     "name": "stderr",
     "output_type": "stream",
     "text": [
      "/opt/python3/lib/python3.5/site-packages/sklearn/cross_validation.py:516: Warning: The least populated class in y has only 2 members, which is too few. The minimum number of labels for any class cannot be less than n_folds=10.\n",
      "  % (min_labels, self.n_folds)), Warning)\n"
     ]
    },
    {
     "data": {
      "text/plain": [
       "PCA(copy=True, n_components=10, whiten=False)"
      ]
     },
     "execution_count": 303,
     "metadata": {},
     "output_type": "execute_result"
    },
    {
     "name": "stderr",
     "output_type": "stream",
     "text": [
      "/opt/python3/lib/python3.5/site-packages/sklearn/cross_validation.py:516: Warning: The least populated class in y has only 2 members, which is too few. The minimum number of labels for any class cannot be less than n_folds=10.\n",
      "  % (min_labels, self.n_folds)), Warning)\n"
     ]
    },
    {
     "data": {
      "text/plain": [
       "PCA(copy=True, n_components=11, whiten=False)"
      ]
     },
     "execution_count": 303,
     "metadata": {},
     "output_type": "execute_result"
    },
    {
     "name": "stderr",
     "output_type": "stream",
     "text": [
      "/opt/python3/lib/python3.5/site-packages/sklearn/cross_validation.py:516: Warning: The least populated class in y has only 2 members, which is too few. The minimum number of labels for any class cannot be less than n_folds=10.\n",
      "  % (min_labels, self.n_folds)), Warning)\n"
     ]
    },
    {
     "data": {
      "text/plain": [
       "PCA(copy=True, n_components=12, whiten=False)"
      ]
     },
     "execution_count": 303,
     "metadata": {},
     "output_type": "execute_result"
    },
    {
     "name": "stderr",
     "output_type": "stream",
     "text": [
      "/opt/python3/lib/python3.5/site-packages/sklearn/cross_validation.py:516: Warning: The least populated class in y has only 2 members, which is too few. The minimum number of labels for any class cannot be less than n_folds=10.\n",
      "  % (min_labels, self.n_folds)), Warning)\n"
     ]
    },
    {
     "data": {
      "text/plain": [
       "PCA(copy=True, n_components=13, whiten=False)"
      ]
     },
     "execution_count": 303,
     "metadata": {},
     "output_type": "execute_result"
    },
    {
     "name": "stderr",
     "output_type": "stream",
     "text": [
      "/opt/python3/lib/python3.5/site-packages/sklearn/cross_validation.py:516: Warning: The least populated class in y has only 2 members, which is too few. The minimum number of labels for any class cannot be less than n_folds=10.\n",
      "  % (min_labels, self.n_folds)), Warning)\n"
     ]
    },
    {
     "data": {
      "text/plain": [
       "PCA(copy=True, n_components=14, whiten=False)"
      ]
     },
     "execution_count": 303,
     "metadata": {},
     "output_type": "execute_result"
    },
    {
     "name": "stderr",
     "output_type": "stream",
     "text": [
      "/opt/python3/lib/python3.5/site-packages/sklearn/cross_validation.py:516: Warning: The least populated class in y has only 2 members, which is too few. The minimum number of labels for any class cannot be less than n_folds=10.\n",
      "  % (min_labels, self.n_folds)), Warning)\n"
     ]
    },
    {
     "data": {
      "text/plain": [
       "PCA(copy=True, n_components=15, whiten=False)"
      ]
     },
     "execution_count": 303,
     "metadata": {},
     "output_type": "execute_result"
    },
    {
     "name": "stderr",
     "output_type": "stream",
     "text": [
      "/opt/python3/lib/python3.5/site-packages/sklearn/cross_validation.py:516: Warning: The least populated class in y has only 2 members, which is too few. The minimum number of labels for any class cannot be less than n_folds=10.\n",
      "  % (min_labels, self.n_folds)), Warning)\n"
     ]
    },
    {
     "data": {
      "text/plain": [
       "PCA(copy=True, n_components=16, whiten=False)"
      ]
     },
     "execution_count": 303,
     "metadata": {},
     "output_type": "execute_result"
    },
    {
     "name": "stderr",
     "output_type": "stream",
     "text": [
      "/opt/python3/lib/python3.5/site-packages/sklearn/cross_validation.py:516: Warning: The least populated class in y has only 2 members, which is too few. The minimum number of labels for any class cannot be less than n_folds=10.\n",
      "  % (min_labels, self.n_folds)), Warning)\n"
     ]
    },
    {
     "data": {
      "text/plain": [
       "PCA(copy=True, n_components=17, whiten=False)"
      ]
     },
     "execution_count": 303,
     "metadata": {},
     "output_type": "execute_result"
    },
    {
     "name": "stderr",
     "output_type": "stream",
     "text": [
      "/opt/python3/lib/python3.5/site-packages/sklearn/cross_validation.py:516: Warning: The least populated class in y has only 2 members, which is too few. The minimum number of labels for any class cannot be less than n_folds=10.\n",
      "  % (min_labels, self.n_folds)), Warning)\n"
     ]
    },
    {
     "data": {
      "text/plain": [
       "PCA(copy=True, n_components=18, whiten=False)"
      ]
     },
     "execution_count": 303,
     "metadata": {},
     "output_type": "execute_result"
    },
    {
     "name": "stderr",
     "output_type": "stream",
     "text": [
      "/opt/python3/lib/python3.5/site-packages/sklearn/cross_validation.py:516: Warning: The least populated class in y has only 2 members, which is too few. The minimum number of labels for any class cannot be less than n_folds=10.\n",
      "  % (min_labels, self.n_folds)), Warning)\n"
     ]
    },
    {
     "data": {
      "text/plain": [
       "PCA(copy=True, n_components=19, whiten=False)"
      ]
     },
     "execution_count": 303,
     "metadata": {},
     "output_type": "execute_result"
    },
    {
     "name": "stdout",
     "output_type": "stream",
     "text": [
      "0.866666666667\n",
      "17\n"
     ]
    },
    {
     "name": "stderr",
     "output_type": "stream",
     "text": [
      "/opt/python3/lib/python3.5/site-packages/sklearn/cross_validation.py:516: Warning: The least populated class in y has only 2 members, which is too few. The minimum number of labels for any class cannot be less than n_folds=10.\n",
      "  % (min_labels, self.n_folds)), Warning)\n"
     ]
    }
   ],
   "source": [
    "# random forest\n",
    "# train data: df_day, pca transformation\n",
    "# target: msfc3 level\n",
    "# validation: 10-fold cross validation\n",
    "# see how the number of PCs can change the accuracy of transformation\n",
    "\n",
    "from sklearn.metrics import confusion_matrix, accuracy_score, classification_report\n",
    "from sklearn.cross_validation import KFold\n",
    "from sklearn.ensemble import RandomForestClassifier\n",
    "from sklearn.decomposition import PCA\n",
    "accuracy = []\n",
    "n_estimators = 5\n",
    "k = 10\n",
    "# use various number of PCs\n",
    "for pc_num in np.arange(1,20,1):\n",
    "    # PCA transformation\n",
    "    pca = PCA(n_components=pc_num)\n",
    "    pca.fit(x_day_normalized)\n",
    "    x_day_pca = pca.transform(x_day_normalized)\n",
    "    # put the transformed data to a dataframe\n",
    "    df_day_pca = pd.DataFrame(x_day_pca)\n",
    "    # fit the model and do cross validation using PCA transformed dataset\n",
    "    clf = RandomForestClassifier(n_estimators=n_estimators, random_state = 42) #fix the number of estimators the best \n",
    "    accuracy.append(np.mean(cross_val_score(clf, df_day_pca, y_day, cv=k))) \n",
    "# max accuracy? what number of PCAs?\n",
    "max_acc = accuracy[np.argmax(accuracy)]\n",
    "best_num_of_PCA = np.arange(1,20,1)[np.argmax(accuracy)]\n",
    "# print out the results\n",
    "print(max_acc)\n",
    "print(best_num_of_PCA)\n",
    "# store the result\n",
    "best_accuracy_score.append(max_acc)\n",
    "best_num_of_PCAs.append(best_num_of_PCA)\n",
    "train_data.append('FeatureDay_PCA')\n",
    "target.append('msfc3_level')\n",
    "num_of_samples.append(len(y_day))\n",
    "num_of_estimators.append(5)"
   ]
  },
  {
   "cell_type": "code",
   "execution_count": 304,
   "metadata": {
    "collapsed": false
   },
   "outputs": [
    {
     "data": {
      "text/plain": [
       "PCA(copy=True, n_components=17, whiten=False)"
      ]
     },
     "execution_count": 304,
     "metadata": {},
     "output_type": "execute_result"
    },
    {
     "data": {
      "text/html": [
       "<div>\n",
       "<table border=\"1\" class=\"dataframe\">\n",
       "  <thead>\n",
       "    <tr style=\"text-align: right;\">\n",
       "      <th></th>\n",
       "      <th>Explained Variance</th>\n",
       "    </tr>\n",
       "  </thead>\n",
       "  <tbody>\n",
       "    <tr>\n",
       "      <th>1</th>\n",
       "      <td>26.402221</td>\n",
       "    </tr>\n",
       "    <tr>\n",
       "      <th>2</th>\n",
       "      <td>20.824260</td>\n",
       "    </tr>\n",
       "    <tr>\n",
       "      <th>3</th>\n",
       "      <td>13.247958</td>\n",
       "    </tr>\n",
       "    <tr>\n",
       "      <th>4</th>\n",
       "      <td>10.643009</td>\n",
       "    </tr>\n",
       "    <tr>\n",
       "      <th>5</th>\n",
       "      <td>8.216776</td>\n",
       "    </tr>\n",
       "    <tr>\n",
       "      <th>6</th>\n",
       "      <td>7.078940</td>\n",
       "    </tr>\n",
       "    <tr>\n",
       "      <th>7</th>\n",
       "      <td>6.163901</td>\n",
       "    </tr>\n",
       "    <tr>\n",
       "      <th>8</th>\n",
       "      <td>4.722757</td>\n",
       "    </tr>\n",
       "    <tr>\n",
       "      <th>9</th>\n",
       "      <td>3.681870</td>\n",
       "    </tr>\n",
       "    <tr>\n",
       "      <th>10</th>\n",
       "      <td>2.728797</td>\n",
       "    </tr>\n",
       "    <tr>\n",
       "      <th>11</th>\n",
       "      <td>2.105772</td>\n",
       "    </tr>\n",
       "    <tr>\n",
       "      <th>12</th>\n",
       "      <td>1.549331</td>\n",
       "    </tr>\n",
       "    <tr>\n",
       "      <th>13</th>\n",
       "      <td>1.333960</td>\n",
       "    </tr>\n",
       "    <tr>\n",
       "      <th>14</th>\n",
       "      <td>0.992545</td>\n",
       "    </tr>\n",
       "    <tr>\n",
       "      <th>15</th>\n",
       "      <td>0.905230</td>\n",
       "    </tr>\n",
       "    <tr>\n",
       "      <th>16</th>\n",
       "      <td>0.614816</td>\n",
       "    </tr>\n",
       "    <tr>\n",
       "      <th>17</th>\n",
       "      <td>0.432671</td>\n",
       "    </tr>\n",
       "  </tbody>\n",
       "</table>\n",
       "</div>"
      ],
      "text/plain": [
       "    Explained Variance\n",
       "1            26.402221\n",
       "2            20.824260\n",
       "3            13.247958\n",
       "4            10.643009\n",
       "5             8.216776\n",
       "6             7.078940\n",
       "7             6.163901\n",
       "8             4.722757\n",
       "9             3.681870\n",
       "10            2.728797\n",
       "11            2.105772\n",
       "12            1.549331\n",
       "13            1.333960\n",
       "14            0.992545\n",
       "15            0.905230\n",
       "16            0.614816\n",
       "17            0.432671"
      ]
     },
     "execution_count": 304,
     "metadata": {},
     "output_type": "execute_result"
    },
    {
     "name": "stderr",
     "output_type": "stream",
     "text": [
      "/opt/python3/lib/python3.5/site-packages/sklearn/cross_validation.py:516: Warning: The least populated class in y has only 2 members, which is too few. The minimum number of labels for any class cannot be less than n_folds=10.\n",
      "  % (min_labels, self.n_folds)), Warning)\n"
     ]
    },
    {
     "data": {
      "text/plain": [
       "GridSearchCV(cv=10, error_score='raise',\n",
       "       estimator=RandomForestClassifier(bootstrap=True, class_weight=None, criterion='gini',\n",
       "            max_depth=None, max_features='auto', max_leaf_nodes=None,\n",
       "            min_samples_leaf=1, min_samples_split=2,\n",
       "            min_weight_fraction_leaf=0.0, n_estimators=10, n_jobs=1,\n",
       "            oob_score=False, random_state=42, verbose=0, warm_start=False),\n",
       "       fit_params={}, iid=True, n_jobs=1, param_grid={'n_estimators': [5]},\n",
       "       pre_dispatch='2*n_jobs', refit=True, scoring=None, verbose=0)"
      ]
     },
     "execution_count": 304,
     "metadata": {},
     "output_type": "execute_result"
    },
    {
     "data": {
      "text/plain": [
       "0.94999999999999996"
      ]
     },
     "execution_count": 304,
     "metadata": {},
     "output_type": "execute_result"
    },
    {
     "data": {
      "text/plain": [
       "array([[ 1,  0,  1],\n",
       "       [ 0,  3,  0],\n",
       "       [ 0,  0, 15]])"
      ]
     },
     "execution_count": 304,
     "metadata": {},
     "output_type": "execute_result"
    }
   ],
   "source": [
    "# random forest\n",
    "# train data: df_day, pca transformation\n",
    "# target: binned_msfc3\n",
    "# validation: 10-fold cross validation\n",
    "# what is the best model accuracy on the whole dataset?\n",
    "\n",
    "from sklearn.metrics import confusion_matrix, accuracy_score, classification_report\n",
    "from sklearn.cross_validation import KFold\n",
    "from sklearn.ensemble import RandomForestClassifier\n",
    "from sklearn.decomposition import PCA\n",
    "pc_num = 17\n",
    "estimator_num = 5\n",
    "k = 10\n",
    "# PCA transformation\n",
    "pca = PCA(n_components=pc_num)\n",
    "pca.fit(x_day_normalized)\n",
    "x_day_pca = pca.transform(x_day_normalized)\n",
    "# variance explained by each PCA\n",
    "explained_var = list(pca.explained_variance_)\n",
    "PCA_list = np.arange(1, pc_num + 1)\n",
    "df_explained_var = pd.DataFrame(explained_var,index=PCA_list,columns=['Explained Variance'])\n",
    "df_explained_var\n",
    "# put the transformed data to a dataframe\n",
    "df_day_pca = pd.DataFrame(x_day_pca)\n",
    "# fit the model and do cross validation using PCA transformed dataset\n",
    "clf = RandomForestClassifier(random_state = 42) \n",
    "param_grid = {'n_estimators': [estimator_num]}\n",
    "grid_clf = GridSearchCV(clf, param_grid = param_grid, cv=k)\n",
    "grid_clf.fit(df_day_pca, y_day)\n",
    "# try the model on the whole dataset\n",
    "preds = grid_clf.best_estimator_.predict(df_day_pca)\n",
    "accuracy_score(y_day, preds)\n",
    "confusion_matrix(y_day, preds)\n",
    "# store the result\n",
    "accuracy_of_best_model_on_whole_data.append(accuracy_score(y_day, preds))"
   ]
  },
  {
   "cell_type": "code",
   "execution_count": 305,
   "metadata": {
    "collapsed": false
   },
   "outputs": [
    {
     "data": {
      "text/html": [
       "<div>\n",
       "<table border=\"1\" class=\"dataframe\">\n",
       "  <thead>\n",
       "    <tr style=\"text-align: right;\">\n",
       "      <th></th>\n",
       "      <th>train_data</th>\n",
       "      <th>target</th>\n",
       "      <th>num_of_samples</th>\n",
       "      <th>best_num_of_PCs</th>\n",
       "      <th>num_of_estimators</th>\n",
       "      <th>mean_accuracy_score</th>\n",
       "      <th>accuracy_on_whole_data</th>\n",
       "    </tr>\n",
       "  </thead>\n",
       "  <tbody>\n",
       "    <tr>\n",
       "      <th>0</th>\n",
       "      <td>FeatureStudy_PCA</td>\n",
       "      <td>msfc3_level</td>\n",
       "      <td>22</td>\n",
       "      <td>2</td>\n",
       "      <td>10</td>\n",
       "      <td>0.883333</td>\n",
       "      <td>1.00</td>\n",
       "    </tr>\n",
       "    <tr>\n",
       "      <th>1</th>\n",
       "      <td>FeatureDay_PCA</td>\n",
       "      <td>msfc3_level</td>\n",
       "      <td>20</td>\n",
       "      <td>17</td>\n",
       "      <td>5</td>\n",
       "      <td>0.866667</td>\n",
       "      <td>0.95</td>\n",
       "    </tr>\n",
       "  </tbody>\n",
       "</table>\n",
       "</div>"
      ],
      "text/plain": [
       "         train_data       target  num_of_samples  best_num_of_PCs  \\\n",
       "0  FeatureStudy_PCA  msfc3_level              22                2   \n",
       "1    FeatureDay_PCA  msfc3_level              20               17   \n",
       "\n",
       "   num_of_estimators  mean_accuracy_score  accuracy_on_whole_data  \n",
       "0                 10             0.883333                    1.00  \n",
       "1                  5             0.866667                    0.95  "
      ]
     },
     "execution_count": 305,
     "metadata": {},
     "output_type": "execute_result"
    }
   ],
   "source": [
    "# fill summary dataframe\n",
    "summary_2['train_data'] = train_data\n",
    "summary_2['target'] = target\n",
    "summary_2['num_of_samples'] = num_of_samples\n",
    "summary_2['best_num_of_PCs'] = best_num_of_PCAs\n",
    "summary_2['num_of_estimators'] = num_of_estimators\n",
    "summary_2['mean_accuracy_score'] = best_accuracy_score\n",
    "summary_2['accuracy_on_whole_data'] = accuracy_of_best_model_on_whole_data\n",
    "summary_2"
   ]
  },
  {
   "cell_type": "code",
   "execution_count": 306,
   "metadata": {
    "collapsed": false
   },
   "outputs": [
    {
     "data": {
      "text/plain": [
       "<matplotlib.text.Text at 0x7fd7ff180f60>"
      ]
     },
     "execution_count": 306,
     "metadata": {},
     "output_type": "execute_result"
    },
    {
     "data": {
      "text/plain": [
       "<matplotlib.text.Text at 0x7fd7f92e7a20>"
      ]
     },
     "execution_count": 306,
     "metadata": {},
     "output_type": "execute_result"
    },
    {
     "data": {
      "text/plain": [
       "<matplotlib.text.Text at 0x7fd7f93724e0>"
      ]
     },
     "execution_count": 306,
     "metadata": {},
     "output_type": "execute_result"
    },
    {
     "data": {
      "text/plain": [
       "(0, 1)"
      ]
     },
     "execution_count": 306,
     "metadata": {},
     "output_type": "execute_result"
    },
    {
     "data": {
      "text/plain": [
       "<matplotlib.text.Text at 0x7fd7f93e0748>"
      ]
     },
     "execution_count": 306,
     "metadata": {},
     "output_type": "execute_result"
    },
    {
     "data": {
      "text/plain": [
       "<matplotlib.text.Text at 0x7fd7f939a278>"
      ]
     },
     "execution_count": 306,
     "metadata": {},
     "output_type": "execute_result"
    },
    {
     "data": {
      "text/plain": [
       "<matplotlib.text.Text at 0x7fd7ff0a2780>"
      ]
     },
     "execution_count": 306,
     "metadata": {},
     "output_type": "execute_result"
    },
    {
     "data": {
      "text/plain": [
       "(0, 1)"
      ]
     },
     "execution_count": 306,
     "metadata": {},
     "output_type": "execute_result"
    },
    {
     "data": {
      "image/png": "[encoded data removed]",
      "text/plain": [
       "<matplotlib.figure.Figure at 0x7fd7f93d07f0>"
      ]
     },
     "metadata": {},
     "output_type": "display_data"
    }
   ],
   "source": [
    "# visualize the resulted accuracies\n",
    "figs, axes = plt.subplots(nrows= 1, ncols= 2)\n",
    "\n",
    "axes[0] = summary_1.set_index('train_data')['mean_accuracy_score'].iloc[[0,1]].plot(kind='bar',ax=axes[0],figsize=(15,5))\n",
    "axes[0].set_title('Classification by Random Forest, Traget = msfc3_level')\n",
    "axes[0].set_xlabel('Dataset')\n",
    "axes[0].set_ylabel('Mean accuracy score')\n",
    "axes[0].set_ylim((0,1))\n",
    "\n",
    "axes[0] = summary_2.set_index('train_data')['mean_accuracy_score'].iloc[[0,1]].plot(kind='bar',ax=axes[1])\n",
    "axes[0].set_title('Classification by Random Forest, Traget = msfc3_level')\n",
    "axes[0].set_xlabel('Dataset')\n",
    "axes[0].set_ylabel('Mean accuracy score')\n",
    "axes[0].set_ylim((0,1))"
   ]
  },
  {
   "cell_type": "code",
   "execution_count": null,
   "metadata": {
    "collapsed": true
   },
   "outputs": [],
   "source": []
  }
 ],
 "metadata": {
  "kernelspec": {
   "display_name": "Python 3",
   "language": "python",
   "name": "python3"
  },
  "language_info": {
   "codemirror_mode": {
    "name": "ipython",
    "version": 3
   },
   "file_extension": ".py",
   "mimetype": "text/x-python",
   "name": "python",
   "nbconvert_exporter": "python",
   "pygments_lexer": "ipython3",
   "version": "3.6.3"
  }
 },
 "nbformat": 4,
 "nbformat_minor": 0
}
