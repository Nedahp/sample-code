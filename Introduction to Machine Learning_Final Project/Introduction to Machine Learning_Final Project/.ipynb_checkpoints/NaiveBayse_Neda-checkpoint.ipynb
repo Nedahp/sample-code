{
 "cells": [
  {
   "cell_type": "code",
   "execution_count": 1,
   "metadata": {
    "collapsed": true
   },
   "outputs": [],
   "source": [
    "import SequenceSegmentsImport as ss\n",
    "import numpy as np\n",
    "from sklearn import metrics\n",
    "from sklearn.cross_validation import StratifiedKFold\n",
    "from sklearn import datasets\n",
    "from sklearn import metrics\n",
    "from sklearn.naive_bayes import GaussianNB\n",
    "import collections\n",
    "import operator\n"
   ]
  },
  {
   "cell_type": "code",
   "execution_count": 2,
   "metadata": {
    "collapsed": true
   },
   "outputs": [],
   "source": [
    "def naieveBayes(fileName):\n",
    "\t# setup the data\n",
    "\tdataSet = ss.importSeqSegements(fileName)\n",
    "\tsequenceSegmentList, featuresNames, seqSegFeaturesValues, classLabel = ss.getAverageMatix(dataSet)\n",
    "\tseqSegFeaturesDiscreteVals = ss.descretizeAvgMatrix(seqSegFeaturesValues)\n",
    "\tclassLabel = np.array(classLabel)\n",
    "\t\n",
    "\t# get indices for stratified-k-fold cross validation\n",
    "\tskf = StratifiedKFold(classLabel, n_folds=5)\n",
    "    # calculate accuracy for each of the folds\n",
    "\troc_auc = []\n",
    "\tfor train_index, test_index in skf:\n",
    "\t\t\n",
    "\t\t# train on 4 folds and test on 1 remaining fold\n",
    "\t\tX_train, X_test = seqSegFeaturesDiscreteVals[train_index], seqSegFeaturesDiscreteVals[test_index]\n",
    "\t\ty_train, y_test = classLabel[train_index], classLabel[test_index]\n",
    "\t\t\t\n",
    "\t\t# fit a Naive Bayes model to the data\n",
    "\t\tmodel = GaussianNB()\n",
    "\t\tmodel.fit(X_train, y_train)\n",
    "\t\t\n",
    "\t\t# make predictions\n",
    "\t\texpected = y_test\n",
    "\t\tpredicted = model.predict(X_test)\n",
    "\t\t\t\t\n",
    "\t\t# summarize the fit of the model\n",
    "\t\t# print(metrics.classification_report(expected, predicted))\n",
    "\t\t# confusionMatrix.append(metrics.confusion_matrix(expected, predicted))\n",
    "        \n",
    "\t\t# generate the ROCcurve\n",
    "\t\tfalse_positive_rate, true_positive_rate, thresholds = metrics.roc_curve(y_test, predicted)\n",
    "        # calculate the area under ROCcurve\n",
    "\t\troc_auc.append(metrics.auc(false_positive_rate, true_positive_rate))\n",
    "\t# final accuracy is the avrage accuracy of five folds\t\n",
    "\trocAucAvg = np.mean(roc_auc)\n",
    "\t\n",
    "\treturn rocAucAvg\t"
   ]
  },
  {
   "cell_type": "code",
   "execution_count": 3,
   "metadata": {
    "collapsed": false
   },
   "outputs": [],
   "source": [
    "def featureSelection(seqSegFeaturesDiscreteVals,classLabel):\n",
    "    # wrapper forward selection\n",
    "    (row, col) = seqSegFeaturesDiscreteVals.shape\n",
    "    selectedFeatures = []\n",
    "    acc = 0\n",
    "    continuing = True\n",
    "    # termination condition\n",
    "    while (continuing):\n",
    "        # initialize the data matrix with the data associated with features already selected\n",
    "        data = np.zeros(shape=(row, col))\n",
    "        for i in range(len(selectedFeatures)):\n",
    "            for j in range(row):\n",
    "                data[j,i] = seqSegFeaturesDiscreteVals[j,selectedFeatures[i]] \n",
    "        # delete all empty columns, save one for adding a new feature data values in future        \n",
    "        emptyCols = range(len(selectedFeatures)+1,col)\n",
    "        data = np.delete(data, emptyCols, 1)\n",
    "        # select the next feature  \n",
    "        accList = {}\n",
    "        for i in range(col):\n",
    "            if (i in selectedFeatures):\n",
    "                # do nothing, the feature is already selected   \n",
    "                continue\n",
    "            else:\n",
    "                # add a new column to data\n",
    "                newColID = len(selectedFeatures)\n",
    "                tempData = data\n",
    "                for rowID in range(row):\n",
    "                    tempData[rowID,newColID] = seqSegFeaturesDiscreteVals[rowID,i]\n",
    "                # train a NB model on the current data\n",
    "                model = GaussianNB()\n",
    "                model.fit(tempData, classLabel)\n",
    "                predicted = model.predict(tempData)\n",
    "                confusionMatrix = metrics.confusion_matrix(classLabel, predicted)\n",
    "                # compute the accuracy \n",
    "                currentAccuracy = float(confusionMatrix[0,0] + confusionMatrix[1,1])/float(np.sum(confusionMatrix))\n",
    "                # store the accuracy resulted by trying each feature\n",
    "                accList.update({i:currentAccuracy})   \n",
    "                # identify what feature will generate the highest accuracy\n",
    "        sorted_accList = sorted(accList.items(), key=operator.itemgetter(1))\n",
    "        l = len(sorted_accList)\n",
    "        t = sorted_accList.pop(l-1)\n",
    "        maxAccuracy = t[1] \n",
    "        # check the termination condition\n",
    "        if (maxAccuracy <= acc):\n",
    "            continuing = False\n",
    "        else:\n",
    "            acc = maxAccuracy\n",
    "            selectedFeatures.append(t[0])\n",
    "            continuing = True\n",
    "    # return the selected features        \n",
    "    return selectedFeatures      \n",
    "        \n",
    "            "
   ]
  },
  {
   "cell_type": "code",
   "execution_count": 4,
   "metadata": {
    "collapsed": false
   },
   "outputs": [],
   "source": [
    "def FeatureSelectionNaiveBayse(fileName):\n",
    "    \n",
    "    # setup the data\n",
    "    dataSet = ss.importSeqSegements(fileName)\n",
    "    sequenceSegmentList, featuresNames, seqSegFeaturesValues, classLabel = ss.getAverageMatix(dataSet)\n",
    "    seqSegFeaturesDiscreteVals = ss.descretizeAvgMatrix(seqSegFeaturesValues)\n",
    "    classLabel = np.array(classLabel)\n",
    "    raw_input()\n",
    "    \n",
    "    # feature selection\n",
    "    selectedFeatures = featureSelection(seqSegFeaturesDiscreteVals,classLabel)\n",
    "    \n",
    "    # extract the data associated with the selected features\n",
    "    (row, col) = seqSegFeaturesDiscreteVals.shape\n",
    "    selectedFeatures_data = np.zeros(shape=(row, len(selectedFeatures)))\n",
    "    for i in range(len(selectedFeatures)):\n",
    "        for j in range(row):\n",
    "            selectedFeatures_data[j,i] = seqSegFeaturesDiscreteVals[j,selectedFeatures[i]] \n",
    "            \n",
    "    # get indices for stratified-k-fold cross validation\n",
    "    skf = StratifiedKFold(classLabel, n_folds=5)\n",
    "    \n",
    "    # calculate accuracy for each of the folds\n",
    "    roc_auc = []\n",
    "    for train_index, test_index in skf:\n",
    "        # train on 4 folds and test on 1 remaining fold\n",
    "        X_train, X_test = selectedFeatures_data[train_index], selectedFeatures_data[test_index]\n",
    "        y_train, y_test = classLabel[train_index], classLabel[test_index]\n",
    "        # fit a Naive Bayes model to the data\n",
    "        model = GaussianNB()\n",
    "        model.fit(X_train, y_train)\n",
    "        # make predictions\n",
    "        expected = y_test\n",
    "        predicted = model.predict(X_test)\n",
    "        # summarize the fit of the model\n",
    "        # print(metrics.classification_report(expected, predicted))\n",
    "        # confusionMatrix.append(metrics.confusion_matrix(expected, predicted))\n",
    "        # generate the ROCcurve\n",
    "        false_positive_rate, true_positive_rate, thresholds = metrics.roc_curve(y_test, predicted)\n",
    "        # calculate the area under ROCcurve\n",
    "        roc_auc.append(metrics.auc(false_positive_rate, true_positive_rate))\n",
    "        \n",
    "    # final accuracy is the avrage accuracy of five folds\n",
    "    rocAucAvg = np.mean(roc_auc)\n",
    "    return rocAucAvg\n",
    "    "
   ]
  },
  {
   "cell_type": "code",
   "execution_count": 5,
   "metadata": {
    "collapsed": true
   },
   "outputs": [],
   "source": [
    "def main():\n",
    "#     NB_rocAucAvgList = []\n",
    "#     for i in range(1,7):\n",
    "#         fileName = \"Set\"+ str(i) + \".txt\"\n",
    "#         NB_rocAucAvgList.append(naieveBayes(fileName))\n",
    "#     print NB_rocAucAvgList\n",
    "    \n",
    "    FSNB_rocAucAvgList = []\n",
    "    for i in range(1,7):\n",
    "        fileName = \"Set\"+ str(i) + \".txt\"\n",
    "        FSNB_rocAucAvgList.append(FeatureSelectionNaiveBayse(fileName))\n",
    "    print FSNB_rocAucAvgList\n",
    "    "
   ]
  },
  {
   "cell_type": "code",
   "execution_count": null,
   "metadata": {
    "collapsed": false
   },
   "outputs": [
    {
     "name": "stdout",
     "output_type": "stream",
     "text": [
      "\n",
      "\n"
     ]
    }
   ],
   "source": [
    "if __name__ == '__main__':\n",
    "    main()\n"
   ]
  },
  {
   "cell_type": "code",
   "execution_count": null,
   "metadata": {
    "collapsed": true
   },
   "outputs": [],
   "source": []
  }
 ],
 "metadata": {
  "kernelspec": {
   "display_name": "Python 2",
   "language": "python",
   "name": "python2"
  },
  "language_info": {
   "codemirror_mode": {
    "name": "ipython",
    "version": 2
   },
   "file_extension": ".py",
   "mimetype": "text/x-python",
   "name": "python",
   "nbconvert_exporter": "python",
   "pygments_lexer": "ipython2",
   "version": "2.7.12"
  }
 },
 "nbformat": 4,
 "nbformat_minor": 0
}
